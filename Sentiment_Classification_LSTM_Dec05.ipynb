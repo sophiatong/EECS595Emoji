{
  "cells": [
    {
      "cell_type": "markdown",
      "metadata": {
        "id": "XyuYGedE9Sxa"
      },
      "source": [
        "# Google Colab Setup"
      ]
    },
    {
      "cell_type": "markdown",
      "metadata": {
        "id": "AvTWupYWXLlm"
      },
      "source": [
        "Auto sync for editing python script file in real time"
      ]
    },
    {
      "cell_type": "code",
      "execution_count": 3,
      "metadata": {
        "id": "2QAkSNj8XP-z",
        "colab": {
          "base_uri": "https://localhost:8080/"
        },
        "outputId": "1e327077-1789-4dd2-a9b5-df4a18765c7c"
      },
      "outputs": [
        {
          "output_type": "stream",
          "name": "stdout",
          "text": [
            "The autoreload extension is already loaded. To reload it, use:\n",
            "  %reload_ext autoreload\n"
          ]
        }
      ],
      "source": [
        "%load_ext autoreload\n",
        "%autoreload 2"
      ]
    },
    {
      "cell_type": "markdown",
      "metadata": {
        "id": "c4RzdcdoW4Am"
      },
      "source": [
        "Google Drive Mount"
      ]
    },
    {
      "cell_type": "code",
      "execution_count": 4,
      "metadata": {
        "colab": {
          "base_uri": "https://localhost:8080/"
        },
        "id": "mdSMEAdeW1T1",
        "outputId": "f5db0bbb-8d53-483b-d665-232408c74d7f"
      },
      "outputs": [
        {
          "output_type": "stream",
          "name": "stdout",
          "text": [
            "Mounted at /content/drive\n"
          ]
        }
      ],
      "source": [
        "from google.colab import drive\n",
        "\n",
        "drive.mount(\"/content/drive\")"
      ]
    },
    {
      "cell_type": "markdown",
      "metadata": {
        "id": "d9zsJNnnXZfz"
      },
      "source": [
        "Setting the directory path"
      ]
    },
    {
      "cell_type": "code",
      "execution_count": 5,
      "metadata": {
        "id": "yU-W5-ckXSRz"
      },
      "outputs": [],
      "source": [
        "GOOGLE_DRIVE_PATH_AFTER_MYDRIVE = \"EECS_595_NLP/Project\""
      ]
    },
    {
      "cell_type": "markdown",
      "metadata": {
        "id": "zHywXhuaYgxd"
      },
      "source": [
        "Change Current Directory Path"
      ]
    },
    {
      "cell_type": "code",
      "execution_count": 6,
      "metadata": {
        "colab": {
          "base_uri": "https://localhost:8080/"
        },
        "id": "LV0Gv2sAYU_V",
        "outputId": "49f732f8-e49b-4127-8eb4-dcb6975f78de"
      },
      "outputs": [
        {
          "output_type": "stream",
          "name": "stdout",
          "text": [
            "/content/drive/My Drive/EECS_595_NLP/Project\n"
          ]
        }
      ],
      "source": [
        "%cd drive/My Drive/EECS_595_NLP/Project"
      ]
    },
    {
      "cell_type": "code",
      "execution_count": 7,
      "metadata": {
        "colab": {
          "base_uri": "https://localhost:8080/"
        },
        "id": "y9CUHsHkN_AL",
        "outputId": "f9f5c954-97bb-412d-ca0e-df4b3a8c8335"
      },
      "outputs": [
        {
          "output_type": "stream",
          "name": "stdout",
          "text": [
            "'Copy of Sentiment_Classification_LSTM.ipynb'\n",
            " Embedding.ipynb\n",
            " EmoTag-Vectors-620d\n",
            " en_2013_01_01.pkl\n",
            " en-ids.tsv\n",
            " glove\n",
            " glove.6B.200d.txt\n",
            " glove.twitter.27B.200d.txt\n",
            " LstmSenti.py\n",
            " model_lstmsenti_001.torch\n",
            " model_lstmsenti_emotag001.torch\n",
            " model_lstmsenti_Emotag.torch\n",
            " model_lstmsenti_glovtwit.torch\n",
            " model_lstmsenti_gltwit001.torch\n",
            " model_lstmsenti.torch\n",
            "'Nov 6 note.txt'\n",
            " parquet\n",
            " rehydrate_2013_01_multiprocessing.py\n",
            " rehydrated_tweets\n",
            " RNNPOS_EMOTAG.ipynb\n",
            " Sentiment_Classification_LSTM.ipynb\n"
          ]
        }
      ],
      "source": [
        "!ls"
      ]
    },
    {
      "cell_type": "markdown",
      "metadata": {
        "id": "6QA-7ATDL9ld"
      },
      "source": [
        "# Loading data"
      ]
    },
    {
      "cell_type": "markdown",
      "metadata": {
        "id": "kjPKynj9Pve6"
      },
      "source": [
        "pyarrow.parquet.read_table() used for reading parquet file"
      ]
    },
    {
      "cell_type": "code",
      "execution_count": null,
      "metadata": {
        "id": "v7bO1GQxPSpM"
      },
      "outputs": [],
      "source": [
        "import pyarrow.parquet as pq\n",
        "import numpy as np\n",
        "import pandas as pd\n",
        "import pyarrow as pa\n",
        "import os\n",
        "Data = pq.read_table('parquet/2013/01/en_2013_01_01.parquet')"
      ]
    },
    {
      "cell_type": "markdown",
      "metadata": {
        "id": "k7RJHH8MP27E"
      },
      "source": [
        ".to_pandas() used for convert data into pandas format"
      ]
    },
    {
      "cell_type": "code",
      "execution_count": null,
      "metadata": {
        "colab": {
          "base_uri": "https://localhost:8080/",
          "height": 485
        },
        "id": "b10a9CxrPquq",
        "outputId": "1cebd542-033e-4ada-87ca-9eabd1c9793c"
      },
      "outputs": [
        {
          "data": {
            "text/html": [
              "\n",
              "  <div id=\"df-9a9ef185-e4b2-4362-9a40-b6d9e9ff1cf8\">\n",
              "    <div class=\"colab-df-container\">\n",
              "      <div>\n",
              "<style scoped>\n",
              "    .dataframe tbody tr th:only-of-type {\n",
              "        vertical-align: middle;\n",
              "    }\n",
              "\n",
              "    .dataframe tbody tr th {\n",
              "        vertical-align: top;\n",
              "    }\n",
              "\n",
              "    .dataframe thead th {\n",
              "        text-align: right;\n",
              "    }\n",
              "</style>\n",
              "<table border=\"1\" class=\"dataframe\">\n",
              "  <thead>\n",
              "    <tr style=\"text-align: right;\">\n",
              "      <th></th>\n",
              "      <th>tweet_date</th>\n",
              "      <th>tweet_id</th>\n",
              "      <th>sentiment</th>\n",
              "      <th>emojis</th>\n",
              "      <th>tweet_day</th>\n",
              "      <th>tweet_month</th>\n",
              "      <th>tweet_year</th>\n",
              "      <th>tweet_year_month</th>\n",
              "      <th>tweet_text</th>\n",
              "    </tr>\n",
              "  </thead>\n",
              "  <tbody>\n",
              "    <tr>\n",
              "      <th>0</th>\n",
              "      <td>2013-01-01</td>\n",
              "      <td>286003826803240960</td>\n",
              "      <td>1</td>\n",
              "      <td>✌</td>\n",
              "      <td>1</td>\n",
              "      <td>1</td>\n",
              "      <td>2013</td>\n",
              "      <td>2013-01</td>\n",
              "      <td>“@BritneyStyles1D: @Harry_Styles TAKE SOME FUC...</td>\n",
              "    </tr>\n",
              "    <tr>\n",
              "      <th>1</th>\n",
              "      <td>2013-01-01</td>\n",
              "      <td>286003826811625472</td>\n",
              "      <td>0</td>\n",
              "      <td>😒</td>\n",
              "      <td>1</td>\n",
              "      <td>1</td>\n",
              "      <td>2013</td>\n",
              "      <td>2013-01</td>\n",
              "      <td>Okaay shes getting anoying now ! 😒</td>\n",
              "    </tr>\n",
              "    <tr>\n",
              "      <th>2</th>\n",
              "      <td>2013-01-01</td>\n",
              "      <td>286003826811625472</td>\n",
              "      <td>0</td>\n",
              "      <td>😒</td>\n",
              "      <td>1</td>\n",
              "      <td>1</td>\n",
              "      <td>2013</td>\n",
              "      <td>2013-01</td>\n",
              "      <td>@nurulintan16 hhe iye , sory yaaw.</td>\n",
              "    </tr>\n",
              "    <tr>\n",
              "      <th>4</th>\n",
              "      <td>2013-01-01</td>\n",
              "      <td>286003830993326080</td>\n",
              "      <td>1</td>\n",
              "      <td>😘</td>\n",
              "      <td>1</td>\n",
              "      <td>1</td>\n",
              "      <td>2013</td>\n",
              "      <td>2013-01</td>\n",
              "      <td>Happy effing New Years!😘  #2013 #kissingmyself...</td>\n",
              "    </tr>\n",
              "    <tr>\n",
              "      <th>5</th>\n",
              "      <td>2013-01-01</td>\n",
              "      <td>286003830993326080</td>\n",
              "      <td>1</td>\n",
              "      <td>😘</td>\n",
              "      <td>1</td>\n",
              "      <td>1</td>\n",
              "      <td>2013</td>\n",
              "      <td>2013-01</td>\n",
              "      <td>@Chiquis626 Por un 2013 juntos :)) Teamoo Prin...</td>\n",
              "    </tr>\n",
              "    <tr>\n",
              "      <th>...</th>\n",
              "      <td>...</td>\n",
              "      <td>...</td>\n",
              "      <td>...</td>\n",
              "      <td>...</td>\n",
              "      <td>...</td>\n",
              "      <td>...</td>\n",
              "      <td>...</td>\n",
              "      <td>...</td>\n",
              "      <td>...</td>\n",
              "    </tr>\n",
              "    <tr>\n",
              "      <th>105211</th>\n",
              "      <td>2013-01-01</td>\n",
              "      <td>286366206284427264</td>\n",
              "      <td>1</td>\n",
              "      <td>😊</td>\n",
              "      <td>1</td>\n",
              "      <td>1</td>\n",
              "      <td>2013</td>\n",
              "      <td>2013-01</td>\n",
              "      <td>@silvia0920 私スゲーデカイ化粧品入れる箱があるよ！机の半分は箱が占領してる…苦笑</td>\n",
              "    </tr>\n",
              "    <tr>\n",
              "      <th>105212</th>\n",
              "      <td>2013-01-01</td>\n",
              "      <td>286366206284427264</td>\n",
              "      <td>1</td>\n",
              "      <td>😊</td>\n",
              "      <td>1</td>\n",
              "      <td>1</td>\n",
              "      <td>2013</td>\n",
              "      <td>2013-01</td>\n",
              "      <td>@thaijaaaa yayyy 👏😊</td>\n",
              "    </tr>\n",
              "    <tr>\n",
              "      <th>105213</th>\n",
              "      <td>2013-01-01</td>\n",
              "      <td>286366206292811776</td>\n",
              "      <td>1</td>\n",
              "      <td>;)</td>\n",
              "      <td>1</td>\n",
              "      <td>1</td>\n",
              "      <td>2013</td>\n",
              "      <td>2013-01</td>\n",
              "      <td>@reecemastin @RhiannonMFish photos of wet n wi...</td>\n",
              "    </tr>\n",
              "    <tr>\n",
              "      <th>105214</th>\n",
              "      <td>2013-01-01</td>\n",
              "      <td>286366210487107584</td>\n",
              "      <td>1</td>\n",
              "      <td>✌</td>\n",
              "      <td>1</td>\n",
              "      <td>1</td>\n",
              "      <td>2013</td>\n",
              "      <td>2013-01</td>\n",
              "      <td>Me parece que no se van a dar cuenta que estab...</td>\n",
              "    </tr>\n",
              "    <tr>\n",
              "      <th>105215</th>\n",
              "      <td>2013-01-01</td>\n",
              "      <td>286366210487107584</td>\n",
              "      <td>1</td>\n",
              "      <td>✌</td>\n",
              "      <td>1</td>\n",
              "      <td>1</td>\n",
              "      <td>2013</td>\n",
              "      <td>2013-01</td>\n",
              "      <td>Night twitter, work in the a.m. ✌</td>\n",
              "    </tr>\n",
              "  </tbody>\n",
              "</table>\n",
              "<p>78134 rows × 9 columns</p>\n",
              "</div>\n",
              "      <button class=\"colab-df-convert\" onclick=\"convertToInteractive('df-9a9ef185-e4b2-4362-9a40-b6d9e9ff1cf8')\"\n",
              "              title=\"Convert this dataframe to an interactive table.\"\n",
              "              style=\"display:none;\">\n",
              "        \n",
              "  <svg xmlns=\"http://www.w3.org/2000/svg\" height=\"24px\"viewBox=\"0 0 24 24\"\n",
              "       width=\"24px\">\n",
              "    <path d=\"M0 0h24v24H0V0z\" fill=\"none\"/>\n",
              "    <path d=\"M18.56 5.44l.94 2.06.94-2.06 2.06-.94-2.06-.94-.94-2.06-.94 2.06-2.06.94zm-11 1L8.5 8.5l.94-2.06 2.06-.94-2.06-.94L8.5 2.5l-.94 2.06-2.06.94zm10 10l.94 2.06.94-2.06 2.06-.94-2.06-.94-.94-2.06-.94 2.06-2.06.94z\"/><path d=\"M17.41 7.96l-1.37-1.37c-.4-.4-.92-.59-1.43-.59-.52 0-1.04.2-1.43.59L10.3 9.45l-7.72 7.72c-.78.78-.78 2.05 0 2.83L4 21.41c.39.39.9.59 1.41.59.51 0 1.02-.2 1.41-.59l7.78-7.78 2.81-2.81c.8-.78.8-2.07 0-2.86zM5.41 20L4 18.59l7.72-7.72 1.47 1.35L5.41 20z\"/>\n",
              "  </svg>\n",
              "      </button>\n",
              "      \n",
              "  <style>\n",
              "    .colab-df-container {\n",
              "      display:flex;\n",
              "      flex-wrap:wrap;\n",
              "      gap: 12px;\n",
              "    }\n",
              "\n",
              "    .colab-df-convert {\n",
              "      background-color: #E8F0FE;\n",
              "      border: none;\n",
              "      border-radius: 50%;\n",
              "      cursor: pointer;\n",
              "      display: none;\n",
              "      fill: #1967D2;\n",
              "      height: 32px;\n",
              "      padding: 0 0 0 0;\n",
              "      width: 32px;\n",
              "    }\n",
              "\n",
              "    .colab-df-convert:hover {\n",
              "      background-color: #E2EBFA;\n",
              "      box-shadow: 0px 1px 2px rgba(60, 64, 67, 0.3), 0px 1px 3px 1px rgba(60, 64, 67, 0.15);\n",
              "      fill: #174EA6;\n",
              "    }\n",
              "\n",
              "    [theme=dark] .colab-df-convert {\n",
              "      background-color: #3B4455;\n",
              "      fill: #D2E3FC;\n",
              "    }\n",
              "\n",
              "    [theme=dark] .colab-df-convert:hover {\n",
              "      background-color: #434B5C;\n",
              "      box-shadow: 0px 1px 3px 1px rgba(0, 0, 0, 0.15);\n",
              "      filter: drop-shadow(0px 1px 2px rgba(0, 0, 0, 0.3));\n",
              "      fill: #FFFFFF;\n",
              "    }\n",
              "  </style>\n",
              "\n",
              "      <script>\n",
              "        const buttonEl =\n",
              "          document.querySelector('#df-9a9ef185-e4b2-4362-9a40-b6d9e9ff1cf8 button.colab-df-convert');\n",
              "        buttonEl.style.display =\n",
              "          google.colab.kernel.accessAllowed ? 'block' : 'none';\n",
              "\n",
              "        async function convertToInteractive(key) {\n",
              "          const element = document.querySelector('#df-9a9ef185-e4b2-4362-9a40-b6d9e9ff1cf8');\n",
              "          const dataTable =\n",
              "            await google.colab.kernel.invokeFunction('convertToInteractive',\n",
              "                                                     [key], {});\n",
              "          if (!dataTable) return;\n",
              "\n",
              "          const docLinkHtml = 'Like what you see? Visit the ' +\n",
              "            '<a target=\"_blank\" href=https://colab.research.google.com/notebooks/data_table.ipynb>data table notebook</a>'\n",
              "            + ' to learn more about interactive tables.';\n",
              "          element.innerHTML = '';\n",
              "          dataTable['output_type'] = 'display_data';\n",
              "          await google.colab.output.renderOutput(dataTable, element);\n",
              "          const docLink = document.createElement('div');\n",
              "          docLink.innerHTML = docLinkHtml;\n",
              "          element.appendChild(docLink);\n",
              "        }\n",
              "      </script>\n",
              "    </div>\n",
              "  </div>\n",
              "  "
            ],
            "text/plain": [
              "       tweet_date            tweet_id  sentiment emojis  tweet_day  \\\n",
              "0      2013-01-01  286003826803240960          1      ✌          1   \n",
              "1      2013-01-01  286003826811625472          0      😒          1   \n",
              "2      2013-01-01  286003826811625472          0      😒          1   \n",
              "4      2013-01-01  286003830993326080          1      😘          1   \n",
              "5      2013-01-01  286003830993326080          1      😘          1   \n",
              "...           ...                 ...        ...    ...        ...   \n",
              "105211 2013-01-01  286366206284427264          1      😊          1   \n",
              "105212 2013-01-01  286366206284427264          1      😊          1   \n",
              "105213 2013-01-01  286366206292811776          1     ;)          1   \n",
              "105214 2013-01-01  286366210487107584          1      ✌          1   \n",
              "105215 2013-01-01  286366210487107584          1      ✌          1   \n",
              "\n",
              "        tweet_month  tweet_year tweet_year_month  \\\n",
              "0                 1        2013          2013-01   \n",
              "1                 1        2013          2013-01   \n",
              "2                 1        2013          2013-01   \n",
              "4                 1        2013          2013-01   \n",
              "5                 1        2013          2013-01   \n",
              "...             ...         ...              ...   \n",
              "105211            1        2013          2013-01   \n",
              "105212            1        2013          2013-01   \n",
              "105213            1        2013          2013-01   \n",
              "105214            1        2013          2013-01   \n",
              "105215            1        2013          2013-01   \n",
              "\n",
              "                                               tweet_text  \n",
              "0       “@BritneyStyles1D: @Harry_Styles TAKE SOME FUC...  \n",
              "1                      Okaay shes getting anoying now ! 😒  \n",
              "2                      @nurulintan16 hhe iye , sory yaaw.  \n",
              "4       Happy effing New Years!😘  #2013 #kissingmyself...  \n",
              "5       @Chiquis626 Por un 2013 juntos :)) Teamoo Prin...  \n",
              "...                                                   ...  \n",
              "105211     @silvia0920 私スゲーデカイ化粧品入れる箱があるよ！机の半分は箱が占領してる…苦笑  \n",
              "105212                                @thaijaaaa yayyy 👏😊  \n",
              "105213  @reecemastin @RhiannonMFish photos of wet n wi...  \n",
              "105214  Me parece que no se van a dar cuenta que estab...  \n",
              "105215                  Night twitter, work in the a.m. ✌  \n",
              "\n",
              "[78134 rows x 9 columns]"
            ]
          },
          "execution_count": 8,
          "metadata": {},
          "output_type": "execute_result"
        }
      ],
      "source": [
        "Data.to_pandas()"
      ]
    },
    {
      "cell_type": "markdown",
      "metadata": {
        "id": "pq4QvdZKQLGd"
      },
      "source": [
        "Function **Load_parquet(folder_path)**"
      ]
    },
    {
      "cell_type": "code",
      "execution_count": null,
      "metadata": {
        "id": "lHOSVbekL_sl"
      },
      "outputs": [],
      "source": [
        "import pyarrow.parquet as pq\n",
        "import numpy as np\n",
        "import pandas as pd\n",
        "import pyarrow as pa\n",
        "import os\n",
        "\n",
        "def Load_parquet(folder_path):\n",
        "  #folder_path: folder contains parquet files ex) \"parquet/2013/1\"\n",
        "  if not os.path.exists(folder_path):\n",
        "    print(\"Path doesn't exist\")\n",
        "    return \n",
        "  \n",
        "  for idx, filename in enumerate(os.listdir(folder_path)):\n",
        "    Data = pq.read_table(folder_path + \"/\" + filename)\n",
        "    Data = Data.to_pandas()\n",
        "    if idx >= 2:\n",
        "      break\n",
        "    if idx == 0:\n",
        "      Full_DATA = Data\n",
        "    else:\n",
        "      Full_DATA = pd.concat([Full_DATA, Data], ignore_index=True)\n",
        "\n",
        "  return Full_DATA\n",
        "  "
      ]
    },
    {
      "cell_type": "markdown",
      "metadata": {
        "id": "_ptMZNBhSKEG"
      },
      "source": [
        "Read first 9 files ( still uploading other files ..) look at if statment in the function (idx >=9)\n"
      ]
    },
    {
      "cell_type": "code",
      "execution_count": null,
      "metadata": {
        "id": "0gsy12ZjST1T"
      },
      "outputs": [],
      "source": [
        "Full_Data = Load_parquet(\"parquet/2013/01\")"
      ]
    },
    {
      "cell_type": "code",
      "execution_count": null,
      "metadata": {
        "colab": {
          "base_uri": "https://localhost:8080/",
          "height": 887
        },
        "id": "VV1RE_CkS03U",
        "outputId": "9446f65e-17e3-4231-b695-5fc06a652808"
      },
      "outputs": [
        {
          "data": {
            "text/html": [
              "\n",
              "  <div id=\"df-9f3b7daf-8f94-4ec1-a91e-ea48e58c70ad\">\n",
              "    <div class=\"colab-df-container\">\n",
              "      <div>\n",
              "<style scoped>\n",
              "    .dataframe tbody tr th:only-of-type {\n",
              "        vertical-align: middle;\n",
              "    }\n",
              "\n",
              "    .dataframe tbody tr th {\n",
              "        vertical-align: top;\n",
              "    }\n",
              "\n",
              "    .dataframe thead th {\n",
              "        text-align: right;\n",
              "    }\n",
              "</style>\n",
              "<table border=\"1\" class=\"dataframe\">\n",
              "  <thead>\n",
              "    <tr style=\"text-align: right;\">\n",
              "      <th></th>\n",
              "      <th>tweet_date</th>\n",
              "      <th>tweet_id</th>\n",
              "      <th>sentiment</th>\n",
              "      <th>emojis</th>\n",
              "      <th>tweet_day</th>\n",
              "      <th>tweet_month</th>\n",
              "      <th>tweet_year</th>\n",
              "      <th>tweet_year_month</th>\n",
              "      <th>tweet_text</th>\n",
              "    </tr>\n",
              "  </thead>\n",
              "  <tbody>\n",
              "    <tr>\n",
              "      <th>0</th>\n",
              "      <td>2013-01-29</td>\n",
              "      <td>296150691238518784</td>\n",
              "      <td>1</td>\n",
              "      <td>:)</td>\n",
              "      <td>29</td>\n",
              "      <td>1</td>\n",
              "      <td>2013</td>\n",
              "      <td>2013-01</td>\n",
              "      <td>@ilove_1D143 :) thanks, do you not use them be...</td>\n",
              "    </tr>\n",
              "    <tr>\n",
              "      <th>2</th>\n",
              "      <td>2013-01-29</td>\n",
              "      <td>296150699622952960</td>\n",
              "      <td>0</td>\n",
              "      <td>:(,:(</td>\n",
              "      <td>29</td>\n",
              "      <td>1</td>\n",
              "      <td>2013</td>\n",
              "      <td>2013-01</td>\n",
              "      <td>fresh part that he assumed. The stage lost a f...</td>\n",
              "    </tr>\n",
              "    <tr>\n",
              "      <th>3</th>\n",
              "      <td>2013-01-29</td>\n",
              "      <td>296150699622952960</td>\n",
              "      <td>0</td>\n",
              "      <td>:(,:(</td>\n",
              "      <td>29</td>\n",
              "      <td>1</td>\n",
              "      <td>2013</td>\n",
              "      <td>2013-01</td>\n",
              "      <td>@BrettGriffith6 Yay :( I wish I could tho... </td>\n",
              "    </tr>\n",
              "    <tr>\n",
              "      <th>5</th>\n",
              "      <td>2013-01-29</td>\n",
              "      <td>296150703813050368</td>\n",
              "      <td>1</td>\n",
              "      <td>:)</td>\n",
              "      <td>29</td>\n",
              "      <td>1</td>\n",
              "      <td>2013</td>\n",
              "      <td>2013-01</td>\n",
              "      <td>@babyqueen700 Kindly follow back :)</td>\n",
              "    </tr>\n",
              "    <tr>\n",
              "      <th>6</th>\n",
              "      <td>2013-01-29</td>\n",
              "      <td>296150703829827584</td>\n",
              "      <td>0</td>\n",
              "      <td>😬</td>\n",
              "      <td>29</td>\n",
              "      <td>1</td>\n",
              "      <td>2013</td>\n",
              "      <td>2013-01</td>\n",
              "      <td>@turtle_tiff goodnight 😏😬 and Thankyou . You t...</td>\n",
              "    </tr>\n",
              "    <tr>\n",
              "      <th>...</th>\n",
              "      <td>...</td>\n",
              "      <td>...</td>\n",
              "      <td>...</td>\n",
              "      <td>...</td>\n",
              "      <td>...</td>\n",
              "      <td>...</td>\n",
              "      <td>...</td>\n",
              "      <td>...</td>\n",
              "      <td>...</td>\n",
              "    </tr>\n",
              "    <tr>\n",
              "      <th>128889</th>\n",
              "      <td>2013-01-29</td>\n",
              "      <td>296513062331109376</td>\n",
              "      <td>0</td>\n",
              "      <td>D;</td>\n",
              "      <td>29</td>\n",
              "      <td>1</td>\n",
              "      <td>2013</td>\n",
              "      <td>2013-01</td>\n",
              "      <td>誰か今日19時からSAやりませんか。</td>\n",
              "    </tr>\n",
              "    <tr>\n",
              "      <th>128890</th>\n",
              "      <td>2013-01-29</td>\n",
              "      <td>296513062331109376</td>\n",
              "      <td>0</td>\n",
              "      <td>D;</td>\n",
              "      <td>29</td>\n",
              "      <td>1</td>\n",
              "      <td>2013</td>\n",
              "      <td>2013-01</td>\n",
              "      <td>RT @athkar_ad3ih: اذكار_الصباح ♥\\n\\n\\n\\n\\n  ht...</td>\n",
              "    </tr>\n",
              "    <tr>\n",
              "      <th>128891</th>\n",
              "      <td>2013-01-29</td>\n",
              "      <td>296513062331109376</td>\n",
              "      <td>0</td>\n",
              "      <td>D;</td>\n",
              "      <td>29</td>\n",
              "      <td>1</td>\n",
              "      <td>2013</td>\n",
              "      <td>2013-01</td>\n",
              "      <td>i don't want to represent it in front of my cl...</td>\n",
              "    </tr>\n",
              "    <tr>\n",
              "      <th>128892</th>\n",
              "      <td>2013-01-29</td>\n",
              "      <td>296513070719713280</td>\n",
              "      <td>1</td>\n",
              "      <td>:)</td>\n",
              "      <td>29</td>\n",
              "      <td>1</td>\n",
              "      <td>2013</td>\n",
              "      <td>2013-01</td>\n",
              "      <td>RT “@itssamaris: I have an exessive amount of ...</td>\n",
              "    </tr>\n",
              "    <tr>\n",
              "      <th>128893</th>\n",
              "      <td>2013-01-29</td>\n",
              "      <td>296513070728105984</td>\n",
              "      <td>0</td>\n",
              "      <td>:/</td>\n",
              "      <td>29</td>\n",
              "      <td>1</td>\n",
              "      <td>2013</td>\n",
              "      <td>2013-01</td>\n",
              "      <td>I'm so bored. :/</td>\n",
              "    </tr>\n",
              "  </tbody>\n",
              "</table>\n",
              "<p>94742 rows × 9 columns</p>\n",
              "</div>\n",
              "      <button class=\"colab-df-convert\" onclick=\"convertToInteractive('df-9f3b7daf-8f94-4ec1-a91e-ea48e58c70ad')\"\n",
              "              title=\"Convert this dataframe to an interactive table.\"\n",
              "              style=\"display:none;\">\n",
              "        \n",
              "  <svg xmlns=\"http://www.w3.org/2000/svg\" height=\"24px\"viewBox=\"0 0 24 24\"\n",
              "       width=\"24px\">\n",
              "    <path d=\"M0 0h24v24H0V0z\" fill=\"none\"/>\n",
              "    <path d=\"M18.56 5.44l.94 2.06.94-2.06 2.06-.94-2.06-.94-.94-2.06-.94 2.06-2.06.94zm-11 1L8.5 8.5l.94-2.06 2.06-.94-2.06-.94L8.5 2.5l-.94 2.06-2.06.94zm10 10l.94 2.06.94-2.06 2.06-.94-2.06-.94-.94-2.06-.94 2.06-2.06.94z\"/><path d=\"M17.41 7.96l-1.37-1.37c-.4-.4-.92-.59-1.43-.59-.52 0-1.04.2-1.43.59L10.3 9.45l-7.72 7.72c-.78.78-.78 2.05 0 2.83L4 21.41c.39.39.9.59 1.41.59.51 0 1.02-.2 1.41-.59l7.78-7.78 2.81-2.81c.8-.78.8-2.07 0-2.86zM5.41 20L4 18.59l7.72-7.72 1.47 1.35L5.41 20z\"/>\n",
              "  </svg>\n",
              "      </button>\n",
              "      \n",
              "  <style>\n",
              "    .colab-df-container {\n",
              "      display:flex;\n",
              "      flex-wrap:wrap;\n",
              "      gap: 12px;\n",
              "    }\n",
              "\n",
              "    .colab-df-convert {\n",
              "      background-color: #E8F0FE;\n",
              "      border: none;\n",
              "      border-radius: 50%;\n",
              "      cursor: pointer;\n",
              "      display: none;\n",
              "      fill: #1967D2;\n",
              "      height: 32px;\n",
              "      padding: 0 0 0 0;\n",
              "      width: 32px;\n",
              "    }\n",
              "\n",
              "    .colab-df-convert:hover {\n",
              "      background-color: #E2EBFA;\n",
              "      box-shadow: 0px 1px 2px rgba(60, 64, 67, 0.3), 0px 1px 3px 1px rgba(60, 64, 67, 0.15);\n",
              "      fill: #174EA6;\n",
              "    }\n",
              "\n",
              "    [theme=dark] .colab-df-convert {\n",
              "      background-color: #3B4455;\n",
              "      fill: #D2E3FC;\n",
              "    }\n",
              "\n",
              "    [theme=dark] .colab-df-convert:hover {\n",
              "      background-color: #434B5C;\n",
              "      box-shadow: 0px 1px 3px 1px rgba(0, 0, 0, 0.15);\n",
              "      filter: drop-shadow(0px 1px 2px rgba(0, 0, 0, 0.3));\n",
              "      fill: #FFFFFF;\n",
              "    }\n",
              "  </style>\n",
              "\n",
              "      <script>\n",
              "        const buttonEl =\n",
              "          document.querySelector('#df-9f3b7daf-8f94-4ec1-a91e-ea48e58c70ad button.colab-df-convert');\n",
              "        buttonEl.style.display =\n",
              "          google.colab.kernel.accessAllowed ? 'block' : 'none';\n",
              "\n",
              "        async function convertToInteractive(key) {\n",
              "          const element = document.querySelector('#df-9f3b7daf-8f94-4ec1-a91e-ea48e58c70ad');\n",
              "          const dataTable =\n",
              "            await google.colab.kernel.invokeFunction('convertToInteractive',\n",
              "                                                     [key], {});\n",
              "          if (!dataTable) return;\n",
              "\n",
              "          const docLinkHtml = 'Like what you see? Visit the ' +\n",
              "            '<a target=\"_blank\" href=https://colab.research.google.com/notebooks/data_table.ipynb>data table notebook</a>'\n",
              "            + ' to learn more about interactive tables.';\n",
              "          element.innerHTML = '';\n",
              "          dataTable['output_type'] = 'display_data';\n",
              "          await google.colab.output.renderOutput(dataTable, element);\n",
              "          const docLink = document.createElement('div');\n",
              "          docLink.innerHTML = docLinkHtml;\n",
              "          element.appendChild(docLink);\n",
              "        }\n",
              "      </script>\n",
              "    </div>\n",
              "  </div>\n",
              "  "
            ],
            "text/plain": [
              "       tweet_date            tweet_id  sentiment emojis  tweet_day  \\\n",
              "0      2013-01-29  296150691238518784          1     :)         29   \n",
              "2      2013-01-29  296150699622952960          0  :(,:(         29   \n",
              "3      2013-01-29  296150699622952960          0  :(,:(         29   \n",
              "5      2013-01-29  296150703813050368          1     :)         29   \n",
              "6      2013-01-29  296150703829827584          0      😬         29   \n",
              "...           ...                 ...        ...    ...        ...   \n",
              "128889 2013-01-29  296513062331109376          0     D;         29   \n",
              "128890 2013-01-29  296513062331109376          0     D;         29   \n",
              "128891 2013-01-29  296513062331109376          0     D;         29   \n",
              "128892 2013-01-29  296513070719713280          1     :)         29   \n",
              "128893 2013-01-29  296513070728105984          0     :/         29   \n",
              "\n",
              "        tweet_month  tweet_year tweet_year_month  \\\n",
              "0                 1        2013          2013-01   \n",
              "2                 1        2013          2013-01   \n",
              "3                 1        2013          2013-01   \n",
              "5                 1        2013          2013-01   \n",
              "6                 1        2013          2013-01   \n",
              "...             ...         ...              ...   \n",
              "128889            1        2013          2013-01   \n",
              "128890            1        2013          2013-01   \n",
              "128891            1        2013          2013-01   \n",
              "128892            1        2013          2013-01   \n",
              "128893            1        2013          2013-01   \n",
              "\n",
              "                                               tweet_text  \n",
              "0       @ilove_1D143 :) thanks, do you not use them be...  \n",
              "2       fresh part that he assumed. The stage lost a f...  \n",
              "3        @BrettGriffith6 Yay :( I wish I could tho...   \n",
              "5                     @babyqueen700 Kindly follow back :)  \n",
              "6       @turtle_tiff goodnight 😏😬 and Thankyou . You t...  \n",
              "...                                                   ...  \n",
              "128889                                 誰か今日19時からSAやりませんか。  \n",
              "128890  RT @athkar_ad3ih: اذكار_الصباح ♥\\n\\n\\n\\n\\n  ht...  \n",
              "128891  i don't want to represent it in front of my cl...  \n",
              "128892  RT “@itssamaris: I have an exessive amount of ...  \n",
              "128893                                   I'm so bored. :/  \n",
              "\n",
              "[94742 rows x 9 columns]"
            ]
          },
          "execution_count": 10,
          "metadata": {},
          "output_type": "execute_result"
        }
      ],
      "source": [
        "Full_Data"
      ]
    },
    {
      "cell_type": "markdown",
      "metadata": {
        "id": "eM3OpG7vCyU1"
      },
      "source": [
        "# Functions : Run this cell to define all functions we needed"
      ]
    },
    {
      "cell_type": "code",
      "execution_count": null,
      "metadata": {
        "id": "rjLwgd0RC0nJ"
      },
      "outputs": [],
      "source": [
        "import pyarrow.parquet as pq\n",
        "import numpy as np\n",
        "import pandas as pd\n",
        "import pyarrow as pa\n",
        "import os\n",
        "import random\n",
        "import argparse\n",
        "import os\n",
        "import pickle\n",
        "import torch\n",
        "import torch.nn as nn\n",
        "from sklearn.metrics import accuracy_score\n",
        "from functools import partial\n",
        "from tqdm import tqdm\n",
        "tqdm = partial(tqdm, position=0, leave=True)\n",
        "\n",
        "\n",
        "\n",
        "def Load_parquet(folder_path, num_of_file=2):\n",
        "  #folder_path: folder contains parquet files ex) \"parquet/2013/1\"\n",
        "  #num_of_file: how many files you want to load from the path folder\n",
        "  if not os.path.exists(folder_path):\n",
        "    print(\"Path doesn't exist\")\n",
        "    return \n",
        "  \n",
        "  for idx, filename in enumerate(os.listdir(folder_path)):\n",
        "    if idx >= num_of_file:\n",
        "      break\n",
        "    Data = pq.read_table(folder_path + \"/\" + filename)\n",
        "    Data = Data.to_pandas()\n",
        "    \n",
        "    if idx == 0:\n",
        "      Full_DATA = Data\n",
        "    else:\n",
        "      Full_DATA = pd.concat([Full_DATA, Data], ignore_index=True)\n",
        "\n",
        "  return Full_DATA\n",
        "\n",
        "def create_emb_layer(weight_mat, device=None):\n",
        "    weight_mat = torch.from_numpy(weight_mat)\n",
        "    if device:\n",
        "        weight_mat.to(device)\n",
        "    num_embeddings, embedding_dim = weight_mat.size()\n",
        "    emb_layer = nn.Embedding(num_embeddings, embedding_dim)\n",
        "    emb_layer.load_state_dict({'weight': weight_mat})\n",
        "    emb_layer.weight.requires_grad = False\n",
        "    return emb_layer, embedding_dim\n",
        "\n",
        "def Get_UNKA(words_by_sentence, frequency=2):\n",
        "  #frequency : standard for replace word as UNKA\n",
        "  word_freq = {}\n",
        "  for sentence in words_by_sentence:\n",
        "    for word in sentence:\n",
        "      if (word in word_freq):\n",
        "        word_freq[word] +=1\n",
        "      else:\n",
        "        word_freq[word] = 1\n",
        "  \n",
        "  unka_set = set()\n",
        "  for sentence in words_by_sentence:\n",
        "        for word in sentence:\n",
        "            if (word_freq[word] <= frequency):\n",
        "                unka_set.add(word)\n",
        "  for idx, sentence in enumerate(words_by_sentence):\n",
        "      words_by_sentence[idx] = [\"UNKA\" if word in unka_set else word for word in sentence]\n",
        "  return words_by_sentence\n",
        "\n",
        "def Create_Vocab(words_by_sentence):\n",
        "  vocab_words_set = set()\n",
        "  for sentence in words_by_sentence:\n",
        "    vocab_words_set.update(set(sentence))\n",
        "  vocab_word_list = sorted(vocab_words_set)\n",
        "  vocab_word_list.insert(0, \"<PAD>\") # insert <PAD> at index 0 for padded data\n",
        "  vocab_dict = dict(zip(vocab_word_list, range(len(vocab_word_list))))\n",
        "  \n",
        "  return vocab_dict, vocab_word_list\n",
        "\n",
        "def Tokenize_with_Vocab(words_by_sentence, vocab_dict):\n",
        "    for sentence in words_by_sentence:\n",
        "        for i in range(len(sentence)):\n",
        "            if vocab_dict.get(sentence[i]) == None:\n",
        "              sentence[i] = vocab_dict.get(\"UNKA\")\n",
        "            else:\n",
        "              sentence[i] = vocab_dict.get(sentence[i])\n",
        "\n",
        "\n",
        "\n",
        "def Creat_Batch(words_by_sentence, Label,train_batch):\n",
        "  n_sentences = len(words_by_sentence)\n",
        "  if ((n_sentences % train_batch) == 0):\n",
        "      n_batches = n_sentences / train_batch\n",
        "  else:\n",
        "      n_batches = (n_sentences // train_batch) # if left one is less than bathsize, drop it+ 1\n",
        "  list_of_word_label_batches = [] # list of lists of lists\n",
        "  for i in range(n_batches):\n",
        "      word_label_batche = []\n",
        "      for j in range(train_batch):\n",
        "          sentence_idx = i * train_batch + j\n",
        "          if sentence_idx < n_sentences:\n",
        "              word_label_batche.append((words_by_sentence[sentence_idx], Label[sentence_idx]))\n",
        "      list_of_word_label_batches.append(word_label_batche)\n",
        "  return list_of_word_label_batches\n",
        "\n",
        "def Padding_and_zip_with_label(words_by_sentence, Label):\n",
        "  sentence_lengths = [len(sentence) for sentence in words_by_sentence]\n",
        "  max_sentence_len = max(sentence_lengths)\n",
        "  padded_word_mat = np.zeros((len(words_by_sentence), max_sentence_len))\n",
        "  padded_label_mat = np.zeros(len(words_by_sentence))\n",
        "  for i in range(len(words_by_sentence)):\n",
        "      word_seq = words_by_sentence[i]\n",
        "      padded_word_mat[i, 0:sentence_lengths[i]] = word_seq[:sentence_lengths[i]]\n",
        "      label = Label[i]\n",
        "      padded_label_mat[i] = label\n",
        "\n",
        "  return (padded_word_mat, padded_label_mat), sentence_lengths\n",
        "\n",
        "def Train_Batch_Padding(Train_batches, train_batch):\n",
        "  list_of_lens_in_batch = []\n",
        "  for i in range(len(Train_batches)):\n",
        "      sentence_lengths = [len(data[0]) for data in Train_batches[i]]\n",
        "      list_of_lens_in_batch.append(sentence_lengths)\n",
        "      max_sentence_len = max(sentence_lengths)\n",
        "      padded_word_batch = np.zeros((train_batch, max_sentence_len), dtype=int)\n",
        "      padded_label_batch = np.zeros(train_batch, dtype=np.int)\n",
        "      for j, sentence_len in enumerate(sentence_lengths):\n",
        "          word_seq = Train_batches[i][j][0]\n",
        "          padded_word_batch[j, 0:sentence_len] = word_seq[:sentence_len]\n",
        "          label = Train_batches[i][j][1]\n",
        "          padded_label_batch[j] = label\n",
        "      Train_batches[i] = (padded_word_batch, padded_label_batch)\n",
        "  return Train_batches, list_of_lens_in_batch\n",
        "\n",
        "def Create_weightmat(pre_trained_embedding_file, vocab_word_list):\n",
        "  if pre_trained_embedding_file == 'glove200d':\n",
        "      # get glove embeddings from file and store in dict\n",
        "      # \"glove.6B/glove.6B.200d.txt\"\n",
        "      embedding_file = \"glove.6B.200d.txt\"\n",
        "      Loaded_Emb_dict = {}\n",
        "      with open(embedding_file) as e:\n",
        "          x = e.readlines()\n",
        "          for sentence in tqdm(x):\n",
        "              embedding_list = sentence.split()\n",
        "              target_word = embedding_list[0]\n",
        "              embeddings = embedding_list[1:]\n",
        "              embeddings = [float(val) for val in embeddings]\n",
        "              Loaded_Emb_dict[target_word] = embeddings\n",
        "\n",
        "  elif pre_trained_embedding_file == 'glovetwit200d':\n",
        "      # get glove embeddings from file and store in dict\n",
        "      # \"glove.twitter.27B.200d.txt\"\n",
        "      embedding_file = \"glove.twitter.27B.200d.txt\"\n",
        "      Loaded_Emb_dict = {}\n",
        "      with open(embedding_file) as e:\n",
        "          x = e.readlines()\n",
        "          for sentence in tqdm(x):\n",
        "              embedding_list = sentence.split()\n",
        "              target_word = embedding_list[0]\n",
        "              embeddings = embedding_list[1:]\n",
        "              embeddings = [float(val) for val in embeddings]\n",
        "              Loaded_Emb_dict[target_word] = embeddings\n",
        "  \n",
        "  elif pre_trained_embedding_file == 'Emotag':\n",
        "      # get EmoTag embbeddings from tile and stor in dict\n",
        "      # 'EmoTag-Vectors-620d/emotag-vectors.csv'\n",
        "      embedding_file = 'EmoTag-Vectors-620d/emotag-vectors.csv'\n",
        "      Loaded_Emb_dict = {}\n",
        "      with open(embedding_file, 'r') as e:\n",
        "          x = e.readlines()\n",
        "          for sentence in tqdm(x):\n",
        "              embedding_list = sentence.split()\n",
        "              embedding_list[-1] = embedding_list[-1].replace('\\n','')\n",
        "              target_word = embedding_list[0]\n",
        "              embeddings = embedding_list[1:]\n",
        "              embeddings = [float(val) for val in embeddings]\n",
        "              Loaded_Emb_dict[target_word] = embeddings\n",
        "  else:\n",
        "      print(\"wrong emb file name chosse one name between 'glove200d', 'glovetwit200d', 'Emotag'\")\n",
        "\n",
        "  mat_len = len(vocab_word_list)\n",
        "  embedding_dim = len(embedding_list) - 1\n",
        "  print(f\"Embedding dimension : {embedding_dim}\")\n",
        "\n",
        "  weight_mat = np.zeros((mat_len, embedding_dim))\n",
        "  for i, word in tqdm(enumerate(vocab_word_list)):\n",
        "      if (i > 0): # leave the 0th row as 0s for <PAD> embedding\n",
        "          try:\n",
        "              weight_mat[i] = Loaded_Emb_dict[word]\n",
        "          except KeyError:\n",
        "              # use random values from a normal dist for words not in glove\n",
        "              weight_mat[i] = np.random.normal(scale=0.6, size=(embedding_dim,))\n",
        "  return weight_mat\n",
        "\n",
        "def Preprocess(Full_Data, test_ratio=0.2, evaluation_ratio=0.1, seed=595, train_batch=32, pre_trained_embedding_file='glove200d'):\n",
        "  # Full_Data : Concatenated pandas data from parquet files\n",
        "  # test_ratio : ratio of test set\n",
        "  # evaluation_ratio : ratio of eval set\n",
        "  random.seed(seed)\n",
        "  Text = Full_Data['tweet_text'].to_list()\n",
        "  random.shuffle(Text)  \n",
        "  Label = Full_Data['sentiment'].to_list()\n",
        "  random.shuffle(Label)\n",
        "\n",
        "  N = len(Text)\n",
        "  test_len = round(N * test_ratio)\n",
        "  eval_len = round(N * evaluation_ratio)\n",
        "  train_len = N - test_len - eval_len\n",
        "\n",
        "  words_by_sentence = [sentence.split() for sentence in Text]\n",
        "  words_by_sentence[:train_len] = Get_UNKA(words_by_sentence[:train_len])\n",
        "  vocab_dict, vocab_word_list = Create_Vocab(words_by_sentence[:train_len])\n",
        "  Tokenize_with_Vocab(words_by_sentence, vocab_dict)\n",
        "  Train_batches = Creat_Batch(words_by_sentence[:train_len], Label[:train_len], train_batch)\n",
        "\n",
        "  weight_mat = Create_weightmat(pre_trained_embedding_file, vocab_word_list)\n",
        "\n",
        "  \n",
        "  Train_set, list_of_lens_in_batch = Train_Batch_Padding(Train_batches, train_batch)\n",
        "  Eval_set, Eval_len = Padding_and_zip_with_label(words_by_sentence[train_len: train_len+eval_len], Label[train_len: train_len+eval_len])\n",
        "  Test_set, Test_len = Padding_and_zip_with_label(words_by_sentence[train_len+eval_len: N], Label[train_len+eval_len: N])\n",
        "\n",
        "  return Train_set, Eval_set, Test_set, vocab_dict, weight_mat, list_of_lens_in_batch, Eval_len, Test_len\n",
        "\n",
        "\n",
        "\n",
        "class RNNSentiment(nn.Module):\n",
        "    def __init__(self, hidden_dim, target_size, weight_mat):\n",
        "        super(RNNSentiment, self).__init__()\n",
        "        ############################################\n",
        "        # TODO: Add pytorch cuda device to use gpu #\n",
        "        ############################################\n",
        "        self.cuda0 = torch.device('cuda:0')\n",
        "        self.target_size = target_size\n",
        "        ############################################\n",
        "        # TODO END                                 #\n",
        "        ############################################\n",
        "        self.hidden_dim = hidden_dim\n",
        "        self.embedding, embedding_dim = create_emb_layer(weight_mat, self.cuda0)\n",
        "        # The LSTM takes word embeddings as inputs, and outputs hidden states\n",
        "        # with dimensionality hidden_dim.\n",
        "        self.lstm = nn.LSTM(embedding_dim, hidden_dim)\n",
        "        self.dropout = nn.Dropout(p=0.1)\n",
        "        # The linear layer that maps from hidden state space to tag space\n",
        "        self.hidden2tag = nn.Linear(hidden_dim, target_size)\n",
        "        self.softmax = nn.Softmax(dim=-1)\n",
        "        \n",
        "\n",
        "\n",
        "    def forward(self, sentence, lens_in_batch):\n",
        "        sentence = torch.LongTensor(sentence)\n",
        "        # print('sentence shape')\n",
        "        # print(sentence.shape)\n",
        "        ############################################\n",
        "        # TODO: Add pytorch cuda device to use gpu #\n",
        "        ############################################\n",
        "        sentence.to(self.cuda0)\n",
        "        ############################################\n",
        "        # TODO END                                 #\n",
        "        ############################################\n",
        "        # print('embedding shape')\n",
        "        # print(self.embedding(sentence).shape)\n",
        "        sentence = torch.nn.utils.rnn.pack_padded_sequence(\n",
        "            self.embedding(sentence),\n",
        "            lens_in_batch,\n",
        "            batch_first = True,\n",
        "            enforce_sorted = False\n",
        "        )\n",
        "        \n",
        "        lstm_out, _ = self.lstm(sentence)\n",
        "        lstm_out, _ = torch.nn.utils.rnn.pad_packed_sequence(lstm_out, batch_first=True)\n",
        "        label_space = self.dropout(lstm_out)\n",
        "        # print('after lstm')\n",
        "        # print(label_space.shape)\n",
        "        label_space = label_space.view(label_space.shape[0], -1)\n",
        "        # print('after view')\n",
        "        # print(label_space.shape)\n",
        "        fc1 = nn.Linear(label_space.shape[-1], self.target_size)\n",
        "        label_space = fc1(label_space)#self.hidden2tag(label_space)\n",
        "        # print('after linear')\n",
        "        # print(label_space.shape)\n",
        "      \n",
        "        label_scores = self.softmax(label_space)\n",
        "        return label_scores\n",
        "\n",
        "def train(Train_set, Eval_set, HIDDEN_DIM, TAGSET_SIZE, weight_mat, list_of_lens_in_batch, Eval_len, learning_rate = 0.01, n_epochs = 30):\n",
        "  cuda0 = torch.device('cuda:0') # .to(cuda0)\n",
        "  # train model\n",
        "  \n",
        "  model = RNNSentiment(HIDDEN_DIM, TAGSET_SIZE, weight_mat)\n",
        "  criterion = torch.nn.CrossEntropyLoss(ignore_index=0)\n",
        "  optimiser = torch.optim.Adam(model.parameters(), lr=learning_rate)\n",
        "  print('##############################')\n",
        "  print('Train Model')\n",
        "  print('##############################')\n",
        "  \n",
        "  for epoch in tqdm(range(n_epochs)):\n",
        "      print(f'\\nepoch: {epoch+1}')\n",
        "      \n",
        "      for batch_no in tqdm(range(len(Train_set))):\n",
        "\n",
        "          padded_word_batch = Train_set[batch_no][0]\n",
        "          padded_label_batch = Train_set[batch_no][1]\n",
        "          lens_in_batch = list_of_lens_in_batch[batch_no]\n",
        "          optimiser.zero_grad()\n",
        "          predictions = model(padded_word_batch, lens_in_batch)\n",
        "          # print(predictions.shape)\n",
        "          # print(padded_label_batch.shape)\n",
        "          predictions = predictions.view(-1, predictions.shape[-1])\n",
        "          padded_label_batch = torch.LongTensor(padded_label_batch).view(-1)\n",
        "          ############################################\n",
        "          # TODO: Add pytorch cuda device to use gpu #\n",
        "          ############################################\n",
        "          padded_label_batch.to(cuda0)\n",
        "          ############################################\n",
        "          # TODO END                                 #\n",
        "          ############################################\n",
        "          loss = criterion(predictions, padded_label_batch)\n",
        "          loss.backward()\n",
        "          optimiser.step()\n",
        "      print(\"FINISHED EPOCH: \" + str(epoch + 1))\n",
        "      print(f'train_loss: {loss}')\n",
        "      \n",
        "      with torch.no_grad():\n",
        "        # length = torch.tensor([len(Eval_set[0])], dtype=torch.int64)\n",
        "        eval_pred = model(Eval_set[0], Eval_len)\n",
        "        eval_pred = eval_pred.view(-1, eval_pred.shape[-1])\n",
        "        labels = Eval_set[1]\n",
        "        labels = torch.LongTensor(labels).view(-1)\n",
        "        labels.to(cuda0)\n",
        "        eval_loss = criterion(eval_pred, labels)\n",
        "        print(f'\\nEvaluation LOSS: {eval_loss}')\n",
        "        eval_pred = torch.argmax(eval_pred, -1).cpu()\n",
        "        score = accuracy_score(eval_pred, labels)\n",
        "        print(f\"Evaluation ACC: {100*score:6.2f}%\")\n",
        "\n",
        "  # Your code ends here\n",
        "\n",
        "  return model\n",
        "\n",
        "def test(Test_set, HIDDEN_DIM, TAGSET_SIZE, weight_mat, Test_len, model_file):\n",
        "  cuda0 = torch.device('cuda:0')\n",
        "  criterion = torch.nn.CrossEntropyLoss(ignore_index=0)\n",
        "  with torch.no_grad():\n",
        "      model = RNNSentiment(HIDDEN_DIM, TAGSET_SIZE, weight_mat)\n",
        "      model.load_state_dict(torch.load(model_file))\n",
        "      # length = torch.tensor([len(Eval_set[0])], dtype=torch.int64)\n",
        "      test_pred = model(Test_set[0], Test_len)\n",
        "      test_pred = test_pred.view(-1, test_pred.shape[-1])\n",
        "      labels = Test_set[1]\n",
        "      labels = torch.LongTensor(labels).view(-1)\n",
        "      labels.to(cuda0)\n",
        "      test_loss = criterion(test_pred, labels)\n",
        "      print(f'\\nTEST LOSS: {test_loss}')\n",
        "      test_pred = torch.argmax(test_pred, -1).cpu()\n",
        "      score = accuracy_score(test_pred, labels)\n",
        "      print(f\"TEST ACC: {100*score:6.2f}%\")\n",
        "  "
      ]
    },
    {
      "cell_type": "markdown",
      "metadata": {
        "id": "ppV7e1PIC8BP"
      },
      "source": [
        "# Experiment lr=0.01 batch 32"
      ]
    },
    {
      "cell_type": "code",
      "execution_count": null,
      "metadata": {
        "id": "VF5VhpP3txCQ"
      },
      "outputs": [],
      "source": [
        "Full_Data = Load_parquet(\"parquet/2013/01\")\n"
      ]
    },
    {
      "cell_type": "code",
      "execution_count": null,
      "metadata": {
        "colab": {
          "base_uri": "https://localhost:8080/"
        },
        "id": "kh0DDh8itx1p",
        "outputId": "789748f7-5d30-444f-d3a9-21fed1bd2c8b"
      },
      "outputs": [
        {
          "name": "stderr",
          "output_type": "stream",
          "text": [
            "100%|██████████| 400000/400000 [00:19<00:00, 20229.89it/s]\n"
          ]
        },
        {
          "name": "stdout",
          "output_type": "stream",
          "text": [
            "Embedding dimension : 200\n"
          ]
        },
        {
          "name": "stderr",
          "output_type": "stream",
          "text": [
            "94058it [00:01, 69948.99it/s]\n",
            "<ipython-input-11-1b7ee74d723d>:97: DeprecationWarning: `np.int` is a deprecated alias for the builtin `int`. To silence this warning, use `int` by itself. Doing this will not modify any behavior and is safe. When replacing `np.int`, you may wish to use e.g. `np.int64` or `np.int32` to specify the precision. If you wish to review your current use, check the release note link for additional information.\n",
            "Deprecated in NumPy 1.20; for more details and guidance: https://numpy.org/devdocs/release/1.20.0-notes.html#deprecations\n",
            "  padded_label_batch = np.zeros(train_batch, dtype=np.int)\n"
          ]
        }
      ],
      "source": [
        "# Train_set, Eval_set, Test_set, vocab_dict, weight_mat, list_of_lens_in_batch, Eval_len, Test_len = Preprocess(Full_Data, test_ratio=0.2, evaluation_ratio=0.1, seed=595, train_batch=32, pre_trained_embedding_file='glove200d')\n"
      ]
    },
    {
      "cell_type": "code",
      "execution_count": null,
      "metadata": {
        "colab": {
          "base_uri": "https://localhost:8080/"
        },
        "id": "tpqr0gsJpnKo",
        "outputId": "c6b3811c-6cae-43d9-c5dc-91d4cffb7185"
      },
      "outputs": [
        {
          "name": "stdout",
          "output_type": "stream",
          "text": [
            "##############################\n",
            "Train Model\n",
            "##############################\n"
          ]
        },
        {
          "name": "stderr",
          "output_type": "stream",
          "text": [
            "\r  0%|          | 0/10 [00:00<?, ?it/s]"
          ]
        },
        {
          "name": "stdout",
          "output_type": "stream",
          "text": [
            "\n",
            "epoch: 1\n"
          ]
        },
        {
          "name": "stderr",
          "output_type": "stream",
          "text": [
            "100%|██████████| 2072/2072 [00:41<00:00, 49.84it/s]\n"
          ]
        },
        {
          "name": "stdout",
          "output_type": "stream",
          "text": [
            "FINISHED EPOCH: 1\n",
            "train_loss: 0.6802249550819397\n"
          ]
        },
        {
          "name": "stderr",
          "output_type": "stream",
          "text": [
            "\r 10%|█         | 1/10 [00:41<06:17, 41.90s/it]"
          ]
        },
        {
          "name": "stdout",
          "output_type": "stream",
          "text": [
            "\n",
            "Evaluation LOSS: 0.7249387502670288\n",
            "Evaluation ACC:  41.67%\n",
            "\n",
            "epoch: 2\n"
          ]
        },
        {
          "name": "stderr",
          "output_type": "stream",
          "text": [
            "100%|██████████| 2072/2072 [00:42<00:00, 49.30it/s]\n"
          ]
        },
        {
          "name": "stdout",
          "output_type": "stream",
          "text": [
            "FINISHED EPOCH: 2\n",
            "train_loss: 0.6645405292510986\n"
          ]
        },
        {
          "name": "stderr",
          "output_type": "stream",
          "text": [
            "\r 20%|██        | 2/10 [01:24<05:37, 42.17s/it]"
          ]
        },
        {
          "name": "stdout",
          "output_type": "stream",
          "text": [
            "\n",
            "Evaluation LOSS: 0.6977768540382385\n",
            "Evaluation ACC:  48.78%\n",
            "\n",
            "epoch: 3\n"
          ]
        },
        {
          "name": "stderr",
          "output_type": "stream",
          "text": [
            "100%|██████████| 2072/2072 [00:43<00:00, 47.65it/s]\n"
          ]
        },
        {
          "name": "stdout",
          "output_type": "stream",
          "text": [
            "FINISHED EPOCH: 3\n",
            "train_loss: 0.7139365673065186\n"
          ]
        },
        {
          "name": "stderr",
          "output_type": "stream",
          "text": [
            "\r 30%|███       | 3/10 [02:08<05:00, 42.92s/it]"
          ]
        },
        {
          "name": "stdout",
          "output_type": "stream",
          "text": [
            "\n",
            "Evaluation LOSS: 0.7200284600257874\n",
            "Evaluation ACC:  44.55%\n",
            "\n",
            "epoch: 4\n"
          ]
        },
        {
          "name": "stderr",
          "output_type": "stream",
          "text": [
            "100%|██████████| 2072/2072 [00:43<00:00, 48.04it/s]\n"
          ]
        },
        {
          "name": "stdout",
          "output_type": "stream",
          "text": [
            "FINISHED EPOCH: 4\n",
            "train_loss: 0.7498899102210999\n"
          ]
        },
        {
          "name": "stderr",
          "output_type": "stream",
          "text": [
            "\r 40%|████      | 4/10 [02:51<04:18, 43.13s/it]"
          ]
        },
        {
          "name": "stdout",
          "output_type": "stream",
          "text": [
            "\n",
            "Evaluation LOSS: 0.6542644500732422\n",
            "Evaluation ACC:  61.96%\n",
            "\n",
            "epoch: 5\n"
          ]
        },
        {
          "name": "stderr",
          "output_type": "stream",
          "text": [
            "100%|██████████| 2072/2072 [00:44<00:00, 46.22it/s]\n"
          ]
        },
        {
          "name": "stdout",
          "output_type": "stream",
          "text": [
            "FINISHED EPOCH: 5\n",
            "train_loss: 0.6751571893692017\n"
          ]
        },
        {
          "name": "stderr",
          "output_type": "stream",
          "text": [
            "\r 50%|█████     | 5/10 [03:36<03:39, 43.88s/it]"
          ]
        },
        {
          "name": "stdout",
          "output_type": "stream",
          "text": [
            "\n",
            "Evaluation LOSS: 0.6719892621040344\n",
            "Evaluation ACC:  55.13%\n",
            "\n",
            "epoch: 6\n"
          ]
        },
        {
          "name": "stderr",
          "output_type": "stream",
          "text": [
            "100%|██████████| 2072/2072 [00:44<00:00, 46.22it/s]\n"
          ]
        },
        {
          "name": "stdout",
          "output_type": "stream",
          "text": [
            "FINISHED EPOCH: 6\n",
            "train_loss: 0.7415114641189575\n"
          ]
        },
        {
          "name": "stderr",
          "output_type": "stream",
          "text": [
            "\r 60%|██████    | 6/10 [04:21<02:57, 44.31s/it]"
          ]
        },
        {
          "name": "stdout",
          "output_type": "stream",
          "text": [
            "\n",
            "Evaluation LOSS: 0.6912014484405518\n",
            "Evaluation ACC:  48.91%\n",
            "\n",
            "epoch: 7\n"
          ]
        },
        {
          "name": "stderr",
          "output_type": "stream",
          "text": [
            "100%|██████████| 2072/2072 [00:46<00:00, 44.66it/s]\n"
          ]
        },
        {
          "name": "stdout",
          "output_type": "stream",
          "text": [
            "FINISHED EPOCH: 7\n",
            "train_loss: 0.6993792057037354\n"
          ]
        },
        {
          "name": "stderr",
          "output_type": "stream",
          "text": [
            "\r 70%|███████   | 7/10 [05:08<02:15, 45.09s/it]"
          ]
        },
        {
          "name": "stdout",
          "output_type": "stream",
          "text": [
            "\n",
            "Evaluation LOSS: 0.7106102108955383\n",
            "Evaluation ACC:  44.98%\n",
            "\n",
            "epoch: 8\n"
          ]
        },
        {
          "name": "stderr",
          "output_type": "stream",
          "text": [
            "100%|██████████| 2072/2072 [00:48<00:00, 42.65it/s]\n"
          ]
        },
        {
          "name": "stdout",
          "output_type": "stream",
          "text": [
            "FINISHED EPOCH: 8\n",
            "train_loss: 0.71489417552948\n"
          ]
        },
        {
          "name": "stderr",
          "output_type": "stream",
          "text": [
            "\r 80%|████████  | 8/10 [05:57<01:32, 46.31s/it]"
          ]
        },
        {
          "name": "stdout",
          "output_type": "stream",
          "text": [
            "\n",
            "Evaluation LOSS: 0.6900973320007324\n",
            "Evaluation ACC:  52.40%\n",
            "\n",
            "epoch: 9\n"
          ]
        },
        {
          "name": "stderr",
          "output_type": "stream",
          "text": [
            "100%|██████████| 2072/2072 [00:49<00:00, 41.92it/s]\n"
          ]
        },
        {
          "name": "stdout",
          "output_type": "stream",
          "text": [
            "FINISHED EPOCH: 9\n",
            "train_loss: 0.6562871336936951\n"
          ]
        },
        {
          "name": "stderr",
          "output_type": "stream",
          "text": [
            "\r 90%|█████████ | 9/10 [06:47<00:47, 47.39s/it]"
          ]
        },
        {
          "name": "stdout",
          "output_type": "stream",
          "text": [
            "\n",
            "Evaluation LOSS: 0.679764449596405\n",
            "Evaluation ACC:  54.42%\n",
            "\n",
            "epoch: 10\n"
          ]
        },
        {
          "name": "stderr",
          "output_type": "stream",
          "text": [
            "100%|██████████| 2072/2072 [00:52<00:00, 39.17it/s]\n"
          ]
        },
        {
          "name": "stdout",
          "output_type": "stream",
          "text": [
            "FINISHED EPOCH: 10\n",
            "train_loss: 0.6517695188522339\n"
          ]
        },
        {
          "name": "stderr",
          "output_type": "stream",
          "text": [
            "100%|██████████| 10/10 [07:40<00:00, 46.05s/it]"
          ]
        },
        {
          "name": "stdout",
          "output_type": "stream",
          "text": [
            "\n",
            "Evaluation LOSS: 0.7063596844673157\n",
            "Evaluation ACC:  44.90%\n"
          ]
        },
        {
          "name": "stderr",
          "output_type": "stream",
          "text": [
            "\n"
          ]
        }
      ],
      "source": [
        "# Full_Data = Load_parquet(\"parquet/2013/01\")\n",
        "Train_set, Eval_set, Test_set, vocab_dict, weight_mat, list_of_lens_in_batch, Eval_len, Test_len = Preprocess(Full_Data, test_ratio=0.2, evaluation_ratio=0.1, seed=595, train_batch=32, pre_trained_embedding_file='glove200d')\n",
        "BATCH_SIZE = 32\n",
        "HIDDEN_DIM = 128\n",
        "TAGSET_SIZE = 2 #46\n",
        "torch.manual_seed(0)\n",
        "model = train(Train_set, Eval_set, HIDDEN_DIM, TAGSET_SIZE, weight_mat, list_of_lens_in_batch, Eval_len, learning_rate=0.01, n_epochs=10)\n",
        "torch.save(model.state_dict(), 'model_lstmsenti.torch')"
      ]
    },
    {
      "cell_type": "code",
      "execution_count": null,
      "metadata": {
        "colab": {
          "base_uri": "https://localhost:8080/"
        },
        "id": "C9V9-Q7N-3yS",
        "outputId": "63e6a398-0aed-461f-8d30-ce9c54b2e407"
      },
      "outputs": [
        {
          "name": "stdout",
          "output_type": "stream",
          "text": [
            "\n",
            "TEST LOSS: 0.7035760879516602\n",
            "TEST ACC:  46.54%\n"
          ]
        }
      ],
      "source": [
        "model_file = 'model_lstmsenti.torch'\n",
        "test(Test_set, HIDDEN_DIM, TAGSET_SIZE, weight_mat, Test_len, model_file)"
      ]
    },
    {
      "cell_type": "markdown",
      "metadata": {
        "id": "a_vsqkf2-z6I"
      },
      "source": [
        "Glovetwit200d"
      ]
    },
    {
      "cell_type": "code",
      "execution_count": null,
      "metadata": {
        "colab": {
          "base_uri": "https://localhost:8080/"
        },
        "id": "_kayx06l_XPd",
        "outputId": "7f31d5d0-f5ca-4729-aae2-09f9f358f671"
      },
      "outputs": [
        {
          "name": "stderr",
          "output_type": "stream",
          "text": [
            "100%|██████████| 1193514/1193514 [01:06<00:00, 17940.71it/s]\n"
          ]
        },
        {
          "name": "stdout",
          "output_type": "stream",
          "text": [
            "Embedding dimension : 200\n"
          ]
        },
        {
          "name": "stderr",
          "output_type": "stream",
          "text": [
            "16700it [00:00, 74556.99it/s]\n",
            "<ipython-input-24-2db8c813ab7b>:97: DeprecationWarning: `np.int` is a deprecated alias for the builtin `int`. To silence this warning, use `int` by itself. Doing this will not modify any behavior and is safe. When replacing `np.int`, you may wish to use e.g. `np.int64` or `np.int32` to specify the precision. If you wish to review your current use, check the release note link for additional information.\n",
            "Deprecated in NumPy 1.20; for more details and guidance: https://numpy.org/devdocs/release/1.20.0-notes.html#deprecations\n",
            "  padded_label_batch = np.zeros(train_batch, dtype=np.int)\n"
          ]
        },
        {
          "name": "stdout",
          "output_type": "stream",
          "text": [
            "##############################\n",
            "Train Model\n",
            "##############################\n"
          ]
        },
        {
          "name": "stderr",
          "output_type": "stream",
          "text": [
            "\r  0%|          | 0/10 [00:00<?, ?it/s]"
          ]
        },
        {
          "name": "stdout",
          "output_type": "stream",
          "text": [
            "\n",
            "epoch: 1\n"
          ]
        },
        {
          "name": "stderr",
          "output_type": "stream",
          "text": [
            "100%|██████████| 2072/2072 [00:41<00:00, 49.56it/s]\n"
          ]
        },
        {
          "name": "stdout",
          "output_type": "stream",
          "text": [
            "FINISHED EPOCH: 1\n",
            "train_loss: 0.7209221124649048\n"
          ]
        },
        {
          "name": "stderr",
          "output_type": "stream",
          "text": [
            "\r 10%|█         | 1/10 [00:42<06:19, 42.14s/it]"
          ]
        },
        {
          "name": "stdout",
          "output_type": "stream",
          "text": [
            "\n",
            "Evaluation LOSS: 0.6754068732261658\n",
            "Evaluation ACC:  56.50%\n",
            "\n",
            "epoch: 2\n"
          ]
        },
        {
          "name": "stderr",
          "output_type": "stream",
          "text": [
            "100%|██████████| 2072/2072 [00:41<00:00, 49.48it/s]\n"
          ]
        },
        {
          "name": "stdout",
          "output_type": "stream",
          "text": [
            "FINISHED EPOCH: 2\n",
            "train_loss: 0.7205966114997864\n"
          ]
        },
        {
          "name": "stderr",
          "output_type": "stream",
          "text": [
            "\r 20%|██        | 2/10 [01:24<05:37, 42.17s/it]"
          ]
        },
        {
          "name": "stdout",
          "output_type": "stream",
          "text": [
            "\n",
            "Evaluation LOSS: 0.7097845673561096\n",
            "Evaluation ACC:  44.38%\n",
            "\n",
            "epoch: 3\n"
          ]
        },
        {
          "name": "stderr",
          "output_type": "stream",
          "text": [
            "100%|██████████| 2072/2072 [00:41<00:00, 49.45it/s]\n"
          ]
        },
        {
          "name": "stdout",
          "output_type": "stream",
          "text": [
            "FINISHED EPOCH: 3\n",
            "train_loss: 0.7299187183380127\n"
          ]
        },
        {
          "name": "stderr",
          "output_type": "stream",
          "text": [
            "\r 30%|███       | 3/10 [02:06<04:55, 42.19s/it]"
          ]
        },
        {
          "name": "stdout",
          "output_type": "stream",
          "text": [
            "\n",
            "Evaluation LOSS: 0.6879646182060242\n",
            "Evaluation ACC:  52.98%\n",
            "\n",
            "epoch: 4\n"
          ]
        },
        {
          "name": "stderr",
          "output_type": "stream",
          "text": [
            "100%|██████████| 2072/2072 [00:43<00:00, 48.11it/s]\n"
          ]
        },
        {
          "name": "stdout",
          "output_type": "stream",
          "text": [
            "FINISHED EPOCH: 4\n",
            "train_loss: 0.7050397992134094\n"
          ]
        },
        {
          "name": "stderr",
          "output_type": "stream",
          "text": [
            "\r 40%|████      | 4/10 [02:49<04:15, 42.66s/it]"
          ]
        },
        {
          "name": "stdout",
          "output_type": "stream",
          "text": [
            "\n",
            "Evaluation LOSS: 0.6649800539016724\n",
            "Evaluation ACC:  59.43%\n",
            "\n",
            "epoch: 5\n"
          ]
        },
        {
          "name": "stderr",
          "output_type": "stream",
          "text": [
            "100%|██████████| 2072/2072 [00:43<00:00, 47.12it/s]\n"
          ]
        },
        {
          "name": "stdout",
          "output_type": "stream",
          "text": [
            "FINISHED EPOCH: 5\n",
            "train_loss: 0.6825920343399048\n"
          ]
        },
        {
          "name": "stderr",
          "output_type": "stream",
          "text": [
            "\r 50%|█████     | 5/10 [03:34<03:36, 43.25s/it]"
          ]
        },
        {
          "name": "stdout",
          "output_type": "stream",
          "text": [
            "\n",
            "Evaluation LOSS: 0.6869174838066101\n",
            "Evaluation ACC:  50.60%\n",
            "\n",
            "epoch: 6\n"
          ]
        },
        {
          "name": "stderr",
          "output_type": "stream",
          "text": [
            "100%|██████████| 2072/2072 [00:44<00:00, 46.79it/s]\n"
          ]
        },
        {
          "name": "stdout",
          "output_type": "stream",
          "text": [
            "FINISHED EPOCH: 6\n",
            "train_loss: 0.6401993036270142\n"
          ]
        },
        {
          "name": "stderr",
          "output_type": "stream",
          "text": [
            "\r 60%|██████    | 6/10 [04:18<02:54, 43.71s/it]"
          ]
        },
        {
          "name": "stdout",
          "output_type": "stream",
          "text": [
            "\n",
            "Evaluation LOSS: 0.7002978324890137\n",
            "Evaluation ACC:  46.46%\n",
            "\n",
            "epoch: 7\n"
          ]
        },
        {
          "name": "stderr",
          "output_type": "stream",
          "text": [
            "100%|██████████| 2072/2072 [00:45<00:00, 46.03it/s]\n"
          ]
        },
        {
          "name": "stdout",
          "output_type": "stream",
          "text": [
            "FINISHED EPOCH: 7\n",
            "train_loss: 0.6822452545166016\n"
          ]
        },
        {
          "name": "stderr",
          "output_type": "stream",
          "text": [
            "\r 70%|███████   | 7/10 [05:04<02:12, 44.23s/it]"
          ]
        },
        {
          "name": "stdout",
          "output_type": "stream",
          "text": [
            "\n",
            "Evaluation LOSS: 0.6977337002754211\n",
            "Evaluation ACC:  49.03%\n",
            "\n",
            "epoch: 8\n"
          ]
        },
        {
          "name": "stderr",
          "output_type": "stream",
          "text": [
            "100%|██████████| 2072/2072 [00:45<00:00, 45.53it/s]\n"
          ]
        },
        {
          "name": "stdout",
          "output_type": "stream",
          "text": [
            "FINISHED EPOCH: 8\n",
            "train_loss: 0.7020639777183533\n"
          ]
        },
        {
          "name": "stderr",
          "output_type": "stream",
          "text": [
            "\r 80%|████████  | 8/10 [05:49<01:29, 44.74s/it]"
          ]
        },
        {
          "name": "stdout",
          "output_type": "stream",
          "text": [
            "\n",
            "Evaluation LOSS: 0.6898370981216431\n",
            "Evaluation ACC:  50.91%\n",
            "\n",
            "epoch: 9\n"
          ]
        },
        {
          "name": "stderr",
          "output_type": "stream",
          "text": [
            "100%|██████████| 2072/2072 [00:46<00:00, 44.49it/s]\n"
          ]
        },
        {
          "name": "stdout",
          "output_type": "stream",
          "text": [
            "FINISHED EPOCH: 9\n",
            "train_loss: 0.6668064594268799\n"
          ]
        },
        {
          "name": "stderr",
          "output_type": "stream",
          "text": [
            "\r 90%|█████████ | 9/10 [06:36<00:45, 45.41s/it]"
          ]
        },
        {
          "name": "stdout",
          "output_type": "stream",
          "text": [
            "\n",
            "Evaluation LOSS: 0.6879474520683289\n",
            "Evaluation ACC:  50.77%\n",
            "\n",
            "epoch: 10\n"
          ]
        },
        {
          "name": "stderr",
          "output_type": "stream",
          "text": [
            "100%|██████████| 2072/2072 [00:46<00:00, 44.33it/s]\n"
          ]
        },
        {
          "name": "stdout",
          "output_type": "stream",
          "text": [
            "FINISHED EPOCH: 10\n",
            "train_loss: 0.7008715867996216\n"
          ]
        },
        {
          "name": "stderr",
          "output_type": "stream",
          "text": [
            "100%|██████████| 10/10 [07:23<00:00, 44.39s/it]"
          ]
        },
        {
          "name": "stdout",
          "output_type": "stream",
          "text": [
            "\n",
            "Evaluation LOSS: 0.6594187617301941\n",
            "Evaluation ACC:  58.55%\n"
          ]
        },
        {
          "name": "stderr",
          "output_type": "stream",
          "text": [
            "\n"
          ]
        },
        {
          "name": "stdout",
          "output_type": "stream",
          "text": [
            "\n",
            "TEST LOSS: 0.6865599155426025\n",
            "TEST ACC:  53.80%\n"
          ]
        }
      ],
      "source": [
        "#'glove200d', 'glovetwit200d', 'Emotag'\n",
        "model_file = 'model_lstmsenti_glovtwit.torch'\n",
        "pre_trained_embedding_file = 'glovetwit200d'\n",
        "Full_Data = Load_parquet(\"parquet/2013/01\")\n",
        "Train_set, Eval_set, Test_set, vocab_dict, weight_mat, list_of_lens_in_batch, Eval_len, Test_len = Preprocess(Full_Data, test_ratio=0.2, evaluation_ratio=0.1, seed=595, train_batch=32, pre_trained_embedding_file=pre_trained_embedding_file)\n",
        "BATCH_SIZE = 32\n",
        "HIDDEN_DIM = 128\n",
        "TAGSET_SIZE = 2 #46\n",
        "torch.manual_seed(0)\n",
        "model = train(Train_set, Eval_set, HIDDEN_DIM, TAGSET_SIZE, weight_mat, list_of_lens_in_batch, Eval_len, learning_rate=0.01, n_epochs=10)\n",
        "torch.save(model.state_dict(), model_file)\n",
        "\n",
        "test(Test_set, HIDDEN_DIM, TAGSET_SIZE, weight_mat, Test_len, model_file)"
      ]
    },
    {
      "cell_type": "markdown",
      "metadata": {
        "id": "vCvWntWW_04g"
      },
      "source": [
        "Emotag"
      ]
    },
    {
      "cell_type": "code",
      "execution_count": null,
      "metadata": {
        "colab": {
          "base_uri": "https://localhost:8080/"
        },
        "id": "9VBhvNZ5_2PJ",
        "outputId": "e6ab1ad8-172a-4a72-b0fc-724eb4b1c826"
      },
      "outputs": [
        {
          "name": "stderr",
          "output_type": "stream",
          "text": [
            "100%|██████████| 401030/401030 [01:57<00:00, 3408.58it/s]\n"
          ]
        },
        {
          "name": "stdout",
          "output_type": "stream",
          "text": [
            "Embedding dimension : 620\n"
          ]
        },
        {
          "name": "stderr",
          "output_type": "stream",
          "text": [
            "16700it [00:00, 31037.92it/s]\n",
            "<ipython-input-24-2db8c813ab7b>:97: DeprecationWarning: `np.int` is a deprecated alias for the builtin `int`. To silence this warning, use `int` by itself. Doing this will not modify any behavior and is safe. When replacing `np.int`, you may wish to use e.g. `np.int64` or `np.int32` to specify the precision. If you wish to review your current use, check the release note link for additional information.\n",
            "Deprecated in NumPy 1.20; for more details and guidance: https://numpy.org/devdocs/release/1.20.0-notes.html#deprecations\n",
            "  padded_label_batch = np.zeros(train_batch, dtype=np.int)\n"
          ]
        },
        {
          "name": "stdout",
          "output_type": "stream",
          "text": [
            "##############################\n",
            "Train Model\n",
            "##############################\n"
          ]
        },
        {
          "name": "stderr",
          "output_type": "stream",
          "text": [
            "\r  0%|          | 0/10 [00:00<?, ?it/s]"
          ]
        },
        {
          "name": "stdout",
          "output_type": "stream",
          "text": [
            "\n",
            "epoch: 1\n"
          ]
        },
        {
          "name": "stderr",
          "output_type": "stream",
          "text": [
            "100%|██████████| 2072/2072 [00:51<00:00, 40.45it/s]\n"
          ]
        },
        {
          "name": "stdout",
          "output_type": "stream",
          "text": [
            "FINISHED EPOCH: 1\n",
            "train_loss: 0.6837584972381592\n"
          ]
        },
        {
          "name": "stderr",
          "output_type": "stream",
          "text": [
            "\r 10%|█         | 1/10 [00:51<07:45, 51.70s/it]"
          ]
        },
        {
          "name": "stdout",
          "output_type": "stream",
          "text": [
            "\n",
            "Evaluation LOSS: 0.7175236344337463\n",
            "Evaluation ACC:  42.53%\n",
            "\n",
            "epoch: 2\n"
          ]
        },
        {
          "name": "stderr",
          "output_type": "stream",
          "text": [
            "100%|██████████| 2072/2072 [00:51<00:00, 40.24it/s]\n"
          ]
        },
        {
          "name": "stdout",
          "output_type": "stream",
          "text": [
            "FINISHED EPOCH: 2\n",
            "train_loss: 0.6624542474746704\n"
          ]
        },
        {
          "name": "stderr",
          "output_type": "stream",
          "text": [
            "\r 20%|██        | 2/10 [01:43<06:54, 51.86s/it]"
          ]
        },
        {
          "name": "stdout",
          "output_type": "stream",
          "text": [
            "\n",
            "Evaluation LOSS: 0.6696091890335083\n",
            "Evaluation ACC:  57.92%\n",
            "\n",
            "epoch: 3\n"
          ]
        },
        {
          "name": "stderr",
          "output_type": "stream",
          "text": [
            "100%|██████████| 2072/2072 [00:52<00:00, 39.79it/s]\n"
          ]
        },
        {
          "name": "stdout",
          "output_type": "stream",
          "text": [
            "FINISHED EPOCH: 3\n",
            "train_loss: 0.6999170184135437\n"
          ]
        },
        {
          "name": "stderr",
          "output_type": "stream",
          "text": [
            "\r 30%|███       | 3/10 [02:36<06:05, 52.18s/it]"
          ]
        },
        {
          "name": "stdout",
          "output_type": "stream",
          "text": [
            "\n",
            "Evaluation LOSS: 0.6797375082969666\n",
            "Evaluation ACC:  55.16%\n",
            "\n",
            "epoch: 4\n"
          ]
        },
        {
          "name": "stderr",
          "output_type": "stream",
          "text": [
            "100%|██████████| 2072/2072 [00:52<00:00, 39.51it/s]\n"
          ]
        },
        {
          "name": "stdout",
          "output_type": "stream",
          "text": [
            "FINISHED EPOCH: 4\n",
            "train_loss: 0.7078381776809692\n"
          ]
        },
        {
          "name": "stderr",
          "output_type": "stream",
          "text": [
            "\r 40%|████      | 4/10 [03:29<05:14, 52.48s/it]"
          ]
        },
        {
          "name": "stdout",
          "output_type": "stream",
          "text": [
            "\n",
            "Evaluation LOSS: 0.6721330285072327\n",
            "Evaluation ACC:  56.22%\n",
            "\n",
            "epoch: 5\n"
          ]
        },
        {
          "name": "stderr",
          "output_type": "stream",
          "text": [
            "100%|██████████| 2072/2072 [00:53<00:00, 38.67it/s]\n"
          ]
        },
        {
          "name": "stdout",
          "output_type": "stream",
          "text": [
            "FINISHED EPOCH: 5\n",
            "train_loss: 0.642255961894989\n"
          ]
        },
        {
          "name": "stderr",
          "output_type": "stream",
          "text": [
            "\r 50%|█████     | 5/10 [04:23<04:25, 53.06s/it]"
          ]
        },
        {
          "name": "stdout",
          "output_type": "stream",
          "text": [
            "\n",
            "Evaluation LOSS: 0.6733596920967102\n",
            "Evaluation ACC:  57.18%\n",
            "\n",
            "epoch: 6\n"
          ]
        },
        {
          "name": "stderr",
          "output_type": "stream",
          "text": [
            "100%|██████████| 2072/2072 [00:54<00:00, 37.83it/s]\n"
          ]
        },
        {
          "name": "stdout",
          "output_type": "stream",
          "text": [
            "FINISHED EPOCH: 6\n",
            "train_loss: 0.6851504445075989\n"
          ]
        },
        {
          "name": "stderr",
          "output_type": "stream",
          "text": [
            "\r 60%|██████    | 6/10 [05:18<03:35, 53.82s/it]"
          ]
        },
        {
          "name": "stdout",
          "output_type": "stream",
          "text": [
            "\n",
            "Evaluation LOSS: 0.6687186360359192\n",
            "Evaluation ACC:  57.68%\n",
            "\n",
            "epoch: 7\n"
          ]
        },
        {
          "name": "stderr",
          "output_type": "stream",
          "text": [
            "100%|██████████| 2072/2072 [00:56<00:00, 36.93it/s]\n"
          ]
        },
        {
          "name": "stdout",
          "output_type": "stream",
          "text": [
            "FINISHED EPOCH: 7\n",
            "train_loss: 0.6925479173660278\n"
          ]
        },
        {
          "name": "stderr",
          "output_type": "stream",
          "text": [
            "\r 70%|███████   | 7/10 [06:15<02:44, 54.73s/it]"
          ]
        },
        {
          "name": "stdout",
          "output_type": "stream",
          "text": [
            "\n",
            "Evaluation LOSS: 0.6915253400802612\n",
            "Evaluation ACC:  50.57%\n",
            "\n",
            "epoch: 8\n"
          ]
        },
        {
          "name": "stderr",
          "output_type": "stream",
          "text": [
            "100%|██████████| 2072/2072 [00:57<00:00, 35.76it/s]\n"
          ]
        },
        {
          "name": "stdout",
          "output_type": "stream",
          "text": [
            "FINISHED EPOCH: 8\n",
            "train_loss: 0.6869674921035767\n"
          ]
        },
        {
          "name": "stderr",
          "output_type": "stream",
          "text": [
            "\r 80%|████████  | 8/10 [07:13<01:51, 55.92s/it]"
          ]
        },
        {
          "name": "stdout",
          "output_type": "stream",
          "text": [
            "\n",
            "Evaluation LOSS: 0.680383026599884\n",
            "Evaluation ACC:  52.93%\n",
            "\n",
            "epoch: 9\n"
          ]
        },
        {
          "name": "stderr",
          "output_type": "stream",
          "text": [
            "100%|██████████| 2072/2072 [00:59<00:00, 34.60it/s]\n"
          ]
        },
        {
          "name": "stdout",
          "output_type": "stream",
          "text": [
            "FINISHED EPOCH: 9\n",
            "train_loss: 0.7050788402557373\n"
          ]
        },
        {
          "name": "stderr",
          "output_type": "stream",
          "text": [
            "\r 90%|█████████ | 9/10 [08:14<00:57, 57.33s/it]"
          ]
        },
        {
          "name": "stdout",
          "output_type": "stream",
          "text": [
            "\n",
            "Evaluation LOSS: 0.69972163438797\n",
            "Evaluation ACC:  48.77%\n",
            "\n",
            "epoch: 10\n"
          ]
        },
        {
          "name": "stderr",
          "output_type": "stream",
          "text": [
            "100%|██████████| 2072/2072 [01:00<00:00, 34.12it/s]\n"
          ]
        },
        {
          "name": "stdout",
          "output_type": "stream",
          "text": [
            "FINISHED EPOCH: 10\n",
            "train_loss: 0.7232070565223694\n"
          ]
        },
        {
          "name": "stderr",
          "output_type": "stream",
          "text": [
            "100%|██████████| 10/10 [09:15<00:00, 55.53s/it]"
          ]
        },
        {
          "name": "stdout",
          "output_type": "stream",
          "text": [
            "\n",
            "Evaluation LOSS: 0.6877505779266357\n",
            "Evaluation ACC:  50.68%\n"
          ]
        },
        {
          "name": "stderr",
          "output_type": "stream",
          "text": [
            "\n"
          ]
        },
        {
          "name": "stdout",
          "output_type": "stream",
          "text": [
            "\n",
            "TEST LOSS: 0.675291121006012\n",
            "TEST ACC:  56.50%\n"
          ]
        }
      ],
      "source": [
        "#'glove200d', 'glovetwit200d', 'Emotag'\n",
        "model_file = 'model_lstmsenti_Emotag.torch'\n",
        "pre_trained_embedding_file = 'Emotag'\n",
        "Full_Data = Load_parquet(\"parquet/2013/01\")\n",
        "Train_set, Eval_set, Test_set, vocab_dict, weight_mat, list_of_lens_in_batch, Eval_len, Test_len = Preprocess(Full_Data, test_ratio=0.2, evaluation_ratio=0.1, seed=595, train_batch=32, pre_trained_embedding_file=pre_trained_embedding_file)\n",
        "BATCH_SIZE = 32\n",
        "HIDDEN_DIM = 128\n",
        "TAGSET_SIZE = 2 #46\n",
        "torch.manual_seed(0)\n",
        "model = train(Train_set, Eval_set, HIDDEN_DIM, TAGSET_SIZE, weight_mat, list_of_lens_in_batch, Eval_len, learning_rate=0.01, n_epochs=10)\n",
        "torch.save(model.state_dict(), model_file)\n",
        "\n",
        "test(Test_set, HIDDEN_DIM, TAGSET_SIZE, weight_mat, Test_len, model_file)"
      ]
    },
    {
      "cell_type": "markdown",
      "source": [],
      "metadata": {
        "id": "IBPdWSdXuKQC"
      }
    },
    {
      "cell_type": "markdown",
      "metadata": {
        "id": "E5m2cbjeKos4"
      },
      "source": [
        "# Experiment lr=0.001 batch 32, larger data ( 2 instead 1 file)"
      ]
    },
    {
      "cell_type": "code",
      "execution_count": null,
      "metadata": {
        "id": "fJQ2lMWJMZew"
      },
      "outputs": [],
      "source": [
        "Full_Data = Load_parquet(\"parquet/2013/01\")\n"
      ]
    },
    {
      "cell_type": "markdown",
      "metadata": {
        "id": "v0LD8xM4Mjhj"
      },
      "source": [
        "Normal glove"
      ]
    },
    {
      "cell_type": "code",
      "execution_count": null,
      "metadata": {
        "colab": {
          "background_save": true,
          "base_uri": "https://localhost:8080/"
        },
        "id": "fgV5yAeRKrhs",
        "outputId": "be6d229c-c508-4c15-8732-3d39297ba2f9"
      },
      "outputs": [
        {
          "name": "stderr",
          "output_type": "stream",
          "text": [
            "100%|██████████| 400000/400000 [00:20<00:00, 19791.73it/s]\n"
          ]
        },
        {
          "name": "stdout",
          "output_type": "stream",
          "text": [
            "Embedding dimension : 200\n"
          ]
        },
        {
          "name": "stderr",
          "output_type": "stream",
          "text": [
            "29819it [00:00, 58864.01it/s]\n",
            "<ipython-input-5-2ffc02e1b240>:122: DeprecationWarning: `np.int` is a deprecated alias for the builtin `int`. To silence this warning, use `int` by itself. Doing this will not modify any behavior and is safe. When replacing `np.int`, you may wish to use e.g. `np.int64` or `np.int32` to specify the precision. If you wish to review your current use, check the release note link for additional information.\n",
            "Deprecated in NumPy 1.20; for more details and guidance: https://numpy.org/devdocs/release/1.20.0-notes.html#deprecations\n",
            "  padded_label_batch = np.zeros(train_batch, dtype=np.int)\n"
          ]
        },
        {
          "name": "stdout",
          "output_type": "stream",
          "text": [
            "##############################\n",
            "Train Model\n",
            "##############################\n"
          ]
        },
        {
          "name": "stderr",
          "output_type": "stream",
          "text": [
            "\r  0%|          | 0/30 [00:00<?, ?it/s]"
          ]
        },
        {
          "name": "stdout",
          "output_type": "stream",
          "text": [
            "\n",
            "epoch: 1\n"
          ]
        },
        {
          "name": "stderr",
          "output_type": "stream",
          "text": [
            "100%|██████████| 4283/4283 [01:28<00:00, 48.45it/s]\n"
          ]
        },
        {
          "name": "stdout",
          "output_type": "stream",
          "text": [
            "FINISHED EPOCH: 1\n",
            "train_loss: 0.6417090892791748\n"
          ]
        },
        {
          "name": "stderr",
          "output_type": "stream",
          "text": [
            "\r  3%|▎         | 1/30 [01:29<43:05, 89.17s/it]"
          ]
        },
        {
          "name": "stdout",
          "output_type": "stream",
          "text": [
            "\n",
            "Evaluation LOSS: 0.67440265417099\n",
            "Evaluation ACC:  57.98%\n",
            "\n",
            "epoch: 2\n"
          ]
        },
        {
          "name": "stderr",
          "output_type": "stream",
          "text": [
            "100%|██████████| 4283/4283 [01:27<00:00, 48.92it/s]\n"
          ]
        },
        {
          "name": "stdout",
          "output_type": "stream",
          "text": [
            "FINISHED EPOCH: 2\n",
            "train_loss: 0.6983457803726196\n"
          ]
        },
        {
          "name": "stderr",
          "output_type": "stream",
          "text": [
            "\r  7%|▋         | 2/30 [02:57<41:20, 88.60s/it]"
          ]
        },
        {
          "name": "stdout",
          "output_type": "stream",
          "text": [
            "\n",
            "Evaluation LOSS: 0.6715856194496155\n",
            "Evaluation ACC:  60.09%\n",
            "\n",
            "epoch: 3\n"
          ]
        },
        {
          "name": "stderr",
          "output_type": "stream",
          "text": [
            "100%|██████████| 4283/4283 [01:27<00:00, 48.68it/s]\n"
          ]
        },
        {
          "name": "stdout",
          "output_type": "stream",
          "text": [
            "FINISHED EPOCH: 3\n",
            "train_loss: 0.6594986319541931\n"
          ]
        },
        {
          "name": "stderr",
          "output_type": "stream",
          "text": [
            "\r 10%|█         | 3/30 [04:25<39:52, 88.60s/it]"
          ]
        },
        {
          "name": "stdout",
          "output_type": "stream",
          "text": [
            "\n",
            "Evaluation LOSS: 0.7051770091056824\n",
            "Evaluation ACC:  45.35%\n",
            "\n",
            "epoch: 4\n"
          ]
        },
        {
          "name": "stderr",
          "output_type": "stream",
          "text": [
            "100%|██████████| 4283/4283 [01:27<00:00, 48.95it/s]\n"
          ]
        },
        {
          "name": "stdout",
          "output_type": "stream",
          "text": [
            "FINISHED EPOCH: 4\n",
            "train_loss: 0.7158131003379822\n"
          ]
        },
        {
          "name": "stderr",
          "output_type": "stream",
          "text": [
            "\r 13%|█▎        | 4/30 [05:54<38:18, 88.40s/it]"
          ]
        },
        {
          "name": "stdout",
          "output_type": "stream",
          "text": [
            "\n",
            "Evaluation LOSS: 0.6730931997299194\n",
            "Evaluation ACC:  57.89%\n",
            "\n",
            "epoch: 5\n"
          ]
        },
        {
          "name": "stderr",
          "output_type": "stream",
          "text": [
            "100%|██████████| 4283/4283 [01:27<00:00, 49.03it/s]\n"
          ]
        },
        {
          "name": "stdout",
          "output_type": "stream",
          "text": [
            "FINISHED EPOCH: 5\n",
            "train_loss: 0.6980249285697937\n"
          ]
        },
        {
          "name": "stderr",
          "output_type": "stream",
          "text": [
            "\r 17%|█▋        | 5/30 [07:22<36:46, 88.25s/it]"
          ]
        },
        {
          "name": "stdout",
          "output_type": "stream",
          "text": [
            "\n",
            "Evaluation LOSS: 0.7374482154846191\n",
            "Evaluation ACC:  36.10%\n",
            "\n",
            "epoch: 6\n"
          ]
        },
        {
          "name": "stderr",
          "output_type": "stream",
          "text": [
            "100%|██████████| 4283/4283 [01:27<00:00, 48.97it/s]\n"
          ]
        },
        {
          "name": "stdout",
          "output_type": "stream",
          "text": [
            "FINISHED EPOCH: 6\n",
            "train_loss: 0.6516442894935608\n"
          ]
        },
        {
          "name": "stderr",
          "output_type": "stream",
          "text": [
            "\r 20%|██        | 6/30 [08:50<35:16, 88.19s/it]"
          ]
        },
        {
          "name": "stdout",
          "output_type": "stream",
          "text": [
            "\n",
            "Evaluation LOSS: 0.6725269556045532\n",
            "Evaluation ACC:  55.98%\n",
            "\n",
            "epoch: 7\n"
          ]
        },
        {
          "name": "stderr",
          "output_type": "stream",
          "text": [
            "100%|██████████| 4283/4283 [01:26<00:00, 49.39it/s]\n"
          ]
        },
        {
          "name": "stdout",
          "output_type": "stream",
          "text": [
            "FINISHED EPOCH: 7\n",
            "train_loss: 0.7090222835540771\n"
          ]
        },
        {
          "name": "stderr",
          "output_type": "stream",
          "text": [
            "\r 23%|██▎       | 7/30 [10:17<33:41, 87.91s/it]"
          ]
        },
        {
          "name": "stdout",
          "output_type": "stream",
          "text": [
            "\n",
            "Evaluation LOSS: 0.6962385773658752\n",
            "Evaluation ACC:  48.87%\n",
            "\n",
            "epoch: 8\n"
          ]
        },
        {
          "name": "stderr",
          "output_type": "stream",
          "text": [
            "100%|██████████| 4283/4283 [01:26<00:00, 49.45it/s]\n"
          ]
        },
        {
          "name": "stdout",
          "output_type": "stream",
          "text": [
            "FINISHED EPOCH: 8\n",
            "train_loss: 0.704438328742981\n"
          ]
        },
        {
          "name": "stderr",
          "output_type": "stream",
          "text": [
            "\r 27%|██▋       | 8/30 [11:44<32:09, 87.69s/it]"
          ]
        },
        {
          "name": "stdout",
          "output_type": "stream",
          "text": [
            "\n",
            "Evaluation LOSS: 0.6856271028518677\n",
            "Evaluation ACC:  53.04%\n",
            "\n",
            "epoch: 9\n"
          ]
        },
        {
          "name": "stderr",
          "output_type": "stream",
          "text": [
            "100%|██████████| 4283/4283 [01:26<00:00, 49.27it/s]\n"
          ]
        },
        {
          "name": "stdout",
          "output_type": "stream",
          "text": [
            "FINISHED EPOCH: 9\n",
            "train_loss: 0.6894145011901855\n"
          ]
        },
        {
          "name": "stderr",
          "output_type": "stream",
          "text": [
            "\r 30%|███       | 9/30 [13:12<30:40, 87.65s/it]"
          ]
        },
        {
          "name": "stdout",
          "output_type": "stream",
          "text": [
            "\n",
            "Evaluation LOSS: 0.7169347405433655\n",
            "Evaluation ACC:  40.07%\n",
            "\n",
            "epoch: 10\n"
          ]
        },
        {
          "name": "stderr",
          "output_type": "stream",
          "text": [
            "100%|██████████| 4283/4283 [01:26<00:00, 49.46it/s]\n"
          ]
        },
        {
          "name": "stdout",
          "output_type": "stream",
          "text": [
            "FINISHED EPOCH: 10\n",
            "train_loss: 0.6884341835975647\n"
          ]
        },
        {
          "name": "stderr",
          "output_type": "stream",
          "text": [
            "\r 33%|███▎      | 10/30 [14:39<29:10, 87.52s/it]"
          ]
        },
        {
          "name": "stdout",
          "output_type": "stream",
          "text": [
            "\n",
            "Evaluation LOSS: 0.6886312961578369\n",
            "Evaluation ACC:  51.99%\n",
            "\n",
            "epoch: 11\n"
          ]
        },
        {
          "name": "stderr",
          "output_type": "stream",
          "text": [
            "100%|██████████| 4283/4283 [01:26<00:00, 49.37it/s]\n"
          ]
        },
        {
          "name": "stdout",
          "output_type": "stream",
          "text": [
            "FINISHED EPOCH: 11\n",
            "train_loss: 0.6750971078872681\n"
          ]
        },
        {
          "name": "stderr",
          "output_type": "stream",
          "text": [
            "\r 37%|███▋      | 11/30 [16:06<27:42, 87.48s/it]"
          ]
        },
        {
          "name": "stdout",
          "output_type": "stream",
          "text": [
            "\n",
            "Evaluation LOSS: 0.6979579329490662\n",
            "Evaluation ACC:  46.66%\n",
            "\n",
            "epoch: 12\n"
          ]
        },
        {
          "name": "stderr",
          "output_type": "stream",
          "text": [
            "100%|██████████| 4283/4283 [01:27<00:00, 48.88it/s]\n"
          ]
        },
        {
          "name": "stdout",
          "output_type": "stream",
          "text": [
            "FINISHED EPOCH: 12\n",
            "train_loss: 0.6953202486038208\n"
          ]
        },
        {
          "name": "stderr",
          "output_type": "stream",
          "text": [
            "\r 40%|████      | 12/30 [17:35<26:18, 87.71s/it]"
          ]
        },
        {
          "name": "stdout",
          "output_type": "stream",
          "text": [
            "\n",
            "Evaluation LOSS: 0.6858376264572144\n",
            "Evaluation ACC:  54.56%\n",
            "\n",
            "epoch: 13\n"
          ]
        },
        {
          "name": "stderr",
          "output_type": "stream",
          "text": [
            "100%|██████████| 4283/4283 [01:26<00:00, 49.66it/s]\n"
          ]
        },
        {
          "name": "stdout",
          "output_type": "stream",
          "text": [
            "FINISHED EPOCH: 13\n",
            "train_loss: 0.6789199709892273\n"
          ]
        },
        {
          "name": "stderr",
          "output_type": "stream",
          "text": [
            "\r 43%|████▎     | 13/30 [19:01<24:46, 87.46s/it]"
          ]
        },
        {
          "name": "stdout",
          "output_type": "stream",
          "text": [
            "\n",
            "Evaluation LOSS: 0.6902089715003967\n",
            "Evaluation ACC:  51.58%\n",
            "\n",
            "epoch: 14\n"
          ]
        },
        {
          "name": "stderr",
          "output_type": "stream",
          "text": [
            "100%|██████████| 4283/4283 [01:27<00:00, 49.17it/s]\n"
          ]
        },
        {
          "name": "stdout",
          "output_type": "stream",
          "text": [
            "FINISHED EPOCH: 14\n",
            "train_loss: 0.7026379704475403\n"
          ]
        },
        {
          "name": "stderr",
          "output_type": "stream",
          "text": [
            "\r 47%|████▋     | 14/30 [20:29<23:20, 87.54s/it]"
          ]
        },
        {
          "name": "stdout",
          "output_type": "stream",
          "text": [
            "\n",
            "Evaluation LOSS: 0.6904187202453613\n",
            "Evaluation ACC:  52.25%\n",
            "\n",
            "epoch: 15\n"
          ]
        },
        {
          "name": "stderr",
          "output_type": "stream",
          "text": [
            "100%|██████████| 4283/4283 [01:26<00:00, 49.63it/s]\n"
          ]
        },
        {
          "name": "stdout",
          "output_type": "stream",
          "text": [
            "FINISHED EPOCH: 15\n",
            "train_loss: 0.6990073919296265\n"
          ]
        },
        {
          "name": "stderr",
          "output_type": "stream",
          "text": [
            "\r 50%|█████     | 15/30 [21:56<21:51, 87.40s/it]"
          ]
        },
        {
          "name": "stdout",
          "output_type": "stream",
          "text": [
            "\n",
            "Evaluation LOSS: 0.7041594386100769\n",
            "Evaluation ACC:  44.58%\n",
            "\n",
            "epoch: 16\n"
          ]
        },
        {
          "name": "stderr",
          "output_type": "stream",
          "text": [
            "100%|██████████| 4283/4283 [01:25<00:00, 49.87it/s]\n"
          ]
        },
        {
          "name": "stdout",
          "output_type": "stream",
          "text": [
            "FINISHED EPOCH: 16\n",
            "train_loss: 0.7120844125747681\n"
          ]
        },
        {
          "name": "stderr",
          "output_type": "stream",
          "text": [
            "\r 53%|█████▎    | 16/30 [23:23<20:19, 87.14s/it]"
          ]
        },
        {
          "name": "stdout",
          "output_type": "stream",
          "text": [
            "\n",
            "Evaluation LOSS: 0.6942288279533386\n",
            "Evaluation ACC:  49.63%\n",
            "\n",
            "epoch: 17\n"
          ]
        },
        {
          "name": "stderr",
          "output_type": "stream",
          "text": [
            "100%|██████████| 4283/4283 [01:26<00:00, 49.52it/s]\n"
          ]
        },
        {
          "name": "stdout",
          "output_type": "stream",
          "text": [
            "FINISHED EPOCH: 17\n",
            "train_loss: 0.6956572532653809\n"
          ]
        },
        {
          "name": "stderr",
          "output_type": "stream",
          "text": [
            "\r 57%|█████▋    | 17/30 [24:50<18:52, 87.13s/it]"
          ]
        },
        {
          "name": "stdout",
          "output_type": "stream",
          "text": [
            "\n",
            "Evaluation LOSS: 0.6866198778152466\n",
            "Evaluation ACC:  53.44%\n",
            "\n",
            "epoch: 18\n"
          ]
        },
        {
          "name": "stderr",
          "output_type": "stream",
          "text": [
            "100%|██████████| 4283/4283 [01:26<00:00, 49.70it/s]\n"
          ]
        },
        {
          "name": "stdout",
          "output_type": "stream",
          "text": [
            "FINISHED EPOCH: 18\n",
            "train_loss: 0.6761541366577148\n"
          ]
        },
        {
          "name": "stderr",
          "output_type": "stream",
          "text": [
            "\r 60%|██████    | 18/30 [26:17<17:24, 87.04s/it]"
          ]
        },
        {
          "name": "stdout",
          "output_type": "stream",
          "text": [
            "\n",
            "Evaluation LOSS: 0.6803508996963501\n",
            "Evaluation ACC:  56.52%\n",
            "\n",
            "epoch: 19\n"
          ]
        },
        {
          "name": "stderr",
          "output_type": "stream",
          "text": [
            "100%|██████████| 4283/4283 [01:24<00:00, 50.68it/s]\n"
          ]
        },
        {
          "name": "stdout",
          "output_type": "stream",
          "text": [
            "FINISHED EPOCH: 19\n",
            "train_loss: 0.6885774731636047\n"
          ]
        },
        {
          "name": "stderr",
          "output_type": "stream",
          "text": [
            "\r 63%|██████▎   | 19/30 [27:42<15:51, 86.46s/it]"
          ]
        },
        {
          "name": "stdout",
          "output_type": "stream",
          "text": [
            "\n",
            "Evaluation LOSS: 0.689131498336792\n",
            "Evaluation ACC:  52.43%\n",
            "\n",
            "epoch: 20\n"
          ]
        },
        {
          "name": "stderr",
          "output_type": "stream",
          "text": [
            "100%|██████████| 4283/4283 [01:24<00:00, 50.84it/s]\n"
          ]
        },
        {
          "name": "stdout",
          "output_type": "stream",
          "text": [
            "FINISHED EPOCH: 20\n",
            "train_loss: 0.6970848441123962\n"
          ]
        },
        {
          "name": "stderr",
          "output_type": "stream",
          "text": [
            "\r 67%|██████▋   | 20/30 [29:07<14:19, 85.98s/it]"
          ]
        },
        {
          "name": "stdout",
          "output_type": "stream",
          "text": [
            "\n",
            "Evaluation LOSS: 0.6921870708465576\n",
            "Evaluation ACC:  51.61%\n",
            "\n",
            "epoch: 21\n"
          ]
        },
        {
          "name": "stderr",
          "output_type": "stream",
          "text": [
            "100%|██████████| 4283/4283 [01:24<00:00, 50.65it/s]\n"
          ]
        },
        {
          "name": "stdout",
          "output_type": "stream",
          "text": [
            "FINISHED EPOCH: 21\n",
            "train_loss: 0.7128686308860779\n"
          ]
        },
        {
          "name": "stderr",
          "output_type": "stream",
          "text": [
            "\r 70%|███████   | 21/30 [30:32<12:51, 85.74s/it]"
          ]
        },
        {
          "name": "stdout",
          "output_type": "stream",
          "text": [
            "\n",
            "Evaluation LOSS: 0.6884453296661377\n",
            "Evaluation ACC:  54.25%\n",
            "\n",
            "epoch: 22\n"
          ]
        },
        {
          "name": "stderr",
          "output_type": "stream",
          "text": [
            "100%|██████████| 4283/4283 [01:23<00:00, 51.02it/s]\n"
          ]
        },
        {
          "name": "stdout",
          "output_type": "stream",
          "text": [
            "FINISHED EPOCH: 22\n",
            "train_loss: 0.6856234669685364\n"
          ]
        },
        {
          "name": "stderr",
          "output_type": "stream",
          "text": [
            "\r 73%|███████▎  | 22/30 [31:56<11:23, 85.39s/it]"
          ]
        },
        {
          "name": "stdout",
          "output_type": "stream",
          "text": [
            "\n",
            "Evaluation LOSS: 0.6921965479850769\n",
            "Evaluation ACC:  50.63%\n",
            "\n",
            "epoch: 23\n"
          ]
        },
        {
          "name": "stderr",
          "output_type": "stream",
          "text": [
            "100%|██████████| 4283/4283 [01:23<00:00, 51.15it/s]\n"
          ]
        },
        {
          "name": "stdout",
          "output_type": "stream",
          "text": [
            "FINISHED EPOCH: 23\n",
            "train_loss: 0.6977444291114807\n"
          ]
        },
        {
          "name": "stderr",
          "output_type": "stream",
          "text": [
            "\r 77%|███████▋  | 23/30 [33:21<09:55, 85.08s/it]"
          ]
        },
        {
          "name": "stdout",
          "output_type": "stream",
          "text": [
            "\n",
            "Evaluation LOSS: 0.684057891368866\n",
            "Evaluation ACC:  55.95%\n",
            "\n",
            "epoch: 24\n"
          ]
        },
        {
          "name": "stderr",
          "output_type": "stream",
          "text": [
            "100%|██████████| 4283/4283 [01:24<00:00, 50.50it/s]\n"
          ]
        },
        {
          "name": "stdout",
          "output_type": "stream",
          "text": [
            "FINISHED EPOCH: 24\n",
            "train_loss: 0.6981235146522522\n"
          ]
        },
        {
          "name": "stderr",
          "output_type": "stream",
          "text": [
            "\r 80%|████████  | 24/30 [34:46<08:31, 85.19s/it]"
          ]
        },
        {
          "name": "stdout",
          "output_type": "stream",
          "text": [
            "\n",
            "Evaluation LOSS: 0.690284788608551\n",
            "Evaluation ACC:  50.93%\n",
            "\n",
            "epoch: 25\n"
          ]
        },
        {
          "name": "stderr",
          "output_type": "stream",
          "text": [
            "100%|██████████| 4283/4283 [01:23<00:00, 51.20it/s]\n"
          ]
        },
        {
          "name": "stdout",
          "output_type": "stream",
          "text": [
            "FINISHED EPOCH: 25\n",
            "train_loss: 0.7052007913589478\n"
          ]
        },
        {
          "name": "stderr",
          "output_type": "stream",
          "text": [
            "\r 83%|████████▎ | 25/30 [36:11<07:04, 84.91s/it]"
          ]
        },
        {
          "name": "stdout",
          "output_type": "stream",
          "text": [
            "\n",
            "Evaluation LOSS: 0.692750096321106\n",
            "Evaluation ACC:  50.77%\n",
            "\n",
            "epoch: 26\n"
          ]
        },
        {
          "name": "stderr",
          "output_type": "stream",
          "text": [
            "100%|██████████| 4283/4283 [01:23<00:00, 50.99it/s]\n"
          ]
        },
        {
          "name": "stdout",
          "output_type": "stream",
          "text": [
            "FINISHED EPOCH: 26\n",
            "train_loss: 0.7191935777664185\n"
          ]
        },
        {
          "name": "stderr",
          "output_type": "stream",
          "text": [
            "\r 87%|████████▋ | 26/30 [37:35<05:39, 84.83s/it]"
          ]
        },
        {
          "name": "stdout",
          "output_type": "stream",
          "text": [
            "\n",
            "Evaluation LOSS: 0.7032725811004639\n",
            "Evaluation ACC:  43.71%\n",
            "\n",
            "epoch: 27\n"
          ]
        },
        {
          "name": "stderr",
          "output_type": "stream",
          "text": [
            "100%|██████████| 4283/4283 [01:23<00:00, 51.16it/s]\n"
          ]
        },
        {
          "name": "stdout",
          "output_type": "stream",
          "text": [
            "FINISHED EPOCH: 27\n",
            "train_loss: 0.7004210352897644\n"
          ]
        },
        {
          "name": "stderr",
          "output_type": "stream",
          "text": [
            "\r 90%|█████████ | 27/30 [38:59<04:14, 84.68s/it]"
          ]
        },
        {
          "name": "stdout",
          "output_type": "stream",
          "text": [
            "\n",
            "Evaluation LOSS: 0.6880492568016052\n",
            "Evaluation ACC:  54.61%\n",
            "\n",
            "epoch: 28\n"
          ]
        },
        {
          "name": "stderr",
          "output_type": "stream",
          "text": [
            "100%|██████████| 4283/4283 [01:24<00:00, 50.87it/s]\n"
          ]
        },
        {
          "name": "stdout",
          "output_type": "stream",
          "text": [
            "FINISHED EPOCH: 28\n",
            "train_loss: 0.71540766954422\n"
          ]
        },
        {
          "name": "stderr",
          "output_type": "stream",
          "text": [
            "\r 93%|█████████▎| 28/30 [40:24<02:49, 84.73s/it]"
          ]
        },
        {
          "name": "stdout",
          "output_type": "stream",
          "text": [
            "\n",
            "Evaluation LOSS: 0.6972994208335876\n",
            "Evaluation ACC:  48.02%\n",
            "\n",
            "epoch: 29\n"
          ]
        },
        {
          "name": "stderr",
          "output_type": "stream",
          "text": [
            "100%|██████████| 4283/4283 [01:24<00:00, 50.88it/s]\n"
          ]
        },
        {
          "name": "stdout",
          "output_type": "stream",
          "text": [
            "FINISHED EPOCH: 29\n",
            "train_loss: 0.692998468875885\n"
          ]
        },
        {
          "name": "stderr",
          "output_type": "stream",
          "text": [
            "\r 97%|█████████▋| 29/30 [41:49<01:24, 84.75s/it]"
          ]
        },
        {
          "name": "stdout",
          "output_type": "stream",
          "text": [
            "\n",
            "Evaluation LOSS: 0.6895468235015869\n",
            "Evaluation ACC:  50.98%\n",
            "\n",
            "epoch: 30\n"
          ]
        },
        {
          "name": "stderr",
          "output_type": "stream",
          "text": [
            "100%|██████████| 4283/4283 [01:23<00:00, 51.14it/s]\n"
          ]
        },
        {
          "name": "stdout",
          "output_type": "stream",
          "text": [
            "FINISHED EPOCH: 30\n",
            "train_loss: 0.6812344789505005\n"
          ]
        },
        {
          "name": "stderr",
          "output_type": "stream",
          "text": [
            "100%|██████████| 30/30 [43:14<00:00, 86.47s/it]"
          ]
        },
        {
          "name": "stdout",
          "output_type": "stream",
          "text": [
            "\n",
            "Evaluation LOSS: 0.7057119011878967\n",
            "Evaluation ACC:  44.28%\n"
          ]
        },
        {
          "name": "stderr",
          "output_type": "stream",
          "text": [
            "\n"
          ]
        },
        {
          "name": "stdout",
          "output_type": "stream",
          "text": [
            "\n",
            "TEST LOSS: 0.6913386583328247\n",
            "TEST ACC:  50.19%\n"
          ]
        }
      ],
      "source": [
        "\n",
        "#'glove200d', 'glovetwit200d', 'Emotag'\n",
        "model_file = 'model_lstmsenti_001.torch'\n",
        "pre_trained_embedding_file = 'glove200d'\n",
        "Full_Data = Load_parquet(\"parquet/2013/01\")\n",
        "Train_set, Eval_set, Test_set, vocab_dict, weight_mat, list_of_lens_in_batch, Eval_len, Test_len = Preprocess(Full_Data, test_ratio=0.2, evaluation_ratio=0.1, seed=595, train_batch=32, pre_trained_embedding_file=pre_trained_embedding_file)\n",
        "BATCH_SIZE = 32\n",
        "HIDDEN_DIM = 128\n",
        "TAGSET_SIZE = 2 #46\n",
        "torch.manual_seed(0)\n",
        "model = train(Train_set, Eval_set, HIDDEN_DIM, TAGSET_SIZE, weight_mat, list_of_lens_in_batch, Eval_len, learning_rate=0.001, n_epochs=30)\n",
        "torch.save(model.state_dict(), model_file)\n",
        "\n",
        "test(Test_set, HIDDEN_DIM, TAGSET_SIZE, weight_mat, Test_len, model_file)\n"
      ]
    },
    {
      "cell_type": "markdown",
      "metadata": {
        "id": "VwdQe66eMmp3"
      },
      "source": [
        "glovetwitt"
      ]
    },
    {
      "cell_type": "code",
      "execution_count": null,
      "metadata": {
        "colab": {
          "background_save": true
        },
        "id": "fiW0CTDsMp9c",
        "outputId": "1318b3f6-7537-40d6-f354-98f58b19d5c6"
      },
      "outputs": [
        {
          "name": "stderr",
          "output_type": "stream",
          "text": [
            "100%|██████████| 1193514/1193514 [01:02<00:00, 19129.48it/s]\n"
          ]
        },
        {
          "name": "stdout",
          "output_type": "stream",
          "text": [
            "Embedding dimension : 200\n"
          ]
        },
        {
          "name": "stderr",
          "output_type": "stream",
          "text": [
            "29819it [00:00, 73095.78it/s]\n",
            "<ipython-input-50-2ffc02e1b240>:122: DeprecationWarning: `np.int` is a deprecated alias for the builtin `int`. To silence this warning, use `int` by itself. Doing this will not modify any behavior and is safe. When replacing `np.int`, you may wish to use e.g. `np.int64` or `np.int32` to specify the precision. If you wish to review your current use, check the release note link for additional information.\n",
            "Deprecated in NumPy 1.20; for more details and guidance: https://numpy.org/devdocs/release/1.20.0-notes.html#deprecations\n",
            "  padded_label_batch = np.zeros(train_batch, dtype=np.int)\n"
          ]
        },
        {
          "name": "stdout",
          "output_type": "stream",
          "text": [
            "##############################\n",
            "Train Model\n",
            "##############################\n"
          ]
        },
        {
          "name": "stderr",
          "output_type": "stream",
          "text": [
            "\r  0%|          | 0/30 [00:00<?, ?it/s]"
          ]
        },
        {
          "name": "stdout",
          "output_type": "stream",
          "text": [
            "\n",
            "epoch: 1\n"
          ]
        },
        {
          "name": "stderr",
          "output_type": "stream",
          "text": [
            "100%|██████████| 4283/4283 [01:23<00:00, 51.04it/s]\n"
          ]
        },
        {
          "name": "stdout",
          "output_type": "stream",
          "text": [
            "FINISHED EPOCH: 1\n",
            "train_loss: 0.6455841064453125\n"
          ]
        },
        {
          "name": "stderr",
          "output_type": "stream",
          "text": [
            "\r  3%|▎         | 1/30 [01:24<40:51, 84.53s/it]"
          ]
        },
        {
          "name": "stdout",
          "output_type": "stream",
          "text": [
            "\n",
            "Evaluation LOSS: 0.6815106272697449\n",
            "Evaluation ACC:  55.11%\n",
            "\n",
            "epoch: 2\n"
          ]
        },
        {
          "name": "stderr",
          "output_type": "stream",
          "text": [
            "100%|██████████| 4283/4283 [01:24<00:00, 50.94it/s]\n"
          ]
        },
        {
          "name": "stdout",
          "output_type": "stream",
          "text": [
            "FINISHED EPOCH: 2\n",
            "train_loss: 0.7059131860733032\n"
          ]
        },
        {
          "name": "stderr",
          "output_type": "stream",
          "text": [
            "\r  7%|▋         | 2/30 [02:49<39:29, 84.62s/it]"
          ]
        },
        {
          "name": "stdout",
          "output_type": "stream",
          "text": [
            "\n",
            "Evaluation LOSS: 0.6798591017723083\n",
            "Evaluation ACC:  57.39%\n",
            "\n",
            "epoch: 3\n"
          ]
        },
        {
          "name": "stderr",
          "output_type": "stream",
          "text": [
            "100%|██████████| 4283/4283 [01:24<00:00, 50.79it/s]\n"
          ]
        },
        {
          "name": "stdout",
          "output_type": "stream",
          "text": [
            "FINISHED EPOCH: 3\n",
            "train_loss: 0.6621090769767761\n"
          ]
        },
        {
          "name": "stderr",
          "output_type": "stream",
          "text": [
            "\r 10%|█         | 3/30 [04:14<38:08, 84.77s/it]"
          ]
        },
        {
          "name": "stdout",
          "output_type": "stream",
          "text": [
            "\n",
            "Evaluation LOSS: 0.7152442932128906\n",
            "Evaluation ACC:  41.43%\n",
            "\n",
            "epoch: 4\n"
          ]
        },
        {
          "name": "stderr",
          "output_type": "stream",
          "text": [
            "100%|██████████| 4283/4283 [01:24<00:00, 50.54it/s]\n"
          ]
        },
        {
          "name": "stdout",
          "output_type": "stream",
          "text": [
            "FINISHED EPOCH: 4\n",
            "train_loss: 0.7170959711074829\n"
          ]
        },
        {
          "name": "stderr",
          "output_type": "stream",
          "text": [
            "\r 13%|█▎        | 4/30 [05:39<36:49, 85.00s/it]"
          ]
        },
        {
          "name": "stdout",
          "output_type": "stream",
          "text": [
            "\n",
            "Evaluation LOSS: 0.67026686668396\n",
            "Evaluation ACC:  59.26%\n",
            "\n",
            "epoch: 5\n"
          ]
        },
        {
          "name": "stderr",
          "output_type": "stream",
          "text": [
            "100%|██████████| 4283/4283 [01:24<00:00, 50.41it/s]\n"
          ]
        },
        {
          "name": "stdout",
          "output_type": "stream",
          "text": [
            "FINISHED EPOCH: 5\n",
            "train_loss: 0.6939024329185486\n"
          ]
        },
        {
          "name": "stderr",
          "output_type": "stream",
          "text": [
            "\r 17%|█▋        | 5/30 [07:05<35:30, 85.21s/it]"
          ]
        },
        {
          "name": "stdout",
          "output_type": "stream",
          "text": [
            "\n",
            "Evaluation LOSS: 0.7221811413764954\n",
            "Evaluation ACC:  39.56%\n",
            "\n",
            "epoch: 6\n"
          ]
        },
        {
          "name": "stderr",
          "output_type": "stream",
          "text": [
            "100%|██████████| 4283/4283 [01:25<00:00, 49.90it/s]\n"
          ]
        },
        {
          "name": "stdout",
          "output_type": "stream",
          "text": [
            "FINISHED EPOCH: 6\n",
            "train_loss: 0.678746223449707\n"
          ]
        },
        {
          "name": "stderr",
          "output_type": "stream",
          "text": [
            "\r 20%|██        | 6/30 [08:31<34:15, 85.63s/it]"
          ]
        },
        {
          "name": "stdout",
          "output_type": "stream",
          "text": [
            "\n",
            "Evaluation LOSS: 0.7050144672393799\n",
            "Evaluation ACC:  43.36%\n",
            "\n",
            "epoch: 7\n"
          ]
        },
        {
          "name": "stderr",
          "output_type": "stream",
          "text": [
            "100%|██████████| 4283/4283 [01:27<00:00, 49.00it/s]\n"
          ]
        },
        {
          "name": "stdout",
          "output_type": "stream",
          "text": [
            "FINISHED EPOCH: 7\n",
            "train_loss: 0.7275265455245972\n"
          ]
        },
        {
          "name": "stderr",
          "output_type": "stream",
          "text": [
            "\r 23%|██▎       | 7/30 [09:59<33:07, 86.42s/it]"
          ]
        },
        {
          "name": "stdout",
          "output_type": "stream",
          "text": [
            "\n",
            "Evaluation LOSS: 0.6879286766052246\n",
            "Evaluation ACC:  52.61%\n",
            "\n",
            "epoch: 8\n"
          ]
        },
        {
          "name": "stderr",
          "output_type": "stream",
          "text": [
            "100%|██████████| 4283/4283 [01:27<00:00, 49.22it/s]\n"
          ]
        },
        {
          "name": "stdout",
          "output_type": "stream",
          "text": [
            "FINISHED EPOCH: 8\n",
            "train_loss: 0.6831313967704773\n"
          ]
        },
        {
          "name": "stderr",
          "output_type": "stream",
          "text": [
            "\r 27%|██▋       | 8/30 [11:27<31:49, 86.80s/it]"
          ]
        },
        {
          "name": "stdout",
          "output_type": "stream",
          "text": [
            "\n",
            "Evaluation LOSS: 0.6748923063278198\n",
            "Evaluation ACC:  59.55%\n",
            "\n",
            "epoch: 9\n"
          ]
        },
        {
          "name": "stderr",
          "output_type": "stream",
          "text": [
            "100%|██████████| 4283/4283 [01:27<00:00, 48.83it/s]\n"
          ]
        },
        {
          "name": "stdout",
          "output_type": "stream",
          "text": [
            "FINISHED EPOCH: 9\n",
            "train_loss: 0.7221260070800781\n"
          ]
        },
        {
          "name": "stderr",
          "output_type": "stream",
          "text": [
            "\r 30%|███       | 9/30 [12:55<30:32, 87.28s/it]"
          ]
        },
        {
          "name": "stdout",
          "output_type": "stream",
          "text": [
            "\n",
            "Evaluation LOSS: 0.708970308303833\n",
            "Evaluation ACC:  45.58%\n",
            "\n",
            "epoch: 10\n"
          ]
        },
        {
          "name": "stderr",
          "output_type": "stream",
          "text": [
            "100%|██████████| 4283/4283 [01:27<00:00, 49.19it/s]\n"
          ]
        },
        {
          "name": "stdout",
          "output_type": "stream",
          "text": [
            "FINISHED EPOCH: 10\n",
            "train_loss: 0.6636242866516113\n"
          ]
        },
        {
          "name": "stderr",
          "output_type": "stream",
          "text": [
            "\r 33%|███▎      | 10/30 [14:23<29:08, 87.41s/it]"
          ]
        },
        {
          "name": "stdout",
          "output_type": "stream",
          "text": [
            "\n",
            "Evaluation LOSS: 0.7006151676177979\n",
            "Evaluation ACC:  47.26%\n",
            "\n",
            "epoch: 11\n"
          ]
        },
        {
          "name": "stderr",
          "output_type": "stream",
          "text": [
            "100%|██████████| 4283/4283 [01:25<00:00, 49.86it/s]\n"
          ]
        },
        {
          "name": "stdout",
          "output_type": "stream",
          "text": [
            "FINISHED EPOCH: 11\n",
            "train_loss: 0.6790996193885803\n"
          ]
        },
        {
          "name": "stderr",
          "output_type": "stream",
          "text": [
            "\r 37%|███▋      | 11/30 [15:49<27:35, 87.14s/it]"
          ]
        },
        {
          "name": "stdout",
          "output_type": "stream",
          "text": [
            "\n",
            "Evaluation LOSS: 0.6935549974441528\n",
            "Evaluation ACC:  49.44%\n",
            "\n",
            "epoch: 12\n"
          ]
        },
        {
          "name": "stderr",
          "output_type": "stream",
          "text": [
            "100%|██████████| 4283/4283 [01:26<00:00, 49.45it/s]\n"
          ]
        },
        {
          "name": "stdout",
          "output_type": "stream",
          "text": [
            "FINISHED EPOCH: 12\n",
            "train_loss: 0.7347800135612488\n"
          ]
        },
        {
          "name": "stderr",
          "output_type": "stream",
          "text": [
            "\r 40%|████      | 12/30 [17:17<26:09, 87.17s/it]"
          ]
        },
        {
          "name": "stdout",
          "output_type": "stream",
          "text": [
            "\n",
            "Evaluation LOSS: 0.7051665186882019\n",
            "Evaluation ACC:  44.28%\n",
            "\n",
            "epoch: 13\n"
          ]
        },
        {
          "name": "stderr",
          "output_type": "stream",
          "text": [
            "100%|██████████| 4283/4283 [01:25<00:00, 50.22it/s]\n"
          ]
        },
        {
          "name": "stdout",
          "output_type": "stream",
          "text": [
            "FINISHED EPOCH: 13\n",
            "train_loss: 0.6827288269996643\n"
          ]
        },
        {
          "name": "stderr",
          "output_type": "stream",
          "text": [
            "\r 43%|████▎     | 13/30 [18:42<24:35, 86.79s/it]"
          ]
        },
        {
          "name": "stdout",
          "output_type": "stream",
          "text": [
            "\n",
            "Evaluation LOSS: 0.6910505294799805\n",
            "Evaluation ACC:  51.54%\n",
            "\n",
            "epoch: 14\n"
          ]
        },
        {
          "name": "stderr",
          "output_type": "stream",
          "text": [
            "100%|██████████| 4283/4283 [01:24<00:00, 50.59it/s]\n"
          ]
        },
        {
          "name": "stdout",
          "output_type": "stream",
          "text": [
            "FINISHED EPOCH: 14\n",
            "train_loss: 0.6971068978309631\n"
          ]
        },
        {
          "name": "stderr",
          "output_type": "stream",
          "text": [
            "\r 47%|████▋     | 14/30 [20:08<23:01, 86.33s/it]"
          ]
        },
        {
          "name": "stdout",
          "output_type": "stream",
          "text": [
            "\n",
            "Evaluation LOSS: 0.703405499458313\n",
            "Evaluation ACC:  48.12%\n",
            "\n",
            "epoch: 15\n"
          ]
        },
        {
          "name": "stderr",
          "output_type": "stream",
          "text": [
            "100%|██████████| 4283/4283 [01:24<00:00, 50.88it/s]\n"
          ]
        },
        {
          "name": "stdout",
          "output_type": "stream",
          "text": [
            "FINISHED EPOCH: 15\n",
            "train_loss: 0.6935513615608215\n"
          ]
        },
        {
          "name": "stderr",
          "output_type": "stream",
          "text": [
            "\r 50%|█████     | 15/30 [21:32<21:28, 85.87s/it]"
          ]
        },
        {
          "name": "stdout",
          "output_type": "stream",
          "text": [
            "\n",
            "Evaluation LOSS: 0.7154384851455688\n",
            "Evaluation ACC:  40.52%\n",
            "\n",
            "epoch: 16\n"
          ]
        },
        {
          "name": "stderr",
          "output_type": "stream",
          "text": [
            "100%|██████████| 4283/4283 [01:24<00:00, 50.81it/s]\n"
          ]
        },
        {
          "name": "stdout",
          "output_type": "stream",
          "text": [
            "FINISHED EPOCH: 16\n",
            "train_loss: 0.683535099029541\n"
          ]
        },
        {
          "name": "stderr",
          "output_type": "stream",
          "text": [
            "\r 53%|█████▎    | 16/30 [22:57<19:58, 85.58s/it]"
          ]
        },
        {
          "name": "stdout",
          "output_type": "stream",
          "text": [
            "\n",
            "Evaluation LOSS: 0.705697774887085\n",
            "Evaluation ACC:  43.19%\n",
            "\n",
            "epoch: 17\n"
          ]
        },
        {
          "name": "stderr",
          "output_type": "stream",
          "text": [
            "100%|██████████| 4283/4283 [01:24<00:00, 50.80it/s]\n"
          ]
        },
        {
          "name": "stdout",
          "output_type": "stream",
          "text": [
            "FINISHED EPOCH: 17\n",
            "train_loss: 0.6949916481971741\n"
          ]
        },
        {
          "name": "stderr",
          "output_type": "stream",
          "text": [
            "\r 57%|█████▋    | 17/30 [24:22<18:30, 85.39s/it]"
          ]
        },
        {
          "name": "stdout",
          "output_type": "stream",
          "text": [
            "\n",
            "Evaluation LOSS: 0.6877659559249878\n",
            "Evaluation ACC:  53.16%\n",
            "\n",
            "epoch: 18\n"
          ]
        },
        {
          "name": "stderr",
          "output_type": "stream",
          "text": [
            "100%|██████████| 4283/4283 [01:24<00:00, 50.78it/s]\n"
          ]
        },
        {
          "name": "stdout",
          "output_type": "stream",
          "text": [
            "FINISHED EPOCH: 18\n",
            "train_loss: 0.6751664876937866\n"
          ]
        },
        {
          "name": "stderr",
          "output_type": "stream",
          "text": [
            "\r 60%|██████    | 18/30 [25:47<17:03, 85.25s/it]"
          ]
        },
        {
          "name": "stdout",
          "output_type": "stream",
          "text": [
            "\n",
            "Evaluation LOSS: 0.6864219903945923\n",
            "Evaluation ACC:  52.10%\n",
            "\n",
            "epoch: 19\n"
          ]
        },
        {
          "name": "stderr",
          "output_type": "stream",
          "text": [
            "100%|██████████| 4283/4283 [01:24<00:00, 50.73it/s]\n"
          ]
        },
        {
          "name": "stdout",
          "output_type": "stream",
          "text": [
            "FINISHED EPOCH: 19\n",
            "train_loss: 0.657261073589325\n"
          ]
        },
        {
          "name": "stderr",
          "output_type": "stream",
          "text": [
            "\r 63%|██████▎   | 19/30 [27:12<15:37, 85.19s/it]"
          ]
        },
        {
          "name": "stdout",
          "output_type": "stream",
          "text": [
            "\n",
            "Evaluation LOSS: 0.6840450763702393\n",
            "Evaluation ACC:  54.97%\n",
            "\n",
            "epoch: 20\n"
          ]
        },
        {
          "name": "stderr",
          "output_type": "stream",
          "text": [
            "100%|██████████| 4283/4283 [01:25<00:00, 50.27it/s]\n"
          ]
        },
        {
          "name": "stdout",
          "output_type": "stream",
          "text": [
            "FINISHED EPOCH: 20\n",
            "train_loss: 0.7000671625137329\n"
          ]
        },
        {
          "name": "stderr",
          "output_type": "stream",
          "text": [
            "\r 67%|██████▋   | 20/30 [28:38<14:13, 85.38s/it]"
          ]
        },
        {
          "name": "stdout",
          "output_type": "stream",
          "text": [
            "\n",
            "Evaluation LOSS: 0.6904033422470093\n",
            "Evaluation ACC:  51.53%\n",
            "\n",
            "epoch: 21\n"
          ]
        },
        {
          "name": "stderr",
          "output_type": "stream",
          "text": [
            "100%|██████████| 4283/4283 [01:25<00:00, 50.13it/s]\n"
          ]
        },
        {
          "name": "stdout",
          "output_type": "stream",
          "text": [
            "FINISHED EPOCH: 21\n",
            "train_loss: 0.715528666973114\n"
          ]
        },
        {
          "name": "stderr",
          "output_type": "stream",
          "text": [
            "\r 70%|███████   | 21/30 [30:04<12:50, 85.58s/it]"
          ]
        },
        {
          "name": "stdout",
          "output_type": "stream",
          "text": [
            "\n",
            "Evaluation LOSS: 0.6866210699081421\n",
            "Evaluation ACC:  54.92%\n",
            "\n",
            "epoch: 22\n"
          ]
        },
        {
          "name": "stderr",
          "output_type": "stream",
          "text": [
            "100%|██████████| 4283/4283 [01:25<00:00, 49.84it/s]\n"
          ]
        },
        {
          "name": "stdout",
          "output_type": "stream",
          "text": [
            "FINISHED EPOCH: 22\n",
            "train_loss: 0.6730544567108154\n"
          ]
        },
        {
          "name": "stderr",
          "output_type": "stream",
          "text": [
            "\r 73%|███████▎  | 22/30 [31:31<11:26, 85.87s/it]"
          ]
        },
        {
          "name": "stdout",
          "output_type": "stream",
          "text": [
            "\n",
            "Evaluation LOSS: 0.6963463425636292\n",
            "Evaluation ACC:  48.88%\n",
            "\n",
            "epoch: 23\n"
          ]
        },
        {
          "name": "stderr",
          "output_type": "stream",
          "text": [
            "100%|██████████| 4283/4283 [01:25<00:00, 49.82it/s]\n"
          ]
        },
        {
          "name": "stdout",
          "output_type": "stream",
          "text": [
            "FINISHED EPOCH: 23\n",
            "train_loss: 0.6996618509292603\n"
          ]
        },
        {
          "name": "stderr",
          "output_type": "stream",
          "text": [
            "\r 77%|███████▋  | 23/30 [32:57<10:02, 86.08s/it]"
          ]
        },
        {
          "name": "stdout",
          "output_type": "stream",
          "text": [
            "\n",
            "Evaluation LOSS: 0.6832794547080994\n",
            "Evaluation ACC:  56.44%\n",
            "\n",
            "epoch: 24\n"
          ]
        },
        {
          "name": "stderr",
          "output_type": "stream",
          "text": [
            "100%|██████████| 4283/4283 [01:25<00:00, 49.99it/s]\n"
          ]
        },
        {
          "name": "stdout",
          "output_type": "stream",
          "text": [
            "FINISHED EPOCH: 24\n",
            "train_loss: 0.6849581003189087\n"
          ]
        },
        {
          "name": "stderr",
          "output_type": "stream",
          "text": [
            "\r 80%|████████  | 24/30 [34:24<08:36, 86.15s/it]"
          ]
        },
        {
          "name": "stdout",
          "output_type": "stream",
          "text": [
            "\n",
            "Evaluation LOSS: 0.6928897500038147\n",
            "Evaluation ACC:  50.39%\n",
            "\n",
            "epoch: 25\n"
          ]
        },
        {
          "name": "stderr",
          "output_type": "stream",
          "text": [
            "100%|██████████| 4283/4283 [01:26<00:00, 49.56it/s]\n"
          ]
        },
        {
          "name": "stdout",
          "output_type": "stream",
          "text": [
            "FINISHED EPOCH: 25\n",
            "train_loss: 0.6989033818244934\n"
          ]
        },
        {
          "name": "stderr",
          "output_type": "stream",
          "text": [
            "\r 83%|████████▎ | 25/30 [35:51<07:12, 86.41s/it]"
          ]
        },
        {
          "name": "stdout",
          "output_type": "stream",
          "text": [
            "\n",
            "Evaluation LOSS: 0.688189685344696\n",
            "Evaluation ACC:  54.21%\n",
            "\n",
            "epoch: 26\n"
          ]
        },
        {
          "name": "stderr",
          "output_type": "stream",
          "text": [
            "100%|██████████| 4283/4283 [01:27<00:00, 49.21it/s]\n"
          ]
        },
        {
          "name": "stdout",
          "output_type": "stream",
          "text": [
            "FINISHED EPOCH: 26\n",
            "train_loss: 0.7151131629943848\n"
          ]
        },
        {
          "name": "stderr",
          "output_type": "stream",
          "text": [
            "\r 87%|████████▋ | 26/30 [37:18<05:47, 86.79s/it]"
          ]
        },
        {
          "name": "stdout",
          "output_type": "stream",
          "text": [
            "\n",
            "Evaluation LOSS: 0.7041940093040466\n",
            "Evaluation ACC:  44.56%\n",
            "\n",
            "epoch: 27\n"
          ]
        },
        {
          "name": "stderr",
          "output_type": "stream",
          "text": [
            "100%|██████████| 4283/4283 [01:27<00:00, 49.15it/s]\n"
          ]
        },
        {
          "name": "stdout",
          "output_type": "stream",
          "text": [
            "FINISHED EPOCH: 27\n",
            "train_loss: 0.6804015636444092\n"
          ]
        },
        {
          "name": "stderr",
          "output_type": "stream",
          "text": [
            "\r 90%|█████████ | 27/30 [38:46<04:21, 87.07s/it]"
          ]
        },
        {
          "name": "stdout",
          "output_type": "stream",
          "text": [
            "\n",
            "Evaluation LOSS: 0.702721893787384\n",
            "Evaluation ACC:  45.50%\n",
            "\n",
            "epoch: 28\n"
          ]
        },
        {
          "name": "stderr",
          "output_type": "stream",
          "text": [
            "100%|██████████| 4283/4283 [01:26<00:00, 49.42it/s]\n"
          ]
        },
        {
          "name": "stdout",
          "output_type": "stream",
          "text": [
            "FINISHED EPOCH: 28\n",
            "train_loss: 0.7053883671760559\n"
          ]
        },
        {
          "name": "stderr",
          "output_type": "stream",
          "text": [
            "\r 93%|█████████▎| 28/30 [40:13<02:54, 87.13s/it]"
          ]
        },
        {
          "name": "stdout",
          "output_type": "stream",
          "text": [
            "\n",
            "Evaluation LOSS: 0.6995129585266113\n",
            "Evaluation ACC:  45.90%\n",
            "\n",
            "epoch: 29\n"
          ]
        },
        {
          "name": "stderr",
          "output_type": "stream",
          "text": [
            "100%|██████████| 4283/4283 [01:26<00:00, 49.63it/s]\n"
          ]
        },
        {
          "name": "stdout",
          "output_type": "stream",
          "text": [
            "FINISHED EPOCH: 29\n",
            "train_loss: 0.6742345094680786\n"
          ]
        },
        {
          "name": "stderr",
          "output_type": "stream",
          "text": [
            "\r 97%|█████████▋| 29/30 [41:40<01:27, 87.07s/it]"
          ]
        },
        {
          "name": "stdout",
          "output_type": "stream",
          "text": [
            "\n",
            "Evaluation LOSS: 0.6990151405334473\n",
            "Evaluation ACC:  45.88%\n",
            "\n",
            "epoch: 30\n"
          ]
        },
        {
          "name": "stderr",
          "output_type": "stream",
          "text": [
            "100%|██████████| 4283/4283 [01:28<00:00, 48.62it/s]\n"
          ]
        },
        {
          "name": "stdout",
          "output_type": "stream",
          "text": [
            "FINISHED EPOCH: 30\n",
            "train_loss: 0.6872574687004089\n"
          ]
        },
        {
          "name": "stderr",
          "output_type": "stream",
          "text": [
            "100%|██████████| 30/30 [43:09<00:00, 86.31s/it]"
          ]
        },
        {
          "name": "stdout",
          "output_type": "stream",
          "text": [
            "\n",
            "Evaluation LOSS: 0.6974246501922607\n",
            "Evaluation ACC:  47.91%\n"
          ]
        },
        {
          "name": "stderr",
          "output_type": "stream",
          "text": [
            "\n"
          ]
        },
        {
          "name": "stdout",
          "output_type": "stream",
          "text": [
            "\n",
            "TEST LOSS: 0.6885067820549011\n",
            "TEST ACC:  53.02%\n"
          ]
        }
      ],
      "source": [
        "\n",
        "#'glove200d', 'glovetwit200d', 'Emotag'\n",
        "model_file = 'model_lstmsenti_gltwit001.torch'\n",
        "pre_trained_embedding_file = 'glovetwit200d'\n",
        "# Full_Data = Load_parquet(\"parquet/2013/01\")\n",
        "Train_set, Eval_set, Test_set, vocab_dict, weight_mat, list_of_lens_in_batch, Eval_len, Test_len = Preprocess(Full_Data, test_ratio=0.2, evaluation_ratio=0.1, seed=595, train_batch=32, pre_trained_embedding_file=pre_trained_embedding_file)\n",
        "BATCH_SIZE = 32\n",
        "HIDDEN_DIM = 128\n",
        "TAGSET_SIZE = 2 #46\n",
        "torch.manual_seed(0)\n",
        "model = train(Train_set, Eval_set, HIDDEN_DIM, TAGSET_SIZE, weight_mat, list_of_lens_in_batch, Eval_len, learning_rate=0.001, n_epochs=30)\n",
        "torch.save(model.state_dict(), model_file)\n",
        "\n",
        "test(Test_set, HIDDEN_DIM, TAGSET_SIZE, weight_mat, Test_len, model_file)\n"
      ]
    },
    {
      "cell_type": "code",
      "source": [],
      "metadata": {
        "id": "e3HfKEwfvdRq"
      },
      "execution_count": null,
      "outputs": []
    },
    {
      "cell_type": "markdown",
      "metadata": {
        "id": "piHZxDIvMoLW"
      },
      "source": [
        "emotag"
      ]
    },
    {
      "cell_type": "code",
      "execution_count": null,
      "metadata": {
        "colab": {
          "background_save": true,
          "base_uri": "https://localhost:8080/"
        },
        "id": "gSI25az6MqOk",
        "outputId": "f60a4b54-0080-4458-9e8b-b11ef9053ed8"
      },
      "outputs": [
        {
          "metadata": {
            "tags": null
          },
          "name": "stderr",
          "output_type": "stream",
          "text": [
            "100%|██████████| 401030/401030 [01:57<00:00, 3425.42it/s]\n"
          ]
        },
        {
          "metadata": {
            "tags": null
          },
          "name": "stdout",
          "output_type": "stream",
          "text": [
            "Embedding dimension : 620\n"
          ]
        },
        {
          "metadata": {
            "tags": null
          },
          "name": "stderr",
          "output_type": "stream",
          "text": [
            "29819it [00:00, 30946.49it/s]\n",
            "<ipython-input-5-2ffc02e1b240>:122: DeprecationWarning: `np.int` is a deprecated alias for the builtin `int`. To silence this warning, use `int` by itself. Doing this will not modify any behavior and is safe. When replacing `np.int`, you may wish to use e.g. `np.int64` or `np.int32` to specify the precision. If you wish to review your current use, check the release note link for additional information.\n",
            "Deprecated in NumPy 1.20; for more details and guidance: https://numpy.org/devdocs/release/1.20.0-notes.html#deprecations\n",
            "  padded_label_batch = np.zeros(train_batch, dtype=np.int)\n"
          ]
        },
        {
          "metadata": {
            "tags": null
          },
          "name": "stdout",
          "output_type": "stream",
          "text": [
            "##############################\n",
            "Train Model\n",
            "##############################\n"
          ]
        },
        {
          "metadata": {
            "tags": null
          },
          "name": "stderr",
          "output_type": "stream",
          "text": [
            "\r  0%|          | 0/30 [00:00<?, ?it/s]"
          ]
        },
        {
          "metadata": {
            "tags": null
          },
          "name": "stdout",
          "output_type": "stream",
          "text": [
            "\n",
            "epoch: 1\n"
          ]
        },
        {
          "output_type": "stream",
          "name": "stderr",
          "text": [
            "100%|██████████| 4283/4283 [01:48<00:00, 39.56it/s]\n"
          ]
        },
        {
          "output_type": "stream",
          "name": "stdout",
          "text": [
            "FINISHED EPOCH: 1\n",
            "train_loss: 0.6830171346664429\n"
          ]
        },
        {
          "output_type": "stream",
          "name": "stderr",
          "text": [
            "\r  3%|▎         | 1/30 [01:49<52:51, 109.38s/it]"
          ]
        },
        {
          "output_type": "stream",
          "name": "stdout",
          "text": [
            "\n",
            "Evaluation LOSS: 0.668490469455719\n",
            "Evaluation ACC:  59.00%\n",
            "\n",
            "epoch: 2\n"
          ]
        },
        {
          "output_type": "stream",
          "name": "stderr",
          "text": [
            "100%|██████████| 4283/4283 [01:48<00:00, 39.34it/s]\n"
          ]
        },
        {
          "output_type": "stream",
          "name": "stdout",
          "text": [
            "FINISHED EPOCH: 2\n",
            "train_loss: 0.658682644367218\n"
          ]
        },
        {
          "output_type": "stream",
          "name": "stderr",
          "text": [
            "\r  7%|▋         | 2/30 [03:39<51:09, 109.63s/it]"
          ]
        },
        {
          "output_type": "stream",
          "name": "stdout",
          "text": [
            "\n",
            "Evaluation LOSS: 0.6729505658149719\n",
            "Evaluation ACC:  54.25%\n",
            "\n",
            "epoch: 3\n"
          ]
        },
        {
          "output_type": "stream",
          "name": "stderr",
          "text": [
            "100%|██████████| 4283/4283 [01:50<00:00, 38.91it/s]\n"
          ]
        },
        {
          "output_type": "stream",
          "name": "stdout",
          "text": [
            "FINISHED EPOCH: 3\n",
            "train_loss: 0.6872830390930176\n"
          ]
        },
        {
          "output_type": "stream",
          "name": "stderr",
          "text": [
            "\r 10%|█         | 3/30 [05:30<49:37, 110.27s/it]"
          ]
        },
        {
          "output_type": "stream",
          "name": "stdout",
          "text": [
            "\n",
            "Evaluation LOSS: 0.6935447454452515\n",
            "Evaluation ACC:  49.61%\n",
            "\n",
            "epoch: 4\n"
          ]
        },
        {
          "output_type": "stream",
          "name": "stderr",
          "text": [
            " 47%|████▋     | 2006/4283 [00:51<00:59, 38.50it/s]"
          ]
        }
      ],
      "source": [
        "\n",
        "#'glove200d', 'glovetwit200d', 'Emotag'\n",
        "model_file = 'model_lstmsenti_emotag001.torch'\n",
        "pre_trained_embedding_file = 'Emotag'\n",
        "# Full_Data = Load_parquet(\"parquet/2013/01\")\n",
        "Train_set, Eval_set, Test_set, vocab_dict, weight_mat, list_of_lens_in_batch, Eval_len, Test_len = Preprocess(Full_Data, test_ratio=0.2, evaluation_ratio=0.1, seed=595, train_batch=32, pre_trained_embedding_file=pre_trained_embedding_file)\n",
        "BATCH_SIZE = 32\n",
        "HIDDEN_DIM = 128\n",
        "TAGSET_SIZE = 2 #46\n",
        "torch.manual_seed(0)\n",
        "model = train(Train_set, Eval_set, HIDDEN_DIM, TAGSET_SIZE, weight_mat, list_of_lens_in_batch, Eval_len, learning_rate=0.001, n_epochs=30)\n",
        "torch.save(model.state_dict(), model_file)\n",
        "\n",
        "test(Test_set, HIDDEN_DIM, TAGSET_SIZE, weight_mat, Test_len, model_file)\n"
      ]
    },
    {
      "cell_type": "markdown",
      "source": [
        "# Training using python script with lr=0.1 batch 32 num of file 2 , epoch=10"
      ],
      "metadata": {
        "id": "RPUAkA1DsNPH"
      }
    },
    {
      "cell_type": "code",
      "source": [
        "!python LstmSenti.py --model_file=model_test.torch --training_file=parquet/2013/01 --pre_trained_embedding_file=glove200d --batch=32 --lr=0.1 --epochs=10 --num_of_file=2"
      ],
      "metadata": {
        "colab": {
          "base_uri": "https://localhost:8080/"
        },
        "id": "9v70EijjsRM9",
        "outputId": "7754cb02-d2e4-4c52-ddb5-e7658b019d03"
      },
      "execution_count": null,
      "outputs": [
        {
          "output_type": "stream",
          "name": "stdout",
          "text": [
            "100% 400000/400000 [00:19<00:00, 20855.26it/s]\n",
            "Embedding dimension : 200\n",
            "29819it [00:00, 73619.75it/s]\n",
            "LstmSenti.py:122: DeprecationWarning: `np.int` is a deprecated alias for the builtin `int`. To silence this warning, use `int` by itself. Doing this will not modify any behavior and is safe. When replacing `np.int`, you may wish to use e.g. `np.int64` or `np.int32` to specify the precision. If you wish to review your current use, check the release note link for additional information.\n",
            "Deprecated in NumPy 1.20; for more details and guidance: https://numpy.org/devdocs/release/1.20.0-notes.html#deprecations\n",
            "  padded_label_batch = np.zeros(train_batch, dtype=np.int)\n",
            "##############################\n",
            "Train Model\n",
            "##############################\n",
            "  0% 0/10 [00:00<?, ?it/s]\n",
            "epoch: 1\n",
            "100% 4283/4283 [02:04<00:00, 34.37it/s]\n",
            "FINISHED EPOCH: 1\n",
            "train_loss: 0.697409987449646\n",
            "\n",
            "Evaluation LOSS: 0.6756365895271301\n",
            "Evaluation ACC:  55.51%\n",
            " 10% 1/10 [02:05<18:50, 125.62s/it]\n",
            "epoch: 2\n",
            "100% 4283/4283 [01:56<00:00, 36.80it/s]\n",
            "FINISHED EPOCH: 2\n",
            "train_loss: 0.6676123738288879\n",
            "\n",
            "Evaluation LOSS: 0.7070255279541016\n",
            "Evaluation ACC:  45.96%\n",
            " 20% 2/10 [04:02<16:05, 120.69s/it]\n",
            "epoch: 3\n",
            "100% 4283/4283 [01:56<00:00, 36.85it/s]\n",
            "FINISHED EPOCH: 3\n",
            "train_loss: 0.7270070910453796\n",
            "\n",
            "Evaluation LOSS: 0.6704826951026917\n",
            "Evaluation ACC:  57.51%\n",
            " 30% 3/10 [05:59<13:53, 119.03s/it]\n",
            "epoch: 4\n",
            "100% 4283/4283 [01:51<00:00, 38.32it/s]\n",
            "FINISHED EPOCH: 4\n",
            "train_loss: 0.698948323726654\n",
            "\n",
            "Evaluation LOSS: 0.6948752999305725\n",
            "Evaluation ACC:  48.95%\n",
            " 40% 4/10 [07:52<11:38, 116.47s/it]\n",
            "epoch: 5\n",
            "100% 4283/4283 [01:49<00:00, 39.29it/s]\n",
            "FINISHED EPOCH: 5\n",
            "train_loss: 0.7036194205284119\n",
            "\n",
            "Evaluation LOSS: 0.6882117390632629\n",
            "Evaluation ACC:  52.45%\n",
            " 50% 5/10 [09:42<09:30, 114.05s/it]\n",
            "epoch: 6\n",
            "100% 4283/4283 [01:47<00:00, 40.02it/s]\n",
            "FINISHED EPOCH: 6\n",
            "train_loss: 0.7395921945571899\n",
            "\n",
            "Evaluation LOSS: 0.7005848288536072\n",
            "Evaluation ACC:  48.27%\n",
            " 60% 6/10 [11:30<07:27, 111.92s/it]\n",
            "epoch: 7\n",
            "  4% 169/4283 [00:04<01:40, 40.87it/s]"
          ]
        }
      ]
    },
    {
      "cell_type": "code",
      "source": [],
      "metadata": {
        "id": "qbBrzLLKsvXD"
      },
      "execution_count": null,
      "outputs": []
    }
  ],
  "metadata": {
    "accelerator": "GPU",
    "colab": {
      "provenance": []
    },
    "gpuClass": "premium",
    "kernelspec": {
      "display_name": "Python 3",
      "name": "python3"
    },
    "language_info": {
      "name": "python"
    }
  },
  "nbformat": 4,
  "nbformat_minor": 0
}