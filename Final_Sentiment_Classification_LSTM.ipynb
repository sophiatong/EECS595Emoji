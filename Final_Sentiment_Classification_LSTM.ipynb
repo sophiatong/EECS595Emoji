{
  "cells": [
    {
      "cell_type": "markdown",
      "metadata": {
        "id": "XyuYGedE9Sxa"
      },
      "source": [
        "# Google Colab Setup"
      ]
    },
    {
      "cell_type": "markdown",
      "metadata": {
        "id": "AvTWupYWXLlm"
      },
      "source": [
        "Auto sync for editing python script file in real time"
      ]
    },
    {
      "cell_type": "code",
      "execution_count": null,
      "metadata": {
        "id": "2QAkSNj8XP-z"
      },
      "outputs": [],
      "source": [
        "%load_ext autoreload\n",
        "%autoreload 2"
      ]
    },
    {
      "cell_type": "markdown",
      "metadata": {
        "id": "c4RzdcdoW4Am"
      },
      "source": [
        "Google Drive Mount"
      ]
    },
    {
      "cell_type": "code",
      "execution_count": null,
      "metadata": {
        "colab": {
          "base_uri": "https://localhost:8080/"
        },
        "id": "mdSMEAdeW1T1",
        "outputId": "586febb3-8591-435c-b98e-6b1cc731a81c"
      },
      "outputs": [
        {
          "output_type": "stream",
          "name": "stdout",
          "text": [
            "Mounted at /content/drive\n"
          ]
        }
      ],
      "source": [
        "from google.colab import drive\n",
        "\n",
        "drive.mount(\"/content/drive\")"
      ]
    },
    {
      "cell_type": "markdown",
      "metadata": {
        "id": "d9zsJNnnXZfz"
      },
      "source": [
        "Setting the directory path"
      ]
    },
    {
      "cell_type": "code",
      "execution_count": null,
      "metadata": {
        "id": "yU-W5-ckXSRz"
      },
      "outputs": [],
      "source": [
        "GOOGLE_DRIVE_PATH_AFTER_MYDRIVE = \"EECS_595_NLP/Project\""
      ]
    },
    {
      "cell_type": "code",
      "execution_count": null,
      "metadata": {
        "id": "WdAhpuIdXdr3"
      },
      "outputs": [],
      "source": [
        "# import os\n",
        "# import sys\n",
        "\n",
        "# assert sys.version_info[0] == 3\n",
        "# assert sys.version_info[1] >= 5\n",
        "\n",
        "# GOOGLE_DRIVE_PATH = os.path.join(\"drive\", \"My Drive\", GOOGLE_DRIVE_PATH_AFTER_MYDRIVE)\n",
        "# sys.path.append(GOOGLE_DRIVE_PATH)\n",
        "\n",
        "# print(os.listdir(GOOGLE_DRIVE_PATH))\n",
        "\n",
        "# assert \"Embedding.ipynb\" in os.listdir(GOOGLE_DRIVE_PATH), \"<Warning>: Embedding.ipynb not found.\"\n",
        "# assert \"Embedding.py\" in os.listdir(\n",
        "#     GOOGLE_DRIVE_PATH\n",
        "# ), \"<Warning>: Embedding not found.\""
      ]
    },
    {
      "cell_type": "markdown",
      "metadata": {
        "id": "zHywXhuaYgxd"
      },
      "source": [
        "Change Current Directory Path"
      ]
    },
    {
      "cell_type": "code",
      "execution_count": null,
      "metadata": {
        "colab": {
          "base_uri": "https://localhost:8080/"
        },
        "id": "LV0Gv2sAYU_V",
        "outputId": "0e1ae49a-649c-4b95-876a-dc46dc2d3f6d"
      },
      "outputs": [
        {
          "output_type": "stream",
          "name": "stdout",
          "text": [
            "/content/drive/My Drive/EECS_595_NLP/Project\n"
          ]
        }
      ],
      "source": [
        "%cd drive/My Drive/EECS_595_NLP/Project"
      ]
    },
    {
      "cell_type": "code",
      "execution_count": null,
      "metadata": {
        "colab": {
          "base_uri": "https://localhost:8080/"
        },
        "id": "y9CUHsHkN_AL",
        "outputId": "c59df2f3-ce0f-4e63-ba82-e2e91e27d2b8"
      },
      "outputs": [
        {
          "name": "stdout",
          "output_type": "stream",
          "text": [
            " Embedding.ipynb\n",
            " EmoTag-Vectors-620d\n",
            " en_2013_01_01.pkl\n",
            " en-ids.tsv\n",
            " glove\n",
            " glove.6B.200d.txt\n",
            " glove.twitter.27B.200d.txt\n",
            " LstmSenti.py\n",
            " model_lstmsenti_001.torch\n",
            " model_lstmsenti_emotag001.torch\n",
            " model_lstmsenti_Emotag_new.torch\n",
            " model_lstmsenti_Emotag.torch\n",
            " model_lstmsenti_glovetwit_new.torch\n",
            " model_lstmsenti_glovtwit.torch\n",
            " model_lstmsenti_gltwit001.torch\n",
            " model_lstmsenti_new.torch\n",
            " model_lstmsenti.torch\n",
            " model_test.torch\n",
            "'Nov 6 note.txt'\n",
            " parquet\n",
            " rehydrate_2013_01_multiprocessing.py\n",
            " rehydrated_tweets\n",
            " rehydrated_tweets_parquet\n",
            " RNNPOS_EMOTAG.ipynb\n",
            " Sentiment_Classification_LSTM_Dec05.ipynb\n",
            " Sentiment_Classification_LSTM.ipynb\n"
          ]
        }
      ],
      "source": [
        "!ls"
      ]
    },
    {
      "cell_type": "markdown",
      "metadata": {
        "id": "6QA-7ATDL9ld"
      },
      "source": [
        "# Loading data"
      ]
    },
    {
      "cell_type": "markdown",
      "metadata": {
        "id": "kjPKynj9Pve6"
      },
      "source": [
        "pyarrow.parquet.read_table() used for reading parquet file"
      ]
    },
    {
      "cell_type": "code",
      "execution_count": null,
      "metadata": {
        "id": "v7bO1GQxPSpM"
      },
      "outputs": [],
      "source": [
        "import pyarrow.parquet as pq\n",
        "import numpy as np\n",
        "import pandas as pd\n",
        "import pyarrow as pa\n",
        "import os\n",
        "Data = pq.read_table('parquet/2013/01/en_2013_01_01.parquet')"
      ]
    },
    {
      "cell_type": "markdown",
      "metadata": {
        "id": "k7RJHH8MP27E"
      },
      "source": [
        ".to_pandas() used for convert data into pandas format"
      ]
    },
    {
      "cell_type": "code",
      "execution_count": null,
      "metadata": {
        "colab": {
          "base_uri": "https://localhost:8080/",
          "height": 485
        },
        "id": "b10a9CxrPquq",
        "outputId": "1cebd542-033e-4ada-87ca-9eabd1c9793c"
      },
      "outputs": [
        {
          "data": {
            "text/html": [
              "\n",
              "  <div id=\"df-9a9ef185-e4b2-4362-9a40-b6d9e9ff1cf8\">\n",
              "    <div class=\"colab-df-container\">\n",
              "      <div>\n",
              "<style scoped>\n",
              "    .dataframe tbody tr th:only-of-type {\n",
              "        vertical-align: middle;\n",
              "    }\n",
              "\n",
              "    .dataframe tbody tr th {\n",
              "        vertical-align: top;\n",
              "    }\n",
              "\n",
              "    .dataframe thead th {\n",
              "        text-align: right;\n",
              "    }\n",
              "</style>\n",
              "<table border=\"1\" class=\"dataframe\">\n",
              "  <thead>\n",
              "    <tr style=\"text-align: right;\">\n",
              "      <th></th>\n",
              "      <th>tweet_date</th>\n",
              "      <th>tweet_id</th>\n",
              "      <th>sentiment</th>\n",
              "      <th>emojis</th>\n",
              "      <th>tweet_day</th>\n",
              "      <th>tweet_month</th>\n",
              "      <th>tweet_year</th>\n",
              "      <th>tweet_year_month</th>\n",
              "      <th>tweet_text</th>\n",
              "    </tr>\n",
              "  </thead>\n",
              "  <tbody>\n",
              "    <tr>\n",
              "      <th>0</th>\n",
              "      <td>2013-01-01</td>\n",
              "      <td>286003826803240960</td>\n",
              "      <td>1</td>\n",
              "      <td>✌</td>\n",
              "      <td>1</td>\n",
              "      <td>1</td>\n",
              "      <td>2013</td>\n",
              "      <td>2013-01</td>\n",
              "      <td>“@BritneyStyles1D: @Harry_Styles TAKE SOME FUC...</td>\n",
              "    </tr>\n",
              "    <tr>\n",
              "      <th>1</th>\n",
              "      <td>2013-01-01</td>\n",
              "      <td>286003826811625472</td>\n",
              "      <td>0</td>\n",
              "      <td>😒</td>\n",
              "      <td>1</td>\n",
              "      <td>1</td>\n",
              "      <td>2013</td>\n",
              "      <td>2013-01</td>\n",
              "      <td>Okaay shes getting anoying now ! 😒</td>\n",
              "    </tr>\n",
              "    <tr>\n",
              "      <th>2</th>\n",
              "      <td>2013-01-01</td>\n",
              "      <td>286003826811625472</td>\n",
              "      <td>0</td>\n",
              "      <td>😒</td>\n",
              "      <td>1</td>\n",
              "      <td>1</td>\n",
              "      <td>2013</td>\n",
              "      <td>2013-01</td>\n",
              "      <td>@nurulintan16 hhe iye , sory yaaw.</td>\n",
              "    </tr>\n",
              "    <tr>\n",
              "      <th>4</th>\n",
              "      <td>2013-01-01</td>\n",
              "      <td>286003830993326080</td>\n",
              "      <td>1</td>\n",
              "      <td>😘</td>\n",
              "      <td>1</td>\n",
              "      <td>1</td>\n",
              "      <td>2013</td>\n",
              "      <td>2013-01</td>\n",
              "      <td>Happy effing New Years!😘  #2013 #kissingmyself...</td>\n",
              "    </tr>\n",
              "    <tr>\n",
              "      <th>5</th>\n",
              "      <td>2013-01-01</td>\n",
              "      <td>286003830993326080</td>\n",
              "      <td>1</td>\n",
              "      <td>😘</td>\n",
              "      <td>1</td>\n",
              "      <td>1</td>\n",
              "      <td>2013</td>\n",
              "      <td>2013-01</td>\n",
              "      <td>@Chiquis626 Por un 2013 juntos :)) Teamoo Prin...</td>\n",
              "    </tr>\n",
              "    <tr>\n",
              "      <th>...</th>\n",
              "      <td>...</td>\n",
              "      <td>...</td>\n",
              "      <td>...</td>\n",
              "      <td>...</td>\n",
              "      <td>...</td>\n",
              "      <td>...</td>\n",
              "      <td>...</td>\n",
              "      <td>...</td>\n",
              "      <td>...</td>\n",
              "    </tr>\n",
              "    <tr>\n",
              "      <th>105211</th>\n",
              "      <td>2013-01-01</td>\n",
              "      <td>286366206284427264</td>\n",
              "      <td>1</td>\n",
              "      <td>😊</td>\n",
              "      <td>1</td>\n",
              "      <td>1</td>\n",
              "      <td>2013</td>\n",
              "      <td>2013-01</td>\n",
              "      <td>@silvia0920 私スゲーデカイ化粧品入れる箱があるよ！机の半分は箱が占領してる…苦笑</td>\n",
              "    </tr>\n",
              "    <tr>\n",
              "      <th>105212</th>\n",
              "      <td>2013-01-01</td>\n",
              "      <td>286366206284427264</td>\n",
              "      <td>1</td>\n",
              "      <td>😊</td>\n",
              "      <td>1</td>\n",
              "      <td>1</td>\n",
              "      <td>2013</td>\n",
              "      <td>2013-01</td>\n",
              "      <td>@thaijaaaa yayyy 👏😊</td>\n",
              "    </tr>\n",
              "    <tr>\n",
              "      <th>105213</th>\n",
              "      <td>2013-01-01</td>\n",
              "      <td>286366206292811776</td>\n",
              "      <td>1</td>\n",
              "      <td>;)</td>\n",
              "      <td>1</td>\n",
              "      <td>1</td>\n",
              "      <td>2013</td>\n",
              "      <td>2013-01</td>\n",
              "      <td>@reecemastin @RhiannonMFish photos of wet n wi...</td>\n",
              "    </tr>\n",
              "    <tr>\n",
              "      <th>105214</th>\n",
              "      <td>2013-01-01</td>\n",
              "      <td>286366210487107584</td>\n",
              "      <td>1</td>\n",
              "      <td>✌</td>\n",
              "      <td>1</td>\n",
              "      <td>1</td>\n",
              "      <td>2013</td>\n",
              "      <td>2013-01</td>\n",
              "      <td>Me parece que no se van a dar cuenta que estab...</td>\n",
              "    </tr>\n",
              "    <tr>\n",
              "      <th>105215</th>\n",
              "      <td>2013-01-01</td>\n",
              "      <td>286366210487107584</td>\n",
              "      <td>1</td>\n",
              "      <td>✌</td>\n",
              "      <td>1</td>\n",
              "      <td>1</td>\n",
              "      <td>2013</td>\n",
              "      <td>2013-01</td>\n",
              "      <td>Night twitter, work in the a.m. ✌</td>\n",
              "    </tr>\n",
              "  </tbody>\n",
              "</table>\n",
              "<p>78134 rows × 9 columns</p>\n",
              "</div>\n",
              "      <button class=\"colab-df-convert\" onclick=\"convertToInteractive('df-9a9ef185-e4b2-4362-9a40-b6d9e9ff1cf8')\"\n",
              "              title=\"Convert this dataframe to an interactive table.\"\n",
              "              style=\"display:none;\">\n",
              "        \n",
              "  <svg xmlns=\"http://www.w3.org/2000/svg\" height=\"24px\"viewBox=\"0 0 24 24\"\n",
              "       width=\"24px\">\n",
              "    <path d=\"M0 0h24v24H0V0z\" fill=\"none\"/>\n",
              "    <path d=\"M18.56 5.44l.94 2.06.94-2.06 2.06-.94-2.06-.94-.94-2.06-.94 2.06-2.06.94zm-11 1L8.5 8.5l.94-2.06 2.06-.94-2.06-.94L8.5 2.5l-.94 2.06-2.06.94zm10 10l.94 2.06.94-2.06 2.06-.94-2.06-.94-.94-2.06-.94 2.06-2.06.94z\"/><path d=\"M17.41 7.96l-1.37-1.37c-.4-.4-.92-.59-1.43-.59-.52 0-1.04.2-1.43.59L10.3 9.45l-7.72 7.72c-.78.78-.78 2.05 0 2.83L4 21.41c.39.39.9.59 1.41.59.51 0 1.02-.2 1.41-.59l7.78-7.78 2.81-2.81c.8-.78.8-2.07 0-2.86zM5.41 20L4 18.59l7.72-7.72 1.47 1.35L5.41 20z\"/>\n",
              "  </svg>\n",
              "      </button>\n",
              "      \n",
              "  <style>\n",
              "    .colab-df-container {\n",
              "      display:flex;\n",
              "      flex-wrap:wrap;\n",
              "      gap: 12px;\n",
              "    }\n",
              "\n",
              "    .colab-df-convert {\n",
              "      background-color: #E8F0FE;\n",
              "      border: none;\n",
              "      border-radius: 50%;\n",
              "      cursor: pointer;\n",
              "      display: none;\n",
              "      fill: #1967D2;\n",
              "      height: 32px;\n",
              "      padding: 0 0 0 0;\n",
              "      width: 32px;\n",
              "    }\n",
              "\n",
              "    .colab-df-convert:hover {\n",
              "      background-color: #E2EBFA;\n",
              "      box-shadow: 0px 1px 2px rgba(60, 64, 67, 0.3), 0px 1px 3px 1px rgba(60, 64, 67, 0.15);\n",
              "      fill: #174EA6;\n",
              "    }\n",
              "\n",
              "    [theme=dark] .colab-df-convert {\n",
              "      background-color: #3B4455;\n",
              "      fill: #D2E3FC;\n",
              "    }\n",
              "\n",
              "    [theme=dark] .colab-df-convert:hover {\n",
              "      background-color: #434B5C;\n",
              "      box-shadow: 0px 1px 3px 1px rgba(0, 0, 0, 0.15);\n",
              "      filter: drop-shadow(0px 1px 2px rgba(0, 0, 0, 0.3));\n",
              "      fill: #FFFFFF;\n",
              "    }\n",
              "  </style>\n",
              "\n",
              "      <script>\n",
              "        const buttonEl =\n",
              "          document.querySelector('#df-9a9ef185-e4b2-4362-9a40-b6d9e9ff1cf8 button.colab-df-convert');\n",
              "        buttonEl.style.display =\n",
              "          google.colab.kernel.accessAllowed ? 'block' : 'none';\n",
              "\n",
              "        async function convertToInteractive(key) {\n",
              "          const element = document.querySelector('#df-9a9ef185-e4b2-4362-9a40-b6d9e9ff1cf8');\n",
              "          const dataTable =\n",
              "            await google.colab.kernel.invokeFunction('convertToInteractive',\n",
              "                                                     [key], {});\n",
              "          if (!dataTable) return;\n",
              "\n",
              "          const docLinkHtml = 'Like what you see? Visit the ' +\n",
              "            '<a target=\"_blank\" href=https://colab.research.google.com/notebooks/data_table.ipynb>data table notebook</a>'\n",
              "            + ' to learn more about interactive tables.';\n",
              "          element.innerHTML = '';\n",
              "          dataTable['output_type'] = 'display_data';\n",
              "          await google.colab.output.renderOutput(dataTable, element);\n",
              "          const docLink = document.createElement('div');\n",
              "          docLink.innerHTML = docLinkHtml;\n",
              "          element.appendChild(docLink);\n",
              "        }\n",
              "      </script>\n",
              "    </div>\n",
              "  </div>\n",
              "  "
            ],
            "text/plain": [
              "       tweet_date            tweet_id  sentiment emojis  tweet_day  \\\n",
              "0      2013-01-01  286003826803240960          1      ✌          1   \n",
              "1      2013-01-01  286003826811625472          0      😒          1   \n",
              "2      2013-01-01  286003826811625472          0      😒          1   \n",
              "4      2013-01-01  286003830993326080          1      😘          1   \n",
              "5      2013-01-01  286003830993326080          1      😘          1   \n",
              "...           ...                 ...        ...    ...        ...   \n",
              "105211 2013-01-01  286366206284427264          1      😊          1   \n",
              "105212 2013-01-01  286366206284427264          1      😊          1   \n",
              "105213 2013-01-01  286366206292811776          1     ;)          1   \n",
              "105214 2013-01-01  286366210487107584          1      ✌          1   \n",
              "105215 2013-01-01  286366210487107584          1      ✌          1   \n",
              "\n",
              "        tweet_month  tweet_year tweet_year_month  \\\n",
              "0                 1        2013          2013-01   \n",
              "1                 1        2013          2013-01   \n",
              "2                 1        2013          2013-01   \n",
              "4                 1        2013          2013-01   \n",
              "5                 1        2013          2013-01   \n",
              "...             ...         ...              ...   \n",
              "105211            1        2013          2013-01   \n",
              "105212            1        2013          2013-01   \n",
              "105213            1        2013          2013-01   \n",
              "105214            1        2013          2013-01   \n",
              "105215            1        2013          2013-01   \n",
              "\n",
              "                                               tweet_text  \n",
              "0       “@BritneyStyles1D: @Harry_Styles TAKE SOME FUC...  \n",
              "1                      Okaay shes getting anoying now ! 😒  \n",
              "2                      @nurulintan16 hhe iye , sory yaaw.  \n",
              "4       Happy effing New Years!😘  #2013 #kissingmyself...  \n",
              "5       @Chiquis626 Por un 2013 juntos :)) Teamoo Prin...  \n",
              "...                                                   ...  \n",
              "105211     @silvia0920 私スゲーデカイ化粧品入れる箱があるよ！机の半分は箱が占領してる…苦笑  \n",
              "105212                                @thaijaaaa yayyy 👏😊  \n",
              "105213  @reecemastin @RhiannonMFish photos of wet n wi...  \n",
              "105214  Me parece que no se van a dar cuenta que estab...  \n",
              "105215                  Night twitter, work in the a.m. ✌  \n",
              "\n",
              "[78134 rows x 9 columns]"
            ]
          },
          "execution_count": 8,
          "metadata": {},
          "output_type": "execute_result"
        }
      ],
      "source": [
        "Data.to_pandas()"
      ]
    },
    {
      "cell_type": "markdown",
      "metadata": {
        "id": "pq4QvdZKQLGd"
      },
      "source": [
        "Function **Load_parquet(folder_path)**"
      ]
    },
    {
      "cell_type": "code",
      "execution_count": null,
      "metadata": {
        "id": "lHOSVbekL_sl"
      },
      "outputs": [],
      "source": [
        "import pyarrow.parquet as pq\n",
        "import numpy as np\n",
        "import pandas as pd\n",
        "import pyarrow as pa\n",
        "import os\n",
        "\n",
        "def Load_parquet(folder_path):\n",
        "  #folder_path: folder contains parquet files ex) \"parquet/2013/1\"\n",
        "  if not os.path.exists(folder_path):\n",
        "    print(\"Path doesn't exist\")\n",
        "    return \n",
        "  \n",
        "  for idx, filename in enumerate(os.listdir(folder_path)):\n",
        "    Data = pq.read_table(folder_path + \"/\" + filename)\n",
        "    Data = Data.to_pandas()\n",
        "    if idx >= 1:\n",
        "      break\n",
        "    if idx == 0:\n",
        "      Full_DATA = Data\n",
        "    else:\n",
        "      Full_DATA = pd.concat([Full_DATA, Data], ignore_index=True)\n",
        "\n",
        "  return Full_DATA\n",
        "  "
      ]
    },
    {
      "cell_type": "markdown",
      "metadata": {
        "id": "_ptMZNBhSKEG"
      },
      "source": [
        "Read first 9 files ( still uploading other files ..) look at if statment in the function (idx >=9)\n"
      ]
    },
    {
      "cell_type": "code",
      "execution_count": null,
      "metadata": {
        "id": "0gsy12ZjST1T"
      },
      "outputs": [],
      "source": [
        "Full_Data = Load_parquet(\"parquet/2013/01\")"
      ]
    },
    {
      "cell_type": "code",
      "execution_count": null,
      "metadata": {
        "colab": {
          "base_uri": "https://localhost:8080/",
          "height": 424
        },
        "id": "VV1RE_CkS03U",
        "outputId": "1e317895-6844-4a97-80a5-c7d37c95d61a"
      },
      "outputs": [
        {
          "data": {
            "text/html": [
              "\n",
              "  <div id=\"df-f3b9421a-39bb-4494-96c4-309084370ed0\">\n",
              "    <div class=\"colab-df-container\">\n",
              "      <div>\n",
              "<style scoped>\n",
              "    .dataframe tbody tr th:only-of-type {\n",
              "        vertical-align: middle;\n",
              "    }\n",
              "\n",
              "    .dataframe tbody tr th {\n",
              "        vertical-align: top;\n",
              "    }\n",
              "\n",
              "    .dataframe thead th {\n",
              "        text-align: right;\n",
              "    }\n",
              "</style>\n",
              "<table border=\"1\" class=\"dataframe\">\n",
              "  <thead>\n",
              "    <tr style=\"text-align: right;\">\n",
              "      <th></th>\n",
              "      <th>tweet_date</th>\n",
              "      <th>tweet_id</th>\n",
              "      <th>sentiment</th>\n",
              "      <th>emojis</th>\n",
              "      <th>tweet_day</th>\n",
              "      <th>tweet_month</th>\n",
              "      <th>tweet_year</th>\n",
              "      <th>tweet_year_month</th>\n",
              "      <th>tweet_text</th>\n",
              "    </tr>\n",
              "  </thead>\n",
              "  <tbody>\n",
              "    <tr>\n",
              "      <th>0</th>\n",
              "      <td>2013-01-29</td>\n",
              "      <td>296150691238518784</td>\n",
              "      <td>1</td>\n",
              "      <td>:)</td>\n",
              "      <td>29</td>\n",
              "      <td>1</td>\n",
              "      <td>2013</td>\n",
              "      <td>2013-01</td>\n",
              "      <td>@ilove_1D143 :) thanks, do you not use them be...</td>\n",
              "    </tr>\n",
              "    <tr>\n",
              "      <th>2</th>\n",
              "      <td>2013-01-29</td>\n",
              "      <td>296150699622952960</td>\n",
              "      <td>0</td>\n",
              "      <td>:(,:(</td>\n",
              "      <td>29</td>\n",
              "      <td>1</td>\n",
              "      <td>2013</td>\n",
              "      <td>2013-01</td>\n",
              "      <td>fresh part that he assumed. The stage lost a f...</td>\n",
              "    </tr>\n",
              "    <tr>\n",
              "      <th>3</th>\n",
              "      <td>2013-01-29</td>\n",
              "      <td>296150699622952960</td>\n",
              "      <td>0</td>\n",
              "      <td>:(,:(</td>\n",
              "      <td>29</td>\n",
              "      <td>1</td>\n",
              "      <td>2013</td>\n",
              "      <td>2013-01</td>\n",
              "      <td>@BrettGriffith6 Yay :( I wish I could tho... </td>\n",
              "    </tr>\n",
              "    <tr>\n",
              "      <th>5</th>\n",
              "      <td>2013-01-29</td>\n",
              "      <td>296150703813050368</td>\n",
              "      <td>1</td>\n",
              "      <td>:)</td>\n",
              "      <td>29</td>\n",
              "      <td>1</td>\n",
              "      <td>2013</td>\n",
              "      <td>2013-01</td>\n",
              "      <td>@babyqueen700 Kindly follow back :)</td>\n",
              "    </tr>\n",
              "    <tr>\n",
              "      <th>6</th>\n",
              "      <td>2013-01-29</td>\n",
              "      <td>296150703829827584</td>\n",
              "      <td>0</td>\n",
              "      <td>😬</td>\n",
              "      <td>29</td>\n",
              "      <td>1</td>\n",
              "      <td>2013</td>\n",
              "      <td>2013-01</td>\n",
              "      <td>@turtle_tiff goodnight 😏😬 and Thankyou . You t...</td>\n",
              "    </tr>\n",
              "    <tr>\n",
              "      <th>...</th>\n",
              "      <td>...</td>\n",
              "      <td>...</td>\n",
              "      <td>...</td>\n",
              "      <td>...</td>\n",
              "      <td>...</td>\n",
              "      <td>...</td>\n",
              "      <td>...</td>\n",
              "      <td>...</td>\n",
              "      <td>...</td>\n",
              "    </tr>\n",
              "    <tr>\n",
              "      <th>128889</th>\n",
              "      <td>2013-01-29</td>\n",
              "      <td>296513062331109376</td>\n",
              "      <td>0</td>\n",
              "      <td>D;</td>\n",
              "      <td>29</td>\n",
              "      <td>1</td>\n",
              "      <td>2013</td>\n",
              "      <td>2013-01</td>\n",
              "      <td>誰か今日19時からSAやりませんか。</td>\n",
              "    </tr>\n",
              "    <tr>\n",
              "      <th>128890</th>\n",
              "      <td>2013-01-29</td>\n",
              "      <td>296513062331109376</td>\n",
              "      <td>0</td>\n",
              "      <td>D;</td>\n",
              "      <td>29</td>\n",
              "      <td>1</td>\n",
              "      <td>2013</td>\n",
              "      <td>2013-01</td>\n",
              "      <td>RT @athkar_ad3ih: اذكار_الصباح ♥\\n\\n\\n\\n\\n  ht...</td>\n",
              "    </tr>\n",
              "    <tr>\n",
              "      <th>128891</th>\n",
              "      <td>2013-01-29</td>\n",
              "      <td>296513062331109376</td>\n",
              "      <td>0</td>\n",
              "      <td>D;</td>\n",
              "      <td>29</td>\n",
              "      <td>1</td>\n",
              "      <td>2013</td>\n",
              "      <td>2013-01</td>\n",
              "      <td>i don't want to represent it in front of my cl...</td>\n",
              "    </tr>\n",
              "    <tr>\n",
              "      <th>128892</th>\n",
              "      <td>2013-01-29</td>\n",
              "      <td>296513070719713280</td>\n",
              "      <td>1</td>\n",
              "      <td>:)</td>\n",
              "      <td>29</td>\n",
              "      <td>1</td>\n",
              "      <td>2013</td>\n",
              "      <td>2013-01</td>\n",
              "      <td>RT “@itssamaris: I have an exessive amount of ...</td>\n",
              "    </tr>\n",
              "    <tr>\n",
              "      <th>128893</th>\n",
              "      <td>2013-01-29</td>\n",
              "      <td>296513070728105984</td>\n",
              "      <td>0</td>\n",
              "      <td>:/</td>\n",
              "      <td>29</td>\n",
              "      <td>1</td>\n",
              "      <td>2013</td>\n",
              "      <td>2013-01</td>\n",
              "      <td>I'm so bored. :/</td>\n",
              "    </tr>\n",
              "  </tbody>\n",
              "</table>\n",
              "<p>94742 rows × 9 columns</p>\n",
              "</div>\n",
              "      <button class=\"colab-df-convert\" onclick=\"convertToInteractive('df-f3b9421a-39bb-4494-96c4-309084370ed0')\"\n",
              "              title=\"Convert this dataframe to an interactive table.\"\n",
              "              style=\"display:none;\">\n",
              "        \n",
              "  <svg xmlns=\"http://www.w3.org/2000/svg\" height=\"24px\"viewBox=\"0 0 24 24\"\n",
              "       width=\"24px\">\n",
              "    <path d=\"M0 0h24v24H0V0z\" fill=\"none\"/>\n",
              "    <path d=\"M18.56 5.44l.94 2.06.94-2.06 2.06-.94-2.06-.94-.94-2.06-.94 2.06-2.06.94zm-11 1L8.5 8.5l.94-2.06 2.06-.94-2.06-.94L8.5 2.5l-.94 2.06-2.06.94zm10 10l.94 2.06.94-2.06 2.06-.94-2.06-.94-.94-2.06-.94 2.06-2.06.94z\"/><path d=\"M17.41 7.96l-1.37-1.37c-.4-.4-.92-.59-1.43-.59-.52 0-1.04.2-1.43.59L10.3 9.45l-7.72 7.72c-.78.78-.78 2.05 0 2.83L4 21.41c.39.39.9.59 1.41.59.51 0 1.02-.2 1.41-.59l7.78-7.78 2.81-2.81c.8-.78.8-2.07 0-2.86zM5.41 20L4 18.59l7.72-7.72 1.47 1.35L5.41 20z\"/>\n",
              "  </svg>\n",
              "      </button>\n",
              "      \n",
              "  <style>\n",
              "    .colab-df-container {\n",
              "      display:flex;\n",
              "      flex-wrap:wrap;\n",
              "      gap: 12px;\n",
              "    }\n",
              "\n",
              "    .colab-df-convert {\n",
              "      background-color: #E8F0FE;\n",
              "      border: none;\n",
              "      border-radius: 50%;\n",
              "      cursor: pointer;\n",
              "      display: none;\n",
              "      fill: #1967D2;\n",
              "      height: 32px;\n",
              "      padding: 0 0 0 0;\n",
              "      width: 32px;\n",
              "    }\n",
              "\n",
              "    .colab-df-convert:hover {\n",
              "      background-color: #E2EBFA;\n",
              "      box-shadow: 0px 1px 2px rgba(60, 64, 67, 0.3), 0px 1px 3px 1px rgba(60, 64, 67, 0.15);\n",
              "      fill: #174EA6;\n",
              "    }\n",
              "\n",
              "    [theme=dark] .colab-df-convert {\n",
              "      background-color: #3B4455;\n",
              "      fill: #D2E3FC;\n",
              "    }\n",
              "\n",
              "    [theme=dark] .colab-df-convert:hover {\n",
              "      background-color: #434B5C;\n",
              "      box-shadow: 0px 1px 3px 1px rgba(0, 0, 0, 0.15);\n",
              "      filter: drop-shadow(0px 1px 2px rgba(0, 0, 0, 0.3));\n",
              "      fill: #FFFFFF;\n",
              "    }\n",
              "  </style>\n",
              "\n",
              "      <script>\n",
              "        const buttonEl =\n",
              "          document.querySelector('#df-f3b9421a-39bb-4494-96c4-309084370ed0 button.colab-df-convert');\n",
              "        buttonEl.style.display =\n",
              "          google.colab.kernel.accessAllowed ? 'block' : 'none';\n",
              "\n",
              "        async function convertToInteractive(key) {\n",
              "          const element = document.querySelector('#df-f3b9421a-39bb-4494-96c4-309084370ed0');\n",
              "          const dataTable =\n",
              "            await google.colab.kernel.invokeFunction('convertToInteractive',\n",
              "                                                     [key], {});\n",
              "          if (!dataTable) return;\n",
              "\n",
              "          const docLinkHtml = 'Like what you see? Visit the ' +\n",
              "            '<a target=\"_blank\" href=https://colab.research.google.com/notebooks/data_table.ipynb>data table notebook</a>'\n",
              "            + ' to learn more about interactive tables.';\n",
              "          element.innerHTML = '';\n",
              "          dataTable['output_type'] = 'display_data';\n",
              "          await google.colab.output.renderOutput(dataTable, element);\n",
              "          const docLink = document.createElement('div');\n",
              "          docLink.innerHTML = docLinkHtml;\n",
              "          element.appendChild(docLink);\n",
              "        }\n",
              "      </script>\n",
              "    </div>\n",
              "  </div>\n",
              "  "
            ],
            "text/plain": [
              "       tweet_date            tweet_id  sentiment emojis  tweet_day  \\\n",
              "0      2013-01-29  296150691238518784          1     :)         29   \n",
              "2      2013-01-29  296150699622952960          0  :(,:(         29   \n",
              "3      2013-01-29  296150699622952960          0  :(,:(         29   \n",
              "5      2013-01-29  296150703813050368          1     :)         29   \n",
              "6      2013-01-29  296150703829827584          0      😬         29   \n",
              "...           ...                 ...        ...    ...        ...   \n",
              "128889 2013-01-29  296513062331109376          0     D;         29   \n",
              "128890 2013-01-29  296513062331109376          0     D;         29   \n",
              "128891 2013-01-29  296513062331109376          0     D;         29   \n",
              "128892 2013-01-29  296513070719713280          1     :)         29   \n",
              "128893 2013-01-29  296513070728105984          0     :/         29   \n",
              "\n",
              "        tweet_month  tweet_year tweet_year_month  \\\n",
              "0                 1        2013          2013-01   \n",
              "2                 1        2013          2013-01   \n",
              "3                 1        2013          2013-01   \n",
              "5                 1        2013          2013-01   \n",
              "6                 1        2013          2013-01   \n",
              "...             ...         ...              ...   \n",
              "128889            1        2013          2013-01   \n",
              "128890            1        2013          2013-01   \n",
              "128891            1        2013          2013-01   \n",
              "128892            1        2013          2013-01   \n",
              "128893            1        2013          2013-01   \n",
              "\n",
              "                                               tweet_text  \n",
              "0       @ilove_1D143 :) thanks, do you not use them be...  \n",
              "2       fresh part that he assumed. The stage lost a f...  \n",
              "3        @BrettGriffith6 Yay :( I wish I could tho...   \n",
              "5                     @babyqueen700 Kindly follow back :)  \n",
              "6       @turtle_tiff goodnight 😏😬 and Thankyou . You t...  \n",
              "...                                                   ...  \n",
              "128889                                 誰か今日19時からSAやりませんか。  \n",
              "128890  RT @athkar_ad3ih: اذكار_الصباح ♥\\n\\n\\n\\n\\n  ht...  \n",
              "128891  i don't want to represent it in front of my cl...  \n",
              "128892  RT “@itssamaris: I have an exessive amount of ...  \n",
              "128893                                   I'm so bored. :/  \n",
              "\n",
              "[94742 rows x 9 columns]"
            ]
          },
          "execution_count": 10,
          "metadata": {},
          "output_type": "execute_result"
        }
      ],
      "source": [
        "Full_Data"
      ]
    },
    {
      "cell_type": "code",
      "execution_count": null,
      "metadata": {
        "colab": {
          "base_uri": "https://localhost:8080/"
        },
        "id": "hw5b0qLW5pvJ",
        "outputId": "57f9215c-52cd-4740-99d0-1c4cca7d7a9c"
      },
      "outputs": [
        {
          "data": {
            "text/plain": [
              "32291"
            ]
          },
          "execution_count": 13,
          "metadata": {},
          "output_type": "execute_result"
        }
      ],
      "source": [
        "sum(Full_Data['sentiment'] == 0)"
      ]
    },
    {
      "cell_type": "code",
      "execution_count": null,
      "metadata": {
        "colab": {
          "base_uri": "https://localhost:8080/"
        },
        "id": "wXTjq8ZA5xyw",
        "outputId": "ab76e95d-e11d-49bf-faf2-3eb989f9b24f"
      },
      "outputs": [
        {
          "data": {
            "text/plain": [
              "62451"
            ]
          },
          "execution_count": 14,
          "metadata": {},
          "output_type": "execute_result"
        }
      ],
      "source": [
        "sum(Full_Data['sentiment'] == 1)"
      ]
    },
    {
      "cell_type": "markdown",
      "metadata": {
        "id": "fB_0KUA3V6X3"
      },
      "source": [
        "#Preprocessing"
      ]
    },
    {
      "cell_type": "code",
      "execution_count": null,
      "metadata": {
        "id": "fXJD-6hkcTEt"
      },
      "outputs": [],
      "source": [
        "\n"
      ]
    },
    {
      "cell_type": "markdown",
      "metadata": {
        "id": "MQrWFemsbvxF"
      },
      "source": [
        "**Get_UNKA** function do **Calculate Frequencey of words + Replace unfreqent word as UNKA**\n",
        "\n",
        "**Create_Vocab** function do **Get Vocabulary of training_dataset**\n",
        "\n",
        "**Preprocess** function do **Shuffle + split sentence + split dataset**"
      ]
    },
    {
      "cell_type": "code",
      "execution_count": null,
      "metadata": {
        "colab": {
          "base_uri": "https://localhost:8080/"
        },
        "id": "Rf1v0LtlV8wg",
        "outputId": "9e6a23cc-edd0-4b3b-e51c-8130cdcaba0c"
      },
      "outputs": [
        {
          "name": "stderr",
          "output_type": "stream",
          "text": [
            "100%|██████████| 400000/400000 [00:21<00:00, 18832.52it/s]\n"
          ]
        },
        {
          "name": "stdout",
          "output_type": "stream",
          "text": [
            "Embedding dimension : 200\n"
          ]
        },
        {
          "name": "stderr",
          "output_type": "stream",
          "text": [
            "16700it [00:00, 72496.94it/s]\n",
            "<ipython-input-24-2db8c813ab7b>:97: DeprecationWarning: `np.int` is a deprecated alias for the builtin `int`. To silence this warning, use `int` by itself. Doing this will not modify any behavior and is safe. When replacing `np.int`, you may wish to use e.g. `np.int64` or `np.int32` to specify the precision. If you wish to review your current use, check the release note link for additional information.\n",
            "Deprecated in NumPy 1.20; for more details and guidance: https://numpy.org/devdocs/release/1.20.0-notes.html#deprecations\n",
            "  padded_label_batch = np.zeros(train_batch, dtype=np.int)\n"
          ]
        }
      ],
      "source": [
        "import random\n",
        "import argparse\n",
        "import os\n",
        "import pickle\n",
        "import torch\n",
        "import torch.nn as nn\n",
        "from sklearn.metrics import accuracy_score\n",
        "from tqdm import tqdm\n",
        "import numpy as np\n",
        "import pandas as pd\n",
        "\n",
        "def create_emb_layer(weight_mat, device=None):\n",
        "    weight_mat = torch.from_numpy(weight_mat)\n",
        "    if device:\n",
        "        weight_mat.to(device)\n",
        "    num_embeddings, embedding_dim = weight_mat.size()\n",
        "    emb_layer = nn.Embedding(num_embeddings, embedding_dim)\n",
        "    emb_layer.load_state_dict({'weight': weight_mat})\n",
        "    emb_layer.weight.requires_grad = False\n",
        "    return emb_layer, embedding_dim\n",
        "\n",
        "def Get_UNKA(words_by_sentence, frequency=2):\n",
        "  #frequency : standard for replace word as UNKA\n",
        "  word_freq = {}\n",
        "  for sentence in words_by_sentence:\n",
        "    for word in sentence:\n",
        "      if (word in word_freq):\n",
        "        word_freq[word] +=1\n",
        "      else:\n",
        "        word_freq[word] = 1\n",
        "  \n",
        "  unka_set = set()\n",
        "  for sentence in words_by_sentence:\n",
        "        for word in sentence:\n",
        "            if (word_freq[word] <= frequency):\n",
        "                unka_set.add(word)\n",
        "  for idx, sentence in enumerate(words_by_sentence):\n",
        "      words_by_sentence[idx] = [\"UNKA\" if word in unka_set else word for word in sentence]\n",
        "  return words_by_sentence\n",
        "\n",
        "def Create_Vocab(words_by_sentence):\n",
        "  vocab_words_set = set()\n",
        "  for sentence in words_by_sentence:\n",
        "    vocab_words_set.update(set(sentence))\n",
        "  vocab_word_list = sorted(vocab_words_set)\n",
        "  vocab_word_list.insert(0, \"<PAD>\") # insert <PAD> at index 0 for padded data\n",
        "  vocab_dict = dict(zip(vocab_word_list, range(len(vocab_word_list))))\n",
        "  \n",
        "  return vocab_dict, vocab_word_list\n",
        "\n",
        "def Tokenize_with_Vocab(words_by_sentence, vocab_dict):\n",
        "    for sentence in words_by_sentence:\n",
        "        for i in range(len(sentence)):\n",
        "            if vocab_dict.get(sentence[i]) == None:\n",
        "              sentence[i] = vocab_dict.get(\"UNKA\")\n",
        "            else:\n",
        "              sentence[i] = vocab_dict.get(sentence[i])\n",
        "\n",
        "\n",
        "\n",
        "def Creat_Batch(words_by_sentence, Label,train_batch):\n",
        "  n_sentences = len(words_by_sentence)\n",
        "  if ((n_sentences % train_batch) == 0):\n",
        "      n_batches = n_sentences / train_batch\n",
        "  else:\n",
        "      n_batches = (n_sentences // train_batch) # if left one is less than bathsize, drop it+ 1\n",
        "  list_of_word_label_batches = [] # list of lists of lists\n",
        "  for i in range(n_batches):\n",
        "      word_label_batche = []\n",
        "      for j in range(train_batch):\n",
        "          sentence_idx = i * train_batch + j\n",
        "          if sentence_idx < n_sentences:\n",
        "              word_label_batche.append((words_by_sentence[sentence_idx], Label[sentence_idx]))\n",
        "      list_of_word_label_batches.append(word_label_batche)\n",
        "  return list_of_word_label_batches\n",
        "\n",
        "def Padding_and_zip_with_label(words_by_sentence, Label):\n",
        "  sentence_lengths = [len(sentence) for sentence in words_by_sentence]\n",
        "  max_sentence_len = max(sentence_lengths)\n",
        "  padded_word_mat = np.zeros((len(words_by_sentence), max_sentence_len))\n",
        "  padded_label_mat = np.zeros(len(words_by_sentence))\n",
        "  for i in range(len(words_by_sentence)):\n",
        "      word_seq = words_by_sentence[i]\n",
        "      padded_word_mat[i, 0:sentence_lengths[i]] = word_seq[:sentence_lengths[i]]\n",
        "      label = Label[i]\n",
        "      padded_label_mat[i] = label\n",
        "\n",
        "  return (padded_word_mat, padded_label_mat), sentence_lengths\n",
        "\n",
        "def Train_Batch_Padding(Train_batches, train_batch):\n",
        "  list_of_lens_in_batch = []\n",
        "  for i in range(len(Train_batches)):\n",
        "      sentence_lengths = [len(data[0]) for data in Train_batches[i]]\n",
        "      list_of_lens_in_batch.append(sentence_lengths)\n",
        "      max_sentence_len = max(sentence_lengths)\n",
        "      padded_word_batch = np.zeros((train_batch, max_sentence_len), dtype=int)\n",
        "      padded_label_batch = np.zeros(train_batch, dtype=np.int)\n",
        "      for j, sentence_len in enumerate(sentence_lengths):\n",
        "          word_seq = Train_batches[i][j][0]\n",
        "          padded_word_batch[j, 0:sentence_len] = word_seq[:sentence_len]\n",
        "          label = Train_batches[i][j][1]\n",
        "          padded_label_batch[j] = label\n",
        "      Train_batches[i] = (padded_word_batch, padded_label_batch)\n",
        "  return Train_batches, list_of_lens_in_batch\n",
        "\n",
        "def Create_weightmat(pre_trained_embedding_file, vocab_word_list):\n",
        "  if pre_trained_embedding_file == 'glove200d':\n",
        "      # get glove embeddings from file and store in dict\n",
        "      # \"glove.6B/glove.6B.200d.txt\"\n",
        "      embedding_file = \"glove.6B.200d.txt\"\n",
        "      Loaded_Emb_dict = {}\n",
        "      with open(embedding_file) as e:\n",
        "          x = e.readlines()\n",
        "          for sentence in tqdm(x):\n",
        "              embedding_list = sentence.split()\n",
        "              target_word = embedding_list[0]\n",
        "              embeddings = embedding_list[1:]\n",
        "              embeddings = [float(val) for val in embeddings]\n",
        "              Loaded_Emb_dict[target_word] = embeddings\n",
        "\n",
        "  elif pre_trained_embedding_file == 'glovetwit200d':\n",
        "      # get glove embeddings from file and store in dict\n",
        "      # \"glove.twitter.27B.200d.txt\"\n",
        "      embedding_file = \"glove.twitter.27B.200d.txt\"\n",
        "      Loaded_Emb_dict = {}\n",
        "      with open(embedding_file) as e:\n",
        "          x = e.readlines()\n",
        "          for sentence in tqdm(x):\n",
        "              embedding_list = sentence.split()\n",
        "              target_word = embedding_list[0]\n",
        "              embeddings = embedding_list[1:]\n",
        "              embeddings = [float(val) for val in embeddings]\n",
        "              Loaded_Emb_dict[target_word] = embeddings\n",
        "  \n",
        "  elif pre_trained_embedding_file == 'Emotag':\n",
        "      # get EmoTag embbeddings from tile and stor in dict\n",
        "      # 'EmoTag-Vectors-620d/emotag-vectors.csv'\n",
        "      embedding_file = 'EmoTag-Vectors-620d/emotag-vectors.csv'\n",
        "      Loaded_Emb_dict = {}\n",
        "      with open(embedding_file, 'r') as e:\n",
        "          x = e.readlines()\n",
        "          for sentence in tqdm(x):\n",
        "              embedding_list = sentence.split()\n",
        "              embedding_list[-1] = embedding_list[-1].replace('\\n','')\n",
        "              target_word = embedding_list[0]\n",
        "              embeddings = embedding_list[1:]\n",
        "              embeddings = [float(val) for val in embeddings]\n",
        "              Loaded_Emb_dict[target_word] = embeddings\n",
        "  else:\n",
        "      print(\"wrong emb file name chosse one name between 'glove200d', 'glovetwit200d', 'Emotag'\")\n",
        "\n",
        "  mat_len = len(vocab_word_list)\n",
        "  embedding_dim = len(embedding_list) - 1\n",
        "  print(f\"Embedding dimension : {embedding_dim}\")\n",
        "\n",
        "  weight_mat = np.zeros((mat_len, embedding_dim))\n",
        "  for i, word in tqdm(enumerate(vocab_word_list)):\n",
        "      if (i > 0): # leave the 0th row as 0s for <PAD> embedding\n",
        "          try:\n",
        "              weight_mat[i] = Loaded_Emb_dict[word]\n",
        "          except KeyError:\n",
        "              # use random values from a normal dist for words not in glove\n",
        "              weight_mat[i] = np.random.normal(scale=0.6, size=(embedding_dim,))\n",
        "  return weight_mat\n",
        "\n",
        "def Preprocess(Full_Data, test_ratio=0.2, evaluation_ratio=0.1, seed=595, train_batch=32, pre_trained_embedding_file='glove200d'):\n",
        "  # Full_Data : Concatenated pandas data from parquet files\n",
        "  # test_ratio : ratio of test set\n",
        "  # evaluation_ratio : ratio of eval set\n",
        "  random.seed(seed)\n",
        "  Text = Full_Data['tweet_text'].to_list()\n",
        "  random.shuffle(Text)  \n",
        "  Label = Full_Data['sentiment'].to_list()\n",
        "  random.shuffle(Label)\n",
        "\n",
        "  N = len(Text)\n",
        "  test_len = round(N * test_ratio)\n",
        "  eval_len = round(N * evaluation_ratio)\n",
        "  train_len = N - test_len - eval_len\n",
        "\n",
        "  words_by_sentence = [sentence.split() for sentence in Text]\n",
        "  words_by_sentence[:train_len] = Get_UNKA(words_by_sentence[:train_len])\n",
        "  vocab_dict, vocab_word_list = Create_Vocab(words_by_sentence[:train_len])\n",
        "  Tokenize_with_Vocab(words_by_sentence, vocab_dict)\n",
        "  Train_batches = Creat_Batch(words_by_sentence[:train_len], Label[:train_len], train_batch)\n",
        "\n",
        "  weight_mat = Create_weightmat(pre_trained_embedding_file, vocab_word_list)\n",
        "\n",
        "  \n",
        "  Train_set, list_of_lens_in_batch = Train_Batch_Padding(Train_batches, train_batch)\n",
        "  Eval_set, Eval_len = Padding_and_zip_with_label(words_by_sentence[train_len: train_len+eval_len], Label[train_len: train_len+eval_len])\n",
        "  Test_set, Test_len = Padding_and_zip_with_label(words_by_sentence[train_len+eval_len: N], Label[train_len+eval_len: N])\n",
        "\n",
        "  return Train_set, Eval_set, Test_set, vocab_dict, weight_mat, list_of_lens_in_batch, Eval_len, Test_len\n",
        "\n",
        "Train_set, Eval_set, Test_set, vocab_dict, weight_mat, list_of_lens_in_batch, Eval_len, Test_len = Preprocess(Full_Data, test_ratio=0.2, evaluation_ratio=0.1, seed=595, train_batch=32, pre_trained_embedding_file='glove200d')\n",
        "  "
      ]
    },
    {
      "cell_type": "markdown",
      "metadata": {
        "id": "WDiJag1Awxg2"
      },
      "source": [
        "(numpy array for tokens, numpy array for the labels)"
      ]
    },
    {
      "cell_type": "code",
      "execution_count": null,
      "metadata": {
        "colab": {
          "base_uri": "https://localhost:8080/"
        },
        "id": "zlsXIAX3yjsU",
        "outputId": "66fa1466-7d57-4572-a9b8-64344fed8e1b"
      },
      "outputs": [
        {
          "data": {
            "text/plain": [
              "18264"
            ]
          },
          "execution_count": 70,
          "metadata": {},
          "output_type": "execute_result"
        }
      ],
      "source": [
        "len(Train_set)"
      ]
    },
    {
      "cell_type": "code",
      "execution_count": null,
      "metadata": {
        "colab": {
          "base_uri": "https://localhost:8080/"
        },
        "id": "VXiUdWrhvoHF",
        "outputId": "361c8dbb-1fcb-4561-ea28-e259e4d78c56"
      },
      "outputs": [
        {
          "data": {
            "text/plain": [
              "2"
            ]
          },
          "execution_count": 14,
          "metadata": {},
          "output_type": "execute_result"
        }
      ],
      "source": [
        "len(Train_set[0])"
      ]
    },
    {
      "cell_type": "code",
      "execution_count": null,
      "metadata": {
        "colab": {
          "base_uri": "https://localhost:8080/"
        },
        "id": "dG_-KnSh8nnc",
        "outputId": "148756eb-d36a-4099-baaf-d04f93a1f09f"
      },
      "outputs": [
        {
          "data": {
            "text/plain": [
              "2"
            ]
          },
          "execution_count": 68,
          "metadata": {},
          "output_type": "execute_result"
        }
      ],
      "source": [
        "len(Train_set[-1][0].shape)"
      ]
    },
    {
      "cell_type": "code",
      "execution_count": null,
      "metadata": {
        "colab": {
          "base_uri": "https://localhost:8080/"
        },
        "id": "6eqME8rdybLP",
        "outputId": "4d5326e9-2d5e-4488-b979-25d7dac0eff6"
      },
      "outputs": [
        {
          "data": {
            "text/plain": [
              "2"
            ]
          },
          "execution_count": 15,
          "metadata": {},
          "output_type": "execute_result"
        }
      ],
      "source": [
        "len(Test_set)"
      ]
    },
    {
      "cell_type": "code",
      "execution_count": null,
      "metadata": {
        "colab": {
          "base_uri": "https://localhost:8080/"
        },
        "id": "De1I7EcHhl2q",
        "outputId": "89432745-9811-46e8-bc23-052946d2322e"
      },
      "outputs": [
        {
          "data": {
            "text/plain": [
              "(32, 29)"
            ]
          },
          "execution_count": 69,
          "metadata": {},
          "output_type": "execute_result"
        }
      ],
      "source": [
        "Train_set[0][0].shape"
      ]
    },
    {
      "cell_type": "code",
      "execution_count": null,
      "metadata": {
        "colab": {
          "base_uri": "https://localhost:8080/"
        },
        "id": "5iijoUAkygEU",
        "outputId": "81f98628-4f0e-4cff-f300-9aa8a8830a42"
      },
      "outputs": [
        {
          "data": {
            "text/plain": [
              "(9474, 37)"
            ]
          },
          "execution_count": 23,
          "metadata": {},
          "output_type": "execute_result"
        }
      ],
      "source": [
        "len(Eval_set[0])\n",
        "Eval_set[0].shape"
      ]
    },
    {
      "cell_type": "code",
      "execution_count": null,
      "metadata": {
        "colab": {
          "base_uri": "https://localhost:8080/"
        },
        "id": "XHr4JcPXom_R",
        "outputId": "f8b364e1-a703-478f-cee0-1c18efcc533a"
      },
      "outputs": [
        {
          "data": {
            "text/plain": [
              "9474"
            ]
          },
          "execution_count": 22,
          "metadata": {},
          "output_type": "execute_result"
        }
      ],
      "source": [
        "len(Eval_set[0])"
      ]
    },
    {
      "cell_type": "markdown",
      "metadata": {
        "id": "1KJGN0RJb7oR"
      },
      "source": [
        "RNN model class"
      ]
    },
    {
      "cell_type": "code",
      "execution_count": null,
      "metadata": {
        "id": "BCMAojarcw0L"
      },
      "outputs": [],
      "source": [
        "BATCH_SIZE = 100\n",
        "HIDDEN_DIM = 128\n",
        "TAGSET_SIZE = 2 #46\n",
        "torch.manual_seed(0)\n",
        "\n",
        "class RNNSentiment(nn.Module):\n",
        "    def __init__(self, hidden_dim, target_size, weight_mat):\n",
        "        super(RNNSentiment, self).__init__()\n",
        "        ############################################\n",
        "        # TODO: Add pytorch cuda device to use gpu #\n",
        "        ############################################\n",
        "        self.cuda0 = torch.device('cuda:0')\n",
        "        self.target_size = target_size\n",
        "        ############################################\n",
        "        # TODO END                                 #\n",
        "        ############################################\n",
        "        self.hidden_dim = hidden_dim\n",
        "        self.embedding, embedding_dim = create_emb_layer(weight_mat, self.cuda0)\n",
        "        # The LSTM takes word embeddings as inputs, and outputs hidden states\n",
        "        # with dimensionality hidden_dim.\n",
        "        self.lstm = nn.LSTM(embedding_dim, hidden_dim)\n",
        "        self.dropout = nn.Dropout(p=0.1)\n",
        "        # The linear layer that maps from hidden state space to tag space\n",
        "        self.hidden2tag = nn.Linear(hidden_dim, target_size)\n",
        "        self.softmax = nn.Softmax(dim=-1)\n",
        "        \n",
        "\n",
        "\n",
        "    def forward(self, sentence, lens_in_batch):\n",
        "        sentence = torch.LongTensor(sentence)\n",
        "        # print('sentence shape')\n",
        "        # print(sentence.shape)\n",
        "        ############################################\n",
        "        # TODO: Add pytorch cuda device to use gpu #\n",
        "        ############################################\n",
        "        sentence.to(self.cuda0)\n",
        "        ############################################\n",
        "        # TODO END                                 #\n",
        "        ############################################\n",
        "        # print('embedding shape')\n",
        "        # print(self.embedding(sentence).shape)\n",
        "        sentence = torch.nn.utils.rnn.pack_padded_sequence(\n",
        "            self.embedding(sentence),\n",
        "            lens_in_batch,\n",
        "            batch_first = True,\n",
        "            enforce_sorted = False\n",
        "        )\n",
        "        \n",
        "        lstm_out, _ = self.lstm(sentence)\n",
        "        lstm_out, _ = torch.nn.utils.rnn.pad_packed_sequence(lstm_out, batch_first=True)\n",
        "        label_space = self.dropout(lstm_out)\n",
        "        # print('after lstm')\n",
        "        # print(label_space.shape)\n",
        "        label_space = label_space.view(label_space.shape[0], -1)\n",
        "        # print('after view')\n",
        "        # print(label_space.shape)\n",
        "        fc1 = nn.Linear(label_space.shape[-1], self.target_size)\n",
        "        label_space = fc1(label_space)#self.hidden2tag(label_space)\n",
        "        # print('after linear')\n",
        "        # print(label_space.shape)\n",
        "      \n",
        "        label_scores = self.softmax(label_space)\n",
        "        return label_scores"
      ]
    },
    {
      "cell_type": "markdown",
      "metadata": {
        "id": "z_LuAZgvcSw7"
      },
      "source": [
        "Train"
      ]
    },
    {
      "cell_type": "code",
      "execution_count": null,
      "metadata": {
        "id": "XIYgIE4DeWbV"
      },
      "outputs": [],
      "source": [
        "def train(Train_set, Eval_set, HIDDEN_DIM, TAGSET_SIZE, weight_mat, list_of_lens_in_batch, Eval_len, learning_rate = 0.01, n_epochs = 30):\n",
        "  cuda0 = torch.device('cuda:0') # .to(cuda0)\n",
        "  # train model\n",
        "  \n",
        "  model = RNNSentiment(HIDDEN_DIM, TAGSET_SIZE, weight_mat)\n",
        "  criterion = torch.nn.CrossEntropyLoss(ignore_index=0)\n",
        "  optimiser = torch.optim.Adam(model.parameters(), lr=learning_rate)\n",
        "  print('##############################')\n",
        "  print('Train Model')\n",
        "  print('##############################')\n",
        "  \n",
        "  for epoch in tqdm(range(n_epochs)):\n",
        "      print(f'\\nepoch: {epoch+1}')\n",
        "      \n",
        "      for batch_no in tqdm(range(len(Train_set))):\n",
        "\n",
        "          padded_word_batch = Train_set[batch_no][0]\n",
        "          padded_label_batch = Train_set[batch_no][1]\n",
        "          lens_in_batch = list_of_lens_in_batch[batch_no]\n",
        "          optimiser.zero_grad()\n",
        "          predictions = model(padded_word_batch, lens_in_batch)\n",
        "          # print(predictions.shape)\n",
        "          # print(padded_label_batch.shape)\n",
        "          predictions = predictions.view(-1, predictions.shape[-1])\n",
        "          padded_label_batch = torch.LongTensor(padded_label_batch).view(-1)\n",
        "          ############################################\n",
        "          # TODO: Add pytorch cuda device to use gpu #\n",
        "          ############################################\n",
        "          padded_label_batch.to(cuda0)\n",
        "          ############################################\n",
        "          # TODO END                                 #\n",
        "          ############################################\n",
        "          loss = criterion(predictions, padded_label_batch)\n",
        "          loss.backward()\n",
        "          optimiser.step()\n",
        "      print(\"FINISHED EPOCH: \" + str(epoch + 1))\n",
        "      print(f'train_loss: {loss}')\n",
        "      \n",
        "      with torch.no_grad():\n",
        "        # length = torch.tensor([len(Eval_set[0])], dtype=torch.int64)\n",
        "        eval_pred = model(Eval_set[0], Eval_len)\n",
        "        eval_pred = eval_pred.view(-1, eval_pred.shape[-1])\n",
        "        labels = Eval_set[1]\n",
        "        labels = torch.LongTensor(labels).view(-1)\n",
        "        labels.to(cuda0)\n",
        "        eval_loss = criterion(eval_pred, labels)\n",
        "        print(f'\\nEvaluation LOSS: {eval_loss}')\n",
        "        eval_pred = torch.argmax(eval_pred, -1).cpu()\n",
        "        score = accuracy_score(eval_pred, labels)\n",
        "        print(f\"Evaluation ACC: {100*score:6.2f}%\")\n",
        "\n",
        "  # Your code ends here\n",
        "\n",
        "  return model\n",
        "\n",
        "def test(Test_set, HIDDEN_DIM, TAGSET_SIZE, weight_mat, Test_len, model_file):\n",
        "  cuda0 = torch.device('cuda:0')\n",
        "  criterion = torch.nn.CrossEntropyLoss(ignore_index=0)\n",
        "  with torch.no_grad():\n",
        "      model = RNNSentiment(HIDDEN_DIM, TAGSET_SIZE, weight_mat)\n",
        "      model.load_state_dict(torch.load(model_file))\n",
        "      # length = torch.tensor([len(Eval_set[0])], dtype=torch.int64)\n",
        "      test_pred = model(Test_set[0], Test_len)\n",
        "      test_pred = test_pred.view(-1, test_pred.shape[-1])\n",
        "      labels = Test_set[1]\n",
        "      labels = torch.LongTensor(labels).view(-1)\n",
        "      labels.to(cuda0)\n",
        "      test_loss = criterion(test_pred, labels)\n",
        "      print(f'\\nTEST LOSS: {test_loss}')\n",
        "      test_pred = torch.argmax(test_pred, -1).cpu()\n",
        "      score = accuracy_score(test_pred, labels)\n",
        "      print(f\"TEST ACC: {100*score:6.2f}%\")\n"
      ]
    },
    {
      "cell_type": "code",
      "execution_count": null,
      "metadata": {
        "id": "OHLIHzARtc_c"
      },
      "outputs": [],
      "source": [
        "import pyarrow.parquet as pq\n",
        "import numpy as np\n",
        "import pandas as pd\n",
        "import pyarrow as pa\n",
        "import os\n",
        "import random\n",
        "import argparse\n",
        "import os\n",
        "import pickle\n",
        "import torch\n",
        "import torch.nn as nn\n",
        "from sklearn.metrics import accuracy_score\n",
        "from functools import partial\n",
        "from tqdm import tqdm\n",
        "tqdm = partial(tqdm, position=0, leave=True)"
      ]
    },
    {
      "cell_type": "markdown",
      "metadata": {
        "id": "eM3OpG7vCyU1"
      },
      "source": [
        "# Functions : Run this cell to define all functions we needed"
      ]
    },
    {
      "cell_type": "code",
      "execution_count": null,
      "metadata": {
        "id": "rjLwgd0RC0nJ"
      },
      "outputs": [],
      "source": [
        "import pyarrow.parquet as pq\n",
        "import numpy as np\n",
        "import pandas as pd\n",
        "import pyarrow as pa\n",
        "import os\n",
        "import random\n",
        "import argparse\n",
        "import os\n",
        "import pickle\n",
        "import torch\n",
        "import torch.nn as nn\n",
        "from sklearn.metrics import accuracy_score\n",
        "from sklearn.metrics import precision_score\n",
        "from sklearn.metrics import recall_score\n",
        "from sklearn.metrics import f1_score\n",
        "\n",
        "from functools import partial\n",
        "from tqdm import tqdm\n",
        "tqdm = partial(tqdm, position=0, leave=True)\n",
        "\n",
        "\n",
        "\n",
        "def Load_parquet(folder_path, stopper=100):\n",
        "  #folder_path: folder contains parquet files ex) \"parquet/2013/1\"\n",
        "  if not os.path.exists(folder_path):\n",
        "    print(\"Path doesn't exist\")\n",
        "    return \n",
        "  \n",
        "  for idx, filename in enumerate(os.listdir(folder_path)):\n",
        "    Data = pq.read_table(folder_path + \"/\" + filename)\n",
        "    Data = Data.to_pandas()\n",
        "    if idx >= stopper:\n",
        "      break\n",
        "    \n",
        "    if idx == 0:\n",
        "      Full_DATA = Data\n",
        "    else:\n",
        "      Full_DATA = pd.concat([Full_DATA, Data], ignore_index=True)\n",
        "\n",
        "  return Full_DATA\n",
        "\n",
        "def create_emb_layer(weight_mat, device=None):\n",
        "    weight_mat = torch.from_numpy(weight_mat)\n",
        "    if device:\n",
        "        weight_mat.to(device)\n",
        "    num_embeddings, embedding_dim = weight_mat.size()\n",
        "    emb_layer = nn.Embedding(num_embeddings, embedding_dim)\n",
        "    emb_layer.load_state_dict({'weight': weight_mat})\n",
        "    emb_layer.weight.requires_grad = False\n",
        "    return emb_layer, embedding_dim\n",
        "\n",
        "def Get_UNKA(words_by_sentence, frequency=2):\n",
        "  #frequency : standard for replace word as UNKA\n",
        "  word_freq = {}\n",
        "  for sentence in words_by_sentence:\n",
        "    for word in sentence:\n",
        "      if (word in word_freq):\n",
        "        word_freq[word] +=1\n",
        "      else:\n",
        "        word_freq[word] = 1\n",
        "  \n",
        "  unka_set = set()\n",
        "  for sentence in words_by_sentence:\n",
        "        for word in sentence:\n",
        "            if (word_freq[word] <= frequency):\n",
        "                unka_set.add(word)\n",
        "  for idx, sentence in enumerate(words_by_sentence):\n",
        "      words_by_sentence[idx] = [\"UNKA\" if word in unka_set else word for word in sentence]\n",
        "  return words_by_sentence\n",
        "\n",
        "def Create_Vocab(words_by_sentence):\n",
        "  vocab_words_set = set()\n",
        "  for sentence in words_by_sentence:\n",
        "    vocab_words_set.update(set(sentence))\n",
        "  vocab_word_list = sorted(vocab_words_set)\n",
        "  vocab_word_list.insert(0, \"<PAD>\") # insert <PAD> at index 0 for padded data\n",
        "  vocab_dict = dict(zip(vocab_word_list, range(len(vocab_word_list))))\n",
        "  \n",
        "  return vocab_dict, vocab_word_list\n",
        "\n",
        "def Tokenize_with_Vocab(words_by_sentence, vocab_dict):\n",
        "    for sentence in words_by_sentence:\n",
        "        for i in range(len(sentence)):\n",
        "            if vocab_dict.get(sentence[i]) == None:\n",
        "              sentence[i] = vocab_dict.get(\"UNKA\")\n",
        "            else:\n",
        "              sentence[i] = vocab_dict.get(sentence[i])\n",
        "\n",
        "\n",
        "\n",
        "def Creat_Batch(words_by_sentence, Label,train_batch):\n",
        "  n_sentences = len(words_by_sentence)\n",
        "  if ((n_sentences % train_batch) == 0):\n",
        "      n_batches = n_sentences / train_batch\n",
        "  else:\n",
        "      n_batches = (n_sentences // train_batch) # if left one is less than bathsize, drop it+ 1\n",
        "  list_of_word_label_batches = [] # list of lists of lists\n",
        "  for i in range(n_batches):\n",
        "      word_label_batche = []\n",
        "      for j in range(train_batch):\n",
        "          sentence_idx = i * train_batch + j\n",
        "          if sentence_idx < n_sentences:\n",
        "              word_label_batche.append((words_by_sentence[sentence_idx], Label[sentence_idx]))\n",
        "      list_of_word_label_batches.append(word_label_batche)\n",
        "  return list_of_word_label_batches\n",
        "\n",
        "def Padding_and_zip_with_label(words_by_sentence, Label):\n",
        "  sentence_lengths = [len(sentence) for sentence in words_by_sentence]\n",
        "  max_sentence_len = max(sentence_lengths)\n",
        "  padded_word_mat = np.zeros((len(words_by_sentence), max_sentence_len))\n",
        "  padded_label_mat = np.zeros(len(words_by_sentence))\n",
        "  for i in range(len(words_by_sentence)):\n",
        "      word_seq = words_by_sentence[i]\n",
        "      padded_word_mat[i, 0:sentence_lengths[i]] = word_seq[:sentence_lengths[i]]\n",
        "      label = Label[i]\n",
        "      padded_label_mat[i] = label\n",
        "\n",
        "  return (padded_word_mat, padded_label_mat), sentence_lengths\n",
        "\n",
        "def Train_Batch_Padding(Train_batches, train_batch):\n",
        "  list_of_lens_in_batch = []\n",
        "  for i in range(len(Train_batches)):\n",
        "      sentence_lengths = [len(data[0]) for data in Train_batches[i]]\n",
        "      list_of_lens_in_batch.append(sentence_lengths)\n",
        "      max_sentence_len = max(sentence_lengths)\n",
        "      padded_word_batch = np.zeros((train_batch, max_sentence_len), dtype=int)\n",
        "      padded_label_batch = np.zeros(train_batch, dtype=np.int)\n",
        "      for j, sentence_len in enumerate(sentence_lengths):\n",
        "          word_seq = Train_batches[i][j][0]\n",
        "          padded_word_batch[j, 0:sentence_len] = word_seq[:sentence_len]\n",
        "          label = Train_batches[i][j][1]\n",
        "          padded_label_batch[j] = label\n",
        "      Train_batches[i] = (padded_word_batch, padded_label_batch)\n",
        "  return Train_batches, list_of_lens_in_batch\n",
        "\n",
        "def Create_weightmat(pre_trained_embedding_file, vocab_word_list):\n",
        "  if pre_trained_embedding_file == 'glove200d':\n",
        "      # get glove embeddings from file and store in dict\n",
        "      # \"glove.6B/glove.6B.200d.txt\"\n",
        "      embedding_file = \"glove.6B.200d.txt\"\n",
        "      Loaded_Emb_dict = {}\n",
        "      with open(embedding_file) as e:\n",
        "          x = e.readlines()\n",
        "          for sentence in tqdm(x):\n",
        "              embedding_list = sentence.split()\n",
        "              target_word = embedding_list[0]\n",
        "              embeddings = embedding_list[1:]\n",
        "              embeddings = [float(val) for val in embeddings]\n",
        "              Loaded_Emb_dict[target_word] = embeddings\n",
        "\n",
        "  elif pre_trained_embedding_file == 'glovetwit200d':\n",
        "      # get glove embeddings from file and store in dict\n",
        "      # \"glove.twitter.27B.200d.txt\"\n",
        "      embedding_file = \"glove.twitter.27B.200d.txt\"\n",
        "      Loaded_Emb_dict = {}\n",
        "      with open(embedding_file) as e:\n",
        "          x = e.readlines()\n",
        "          for sentence in tqdm(x):\n",
        "              embedding_list = sentence.split()\n",
        "              target_word = embedding_list[0]\n",
        "              embeddings = embedding_list[1:]\n",
        "              embeddings = [float(val) for val in embeddings]\n",
        "              Loaded_Emb_dict[target_word] = embeddings\n",
        "  \n",
        "  elif pre_trained_embedding_file == 'Emotag':\n",
        "      # get EmoTag embbeddings from tile and stor in dict\n",
        "      # 'EmoTag-Vectors-620d/emotag-vectors.csv'\n",
        "      embedding_file = 'EmoTag-Vectors-620d/emotag-vectors.csv'\n",
        "      Loaded_Emb_dict = {}\n",
        "      with open(embedding_file, 'r') as e:\n",
        "          x = e.readlines()\n",
        "          for sentence in tqdm(x):\n",
        "              embedding_list = sentence.split()\n",
        "              embedding_list[-1] = embedding_list[-1].replace('\\n','')\n",
        "              target_word = embedding_list[0]\n",
        "              embeddings = embedding_list[1:]\n",
        "              embeddings = [float(val) for val in embeddings]\n",
        "              Loaded_Emb_dict[target_word] = embeddings\n",
        "  else:\n",
        "      print(\"wrong emb file name chosse one name between 'glove200d', 'glovetwit200d', 'Emotag'\")\n",
        "\n",
        "  mat_len = len(vocab_word_list)\n",
        "  embedding_dim = len(embedding_list) - 1\n",
        "  print(f\"Embedding dimension : {embedding_dim}\")\n",
        "\n",
        "  weight_mat = np.zeros((mat_len, embedding_dim))\n",
        "  for i, word in tqdm(enumerate(vocab_word_list)):\n",
        "      if (i > 0): # leave the 0th row as 0s for <PAD> embedding\n",
        "          try:\n",
        "              weight_mat[i] = Loaded_Emb_dict[word]\n",
        "          except KeyError:\n",
        "              # use random values from a normal dist for words not in glove\n",
        "              weight_mat[i] = np.random.normal(scale=0.6, size=(embedding_dim,))\n",
        "  return weight_mat\n",
        "\n",
        "def Preprocess(Full_Data, test_ratio=0.2, evaluation_ratio=0.1, seed=595, train_batch=32, pre_trained_embedding_file='glove200d'):\n",
        "  # Full_Data : Concatenated pandas data from parquet files\n",
        "  # test_ratio : ratio of test set\n",
        "  # evaluation_ratio : ratio of eval set\n",
        "  random.seed(seed)\n",
        "  Text = Full_Data['tweet_text'].to_list()\n",
        "  random.shuffle(Text)  \n",
        "  Label = Full_Data['sentiment'].to_list()\n",
        "  random.shuffle(Label)\n",
        "\n",
        "  N = len(Text)\n",
        "  test_len = round(N * test_ratio)\n",
        "  eval_len = round(N * evaluation_ratio)\n",
        "  train_len = N - test_len - eval_len\n",
        "\n",
        "  words_by_sentence = [sentence.split() for sentence in Text]\n",
        "  words_by_sentence[:train_len] = Get_UNKA(words_by_sentence[:train_len])\n",
        "  vocab_dict, vocab_word_list = Create_Vocab(words_by_sentence[:train_len])\n",
        "  Tokenize_with_Vocab(words_by_sentence, vocab_dict)\n",
        "  Train_batches = Creat_Batch(words_by_sentence[:train_len], Label[:train_len], train_batch)\n",
        "\n",
        "  weight_mat = Create_weightmat(pre_trained_embedding_file, vocab_word_list)\n",
        "\n",
        "  \n",
        "  Train_set, list_of_lens_in_batch = Train_Batch_Padding(Train_batches, train_batch)\n",
        "  Eval_set, Eval_len = Padding_and_zip_with_label(words_by_sentence[train_len: train_len+eval_len], Label[train_len: train_len+eval_len])\n",
        "  Test_set, Test_len = Padding_and_zip_with_label(words_by_sentence[train_len+eval_len: N], Label[train_len+eval_len: N])\n",
        "\n",
        "  return Train_set, Eval_set, Test_set, vocab_dict, weight_mat, list_of_lens_in_batch, Eval_len, Test_len\n",
        "\n",
        "\n",
        "\n",
        "class RNNSentiment(nn.Module):\n",
        "    def __init__(self, hidden_dim, target_size, weight_mat):\n",
        "        super(RNNSentiment, self).__init__()\n",
        "        ############################################\n",
        "        # TODO: Add pytorch cuda device to use gpu #\n",
        "        ############################################\n",
        "        self.cuda0 = torch.device('cuda:0')\n",
        "        self.target_size = target_size\n",
        "        ############################################\n",
        "        # TODO END                                 #\n",
        "        ############################################\n",
        "        self.hidden_dim = hidden_dim\n",
        "        self.embedding, embedding_dim = create_emb_layer(weight_mat, self.cuda0)\n",
        "        # The LSTM takes word embeddings as inputs, and outputs hidden states\n",
        "        # with dimensionality hidden_dim.\n",
        "        self.lstm = nn.LSTM(embedding_dim, hidden_dim)\n",
        "        self.dropout = nn.Dropout(p=0.1)\n",
        "        # The linear layer that maps from hidden state space to tag space\n",
        "        self.hidden2tag = nn.Linear(hidden_dim, target_size)\n",
        "        self.softmax = nn.Softmax(dim=-1)\n",
        "        \n",
        "\n",
        "\n",
        "    def forward(self, sentence, lens_in_batch):\n",
        "        sentence = torch.LongTensor(sentence)\n",
        "        # print('sentence shape')\n",
        "        # print(sentence.shape)\n",
        "        ############################################\n",
        "        # TODO: Add pytorch cuda device to use gpu #\n",
        "        ############################################\n",
        "        sentence.to(self.cuda0)\n",
        "        ############################################\n",
        "        # TODO END                                 #\n",
        "        ############################################\n",
        "        # print('embedding shape')\n",
        "        # print(self.embedding(sentence).shape)\n",
        "        sentence = torch.nn.utils.rnn.pack_padded_sequence(\n",
        "            self.embedding(sentence),\n",
        "            lens_in_batch,\n",
        "            batch_first = True,\n",
        "            enforce_sorted = False\n",
        "        )\n",
        "        \n",
        "        lstm_out, _ = self.lstm(sentence)\n",
        "        lstm_out, _ = torch.nn.utils.rnn.pad_packed_sequence(lstm_out, batch_first=True)\n",
        "        label_space = self.dropout(lstm_out)\n",
        "        # print('after lstm')\n",
        "        # print(label_space.shape)\n",
        "        label_space = label_space.view(label_space.shape[0], -1)\n",
        "        # print('after view')\n",
        "        # print(label_space.shape)\n",
        "        fc1 = nn.Linear(label_space.shape[-1], self.target_size)\n",
        "        label_space = fc1(label_space)#self.hidden2tag(label_space)\n",
        "        # print('after linear')\n",
        "        # print(label_space.shape)\n",
        "      \n",
        "        label_scores = self.softmax(label_space)\n",
        "        return label_scores\n",
        "\n",
        "def train(Train_set, Eval_set, HIDDEN_DIM, TAGSET_SIZE, weight_mat, list_of_lens_in_batch, Eval_len, learning_rate = 0.01, n_epochs = 30):\n",
        "  cuda0 = torch.device('cuda:0') # .to(cuda0)\n",
        "  # train model\n",
        "  \n",
        "  model = RNNSentiment(HIDDEN_DIM, TAGSET_SIZE, weight_mat)\n",
        "  criterion = torch.nn.CrossEntropyLoss(ignore_index=0)\n",
        "  optimiser = torch.optim.Adam(model.parameters(), lr=learning_rate)\n",
        "  print('##############################')\n",
        "  print('Train Model')\n",
        "  print('##############################')\n",
        "  \n",
        "  for epoch in tqdm(range(n_epochs)):\n",
        "      print(f'\\nepoch: {epoch+1}')\n",
        "      \n",
        "      for batch_no in tqdm(range(len(Train_set))):\n",
        "\n",
        "          padded_word_batch = Train_set[batch_no][0]\n",
        "          padded_label_batch = Train_set[batch_no][1]\n",
        "          lens_in_batch = list_of_lens_in_batch[batch_no]\n",
        "          # if lens_in_batch <0:\n",
        "          #   print(lens_in_batch, batch_no)\n",
        "          optimiser.zero_grad()\n",
        "          predictions = model(padded_word_batch, lens_in_batch)\n",
        "          # print(predictions.shape)\n",
        "          # print(padded_label_batch.shape)\n",
        "          predictions = predictions.view(-1, predictions.shape[-1])\n",
        "          padded_label_batch = torch.LongTensor(padded_label_batch).view(-1)\n",
        "          ############################################\n",
        "          # TODO: Add pytorch cuda device to use gpu #\n",
        "          ############################################\n",
        "          padded_label_batch.to(cuda0)\n",
        "          ############################################\n",
        "          # TODO END                                 #\n",
        "          ############################################\n",
        "          loss = criterion(predictions, padded_label_batch)\n",
        "          loss.backward()\n",
        "          optimiser.step()\n",
        "      print(\"FINISHED EPOCH: \" + str(epoch + 1))\n",
        "      print(f'train_loss: {loss}')\n",
        "      \n",
        "      with torch.no_grad():\n",
        "        # length = torch.tensor([len(Eval_set[0])], dtype=torch.int64)\n",
        "        eval_pred = model(Eval_set[0], Eval_len)\n",
        "        eval_pred = eval_pred.view(-1, eval_pred.shape[-1])\n",
        "        labels = Eval_set[1]\n",
        "        labels = torch.LongTensor(labels).view(-1)\n",
        "        labels.to(cuda0)\n",
        "        eval_loss = criterion(eval_pred, labels)\n",
        "        print(f'\\nEvaluation LOSS: {eval_loss}')\n",
        "        eval_pred = torch.argmax(eval_pred, -1).cpu()\n",
        "        score = accuracy_score(eval_pred, labels)\n",
        "        print(f\"Evaluation ACC: {100*score:6.2f}%\")\n",
        "\n",
        "  # Your code ends here\n",
        "\n",
        "  return model\n",
        "\n",
        "def test(Test_set, HIDDEN_DIM, TAGSET_SIZE, weight_mat, Test_len, model_file):\n",
        "  cuda0 = torch.device('cuda:0')\n",
        "  criterion = torch.nn.CrossEntropyLoss(ignore_index=0)\n",
        "  with torch.no_grad():\n",
        "      model = RNNSentiment(HIDDEN_DIM, TAGSET_SIZE, weight_mat)\n",
        "      model.load_state_dict(torch.load(model_file))\n",
        "      # length = torch.tensor([len(Eval_set[0])], dtype=torch.int64)\n",
        "      test_pred = model(Test_set[0], Test_len)\n",
        "      test_pred = test_pred.view(-1, test_pred.shape[-1])\n",
        "      labels = Test_set[1]\n",
        "      labels = torch.LongTensor(labels).view(-1)\n",
        "      labels.to(cuda0)\n",
        "      test_loss = criterion(test_pred, labels)\n",
        "      print(f'\\nTEST LOSS: {test_loss}')\n",
        "      test_pred = torch.argmax(test_pred, -1).cpu()\n",
        "      score = accuracy_score(test_pred, labels)\n",
        "      recall = recall_score(test_pred, labels)\n",
        "      precision = precision_score(test_pred, labels)\n",
        "      f1 = f1_score(test_pred, labels)\n",
        "      print(f\"Recall: {100*recall}\")\n",
        "      print(f\"Precision: {100*precision}\")\n",
        "      print(f\"F1-Score: {100*f1}\")\n",
        "      print(f\"TEST ACC: {100*score:6.2f}%\")\n",
        "  "
      ]
    },
    {
      "cell_type": "markdown",
      "metadata": {
        "id": "ppV7e1PIC8BP"
      },
      "source": [
        "# Experiment lr=0.01 batch 32"
      ]
    },
    {
      "cell_type": "code",
      "execution_count": null,
      "metadata": {
        "id": "VF5VhpP3txCQ"
      },
      "outputs": [],
      "source": [
        "Full_Data = Load_parquet(\"parquet/2013/01\")\n",
        "# rehydrated_tweets_parquet/2013/01"
      ]
    },
    {
      "cell_type": "code",
      "execution_count": null,
      "metadata": {
        "colab": {
          "base_uri": "https://localhost:8080/"
        },
        "id": "kh0DDh8itx1p",
        "outputId": "789748f7-5d30-444f-d3a9-21fed1bd2c8b"
      },
      "outputs": [
        {
          "name": "stderr",
          "output_type": "stream",
          "text": [
            "100%|██████████| 400000/400000 [00:19<00:00, 20229.89it/s]\n"
          ]
        },
        {
          "name": "stdout",
          "output_type": "stream",
          "text": [
            "Embedding dimension : 200\n"
          ]
        },
        {
          "name": "stderr",
          "output_type": "stream",
          "text": [
            "94058it [00:01, 69948.99it/s]\n",
            "<ipython-input-11-1b7ee74d723d>:97: DeprecationWarning: `np.int` is a deprecated alias for the builtin `int`. To silence this warning, use `int` by itself. Doing this will not modify any behavior and is safe. When replacing `np.int`, you may wish to use e.g. `np.int64` or `np.int32` to specify the precision. If you wish to review your current use, check the release note link for additional information.\n",
            "Deprecated in NumPy 1.20; for more details and guidance: https://numpy.org/devdocs/release/1.20.0-notes.html#deprecations\n",
            "  padded_label_batch = np.zeros(train_batch, dtype=np.int)\n"
          ]
        }
      ],
      "source": [
        "# Train_set, Eval_set, Test_set, vocab_dict, weight_mat, list_of_lens_in_batch, Eval_len, Test_len = Preprocess(Full_Data, test_ratio=0.2, evaluation_ratio=0.1, seed=595, train_batch=32, pre_trained_embedding_file='glove200d')\n"
      ]
    },
    {
      "cell_type": "code",
      "execution_count": null,
      "metadata": {
        "colab": {
          "base_uri": "https://localhost:8080/"
        },
        "id": "tpqr0gsJpnKo",
        "outputId": "c7a04d4f-e27c-408e-9b01-76a3a431abb5"
      },
      "outputs": [
        {
          "name": "stderr",
          "output_type": "stream",
          "text": [
            "100%|██████████| 400000/400000 [00:21<00:00, 18823.15it/s]\n"
          ]
        },
        {
          "name": "stdout",
          "output_type": "stream",
          "text": [
            "Embedding dimension : 200\n"
          ]
        },
        {
          "name": "stderr",
          "output_type": "stream",
          "text": [
            "18448it [00:00, 71460.58it/s]\n",
            "<ipython-input-12-8ba3a0104568>:126: DeprecationWarning: `np.int` is a deprecated alias for the builtin `int`. To silence this warning, use `int` by itself. Doing this will not modify any behavior and is safe. When replacing `np.int`, you may wish to use e.g. `np.int64` or `np.int32` to specify the precision. If you wish to review your current use, check the release note link for additional information.\n",
            "Deprecated in NumPy 1.20; for more details and guidance: https://numpy.org/devdocs/release/1.20.0-notes.html#deprecations\n",
            "  padded_label_batch = np.zeros(train_batch, dtype=np.int)\n"
          ]
        },
        {
          "name": "stdout",
          "output_type": "stream",
          "text": [
            "##############################\n",
            "Train Model\n",
            "##############################\n"
          ]
        },
        {
          "name": "stderr",
          "output_type": "stream",
          "text": [
            "\r  0%|          | 0/10 [00:00<?, ?it/s]"
          ]
        },
        {
          "name": "stdout",
          "output_type": "stream",
          "text": [
            "\n",
            "epoch: 1\n"
          ]
        },
        {
          "name": "stderr",
          "output_type": "stream",
          "text": [
            "100%|██████████| 2338/2338 [00:47<00:00, 49.66it/s]\n",
            " 10%|█         | 1/10 [00:47<07:04, 47.14s/it]"
          ]
        },
        {
          "name": "stdout",
          "output_type": "stream",
          "text": [
            "FINISHED EPOCH: 1\n",
            "train_loss: 0.7915410399436951\n",
            "\n",
            "Evaluation LOSS: 0.6711509823799133\n",
            "Evaluation ACC:  59.13%\n",
            "\n",
            "epoch: 2\n"
          ]
        },
        {
          "name": "stderr",
          "output_type": "stream",
          "text": [
            "100%|██████████| 2338/2338 [00:48<00:00, 48.67it/s]\n",
            " 20%|██        | 2/10 [01:35<06:21, 47.70s/it]"
          ]
        },
        {
          "name": "stdout",
          "output_type": "stream",
          "text": [
            "FINISHED EPOCH: 2\n",
            "train_loss: 0.6588501930236816\n",
            "\n",
            "Evaluation LOSS: 0.6844974756240845\n",
            "Evaluation ACC:  52.90%\n",
            "\n",
            "epoch: 3\n"
          ]
        },
        {
          "name": "stderr",
          "output_type": "stream",
          "text": [
            "100%|██████████| 2338/2338 [00:48<00:00, 48.62it/s]\n",
            " 30%|███       | 3/10 [02:23<05:35, 47.91s/it]"
          ]
        },
        {
          "name": "stdout",
          "output_type": "stream",
          "text": [
            "FINISHED EPOCH: 3\n",
            "train_loss: 0.6776795983314514\n",
            "\n",
            "Evaluation LOSS: 0.7240248322486877\n",
            "Evaluation ACC:  43.93%\n",
            "\n",
            "epoch: 4\n"
          ]
        },
        {
          "name": "stderr",
          "output_type": "stream",
          "text": [
            "100%|██████████| 2338/2338 [00:49<00:00, 47.53it/s]\n",
            " 40%|████      | 4/10 [03:12<04:50, 48.44s/it]"
          ]
        },
        {
          "name": "stdout",
          "output_type": "stream",
          "text": [
            "FINISHED EPOCH: 4\n",
            "train_loss: 0.6942887902259827\n",
            "\n",
            "Evaluation LOSS: 0.7112922072410583\n",
            "Evaluation ACC:  41.71%\n",
            "\n",
            "epoch: 5\n"
          ]
        },
        {
          "name": "stderr",
          "output_type": "stream",
          "text": [
            "100%|██████████| 2338/2338 [00:50<00:00, 46.28it/s]\n",
            " 50%|█████     | 5/10 [04:03<04:06, 49.21s/it]"
          ]
        },
        {
          "name": "stdout",
          "output_type": "stream",
          "text": [
            "FINISHED EPOCH: 5\n",
            "train_loss: 0.7002847194671631\n",
            "\n",
            "Evaluation LOSS: 0.7702271342277527\n",
            "Evaluation ACC:  34.00%\n",
            "\n",
            "epoch: 6\n"
          ]
        },
        {
          "name": "stderr",
          "output_type": "stream",
          "text": [
            "100%|██████████| 2338/2338 [00:51<00:00, 45.28it/s]\n",
            " 60%|██████    | 6/10 [04:54<03:20, 50.05s/it]"
          ]
        },
        {
          "name": "stdout",
          "output_type": "stream",
          "text": [
            "FINISHED EPOCH: 6\n",
            "train_loss: 0.6687812805175781\n",
            "\n",
            "Evaluation LOSS: 0.7107248902320862\n",
            "Evaluation ACC:  44.56%\n",
            "\n",
            "epoch: 7\n"
          ]
        },
        {
          "name": "stderr",
          "output_type": "stream",
          "text": [
            "100%|██████████| 2338/2338 [00:52<00:00, 44.49it/s]\n",
            " 70%|███████   | 7/10 [05:47<02:32, 50.89s/it]"
          ]
        },
        {
          "name": "stdout",
          "output_type": "stream",
          "text": [
            "FINISHED EPOCH: 7\n",
            "train_loss: 0.65947026014328\n",
            "\n",
            "Evaluation LOSS: 0.6733245253562927\n",
            "Evaluation ACC:  56.71%\n",
            "\n",
            "epoch: 8\n"
          ]
        },
        {
          "name": "stderr",
          "output_type": "stream",
          "text": [
            "100%|██████████| 2338/2338 [00:53<00:00, 43.76it/s]\n",
            " 80%|████████  | 8/10 [06:41<01:43, 51.72s/it]"
          ]
        },
        {
          "name": "stdout",
          "output_type": "stream",
          "text": [
            "FINISHED EPOCH: 8\n",
            "train_loss: 0.7440286874771118\n",
            "\n",
            "Evaluation LOSS: 0.6840847730636597\n",
            "Evaluation ACC:  55.12%\n",
            "\n",
            "epoch: 9\n"
          ]
        },
        {
          "name": "stderr",
          "output_type": "stream",
          "text": [
            "100%|██████████| 2338/2338 [00:55<00:00, 42.26it/s]\n",
            " 90%|█████████ | 9/10 [07:36<00:52, 52.86s/it]"
          ]
        },
        {
          "name": "stdout",
          "output_type": "stream",
          "text": [
            "FINISHED EPOCH: 9\n",
            "train_loss: 0.6618101596832275\n",
            "\n",
            "Evaluation LOSS: 0.7020852565765381\n",
            "Evaluation ACC:  47.10%\n",
            "\n",
            "epoch: 10\n"
          ]
        },
        {
          "name": "stderr",
          "output_type": "stream",
          "text": [
            "100%|██████████| 2338/2338 [00:56<00:00, 41.46it/s]\n",
            "100%|██████████| 10/10 [08:32<00:00, 51.28s/it]"
          ]
        },
        {
          "name": "stdout",
          "output_type": "stream",
          "text": [
            "FINISHED EPOCH: 10\n",
            "train_loss: 0.6840071082115173\n",
            "\n",
            "Evaluation LOSS: 0.7493972778320312\n",
            "Evaluation ACC:  38.75%\n"
          ]
        },
        {
          "name": "stderr",
          "output_type": "stream",
          "text": [
            "\n"
          ]
        }
      ],
      "source": [
        "# Full_Data = Load_parquet(\"parquet/2013/01\")\n",
        "Train_set, Eval_set, Test_set, vocab_dict, weight_mat, list_of_lens_in_batch, Eval_len, Test_len = Preprocess(Full_Data, test_ratio=0.2, evaluation_ratio=0.01, seed=595, train_batch=32, pre_trained_embedding_file='glove200d')\n",
        "BATCH_SIZE = 32\n",
        "HIDDEN_DIM = 128\n",
        "TAGSET_SIZE = 2 #46\n",
        "torch.manual_seed(0)\n",
        "model = train(Train_set, Eval_set, HIDDEN_DIM, TAGSET_SIZE, weight_mat, list_of_lens_in_batch, Eval_len, learning_rate=0.01, n_epochs=10)\n",
        "torch.save(model.state_dict(), 'model_lstmsenti.torch')"
      ]
    },
    {
      "cell_type": "markdown",
      "source": [
        "Graph"
      ],
      "metadata": {
        "id": "JnRMi7fcXinw"
      }
    },
    {
      "cell_type": "code",
      "source": [
        "import numpy as np\n",
        "import matplotlib.pyplot as plt\n",
        "epochs = range(1,11)\n",
        "glove_trainloss_log = [0.7915410399436951, 0.6588501930236816, 0.6776795983314514, 0.6942887902259827, 0.7002847194671631, 0.6687812805175781, 0.65947026014328, 0.7440286874771118, 0.6618101596832275, 0.6840071082115173]\n",
        "evalloss_log = [0.6711509823799133, 0.6844974756240845, 0.7240248322486877, 0.7112922072410583, 0.7702271342277527, 0.7107248902320862, 0.6733245253562927, 0.6840847730636597, 0.7020852565765381, 0.7493972778320312]\n",
        "evalacc_log = [59.13, 52.9, 43.93, 41.71, 34.00, 44.56, 56.71, 55.12, 47.1, 38.75]\n",
        "plt.title('Train Loss')\n",
        "plt.plot(epochs, glove_trainloss_log)\n",
        "plt.legend(['base GloVe embedding'])\n",
        "plt.xlabel('epochs')\n",
        "plt.ylabel('loss')\n",
        "plt.show()\n",
        "plt.close()\n"
      ],
      "metadata": {
        "colab": {
          "base_uri": "https://localhost:8080/",
          "height": 295
        },
        "id": "vH8Y80RyXj6e",
        "outputId": "4381fc50-c16b-47cb-f5c4-f36042ef107e"
      },
      "execution_count": null,
      "outputs": [
        {
          "output_type": "display_data",
          "data": {
            "text/plain": [
              "<Figure size 432x288 with 1 Axes>"
            ],
            "image/png": "[encoded data removed]"
          },
          "metadata": {
            "needs_background": "light"
          }
        }
      ]
    },
    {
      "cell_type": "code",
      "source": [
        "plt.title('Evaluation Loss')\n",
        "plt.plot(epochs, evalloss_log)\n",
        "plt.legend(['base GloVe embedding'])\n",
        "plt.xlabel('epochs')\n",
        "plt.ylabel('loss')\n",
        "plt.show()\n",
        "plt.close()"
      ],
      "metadata": {
        "colab": {
          "base_uri": "https://localhost:8080/",
          "height": 295
        },
        "id": "K6yCffvfdShV",
        "outputId": "9b22ecc3-c6c7-418e-9aa8-76700dc1ffe5"
      },
      "execution_count": null,
      "outputs": [
        {
          "output_type": "display_data",
          "data": {
            "text/plain": [
              "<Figure size 432x288 with 1 Axes>"
            ],
            "image/png": "[encoded data removed]"
          },
          "metadata": {
            "needs_background": "light"
          }
        }
      ]
    },
    {
      "cell_type": "code",
      "source": [
        "plt.title('Loss of LSTM with base glove embedding')\n",
        "plt.plot(epochs, glove_trainloss_log)\n",
        "plt.plot(epochs, evalloss_log)\n",
        "plt.legend(['Train', 'Eval'])\n",
        "plt.xlabel('epochs')\n",
        "plt.ylabel('loss')\n",
        "plt.show()\n",
        "plt.close()"
      ],
      "metadata": {
        "colab": {
          "base_uri": "https://localhost:8080/",
          "height": 295
        },
        "id": "Zn-gB-mMeLL_",
        "outputId": "71f91bf0-88e4-440e-eca4-d47554aeb759"
      },
      "execution_count": null,
      "outputs": [
        {
          "output_type": "display_data",
          "data": {
            "text/plain": [
              "<Figure size 432x288 with 1 Axes>"
            ],
            "image/png": "[encoded data removed]"
          },
          "metadata": {
            "needs_background": "light"
          }
        }
      ]
    },
    {
      "cell_type": "code",
      "source": [
        "plt.title('Evaluation Accuracy')\n",
        "plt.plot(epochs, evalacc_log)\n",
        "plt.legend(['base GloVe embedding'])\n",
        "plt.xlabel('epochs')\n",
        "plt.ylabel('Accuracy')\n",
        "plt.show()\n",
        "plt.close()"
      ],
      "metadata": {
        "colab": {
          "base_uri": "https://localhost:8080/",
          "height": 295
        },
        "id": "K-GfNEFzdeNt",
        "outputId": "81e5332a-c769-43a4-bd4d-ad32bbb7c40a"
      },
      "execution_count": null,
      "outputs": [
        {
          "output_type": "display_data",
          "data": {
            "text/plain": [
              "<Figure size 432x288 with 1 Axes>"
            ],
            "image/png": "[encoded data removed]"
          },
          "metadata": {
            "needs_background": "light"
          }
        }
      ]
    },
    {
      "cell_type": "code",
      "execution_count": null,
      "metadata": {
        "colab": {
          "base_uri": "https://localhost:8080/"
        },
        "id": "C9V9-Q7N-3yS",
        "outputId": "f6a79d8b-bce7-4e16-e6fe-2c7d84760035"
      },
      "outputs": [
        {
          "name": "stdout",
          "output_type": "stream",
          "text": [
            "\n",
            "TEST LOSS: 0.6977357268333435\n",
            "Recall: 66.71768307040263\n",
            "Precision: 45.20941364180295\n",
            "F1-Score: 53.896999381806076\n",
            "TEST ACC:  48.83%\n"
          ]
        }
      ],
      "source": [
        "model_file = 'model_lstmsenti.torch'\n",
        "test(Test_set, HIDDEN_DIM, TAGSET_SIZE, weight_mat, Test_len, model_file)"
      ]
    },
    {
      "cell_type": "markdown",
      "metadata": {
        "id": "a_vsqkf2-z6I"
      },
      "source": [
        "Glovetwit200d"
      ]
    },
    {
      "cell_type": "code",
      "execution_count": null,
      "metadata": {
        "colab": {
          "base_uri": "https://localhost:8080/"
        },
        "id": "_kayx06l_XPd",
        "outputId": "7f31d5d0-f5ca-4729-aae2-09f9f358f671"
      },
      "outputs": [
        {
          "name": "stderr",
          "output_type": "stream",
          "text": [
            "100%|██████████| 1193514/1193514 [01:06<00:00, 17940.71it/s]\n"
          ]
        },
        {
          "name": "stdout",
          "output_type": "stream",
          "text": [
            "Embedding dimension : 200\n"
          ]
        },
        {
          "name": "stderr",
          "output_type": "stream",
          "text": [
            "16700it [00:00, 74556.99it/s]\n",
            "<ipython-input-24-2db8c813ab7b>:97: DeprecationWarning: `np.int` is a deprecated alias for the builtin `int`. To silence this warning, use `int` by itself. Doing this will not modify any behavior and is safe. When replacing `np.int`, you may wish to use e.g. `np.int64` or `np.int32` to specify the precision. If you wish to review your current use, check the release note link for additional information.\n",
            "Deprecated in NumPy 1.20; for more details and guidance: https://numpy.org/devdocs/release/1.20.0-notes.html#deprecations\n",
            "  padded_label_batch = np.zeros(train_batch, dtype=np.int)\n"
          ]
        },
        {
          "name": "stdout",
          "output_type": "stream",
          "text": [
            "##############################\n",
            "Train Model\n",
            "##############################\n"
          ]
        },
        {
          "name": "stderr",
          "output_type": "stream",
          "text": [
            "\r  0%|          | 0/10 [00:00<?, ?it/s]"
          ]
        },
        {
          "name": "stdout",
          "output_type": "stream",
          "text": [
            "\n",
            "epoch: 1\n"
          ]
        },
        {
          "name": "stderr",
          "output_type": "stream",
          "text": [
            "100%|██████████| 2072/2072 [00:41<00:00, 49.56it/s]\n"
          ]
        },
        {
          "name": "stdout",
          "output_type": "stream",
          "text": [
            "FINISHED EPOCH: 1\n",
            "train_loss: 0.7209221124649048\n"
          ]
        },
        {
          "name": "stderr",
          "output_type": "stream",
          "text": [
            "\r 10%|█         | 1/10 [00:42<06:19, 42.14s/it]"
          ]
        },
        {
          "name": "stdout",
          "output_type": "stream",
          "text": [
            "\n",
            "Evaluation LOSS: 0.6754068732261658\n",
            "Evaluation ACC:  56.50%\n",
            "\n",
            "epoch: 2\n"
          ]
        },
        {
          "name": "stderr",
          "output_type": "stream",
          "text": [
            "100%|██████████| 2072/2072 [00:41<00:00, 49.48it/s]\n"
          ]
        },
        {
          "name": "stdout",
          "output_type": "stream",
          "text": [
            "FINISHED EPOCH: 2\n",
            "train_loss: 0.7205966114997864\n"
          ]
        },
        {
          "name": "stderr",
          "output_type": "stream",
          "text": [
            "\r 20%|██        | 2/10 [01:24<05:37, 42.17s/it]"
          ]
        },
        {
          "name": "stdout",
          "output_type": "stream",
          "text": [
            "\n",
            "Evaluation LOSS: 0.7097845673561096\n",
            "Evaluation ACC:  44.38%\n",
            "\n",
            "epoch: 3\n"
          ]
        },
        {
          "name": "stderr",
          "output_type": "stream",
          "text": [
            "100%|██████████| 2072/2072 [00:41<00:00, 49.45it/s]\n"
          ]
        },
        {
          "name": "stdout",
          "output_type": "stream",
          "text": [
            "FINISHED EPOCH: 3\n",
            "train_loss: 0.7299187183380127\n"
          ]
        },
        {
          "name": "stderr",
          "output_type": "stream",
          "text": [
            "\r 30%|███       | 3/10 [02:06<04:55, 42.19s/it]"
          ]
        },
        {
          "name": "stdout",
          "output_type": "stream",
          "text": [
            "\n",
            "Evaluation LOSS: 0.6879646182060242\n",
            "Evaluation ACC:  52.98%\n",
            "\n",
            "epoch: 4\n"
          ]
        },
        {
          "name": "stderr",
          "output_type": "stream",
          "text": [
            "100%|██████████| 2072/2072 [00:43<00:00, 48.11it/s]\n"
          ]
        },
        {
          "name": "stdout",
          "output_type": "stream",
          "text": [
            "FINISHED EPOCH: 4\n",
            "train_loss: 0.7050397992134094\n"
          ]
        },
        {
          "name": "stderr",
          "output_type": "stream",
          "text": [
            "\r 40%|████      | 4/10 [02:49<04:15, 42.66s/it]"
          ]
        },
        {
          "name": "stdout",
          "output_type": "stream",
          "text": [
            "\n",
            "Evaluation LOSS: 0.6649800539016724\n",
            "Evaluation ACC:  59.43%\n",
            "\n",
            "epoch: 5\n"
          ]
        },
        {
          "name": "stderr",
          "output_type": "stream",
          "text": [
            "100%|██████████| 2072/2072 [00:43<00:00, 47.12it/s]\n"
          ]
        },
        {
          "name": "stdout",
          "output_type": "stream",
          "text": [
            "FINISHED EPOCH: 5\n",
            "train_loss: 0.6825920343399048\n"
          ]
        },
        {
          "name": "stderr",
          "output_type": "stream",
          "text": [
            "\r 50%|█████     | 5/10 [03:34<03:36, 43.25s/it]"
          ]
        },
        {
          "name": "stdout",
          "output_type": "stream",
          "text": [
            "\n",
            "Evaluation LOSS: 0.6869174838066101\n",
            "Evaluation ACC:  50.60%\n",
            "\n",
            "epoch: 6\n"
          ]
        },
        {
          "name": "stderr",
          "output_type": "stream",
          "text": [
            "100%|██████████| 2072/2072 [00:44<00:00, 46.79it/s]\n"
          ]
        },
        {
          "name": "stdout",
          "output_type": "stream",
          "text": [
            "FINISHED EPOCH: 6\n",
            "train_loss: 0.6401993036270142\n"
          ]
        },
        {
          "name": "stderr",
          "output_type": "stream",
          "text": [
            "\r 60%|██████    | 6/10 [04:18<02:54, 43.71s/it]"
          ]
        },
        {
          "name": "stdout",
          "output_type": "stream",
          "text": [
            "\n",
            "Evaluation LOSS: 0.7002978324890137\n",
            "Evaluation ACC:  46.46%\n",
            "\n",
            "epoch: 7\n"
          ]
        },
        {
          "name": "stderr",
          "output_type": "stream",
          "text": [
            "100%|██████████| 2072/2072 [00:45<00:00, 46.03it/s]\n"
          ]
        },
        {
          "name": "stdout",
          "output_type": "stream",
          "text": [
            "FINISHED EPOCH: 7\n",
            "train_loss: 0.6822452545166016\n"
          ]
        },
        {
          "name": "stderr",
          "output_type": "stream",
          "text": [
            "\r 70%|███████   | 7/10 [05:04<02:12, 44.23s/it]"
          ]
        },
        {
          "name": "stdout",
          "output_type": "stream",
          "text": [
            "\n",
            "Evaluation LOSS: 0.6977337002754211\n",
            "Evaluation ACC:  49.03%\n",
            "\n",
            "epoch: 8\n"
          ]
        },
        {
          "name": "stderr",
          "output_type": "stream",
          "text": [
            "100%|██████████| 2072/2072 [00:45<00:00, 45.53it/s]\n"
          ]
        },
        {
          "name": "stdout",
          "output_type": "stream",
          "text": [
            "FINISHED EPOCH: 8\n",
            "train_loss: 0.7020639777183533\n"
          ]
        },
        {
          "name": "stderr",
          "output_type": "stream",
          "text": [
            "\r 80%|████████  | 8/10 [05:49<01:29, 44.74s/it]"
          ]
        },
        {
          "name": "stdout",
          "output_type": "stream",
          "text": [
            "\n",
            "Evaluation LOSS: 0.6898370981216431\n",
            "Evaluation ACC:  50.91%\n",
            "\n",
            "epoch: 9\n"
          ]
        },
        {
          "name": "stderr",
          "output_type": "stream",
          "text": [
            "100%|██████████| 2072/2072 [00:46<00:00, 44.49it/s]\n"
          ]
        },
        {
          "name": "stdout",
          "output_type": "stream",
          "text": [
            "FINISHED EPOCH: 9\n",
            "train_loss: 0.6668064594268799\n"
          ]
        },
        {
          "name": "stderr",
          "output_type": "stream",
          "text": [
            "\r 90%|█████████ | 9/10 [06:36<00:45, 45.41s/it]"
          ]
        },
        {
          "name": "stdout",
          "output_type": "stream",
          "text": [
            "\n",
            "Evaluation LOSS: 0.6879474520683289\n",
            "Evaluation ACC:  50.77%\n",
            "\n",
            "epoch: 10\n"
          ]
        },
        {
          "name": "stderr",
          "output_type": "stream",
          "text": [
            "100%|██████████| 2072/2072 [00:46<00:00, 44.33it/s]\n"
          ]
        },
        {
          "name": "stdout",
          "output_type": "stream",
          "text": [
            "FINISHED EPOCH: 10\n",
            "train_loss: 0.7008715867996216\n"
          ]
        },
        {
          "name": "stderr",
          "output_type": "stream",
          "text": [
            "100%|██████████| 10/10 [07:23<00:00, 44.39s/it]"
          ]
        },
        {
          "name": "stdout",
          "output_type": "stream",
          "text": [
            "\n",
            "Evaluation LOSS: 0.6594187617301941\n",
            "Evaluation ACC:  58.55%\n"
          ]
        },
        {
          "name": "stderr",
          "output_type": "stream",
          "text": [
            "\n"
          ]
        },
        {
          "name": "stdout",
          "output_type": "stream",
          "text": [
            "\n",
            "TEST LOSS: 0.6865599155426025\n",
            "TEST ACC:  53.80%\n"
          ]
        }
      ],
      "source": [
        "#'glove200d', 'glovetwit200d', 'Emotag'\n",
        "model_file = 'model_lstmsenti_glovtwit.torch'\n",
        "pre_trained_embedding_file = 'glovetwit200d'\n",
        "Full_Data = Load_parquet(\"parquet/2013/01\")\n",
        "Train_set, Eval_set, Test_set, vocab_dict, weight_mat, list_of_lens_in_batch, Eval_len, Test_len = Preprocess(Full_Data, test_ratio=0.2, evaluation_ratio=0.01, seed=595, train_batch=32, pre_trained_embedding_file=pre_trained_embedding_file)\n",
        "BATCH_SIZE = 32\n",
        "HIDDEN_DIM = 128\n",
        "TAGSET_SIZE = 2 #46\n",
        "torch.manual_seed(0)\n",
        "model = train(Train_set, Eval_set, HIDDEN_DIM, TAGSET_SIZE, weight_mat, list_of_lens_in_batch, Eval_len, learning_rate=0.01, n_epochs=10)\n",
        "torch.save(model.state_dict(), model_file)\n",
        "\n",
        "test(Test_set, HIDDEN_DIM, TAGSET_SIZE, weight_mat, Test_len, model_file)"
      ]
    },
    {
      "cell_type": "markdown",
      "source": [
        "Graph"
      ],
      "metadata": {
        "id": "xXEvHtVLcW1q"
      }
    },
    {
      "cell_type": "code",
      "source": [
        "Twitter_trainloss=[0.7209221124649048,\n",
        "0.7205966114997864,\n",
        "0.7299187183380127,\n",
        "0.7050397992134094,\n",
        "0.6825920343399048,\n",
        "0.6401993036270142,\n",
        "0.6822452545166016,\n",
        "0.7020639777183533,\n",
        "0.6668064594268799,\n",
        "0.7008715867996216]\n",
        "\n",
        "import numpy as np\n",
        "import matplotlib.pyplot as plt\n",
        "epochs = range(1,11)\n",
        "glove_trainloss_log = [0.7915410399436951, 0.6588501930236816, 0.6776795983314514, 0.6942887902259827, 0.7002847194671631, 0.6687812805175781, 0.65947026014328, 0.7440286874771118, 0.6618101596832275, 0.6840071082115173]\n",
        "Twitter_trainloss=[0.7209221124649048,\n",
        "0.7205966114997864,\n",
        "0.7299187183380127,\n",
        "0.7050397992134094,\n",
        "0.6825920343399048,\n",
        "0.6401993036270142,\n",
        "0.6822452545166016,\n",
        "0.7020639777183533,\n",
        "0.6668064594268799,\n",
        "0.7008715867996216]\n",
        "evalloss_log = [0.6711509823799133, 0.6844974756240845, 0.7240248322486877, 0.7112922072410583, 0.7702271342277527, 0.7107248902320862, 0.6733245253562927, 0.6840847730636597, 0.7020852565765381, 0.7493972778320312]\n",
        "Twitter_evalloss_log = [0.6754068732261658,\n",
        "0.7097845673561096,\n",
        "0.6879646182060242,\n",
        "0.6649800539016724,\n",
        "0.6869174838066101,\n",
        "0.7002978324890137,\n",
        "0.6977337002754211,\n",
        "0.6898370981216431,\n",
        "0.6879474520683289,\n",
        "0.6594187617301941\n",
        "]\n",
        "evalacc_log = [59.13, 52.9, 43.93, 41.71, 34.00, 44.56, 56.71, 55.12, 47.1, 38.75]\n",
        "Twitter_evalacc_log = [56.5,\n",
        "44.38,\n",
        "52.98,\n",
        "59.43,\n",
        "50.60,\n",
        "46.46,\n",
        "49.03,\n",
        "50.91,\n",
        "50.77,\n",
        "58.55\n",
        "]\n",
        "plt.title('Train Loss')\n",
        "# plt.plot(epochs, glove_trainloss_log)\n",
        "plt.plot(epochs, Twitter_trainloss)\n",
        "plt.legend(['GloVe Twitter embedding'])\n",
        "# plt.legend(['base GloVe embedding', 'GloVe Twitter embedding'])\n",
        "plt.xlabel('epochs')\n",
        "plt.ylabel('loss')\n",
        "plt.show()\n",
        "plt.close()"
      ],
      "metadata": {
        "colab": {
          "base_uri": "https://localhost:8080/",
          "height": 295
        },
        "id": "WoMxBxwxcViC",
        "outputId": "6c2d1cbe-25a5-4dc2-ef4e-0b467d2e8311"
      },
      "execution_count": null,
      "outputs": [
        {
          "output_type": "display_data",
          "data": {
            "text/plain": [
              "<Figure size 432x288 with 1 Axes>"
            ],
            "image/png": "[encoded data removed]"
          },
          "metadata": {
            "needs_background": "light"
          }
        }
      ]
    },
    {
      "cell_type": "code",
      "source": [],
      "metadata": {
        "id": "yJ1WEO4advMO"
      },
      "execution_count": null,
      "outputs": []
    },
    {
      "cell_type": "code",
      "source": [
        "plt.title('Evaluation Loss')\n",
        "plt.plot(epochs, Twitter_evalloss_log)\n",
        "plt.legend(['GloVe Twitter embedding'])\n",
        "\n",
        "# plt.legend(['base GloVe embedding'])\n",
        "plt.xlabel('epochs')\n",
        "plt.ylabel('loss')\n",
        "plt.show()\n",
        "plt.close()"
      ],
      "metadata": {
        "colab": {
          "base_uri": "https://localhost:8080/",
          "height": 295
        },
        "outputId": "85818639-0a8e-4e88-f7ea-4913a1d3d2d8",
        "id": "IvX8KaVcfF5u"
      },
      "execution_count": null,
      "outputs": [
        {
          "output_type": "display_data",
          "data": {
            "text/plain": [
              "<Figure size 432x288 with 1 Axes>"
            ],
            "image/png": "[encoded data removed]"
          },
          "metadata": {
            "needs_background": "light"
          }
        }
      ]
    },
    {
      "cell_type": "code",
      "source": [
        "plt.title('Loss of LSTM with GloVe Twitter embedding')\n",
        "plt.plot(epochs, Twitter_trainloss)\n",
        "plt.plot(epochs, Twitter_evalloss_log)\n",
        "plt.legend(['Train', 'Eval'])\n",
        "plt.xlabel('epochs')\n",
        "plt.ylabel('loss')\n",
        "plt.show()\n",
        "plt.close()\n"
      ],
      "metadata": {
        "colab": {
          "base_uri": "https://localhost:8080/",
          "height": 295
        },
        "outputId": "d7f7678c-e68b-4ba7-8bf6-21a8f3eed850",
        "id": "dFmg37vPfF5z"
      },
      "execution_count": null,
      "outputs": [
        {
          "output_type": "display_data",
          "data": {
            "text/plain": [
              "<Figure size 432x288 with 1 Axes>"
            ],
            "image/png": "[encoded data removed]"
          },
          "metadata": {
            "needs_background": "light"
          }
        }
      ]
    },
    {
      "cell_type": "code",
      "source": [
        "plt.title('Evaluation Accuracy')\n",
        "plt.plot(epochs, Twitter_evalacc_log)\n",
        "plt.legend(['GloVe Twitter embedding'])\n",
        "plt.xlabel('epochs')\n",
        "plt.ylabel('Accuracy')\n",
        "plt.show()\n",
        "plt.close()"
      ],
      "metadata": {
        "colab": {
          "base_uri": "https://localhost:8080/",
          "height": 295
        },
        "outputId": "faa4c8c5-d178-4cdf-de87-ecde7c4530fa",
        "id": "YFN-IwGWfF5z"
      },
      "execution_count": null,
      "outputs": [
        {
          "output_type": "display_data",
          "data": {
            "text/plain": [
              "<Figure size 432x288 with 1 Axes>"
            ],
            "image/png": "[encoded data removed]"
          },
          "metadata": {
            "needs_background": "light"
          }
        }
      ]
    },
    {
      "cell_type": "markdown",
      "metadata": {
        "id": "vCvWntWW_04g"
      },
      "source": [
        "Emotag"
      ]
    },
    {
      "cell_type": "code",
      "execution_count": null,
      "metadata": {
        "colab": {
          "base_uri": "https://localhost:8080/"
        },
        "id": "9VBhvNZ5_2PJ",
        "outputId": "e6ab1ad8-172a-4a72-b0fc-724eb4b1c826"
      },
      "outputs": [
        {
          "name": "stderr",
          "output_type": "stream",
          "text": [
            "100%|██████████| 401030/401030 [01:57<00:00, 3408.58it/s]\n"
          ]
        },
        {
          "name": "stdout",
          "output_type": "stream",
          "text": [
            "Embedding dimension : 620\n"
          ]
        },
        {
          "name": "stderr",
          "output_type": "stream",
          "text": [
            "16700it [00:00, 31037.92it/s]\n",
            "<ipython-input-24-2db8c813ab7b>:97: DeprecationWarning: `np.int` is a deprecated alias for the builtin `int`. To silence this warning, use `int` by itself. Doing this will not modify any behavior and is safe. When replacing `np.int`, you may wish to use e.g. `np.int64` or `np.int32` to specify the precision. If you wish to review your current use, check the release note link for additional information.\n",
            "Deprecated in NumPy 1.20; for more details and guidance: https://numpy.org/devdocs/release/1.20.0-notes.html#deprecations\n",
            "  padded_label_batch = np.zeros(train_batch, dtype=np.int)\n"
          ]
        },
        {
          "name": "stdout",
          "output_type": "stream",
          "text": [
            "##############################\n",
            "Train Model\n",
            "##############################\n"
          ]
        },
        {
          "name": "stderr",
          "output_type": "stream",
          "text": [
            "\r  0%|          | 0/10 [00:00<?, ?it/s]"
          ]
        },
        {
          "name": "stdout",
          "output_type": "stream",
          "text": [
            "\n",
            "epoch: 1\n"
          ]
        },
        {
          "name": "stderr",
          "output_type": "stream",
          "text": [
            "100%|██████████| 2072/2072 [00:51<00:00, 40.45it/s]\n"
          ]
        },
        {
          "name": "stdout",
          "output_type": "stream",
          "text": [
            "FINISHED EPOCH: 1\n",
            "train_loss: 0.6837584972381592\n"
          ]
        },
        {
          "name": "stderr",
          "output_type": "stream",
          "text": [
            "\r 10%|█         | 1/10 [00:51<07:45, 51.70s/it]"
          ]
        },
        {
          "name": "stdout",
          "output_type": "stream",
          "text": [
            "\n",
            "Evaluation LOSS: 0.7175236344337463\n",
            "Evaluation ACC:  42.53%\n",
            "\n",
            "epoch: 2\n"
          ]
        },
        {
          "name": "stderr",
          "output_type": "stream",
          "text": [
            "100%|██████████| 2072/2072 [00:51<00:00, 40.24it/s]\n"
          ]
        },
        {
          "name": "stdout",
          "output_type": "stream",
          "text": [
            "FINISHED EPOCH: 2\n",
            "train_loss: 0.6624542474746704\n"
          ]
        },
        {
          "name": "stderr",
          "output_type": "stream",
          "text": [
            "\r 20%|██        | 2/10 [01:43<06:54, 51.86s/it]"
          ]
        },
        {
          "name": "stdout",
          "output_type": "stream",
          "text": [
            "\n",
            "Evaluation LOSS: 0.6696091890335083\n",
            "Evaluation ACC:  57.92%\n",
            "\n",
            "epoch: 3\n"
          ]
        },
        {
          "name": "stderr",
          "output_type": "stream",
          "text": [
            "100%|██████████| 2072/2072 [00:52<00:00, 39.79it/s]\n"
          ]
        },
        {
          "name": "stdout",
          "output_type": "stream",
          "text": [
            "FINISHED EPOCH: 3\n",
            "train_loss: 0.6999170184135437\n"
          ]
        },
        {
          "name": "stderr",
          "output_type": "stream",
          "text": [
            "\r 30%|███       | 3/10 [02:36<06:05, 52.18s/it]"
          ]
        },
        {
          "name": "stdout",
          "output_type": "stream",
          "text": [
            "\n",
            "Evaluation LOSS: 0.6797375082969666\n",
            "Evaluation ACC:  55.16%\n",
            "\n",
            "epoch: 4\n"
          ]
        },
        {
          "name": "stderr",
          "output_type": "stream",
          "text": [
            "100%|██████████| 2072/2072 [00:52<00:00, 39.51it/s]\n"
          ]
        },
        {
          "name": "stdout",
          "output_type": "stream",
          "text": [
            "FINISHED EPOCH: 4\n",
            "train_loss: 0.7078381776809692\n"
          ]
        },
        {
          "name": "stderr",
          "output_type": "stream",
          "text": [
            "\r 40%|████      | 4/10 [03:29<05:14, 52.48s/it]"
          ]
        },
        {
          "name": "stdout",
          "output_type": "stream",
          "text": [
            "\n",
            "Evaluation LOSS: 0.6721330285072327\n",
            "Evaluation ACC:  56.22%\n",
            "\n",
            "epoch: 5\n"
          ]
        },
        {
          "name": "stderr",
          "output_type": "stream",
          "text": [
            "100%|██████████| 2072/2072 [00:53<00:00, 38.67it/s]\n"
          ]
        },
        {
          "name": "stdout",
          "output_type": "stream",
          "text": [
            "FINISHED EPOCH: 5\n",
            "train_loss: 0.642255961894989\n"
          ]
        },
        {
          "name": "stderr",
          "output_type": "stream",
          "text": [
            "\r 50%|█████     | 5/10 [04:23<04:25, 53.06s/it]"
          ]
        },
        {
          "name": "stdout",
          "output_type": "stream",
          "text": [
            "\n",
            "Evaluation LOSS: 0.6733596920967102\n",
            "Evaluation ACC:  57.18%\n",
            "\n",
            "epoch: 6\n"
          ]
        },
        {
          "name": "stderr",
          "output_type": "stream",
          "text": [
            "100%|██████████| 2072/2072 [00:54<00:00, 37.83it/s]\n"
          ]
        },
        {
          "name": "stdout",
          "output_type": "stream",
          "text": [
            "FINISHED EPOCH: 6\n",
            "train_loss: 0.6851504445075989\n"
          ]
        },
        {
          "name": "stderr",
          "output_type": "stream",
          "text": [
            "\r 60%|██████    | 6/10 [05:18<03:35, 53.82s/it]"
          ]
        },
        {
          "name": "stdout",
          "output_type": "stream",
          "text": [
            "\n",
            "Evaluation LOSS: 0.6687186360359192\n",
            "Evaluation ACC:  57.68%\n",
            "\n",
            "epoch: 7\n"
          ]
        },
        {
          "name": "stderr",
          "output_type": "stream",
          "text": [
            "100%|██████████| 2072/2072 [00:56<00:00, 36.93it/s]\n"
          ]
        },
        {
          "name": "stdout",
          "output_type": "stream",
          "text": [
            "FINISHED EPOCH: 7\n",
            "train_loss: 0.6925479173660278\n"
          ]
        },
        {
          "name": "stderr",
          "output_type": "stream",
          "text": [
            "\r 70%|███████   | 7/10 [06:15<02:44, 54.73s/it]"
          ]
        },
        {
          "name": "stdout",
          "output_type": "stream",
          "text": [
            "\n",
            "Evaluation LOSS: 0.6915253400802612\n",
            "Evaluation ACC:  50.57%\n",
            "\n",
            "epoch: 8\n"
          ]
        },
        {
          "name": "stderr",
          "output_type": "stream",
          "text": [
            "100%|██████████| 2072/2072 [00:57<00:00, 35.76it/s]\n"
          ]
        },
        {
          "name": "stdout",
          "output_type": "stream",
          "text": [
            "FINISHED EPOCH: 8\n",
            "train_loss: 0.6869674921035767\n"
          ]
        },
        {
          "name": "stderr",
          "output_type": "stream",
          "text": [
            "\r 80%|████████  | 8/10 [07:13<01:51, 55.92s/it]"
          ]
        },
        {
          "name": "stdout",
          "output_type": "stream",
          "text": [
            "\n",
            "Evaluation LOSS: 0.680383026599884\n",
            "Evaluation ACC:  52.93%\n",
            "\n",
            "epoch: 9\n"
          ]
        },
        {
          "name": "stderr",
          "output_type": "stream",
          "text": [
            "100%|██████████| 2072/2072 [00:59<00:00, 34.60it/s]\n"
          ]
        },
        {
          "name": "stdout",
          "output_type": "stream",
          "text": [
            "FINISHED EPOCH: 9\n",
            "train_loss: 0.7050788402557373\n"
          ]
        },
        {
          "name": "stderr",
          "output_type": "stream",
          "text": [
            "\r 90%|█████████ | 9/10 [08:14<00:57, 57.33s/it]"
          ]
        },
        {
          "name": "stdout",
          "output_type": "stream",
          "text": [
            "\n",
            "Evaluation LOSS: 0.69972163438797\n",
            "Evaluation ACC:  48.77%\n",
            "\n",
            "epoch: 10\n"
          ]
        },
        {
          "name": "stderr",
          "output_type": "stream",
          "text": [
            "100%|██████████| 2072/2072 [01:00<00:00, 34.12it/s]\n"
          ]
        },
        {
          "name": "stdout",
          "output_type": "stream",
          "text": [
            "FINISHED EPOCH: 10\n",
            "train_loss: 0.7232070565223694\n"
          ]
        },
        {
          "name": "stderr",
          "output_type": "stream",
          "text": [
            "100%|██████████| 10/10 [09:15<00:00, 55.53s/it]"
          ]
        },
        {
          "name": "stdout",
          "output_type": "stream",
          "text": [
            "\n",
            "Evaluation LOSS: 0.6877505779266357\n",
            "Evaluation ACC:  50.68%\n"
          ]
        },
        {
          "name": "stderr",
          "output_type": "stream",
          "text": [
            "\n"
          ]
        },
        {
          "name": "stdout",
          "output_type": "stream",
          "text": [
            "\n",
            "TEST LOSS: 0.675291121006012\n",
            "TEST ACC:  56.50%\n"
          ]
        }
      ],
      "source": [
        "#'glove200d', 'glovetwit200d', 'Emotag'\n",
        "model_file = 'model_lstmsenti_Emotag.torch'\n",
        "pre_trained_embedding_file = 'Emotag'\n",
        "Full_Data = Load_parquet(\"parquet/2013/01\")\n",
        "Train_set, Eval_set, Test_set, vocab_dict, weight_mat, list_of_lens_in_batch, Eval_len, Test_len = Preprocess(Full_Data, test_ratio=0.2, evaluation_ratio=0.01, seed=595, train_batch=32, pre_trained_embedding_file=pre_trained_embedding_file)\n",
        "BATCH_SIZE = 32\n",
        "HIDDEN_DIM = 128\n",
        "TAGSET_SIZE = 2 #46\n",
        "torch.manual_seed(0)\n",
        "model = train(Train_set, Eval_set, HIDDEN_DIM, TAGSET_SIZE, weight_mat, list_of_lens_in_batch, Eval_len, learning_rate=0.01, n_epochs=10)\n",
        "torch.save(model.state_dict(), model_file)\n",
        "\n",
        "test(Test_set, HIDDEN_DIM, TAGSET_SIZE, weight_mat, Test_len, model_file)"
      ]
    },
    {
      "cell_type": "code",
      "source": [],
      "metadata": {
        "id": "ufYCN7rVg3mE"
      },
      "execution_count": null,
      "outputs": []
    },
    {
      "cell_type": "code",
      "source": [
        "Twitter_trainloss=[0.7209221124649048,\n",
        "0.7205966114997864,\n",
        "0.7299187183380127,\n",
        "0.7050397992134094,\n",
        "0.6825920343399048,\n",
        "0.6401993036270142,\n",
        "0.6822452545166016,\n",
        "0.7020639777183533,\n",
        "0.6668064594268799,\n",
        "0.7008715867996216]\n",
        "\n",
        "import numpy as np\n",
        "import matplotlib.pyplot as plt\n",
        "epochs = range(1,11)\n",
        "glove_trainloss_log = [0.7915410399436951, 0.6588501930236816, 0.6776795983314514, 0.6942887902259827, 0.7002847194671631, 0.6687812805175781, 0.65947026014328, 0.7440286874771118, 0.6618101596832275, 0.6840071082115173]\n",
        "Twitter_trainloss=[0.7209221124649048,\n",
        "0.7205966114997864,\n",
        "0.7299187183380127,\n",
        "0.7050397992134094,\n",
        "0.6825920343399048,\n",
        "0.6401993036270142,\n",
        "0.6822452545166016,\n",
        "0.7020639777183533,\n",
        "0.6668064594268799,\n",
        "0.7008715867996216]\n",
        "Emotag_train_loss =[0.6837584972381592,\n",
        "0.6624542474746704,\n",
        "0.6999170184135437,\n",
        "0.7078381776809692,\n",
        "0.642255961894989,\n",
        "0.6851504445075989,\n",
        "0.6925479173660278,\n",
        "0.6869674921035767,\n",
        "0.7050788402557373,\n",
        "0.7232070565223694\n",
        "]\n",
        "\n",
        "evalloss_log = [0.6711509823799133, 0.6844974756240845, 0.7240248322486877, 0.7112922072410583, 0.7702271342277527, 0.7107248902320862, 0.6733245253562927, 0.6840847730636597, 0.7020852565765381, 0.7493972778320312]\n",
        "Twitter_evalloss_log = [0.6754068732261658,\n",
        "0.7097845673561096,\n",
        "0.6879646182060242,\n",
        "0.6649800539016724,\n",
        "0.6869174838066101,\n",
        "0.7002978324890137,\n",
        "0.6977337002754211,\n",
        "0.6898370981216431,\n",
        "0.6879474520683289,\n",
        "0.6594187617301941\n",
        "]\n",
        "Emotag_eval_loss=[0.7175236344337463,\n",
        "0.6696091890335083,\n",
        "0.6797375082969666,\n",
        "0.6721330285072327,\n",
        "0.6733596920967102,\n",
        "0.6687186360359192,\n",
        "0.6915253400802612,\n",
        "0.680383026599884,\n",
        "0.69972163438797,\n",
        "0.6877505779266357\n",
        "]\n",
        "\n",
        "evalacc_log = [59.13, 52.9, 43.93, 41.71, 34.00, 44.56, 56.71, 55.12, 47.1, 38.75]\n",
        "Twitter_evalacc_log = [56.5,\n",
        "44.38,\n",
        "52.98,\n",
        "59.43,\n",
        "50.60,\n",
        "46.46,\n",
        "49.03,\n",
        "50.91,\n",
        "50.77,\n",
        "58.55\n",
        "]\n",
        "Emotag_evalacc_log=[42.53,\n",
        "57.92,\n",
        "55.16,\n",
        "56.22,\n",
        "57.18,\n",
        "57.68,\n",
        "50.57,\n",
        "52.93,\n",
        "48.77,\n",
        "50.68\n",
        "]\n",
        "plt.title('Train Loss')\n",
        "# plt.plot(epochs, glove_trainloss_log)\n",
        "plt.plot(epochs, Emotag_train_loss)\n",
        "plt.legend(['EmoTag embedding'])\n",
        "# plt.legend(['base GloVe embedding', 'GloVe Twitter embedding'])\n",
        "plt.xlabel('epochs')\n",
        "plt.ylabel('loss')\n",
        "plt.show()\n",
        "plt.close()"
      ],
      "metadata": {
        "colab": {
          "base_uri": "https://localhost:8080/",
          "height": 295
        },
        "outputId": "28628ec1-d1d0-4885-819e-7e25e3b79eb3",
        "id": "Kfp6MwcIg34O"
      },
      "execution_count": null,
      "outputs": [
        {
          "output_type": "display_data",
          "data": {
            "text/plain": [
              "<Figure size 432x288 with 1 Axes>"
            ],
            "image/png": "[encoded data removed]"
          },
          "metadata": {
            "needs_background": "light"
          }
        }
      ]
    },
    {
      "cell_type": "code",
      "source": [],
      "metadata": {
        "id": "88XA8bZCg34P"
      },
      "execution_count": null,
      "outputs": []
    },
    {
      "cell_type": "code",
      "source": [
        "plt.title('Evaluation Loss')\n",
        "plt.plot(epochs, Emotag_eval_loss)\n",
        "plt.legend(['EmoTag embedding'])\n",
        "\n",
        "# plt.legend(['base GloVe embedding'])\n",
        "plt.xlabel('epochs')\n",
        "plt.ylabel('loss')\n",
        "plt.show()\n",
        "plt.close()"
      ],
      "metadata": {
        "colab": {
          "base_uri": "https://localhost:8080/",
          "height": 295
        },
        "outputId": "357bf6b5-6ba2-4797-d27a-8c419721895c",
        "id": "ba2Jfu0Sg34P"
      },
      "execution_count": null,
      "outputs": [
        {
          "output_type": "display_data",
          "data": {
            "text/plain": [
              "<Figure size 432x288 with 1 Axes>"
            ],
            "image/png": "[encoded data removed]"
          },
          "metadata": {
            "needs_background": "light"
          }
        }
      ]
    },
    {
      "cell_type": "code",
      "source": [
        "plt.title('Loss of LSTM with EmoTag embedding')\n",
        "plt.plot(epochs, Emotag_train_loss)\n",
        "plt.plot(epochs, Emotag_eval_loss)\n",
        "plt.legend(['Train', 'Eval'])\n",
        "plt.xlabel('epochs')\n",
        "plt.ylabel('loss')\n",
        "plt.show()\n",
        "plt.close()\n"
      ],
      "metadata": {
        "colab": {
          "base_uri": "https://localhost:8080/",
          "height": 295
        },
        "outputId": "640df208-06ef-4285-8cae-4a5f642308dc",
        "id": "Is7aiSTgg34P"
      },
      "execution_count": null,
      "outputs": [
        {
          "output_type": "display_data",
          "data": {
            "text/plain": [
              "<Figure size 432x288 with 1 Axes>"
            ],
            "image/png": "[encoded data removed]"
          },
          "metadata": {
            "needs_background": "light"
          }
        }
      ]
    },
    {
      "cell_type": "code",
      "source": [
        "plt.title('Evaluation Accuracy')\n",
        "plt.plot(epochs, Emotag_evalacc_log)\n",
        "plt.legend(['EmoTag embedding'])\n",
        "plt.xlabel('epochs')\n",
        "plt.ylabel('Accuracy')\n",
        "plt.show()\n",
        "plt.close()"
      ],
      "metadata": {
        "colab": {
          "base_uri": "https://localhost:8080/",
          "height": 295
        },
        "outputId": "8216ca11-bf22-462c-8aac-da788b70e9e3",
        "id": "jlxxdLgTg34P"
      },
      "execution_count": null,
      "outputs": [
        {
          "output_type": "display_data",
          "data": {
            "text/plain": [
              "<Figure size 432x288 with 1 Axes>"
            ],
            "image/png": "[encoded data removed]"
          },
          "metadata": {
            "needs_background": "light"
          }
        }
      ]
    },
    {
      "cell_type": "markdown",
      "metadata": {
        "id": "VbeEcqVnpu7P"
      },
      "source": [
        "# Precision Recall F1"
      ]
    },
    {
      "cell_type": "code",
      "execution_count": null,
      "metadata": {
        "id": "yGPJhD4frgsX"
      },
      "outputs": [],
      "source": [
        "Full_Data = Load_parquet(\"parquet/2013/01\")"
      ]
    },
    {
      "cell_type": "markdown",
      "metadata": {
        "id": "JAxbRNnxqr5q"
      },
      "source": [
        "Glove 200d"
      ]
    },
    {
      "cell_type": "code",
      "execution_count": null,
      "metadata": {
        "colab": {
          "base_uri": "https://localhost:8080/"
        },
        "id": "QlwjT7CqooMh",
        "outputId": "7235e9a5-8373-4c5d-9d99-a3491b88f87e"
      },
      "outputs": [
        {
          "name": "stderr",
          "output_type": "stream",
          "text": [
            "100%|██████████| 400000/400000 [00:20<00:00, 19950.17it/s]\n"
          ]
        },
        {
          "name": "stdout",
          "output_type": "stream",
          "text": [
            "Embedding dimension : 200\n"
          ]
        },
        {
          "name": "stderr",
          "output_type": "stream",
          "text": [
            "16700it [00:00, 73767.63it/s]\n",
            "<ipython-input-12-8ba3a0104568>:126: DeprecationWarning: `np.int` is a deprecated alias for the builtin `int`. To silence this warning, use `int` by itself. Doing this will not modify any behavior and is safe. When replacing `np.int`, you may wish to use e.g. `np.int64` or `np.int32` to specify the precision. If you wish to review your current use, check the release note link for additional information.\n",
            "Deprecated in NumPy 1.20; for more details and guidance: https://numpy.org/devdocs/release/1.20.0-notes.html#deprecations\n",
            "  padded_label_batch = np.zeros(train_batch, dtype=np.int)\n"
          ]
        },
        {
          "data": {
            "text/plain": [
              "<torch._C.Generator at 0x7f0b0a404c30>"
            ]
          },
          "execution_count": 26,
          "metadata": {},
          "output_type": "execute_result"
        }
      ],
      "source": [
        "#'glove200d', 'glovetwit200d', 'Emotag'\n",
        "\n",
        "pre_trained_embedding_file = 'glove200d'\n",
        "Train_set, Eval_set, gTest_set, vocab_dict, gweight_mat, list_of_lens_in_batch, Eval_len, gTest_len = Preprocess(Full_Data, test_ratio=0.2, evaluation_ratio=0.1, seed=595, train_batch=32, pre_trained_embedding_file=pre_trained_embedding_file)\n",
        "BATCH_SIZE = 32\n",
        "HIDDEN_DIM = 128\n",
        "TAGSET_SIZE = 2 #46\n",
        "torch.manual_seed(0)\n"
      ]
    },
    {
      "cell_type": "code",
      "execution_count": null,
      "metadata": {
        "id": "GNVds-WZqrXm"
      },
      "outputs": [],
      "source": [
        "model_file = 'model_lstmsenti.torch'\n",
        "test(gTest_set, HIDDEN_DIM, TAGSET_SIZE, gweight_mat, gTest_len, model_file)"
      ]
    },
    {
      "cell_type": "markdown",
      "metadata": {
        "id": "izRF94K4qtGt"
      },
      "source": [
        "Glove twitter 200d"
      ]
    },
    {
      "cell_type": "code",
      "execution_count": null,
      "metadata": {
        "colab": {
          "base_uri": "https://localhost:8080/"
        },
        "id": "n8wECFynr1JR",
        "outputId": "1f603fa0-ecb6-4121-b456-a1e403bdd050"
      },
      "outputs": [
        {
          "name": "stderr",
          "output_type": "stream",
          "text": [
            "100%|██████████| 1193514/1193514 [01:04<00:00, 18389.52it/s]\n"
          ]
        },
        {
          "name": "stdout",
          "output_type": "stream",
          "text": [
            "Embedding dimension : 200\n"
          ]
        },
        {
          "name": "stderr",
          "output_type": "stream",
          "text": [
            "16700it [00:00, 74368.51it/s]\n",
            "<ipython-input-12-8ba3a0104568>:126: DeprecationWarning: `np.int` is a deprecated alias for the builtin `int`. To silence this warning, use `int` by itself. Doing this will not modify any behavior and is safe. When replacing `np.int`, you may wish to use e.g. `np.int64` or `np.int32` to specify the precision. If you wish to review your current use, check the release note link for additional information.\n",
            "Deprecated in NumPy 1.20; for more details and guidance: https://numpy.org/devdocs/release/1.20.0-notes.html#deprecations\n",
            "  padded_label_batch = np.zeros(train_batch, dtype=np.int)\n"
          ]
        },
        {
          "data": {
            "text/plain": [
              "<torch._C.Generator at 0x7f0b0a404c30>"
            ]
          },
          "execution_count": 28,
          "metadata": {},
          "output_type": "execute_result"
        }
      ],
      "source": [
        "#'glove200d', 'glovetwit200d', 'Emotag'\n",
        "\n",
        "pre_trained_embedding_file = 'glovetwit200d'\n",
        "Train_set, Eval_set, gtTest_set, vocab_dict, gtweight_mat, list_of_lens_in_batch, Eval_len, gtTest_len = Preprocess(Full_Data, test_ratio=0.2, evaluation_ratio=0.1, seed=595, train_batch=32, pre_trained_embedding_file=pre_trained_embedding_file)\n",
        "BATCH_SIZE = 32\n",
        "HIDDEN_DIM = 128\n",
        "TAGSET_SIZE = 2 #46\n",
        "torch.manual_seed(0)"
      ]
    },
    {
      "cell_type": "code",
      "execution_count": null,
      "metadata": {
        "colab": {
          "base_uri": "https://localhost:8080/"
        },
        "id": "YxSFvBEDqnc9",
        "outputId": "59d5a26c-6a01-4e69-9836-d3da76f0d409"
      },
      "outputs": [
        {
          "name": "stdout",
          "output_type": "stream",
          "text": [
            "\n",
            "TEST LOSS: 0.687686562538147\n",
            "Recall: 66.44857115366112\n",
            "Precision: 55.093737534902274\n",
            "F1-Score: 60.24075366364271\n",
            "TEST ACC:  51.89%\n"
          ]
        }
      ],
      "source": [
        "model_file = 'model_lstmsenti_glovtwit.torch'\n",
        "test(gtTest_set, HIDDEN_DIM, TAGSET_SIZE, gtweight_mat, gtTest_len, model_file)"
      ]
    },
    {
      "cell_type": "markdown",
      "metadata": {
        "id": "_bWdnetiqu4I"
      },
      "source": [
        "EmoTag"
      ]
    },
    {
      "cell_type": "code",
      "execution_count": null,
      "metadata": {
        "colab": {
          "base_uri": "https://localhost:8080/"
        },
        "id": "qmkkKt9ur6K0",
        "outputId": "bb454057-aee3-4a3f-da3c-eb4c97ce8303"
      },
      "outputs": [
        {
          "name": "stderr",
          "output_type": "stream",
          "text": [
            "100%|██████████| 401030/401030 [01:58<00:00, 3397.66it/s]\n"
          ]
        },
        {
          "name": "stdout",
          "output_type": "stream",
          "text": [
            "Embedding dimension : 620\n"
          ]
        },
        {
          "name": "stderr",
          "output_type": "stream",
          "text": [
            "16700it [00:00, 30952.82it/s]\n",
            "<ipython-input-12-8ba3a0104568>:126: DeprecationWarning: `np.int` is a deprecated alias for the builtin `int`. To silence this warning, use `int` by itself. Doing this will not modify any behavior and is safe. When replacing `np.int`, you may wish to use e.g. `np.int64` or `np.int32` to specify the precision. If you wish to review your current use, check the release note link for additional information.\n",
            "Deprecated in NumPy 1.20; for more details and guidance: https://numpy.org/devdocs/release/1.20.0-notes.html#deprecations\n",
            "  padded_label_batch = np.zeros(train_batch, dtype=np.int)\n"
          ]
        },
        {
          "data": {
            "text/plain": [
              "<torch._C.Generator at 0x7f0b0a404c30>"
            ]
          },
          "execution_count": 30,
          "metadata": {},
          "output_type": "execute_result"
        }
      ],
      "source": [
        "#'glove200d', 'glovetwit200d', 'Emotag'\n",
        "\n",
        "pre_trained_embedding_file = 'Emotag'\n",
        "Train_set, Eval_set, eTest_set, vocab_dict, eweight_mat, list_of_lens_in_batch, Eval_len, eTest_len = Preprocess(Full_Data, test_ratio=0.2, evaluation_ratio=0.1, seed=595, train_batch=32, pre_trained_embedding_file=pre_trained_embedding_file)\n",
        "BATCH_SIZE = 32\n",
        "HIDDEN_DIM = 128\n",
        "TAGSET_SIZE = 2 #46\n",
        "torch.manual_seed(0)"
      ]
    },
    {
      "cell_type": "code",
      "execution_count": null,
      "metadata": {
        "colab": {
          "base_uri": "https://localhost:8080/"
        },
        "id": "3PIGBPdopxcE",
        "outputId": "354c2f69-c9ce-421a-8390-6b47f5abf939"
      },
      "outputs": [
        {
          "name": "stdout",
          "output_type": "stream",
          "text": [
            "\n",
            "TEST LOSS: 0.6826494336128235\n",
            "Recall: 66.06327593111733\n",
            "Precision: 65.79976067012365\n",
            "F1-Score: 65.93125499600319\n",
            "TEST ACC:  55.01%\n"
          ]
        }
      ],
      "source": [
        "model_file = 'model_lstmsenti_Emotag.torch'\n",
        "test(eTest_set, HIDDEN_DIM, TAGSET_SIZE, eweight_mat, eTest_len, model_file)"
      ]
    },
    {
      "cell_type": "markdown",
      "metadata": {
        "id": "E5m2cbjeKos4"
      },
      "source": [
        "# Experiment lr=0.001 batch 32, larger data ( 2 instead 1 file)"
      ]
    },
    {
      "cell_type": "code",
      "execution_count": null,
      "metadata": {
        "id": "fJQ2lMWJMZew"
      },
      "outputs": [],
      "source": [
        "Full_Data = Load_parquet(\"parquet/2013/01\")\n"
      ]
    },
    {
      "cell_type": "markdown",
      "metadata": {
        "id": "v0LD8xM4Mjhj"
      },
      "source": [
        "Normal glove"
      ]
    },
    {
      "cell_type": "code",
      "execution_count": null,
      "metadata": {
        "colab": {
          "background_save": true,
          "base_uri": "https://localhost:8080/"
        },
        "id": "fgV5yAeRKrhs",
        "outputId": "be6d229c-c508-4c15-8732-3d39297ba2f9"
      },
      "outputs": [
        {
          "name": "stderr",
          "output_type": "stream",
          "text": [
            "100%|██████████| 400000/400000 [00:20<00:00, 19791.73it/s]\n"
          ]
        },
        {
          "name": "stdout",
          "output_type": "stream",
          "text": [
            "Embedding dimension : 200\n"
          ]
        },
        {
          "name": "stderr",
          "output_type": "stream",
          "text": [
            "29819it [00:00, 58864.01it/s]\n",
            "<ipython-input-5-2ffc02e1b240>:122: DeprecationWarning: `np.int` is a deprecated alias for the builtin `int`. To silence this warning, use `int` by itself. Doing this will not modify any behavior and is safe. When replacing `np.int`, you may wish to use e.g. `np.int64` or `np.int32` to specify the precision. If you wish to review your current use, check the release note link for additional information.\n",
            "Deprecated in NumPy 1.20; for more details and guidance: https://numpy.org/devdocs/release/1.20.0-notes.html#deprecations\n",
            "  padded_label_batch = np.zeros(train_batch, dtype=np.int)\n"
          ]
        },
        {
          "name": "stdout",
          "output_type": "stream",
          "text": [
            "##############################\n",
            "Train Model\n",
            "##############################\n"
          ]
        },
        {
          "name": "stderr",
          "output_type": "stream",
          "text": [
            "\r  0%|          | 0/30 [00:00<?, ?it/s]"
          ]
        },
        {
          "name": "stdout",
          "output_type": "stream",
          "text": [
            "\n",
            "epoch: 1\n"
          ]
        },
        {
          "name": "stderr",
          "output_type": "stream",
          "text": [
            "100%|██████████| 4283/4283 [01:28<00:00, 48.45it/s]\n"
          ]
        },
        {
          "name": "stdout",
          "output_type": "stream",
          "text": [
            "FINISHED EPOCH: 1\n",
            "train_loss: 0.6417090892791748\n"
          ]
        },
        {
          "name": "stderr",
          "output_type": "stream",
          "text": [
            "\r  3%|▎         | 1/30 [01:29<43:05, 89.17s/it]"
          ]
        },
        {
          "name": "stdout",
          "output_type": "stream",
          "text": [
            "\n",
            "Evaluation LOSS: 0.67440265417099\n",
            "Evaluation ACC:  57.98%\n",
            "\n",
            "epoch: 2\n"
          ]
        },
        {
          "name": "stderr",
          "output_type": "stream",
          "text": [
            "100%|██████████| 4283/4283 [01:27<00:00, 48.92it/s]\n"
          ]
        },
        {
          "name": "stdout",
          "output_type": "stream",
          "text": [
            "FINISHED EPOCH: 2\n",
            "train_loss: 0.6983457803726196\n"
          ]
        },
        {
          "name": "stderr",
          "output_type": "stream",
          "text": [
            "\r  7%|▋         | 2/30 [02:57<41:20, 88.60s/it]"
          ]
        },
        {
          "name": "stdout",
          "output_type": "stream",
          "text": [
            "\n",
            "Evaluation LOSS: 0.6715856194496155\n",
            "Evaluation ACC:  60.09%\n",
            "\n",
            "epoch: 3\n"
          ]
        },
        {
          "name": "stderr",
          "output_type": "stream",
          "text": [
            "100%|██████████| 4283/4283 [01:27<00:00, 48.68it/s]\n"
          ]
        },
        {
          "name": "stdout",
          "output_type": "stream",
          "text": [
            "FINISHED EPOCH: 3\n",
            "train_loss: 0.6594986319541931\n"
          ]
        },
        {
          "name": "stderr",
          "output_type": "stream",
          "text": [
            "\r 10%|█         | 3/30 [04:25<39:52, 88.60s/it]"
          ]
        },
        {
          "name": "stdout",
          "output_type": "stream",
          "text": [
            "\n",
            "Evaluation LOSS: 0.7051770091056824\n",
            "Evaluation ACC:  45.35%\n",
            "\n",
            "epoch: 4\n"
          ]
        },
        {
          "name": "stderr",
          "output_type": "stream",
          "text": [
            "100%|██████████| 4283/4283 [01:27<00:00, 48.95it/s]\n"
          ]
        },
        {
          "name": "stdout",
          "output_type": "stream",
          "text": [
            "FINISHED EPOCH: 4\n",
            "train_loss: 0.7158131003379822\n"
          ]
        },
        {
          "name": "stderr",
          "output_type": "stream",
          "text": [
            "\r 13%|█▎        | 4/30 [05:54<38:18, 88.40s/it]"
          ]
        },
        {
          "name": "stdout",
          "output_type": "stream",
          "text": [
            "\n",
            "Evaluation LOSS: 0.6730931997299194\n",
            "Evaluation ACC:  57.89%\n",
            "\n",
            "epoch: 5\n"
          ]
        },
        {
          "name": "stderr",
          "output_type": "stream",
          "text": [
            "100%|██████████| 4283/4283 [01:27<00:00, 49.03it/s]\n"
          ]
        },
        {
          "name": "stdout",
          "output_type": "stream",
          "text": [
            "FINISHED EPOCH: 5\n",
            "train_loss: 0.6980249285697937\n"
          ]
        },
        {
          "name": "stderr",
          "output_type": "stream",
          "text": [
            "\r 17%|█▋        | 5/30 [07:22<36:46, 88.25s/it]"
          ]
        },
        {
          "name": "stdout",
          "output_type": "stream",
          "text": [
            "\n",
            "Evaluation LOSS: 0.7374482154846191\n",
            "Evaluation ACC:  36.10%\n",
            "\n",
            "epoch: 6\n"
          ]
        },
        {
          "name": "stderr",
          "output_type": "stream",
          "text": [
            "100%|██████████| 4283/4283 [01:27<00:00, 48.97it/s]\n"
          ]
        },
        {
          "name": "stdout",
          "output_type": "stream",
          "text": [
            "FINISHED EPOCH: 6\n",
            "train_loss: 0.6516442894935608\n"
          ]
        },
        {
          "name": "stderr",
          "output_type": "stream",
          "text": [
            "\r 20%|██        | 6/30 [08:50<35:16, 88.19s/it]"
          ]
        },
        {
          "name": "stdout",
          "output_type": "stream",
          "text": [
            "\n",
            "Evaluation LOSS: 0.6725269556045532\n",
            "Evaluation ACC:  55.98%\n",
            "\n",
            "epoch: 7\n"
          ]
        },
        {
          "name": "stderr",
          "output_type": "stream",
          "text": [
            "100%|██████████| 4283/4283 [01:26<00:00, 49.39it/s]\n"
          ]
        },
        {
          "name": "stdout",
          "output_type": "stream",
          "text": [
            "FINISHED EPOCH: 7\n",
            "train_loss: 0.7090222835540771\n"
          ]
        },
        {
          "name": "stderr",
          "output_type": "stream",
          "text": [
            "\r 23%|██▎       | 7/30 [10:17<33:41, 87.91s/it]"
          ]
        },
        {
          "name": "stdout",
          "output_type": "stream",
          "text": [
            "\n",
            "Evaluation LOSS: 0.6962385773658752\n",
            "Evaluation ACC:  48.87%\n",
            "\n",
            "epoch: 8\n"
          ]
        },
        {
          "name": "stderr",
          "output_type": "stream",
          "text": [
            "100%|██████████| 4283/4283 [01:26<00:00, 49.45it/s]\n"
          ]
        },
        {
          "name": "stdout",
          "output_type": "stream",
          "text": [
            "FINISHED EPOCH: 8\n",
            "train_loss: 0.704438328742981\n"
          ]
        },
        {
          "name": "stderr",
          "output_type": "stream",
          "text": [
            "\r 27%|██▋       | 8/30 [11:44<32:09, 87.69s/it]"
          ]
        },
        {
          "name": "stdout",
          "output_type": "stream",
          "text": [
            "\n",
            "Evaluation LOSS: 0.6856271028518677\n",
            "Evaluation ACC:  53.04%\n",
            "\n",
            "epoch: 9\n"
          ]
        },
        {
          "name": "stderr",
          "output_type": "stream",
          "text": [
            "100%|██████████| 4283/4283 [01:26<00:00, 49.27it/s]\n"
          ]
        },
        {
          "name": "stdout",
          "output_type": "stream",
          "text": [
            "FINISHED EPOCH: 9\n",
            "train_loss: 0.6894145011901855\n"
          ]
        },
        {
          "name": "stderr",
          "output_type": "stream",
          "text": [
            "\r 30%|███       | 9/30 [13:12<30:40, 87.65s/it]"
          ]
        },
        {
          "name": "stdout",
          "output_type": "stream",
          "text": [
            "\n",
            "Evaluation LOSS: 0.7169347405433655\n",
            "Evaluation ACC:  40.07%\n",
            "\n",
            "epoch: 10\n"
          ]
        },
        {
          "name": "stderr",
          "output_type": "stream",
          "text": [
            "100%|██████████| 4283/4283 [01:26<00:00, 49.46it/s]\n"
          ]
        },
        {
          "name": "stdout",
          "output_type": "stream",
          "text": [
            "FINISHED EPOCH: 10\n",
            "train_loss: 0.6884341835975647\n"
          ]
        },
        {
          "name": "stderr",
          "output_type": "stream",
          "text": [
            "\r 33%|███▎      | 10/30 [14:39<29:10, 87.52s/it]"
          ]
        },
        {
          "name": "stdout",
          "output_type": "stream",
          "text": [
            "\n",
            "Evaluation LOSS: 0.6886312961578369\n",
            "Evaluation ACC:  51.99%\n",
            "\n",
            "epoch: 11\n"
          ]
        },
        {
          "name": "stderr",
          "output_type": "stream",
          "text": [
            "100%|██████████| 4283/4283 [01:26<00:00, 49.37it/s]\n"
          ]
        },
        {
          "name": "stdout",
          "output_type": "stream",
          "text": [
            "FINISHED EPOCH: 11\n",
            "train_loss: 0.6750971078872681\n"
          ]
        },
        {
          "name": "stderr",
          "output_type": "stream",
          "text": [
            "\r 37%|███▋      | 11/30 [16:06<27:42, 87.48s/it]"
          ]
        },
        {
          "name": "stdout",
          "output_type": "stream",
          "text": [
            "\n",
            "Evaluation LOSS: 0.6979579329490662\n",
            "Evaluation ACC:  46.66%\n",
            "\n",
            "epoch: 12\n"
          ]
        },
        {
          "name": "stderr",
          "output_type": "stream",
          "text": [
            "100%|██████████| 4283/4283 [01:27<00:00, 48.88it/s]\n"
          ]
        },
        {
          "name": "stdout",
          "output_type": "stream",
          "text": [
            "FINISHED EPOCH: 12\n",
            "train_loss: 0.6953202486038208\n"
          ]
        },
        {
          "name": "stderr",
          "output_type": "stream",
          "text": [
            "\r 40%|████      | 12/30 [17:35<26:18, 87.71s/it]"
          ]
        },
        {
          "name": "stdout",
          "output_type": "stream",
          "text": [
            "\n",
            "Evaluation LOSS: 0.6858376264572144\n",
            "Evaluation ACC:  54.56%\n",
            "\n",
            "epoch: 13\n"
          ]
        },
        {
          "name": "stderr",
          "output_type": "stream",
          "text": [
            "100%|██████████| 4283/4283 [01:26<00:00, 49.66it/s]\n"
          ]
        },
        {
          "name": "stdout",
          "output_type": "stream",
          "text": [
            "FINISHED EPOCH: 13\n",
            "train_loss: 0.6789199709892273\n"
          ]
        },
        {
          "name": "stderr",
          "output_type": "stream",
          "text": [
            "\r 43%|████▎     | 13/30 [19:01<24:46, 87.46s/it]"
          ]
        },
        {
          "name": "stdout",
          "output_type": "stream",
          "text": [
            "\n",
            "Evaluation LOSS: 0.6902089715003967\n",
            "Evaluation ACC:  51.58%\n",
            "\n",
            "epoch: 14\n"
          ]
        },
        {
          "name": "stderr",
          "output_type": "stream",
          "text": [
            "100%|██████████| 4283/4283 [01:27<00:00, 49.17it/s]\n"
          ]
        },
        {
          "name": "stdout",
          "output_type": "stream",
          "text": [
            "FINISHED EPOCH: 14\n",
            "train_loss: 0.7026379704475403\n"
          ]
        },
        {
          "name": "stderr",
          "output_type": "stream",
          "text": [
            "\r 47%|████▋     | 14/30 [20:29<23:20, 87.54s/it]"
          ]
        },
        {
          "name": "stdout",
          "output_type": "stream",
          "text": [
            "\n",
            "Evaluation LOSS: 0.6904187202453613\n",
            "Evaluation ACC:  52.25%\n",
            "\n",
            "epoch: 15\n"
          ]
        },
        {
          "name": "stderr",
          "output_type": "stream",
          "text": [
            "100%|██████████| 4283/4283 [01:26<00:00, 49.63it/s]\n"
          ]
        },
        {
          "name": "stdout",
          "output_type": "stream",
          "text": [
            "FINISHED EPOCH: 15\n",
            "train_loss: 0.6990073919296265\n"
          ]
        },
        {
          "name": "stderr",
          "output_type": "stream",
          "text": [
            "\r 50%|█████     | 15/30 [21:56<21:51, 87.40s/it]"
          ]
        },
        {
          "name": "stdout",
          "output_type": "stream",
          "text": [
            "\n",
            "Evaluation LOSS: 0.7041594386100769\n",
            "Evaluation ACC:  44.58%\n",
            "\n",
            "epoch: 16\n"
          ]
        },
        {
          "name": "stderr",
          "output_type": "stream",
          "text": [
            "100%|██████████| 4283/4283 [01:25<00:00, 49.87it/s]\n"
          ]
        },
        {
          "name": "stdout",
          "output_type": "stream",
          "text": [
            "FINISHED EPOCH: 16\n",
            "train_loss: 0.7120844125747681\n"
          ]
        },
        {
          "name": "stderr",
          "output_type": "stream",
          "text": [
            "\r 53%|█████▎    | 16/30 [23:23<20:19, 87.14s/it]"
          ]
        },
        {
          "name": "stdout",
          "output_type": "stream",
          "text": [
            "\n",
            "Evaluation LOSS: 0.6942288279533386\n",
            "Evaluation ACC:  49.63%\n",
            "\n",
            "epoch: 17\n"
          ]
        },
        {
          "name": "stderr",
          "output_type": "stream",
          "text": [
            "100%|██████████| 4283/4283 [01:26<00:00, 49.52it/s]\n"
          ]
        },
        {
          "name": "stdout",
          "output_type": "stream",
          "text": [
            "FINISHED EPOCH: 17\n",
            "train_loss: 0.6956572532653809\n"
          ]
        },
        {
          "name": "stderr",
          "output_type": "stream",
          "text": [
            "\r 57%|█████▋    | 17/30 [24:50<18:52, 87.13s/it]"
          ]
        },
        {
          "name": "stdout",
          "output_type": "stream",
          "text": [
            "\n",
            "Evaluation LOSS: 0.6866198778152466\n",
            "Evaluation ACC:  53.44%\n",
            "\n",
            "epoch: 18\n"
          ]
        },
        {
          "name": "stderr",
          "output_type": "stream",
          "text": [
            "100%|██████████| 4283/4283 [01:26<00:00, 49.70it/s]\n"
          ]
        },
        {
          "name": "stdout",
          "output_type": "stream",
          "text": [
            "FINISHED EPOCH: 18\n",
            "train_loss: 0.6761541366577148\n"
          ]
        },
        {
          "name": "stderr",
          "output_type": "stream",
          "text": [
            "\r 60%|██████    | 18/30 [26:17<17:24, 87.04s/it]"
          ]
        },
        {
          "name": "stdout",
          "output_type": "stream",
          "text": [
            "\n",
            "Evaluation LOSS: 0.6803508996963501\n",
            "Evaluation ACC:  56.52%\n",
            "\n",
            "epoch: 19\n"
          ]
        },
        {
          "name": "stderr",
          "output_type": "stream",
          "text": [
            "100%|██████████| 4283/4283 [01:24<00:00, 50.68it/s]\n"
          ]
        },
        {
          "name": "stdout",
          "output_type": "stream",
          "text": [
            "FINISHED EPOCH: 19\n",
            "train_loss: 0.6885774731636047\n"
          ]
        },
        {
          "name": "stderr",
          "output_type": "stream",
          "text": [
            "\r 63%|██████▎   | 19/30 [27:42<15:51, 86.46s/it]"
          ]
        },
        {
          "name": "stdout",
          "output_type": "stream",
          "text": [
            "\n",
            "Evaluation LOSS: 0.689131498336792\n",
            "Evaluation ACC:  52.43%\n",
            "\n",
            "epoch: 20\n"
          ]
        },
        {
          "name": "stderr",
          "output_type": "stream",
          "text": [
            "100%|██████████| 4283/4283 [01:24<00:00, 50.84it/s]\n"
          ]
        },
        {
          "name": "stdout",
          "output_type": "stream",
          "text": [
            "FINISHED EPOCH: 20\n",
            "train_loss: 0.6970848441123962\n"
          ]
        },
        {
          "name": "stderr",
          "output_type": "stream",
          "text": [
            "\r 67%|██████▋   | 20/30 [29:07<14:19, 85.98s/it]"
          ]
        },
        {
          "name": "stdout",
          "output_type": "stream",
          "text": [
            "\n",
            "Evaluation LOSS: 0.6921870708465576\n",
            "Evaluation ACC:  51.61%\n",
            "\n",
            "epoch: 21\n"
          ]
        },
        {
          "name": "stderr",
          "output_type": "stream",
          "text": [
            "100%|██████████| 4283/4283 [01:24<00:00, 50.65it/s]\n"
          ]
        },
        {
          "name": "stdout",
          "output_type": "stream",
          "text": [
            "FINISHED EPOCH: 21\n",
            "train_loss: 0.7128686308860779\n"
          ]
        },
        {
          "name": "stderr",
          "output_type": "stream",
          "text": [
            "\r 70%|███████   | 21/30 [30:32<12:51, 85.74s/it]"
          ]
        },
        {
          "name": "stdout",
          "output_type": "stream",
          "text": [
            "\n",
            "Evaluation LOSS: 0.6884453296661377\n",
            "Evaluation ACC:  54.25%\n",
            "\n",
            "epoch: 22\n"
          ]
        },
        {
          "name": "stderr",
          "output_type": "stream",
          "text": [
            "100%|██████████| 4283/4283 [01:23<00:00, 51.02it/s]\n"
          ]
        },
        {
          "name": "stdout",
          "output_type": "stream",
          "text": [
            "FINISHED EPOCH: 22\n",
            "train_loss: 0.6856234669685364\n"
          ]
        },
        {
          "name": "stderr",
          "output_type": "stream",
          "text": [
            "\r 73%|███████▎  | 22/30 [31:56<11:23, 85.39s/it]"
          ]
        },
        {
          "name": "stdout",
          "output_type": "stream",
          "text": [
            "\n",
            "Evaluation LOSS: 0.6921965479850769\n",
            "Evaluation ACC:  50.63%\n",
            "\n",
            "epoch: 23\n"
          ]
        },
        {
          "name": "stderr",
          "output_type": "stream",
          "text": [
            "100%|██████████| 4283/4283 [01:23<00:00, 51.15it/s]\n"
          ]
        },
        {
          "name": "stdout",
          "output_type": "stream",
          "text": [
            "FINISHED EPOCH: 23\n",
            "train_loss: 0.6977444291114807\n"
          ]
        },
        {
          "name": "stderr",
          "output_type": "stream",
          "text": [
            "\r 77%|███████▋  | 23/30 [33:21<09:55, 85.08s/it]"
          ]
        },
        {
          "name": "stdout",
          "output_type": "stream",
          "text": [
            "\n",
            "Evaluation LOSS: 0.684057891368866\n",
            "Evaluation ACC:  55.95%\n",
            "\n",
            "epoch: 24\n"
          ]
        },
        {
          "name": "stderr",
          "output_type": "stream",
          "text": [
            "100%|██████████| 4283/4283 [01:24<00:00, 50.50it/s]\n"
          ]
        },
        {
          "name": "stdout",
          "output_type": "stream",
          "text": [
            "FINISHED EPOCH: 24\n",
            "train_loss: 0.6981235146522522\n"
          ]
        },
        {
          "name": "stderr",
          "output_type": "stream",
          "text": [
            "\r 80%|████████  | 24/30 [34:46<08:31, 85.19s/it]"
          ]
        },
        {
          "name": "stdout",
          "output_type": "stream",
          "text": [
            "\n",
            "Evaluation LOSS: 0.690284788608551\n",
            "Evaluation ACC:  50.93%\n",
            "\n",
            "epoch: 25\n"
          ]
        },
        {
          "name": "stderr",
          "output_type": "stream",
          "text": [
            "100%|██████████| 4283/4283 [01:23<00:00, 51.20it/s]\n"
          ]
        },
        {
          "name": "stdout",
          "output_type": "stream",
          "text": [
            "FINISHED EPOCH: 25\n",
            "train_loss: 0.7052007913589478\n"
          ]
        },
        {
          "name": "stderr",
          "output_type": "stream",
          "text": [
            "\r 83%|████████▎ | 25/30 [36:11<07:04, 84.91s/it]"
          ]
        },
        {
          "name": "stdout",
          "output_type": "stream",
          "text": [
            "\n",
            "Evaluation LOSS: 0.692750096321106\n",
            "Evaluation ACC:  50.77%\n",
            "\n",
            "epoch: 26\n"
          ]
        },
        {
          "name": "stderr",
          "output_type": "stream",
          "text": [
            "100%|██████████| 4283/4283 [01:23<00:00, 50.99it/s]\n"
          ]
        },
        {
          "name": "stdout",
          "output_type": "stream",
          "text": [
            "FINISHED EPOCH: 26\n",
            "train_loss: 0.7191935777664185\n"
          ]
        },
        {
          "name": "stderr",
          "output_type": "stream",
          "text": [
            "\r 87%|████████▋ | 26/30 [37:35<05:39, 84.83s/it]"
          ]
        },
        {
          "name": "stdout",
          "output_type": "stream",
          "text": [
            "\n",
            "Evaluation LOSS: 0.7032725811004639\n",
            "Evaluation ACC:  43.71%\n",
            "\n",
            "epoch: 27\n"
          ]
        },
        {
          "name": "stderr",
          "output_type": "stream",
          "text": [
            "100%|██████████| 4283/4283 [01:23<00:00, 51.16it/s]\n"
          ]
        },
        {
          "name": "stdout",
          "output_type": "stream",
          "text": [
            "FINISHED EPOCH: 27\n",
            "train_loss: 0.7004210352897644\n"
          ]
        },
        {
          "name": "stderr",
          "output_type": "stream",
          "text": [
            "\r 90%|█████████ | 27/30 [38:59<04:14, 84.68s/it]"
          ]
        },
        {
          "name": "stdout",
          "output_type": "stream",
          "text": [
            "\n",
            "Evaluation LOSS: 0.6880492568016052\n",
            "Evaluation ACC:  54.61%\n",
            "\n",
            "epoch: 28\n"
          ]
        },
        {
          "name": "stderr",
          "output_type": "stream",
          "text": [
            "100%|██████████| 4283/4283 [01:24<00:00, 50.87it/s]\n"
          ]
        },
        {
          "name": "stdout",
          "output_type": "stream",
          "text": [
            "FINISHED EPOCH: 28\n",
            "train_loss: 0.71540766954422\n"
          ]
        },
        {
          "name": "stderr",
          "output_type": "stream",
          "text": [
            "\r 93%|█████████▎| 28/30 [40:24<02:49, 84.73s/it]"
          ]
        },
        {
          "name": "stdout",
          "output_type": "stream",
          "text": [
            "\n",
            "Evaluation LOSS: 0.6972994208335876\n",
            "Evaluation ACC:  48.02%\n",
            "\n",
            "epoch: 29\n"
          ]
        },
        {
          "name": "stderr",
          "output_type": "stream",
          "text": [
            "100%|██████████| 4283/4283 [01:24<00:00, 50.88it/s]\n"
          ]
        },
        {
          "name": "stdout",
          "output_type": "stream",
          "text": [
            "FINISHED EPOCH: 29\n",
            "train_loss: 0.692998468875885\n"
          ]
        },
        {
          "name": "stderr",
          "output_type": "stream",
          "text": [
            "\r 97%|█████████▋| 29/30 [41:49<01:24, 84.75s/it]"
          ]
        },
        {
          "name": "stdout",
          "output_type": "stream",
          "text": [
            "\n",
            "Evaluation LOSS: 0.6895468235015869\n",
            "Evaluation ACC:  50.98%\n",
            "\n",
            "epoch: 30\n"
          ]
        },
        {
          "name": "stderr",
          "output_type": "stream",
          "text": [
            "100%|██████████| 4283/4283 [01:23<00:00, 51.14it/s]\n"
          ]
        },
        {
          "name": "stdout",
          "output_type": "stream",
          "text": [
            "FINISHED EPOCH: 30\n",
            "train_loss: 0.6812344789505005\n"
          ]
        },
        {
          "name": "stderr",
          "output_type": "stream",
          "text": [
            "100%|██████████| 30/30 [43:14<00:00, 86.47s/it]"
          ]
        },
        {
          "name": "stdout",
          "output_type": "stream",
          "text": [
            "\n",
            "Evaluation LOSS: 0.7057119011878967\n",
            "Evaluation ACC:  44.28%\n"
          ]
        },
        {
          "name": "stderr",
          "output_type": "stream",
          "text": [
            "\n"
          ]
        },
        {
          "name": "stdout",
          "output_type": "stream",
          "text": [
            "\n",
            "TEST LOSS: 0.6913386583328247\n",
            "TEST ACC:  50.19%\n"
          ]
        }
      ],
      "source": [
        "\n",
        "#'glove200d', 'glovetwit200d', 'Emotag'\n",
        "model_file = 'model_lstmsenti_001.torch'\n",
        "pre_trained_embedding_file = 'glove200d'\n",
        "Full_Data = Load_parquet(\"parquet/2013/01\")\n",
        "Train_set, Eval_set, Test_set, vocab_dict, weight_mat, list_of_lens_in_batch, Eval_len, Test_len = Preprocess(Full_Data, test_ratio=0.2, evaluation_ratio=0.1, seed=595, train_batch=32, pre_trained_embedding_file=pre_trained_embedding_file)\n",
        "BATCH_SIZE = 32\n",
        "HIDDEN_DIM = 128\n",
        "TAGSET_SIZE = 2 #46\n",
        "torch.manual_seed(0)\n",
        "model = train(Train_set, Eval_set, HIDDEN_DIM, TAGSET_SIZE, weight_mat, list_of_lens_in_batch, Eval_len, learning_rate=0.001, n_epochs=30)\n",
        "torch.save(model.state_dict(), model_file)\n",
        "\n",
        "test(Test_set, HIDDEN_DIM, TAGSET_SIZE, weight_mat, Test_len, model_file)\n"
      ]
    },
    {
      "cell_type": "markdown",
      "metadata": {
        "id": "VwdQe66eMmp3"
      },
      "source": [
        "glovetwitt"
      ]
    },
    {
      "cell_type": "code",
      "execution_count": null,
      "metadata": {
        "colab": {
          "background_save": true
        },
        "id": "fiW0CTDsMp9c",
        "outputId": "1318b3f6-7537-40d6-f354-98f58b19d5c6"
      },
      "outputs": [
        {
          "name": "stderr",
          "output_type": "stream",
          "text": [
            "100%|██████████| 1193514/1193514 [01:02<00:00, 19129.48it/s]\n"
          ]
        },
        {
          "name": "stdout",
          "output_type": "stream",
          "text": [
            "Embedding dimension : 200\n"
          ]
        },
        {
          "name": "stderr",
          "output_type": "stream",
          "text": [
            "29819it [00:00, 73095.78it/s]\n",
            "<ipython-input-50-2ffc02e1b240>:122: DeprecationWarning: `np.int` is a deprecated alias for the builtin `int`. To silence this warning, use `int` by itself. Doing this will not modify any behavior and is safe. When replacing `np.int`, you may wish to use e.g. `np.int64` or `np.int32` to specify the precision. If you wish to review your current use, check the release note link for additional information.\n",
            "Deprecated in NumPy 1.20; for more details and guidance: https://numpy.org/devdocs/release/1.20.0-notes.html#deprecations\n",
            "  padded_label_batch = np.zeros(train_batch, dtype=np.int)\n"
          ]
        },
        {
          "name": "stdout",
          "output_type": "stream",
          "text": [
            "##############################\n",
            "Train Model\n",
            "##############################\n"
          ]
        },
        {
          "name": "stderr",
          "output_type": "stream",
          "text": [
            "\r  0%|          | 0/30 [00:00<?, ?it/s]"
          ]
        },
        {
          "name": "stdout",
          "output_type": "stream",
          "text": [
            "\n",
            "epoch: 1\n"
          ]
        },
        {
          "name": "stderr",
          "output_type": "stream",
          "text": [
            "100%|██████████| 4283/4283 [01:23<00:00, 51.04it/s]\n"
          ]
        },
        {
          "name": "stdout",
          "output_type": "stream",
          "text": [
            "FINISHED EPOCH: 1\n",
            "train_loss: 0.6455841064453125\n"
          ]
        },
        {
          "name": "stderr",
          "output_type": "stream",
          "text": [
            "\r  3%|▎         | 1/30 [01:24<40:51, 84.53s/it]"
          ]
        },
        {
          "name": "stdout",
          "output_type": "stream",
          "text": [
            "\n",
            "Evaluation LOSS: 0.6815106272697449\n",
            "Evaluation ACC:  55.11%\n",
            "\n",
            "epoch: 2\n"
          ]
        },
        {
          "name": "stderr",
          "output_type": "stream",
          "text": [
            "100%|██████████| 4283/4283 [01:24<00:00, 50.94it/s]\n"
          ]
        },
        {
          "name": "stdout",
          "output_type": "stream",
          "text": [
            "FINISHED EPOCH: 2\n",
            "train_loss: 0.7059131860733032\n"
          ]
        },
        {
          "name": "stderr",
          "output_type": "stream",
          "text": [
            "\r  7%|▋         | 2/30 [02:49<39:29, 84.62s/it]"
          ]
        },
        {
          "name": "stdout",
          "output_type": "stream",
          "text": [
            "\n",
            "Evaluation LOSS: 0.6798591017723083\n",
            "Evaluation ACC:  57.39%\n",
            "\n",
            "epoch: 3\n"
          ]
        },
        {
          "name": "stderr",
          "output_type": "stream",
          "text": [
            "100%|██████████| 4283/4283 [01:24<00:00, 50.79it/s]\n"
          ]
        },
        {
          "name": "stdout",
          "output_type": "stream",
          "text": [
            "FINISHED EPOCH: 3\n",
            "train_loss: 0.6621090769767761\n"
          ]
        },
        {
          "name": "stderr",
          "output_type": "stream",
          "text": [
            "\r 10%|█         | 3/30 [04:14<38:08, 84.77s/it]"
          ]
        },
        {
          "name": "stdout",
          "output_type": "stream",
          "text": [
            "\n",
            "Evaluation LOSS: 0.7152442932128906\n",
            "Evaluation ACC:  41.43%\n",
            "\n",
            "epoch: 4\n"
          ]
        },
        {
          "name": "stderr",
          "output_type": "stream",
          "text": [
            "100%|██████████| 4283/4283 [01:24<00:00, 50.54it/s]\n"
          ]
        },
        {
          "name": "stdout",
          "output_type": "stream",
          "text": [
            "FINISHED EPOCH: 4\n",
            "train_loss: 0.7170959711074829\n"
          ]
        },
        {
          "name": "stderr",
          "output_type": "stream",
          "text": [
            "\r 13%|█▎        | 4/30 [05:39<36:49, 85.00s/it]"
          ]
        },
        {
          "name": "stdout",
          "output_type": "stream",
          "text": [
            "\n",
            "Evaluation LOSS: 0.67026686668396\n",
            "Evaluation ACC:  59.26%\n",
            "\n",
            "epoch: 5\n"
          ]
        },
        {
          "name": "stderr",
          "output_type": "stream",
          "text": [
            "100%|██████████| 4283/4283 [01:24<00:00, 50.41it/s]\n"
          ]
        },
        {
          "name": "stdout",
          "output_type": "stream",
          "text": [
            "FINISHED EPOCH: 5\n",
            "train_loss: 0.6939024329185486\n"
          ]
        },
        {
          "name": "stderr",
          "output_type": "stream",
          "text": [
            "\r 17%|█▋        | 5/30 [07:05<35:30, 85.21s/it]"
          ]
        },
        {
          "name": "stdout",
          "output_type": "stream",
          "text": [
            "\n",
            "Evaluation LOSS: 0.7221811413764954\n",
            "Evaluation ACC:  39.56%\n",
            "\n",
            "epoch: 6\n"
          ]
        },
        {
          "name": "stderr",
          "output_type": "stream",
          "text": [
            "100%|██████████| 4283/4283 [01:25<00:00, 49.90it/s]\n"
          ]
        },
        {
          "name": "stdout",
          "output_type": "stream",
          "text": [
            "FINISHED EPOCH: 6\n",
            "train_loss: 0.678746223449707\n"
          ]
        },
        {
          "name": "stderr",
          "output_type": "stream",
          "text": [
            "\r 20%|██        | 6/30 [08:31<34:15, 85.63s/it]"
          ]
        },
        {
          "name": "stdout",
          "output_type": "stream",
          "text": [
            "\n",
            "Evaluation LOSS: 0.7050144672393799\n",
            "Evaluation ACC:  43.36%\n",
            "\n",
            "epoch: 7\n"
          ]
        },
        {
          "name": "stderr",
          "output_type": "stream",
          "text": [
            "100%|██████████| 4283/4283 [01:27<00:00, 49.00it/s]\n"
          ]
        },
        {
          "name": "stdout",
          "output_type": "stream",
          "text": [
            "FINISHED EPOCH: 7\n",
            "train_loss: 0.7275265455245972\n"
          ]
        },
        {
          "name": "stderr",
          "output_type": "stream",
          "text": [
            "\r 23%|██▎       | 7/30 [09:59<33:07, 86.42s/it]"
          ]
        },
        {
          "name": "stdout",
          "output_type": "stream",
          "text": [
            "\n",
            "Evaluation LOSS: 0.6879286766052246\n",
            "Evaluation ACC:  52.61%\n",
            "\n",
            "epoch: 8\n"
          ]
        },
        {
          "name": "stderr",
          "output_type": "stream",
          "text": [
            "100%|██████████| 4283/4283 [01:27<00:00, 49.22it/s]\n"
          ]
        },
        {
          "name": "stdout",
          "output_type": "stream",
          "text": [
            "FINISHED EPOCH: 8\n",
            "train_loss: 0.6831313967704773\n"
          ]
        },
        {
          "name": "stderr",
          "output_type": "stream",
          "text": [
            "\r 27%|██▋       | 8/30 [11:27<31:49, 86.80s/it]"
          ]
        },
        {
          "name": "stdout",
          "output_type": "stream",
          "text": [
            "\n",
            "Evaluation LOSS: 0.6748923063278198\n",
            "Evaluation ACC:  59.55%\n",
            "\n",
            "epoch: 9\n"
          ]
        },
        {
          "name": "stderr",
          "output_type": "stream",
          "text": [
            "100%|██████████| 4283/4283 [01:27<00:00, 48.83it/s]\n"
          ]
        },
        {
          "name": "stdout",
          "output_type": "stream",
          "text": [
            "FINISHED EPOCH: 9\n",
            "train_loss: 0.7221260070800781\n"
          ]
        },
        {
          "name": "stderr",
          "output_type": "stream",
          "text": [
            "\r 30%|███       | 9/30 [12:55<30:32, 87.28s/it]"
          ]
        },
        {
          "name": "stdout",
          "output_type": "stream",
          "text": [
            "\n",
            "Evaluation LOSS: 0.708970308303833\n",
            "Evaluation ACC:  45.58%\n",
            "\n",
            "epoch: 10\n"
          ]
        },
        {
          "name": "stderr",
          "output_type": "stream",
          "text": [
            "100%|██████████| 4283/4283 [01:27<00:00, 49.19it/s]\n"
          ]
        },
        {
          "name": "stdout",
          "output_type": "stream",
          "text": [
            "FINISHED EPOCH: 10\n",
            "train_loss: 0.6636242866516113\n"
          ]
        },
        {
          "name": "stderr",
          "output_type": "stream",
          "text": [
            "\r 33%|███▎      | 10/30 [14:23<29:08, 87.41s/it]"
          ]
        },
        {
          "name": "stdout",
          "output_type": "stream",
          "text": [
            "\n",
            "Evaluation LOSS: 0.7006151676177979\n",
            "Evaluation ACC:  47.26%\n",
            "\n",
            "epoch: 11\n"
          ]
        },
        {
          "name": "stderr",
          "output_type": "stream",
          "text": [
            "100%|██████████| 4283/4283 [01:25<00:00, 49.86it/s]\n"
          ]
        },
        {
          "name": "stdout",
          "output_type": "stream",
          "text": [
            "FINISHED EPOCH: 11\n",
            "train_loss: 0.6790996193885803\n"
          ]
        },
        {
          "name": "stderr",
          "output_type": "stream",
          "text": [
            "\r 37%|███▋      | 11/30 [15:49<27:35, 87.14s/it]"
          ]
        },
        {
          "name": "stdout",
          "output_type": "stream",
          "text": [
            "\n",
            "Evaluation LOSS: 0.6935549974441528\n",
            "Evaluation ACC:  49.44%\n",
            "\n",
            "epoch: 12\n"
          ]
        },
        {
          "name": "stderr",
          "output_type": "stream",
          "text": [
            "100%|██████████| 4283/4283 [01:26<00:00, 49.45it/s]\n"
          ]
        },
        {
          "name": "stdout",
          "output_type": "stream",
          "text": [
            "FINISHED EPOCH: 12\n",
            "train_loss: 0.7347800135612488\n"
          ]
        },
        {
          "name": "stderr",
          "output_type": "stream",
          "text": [
            "\r 40%|████      | 12/30 [17:17<26:09, 87.17s/it]"
          ]
        },
        {
          "name": "stdout",
          "output_type": "stream",
          "text": [
            "\n",
            "Evaluation LOSS: 0.7051665186882019\n",
            "Evaluation ACC:  44.28%\n",
            "\n",
            "epoch: 13\n"
          ]
        },
        {
          "name": "stderr",
          "output_type": "stream",
          "text": [
            "100%|██████████| 4283/4283 [01:25<00:00, 50.22it/s]\n"
          ]
        },
        {
          "name": "stdout",
          "output_type": "stream",
          "text": [
            "FINISHED EPOCH: 13\n",
            "train_loss: 0.6827288269996643\n"
          ]
        },
        {
          "name": "stderr",
          "output_type": "stream",
          "text": [
            "\r 43%|████▎     | 13/30 [18:42<24:35, 86.79s/it]"
          ]
        },
        {
          "name": "stdout",
          "output_type": "stream",
          "text": [
            "\n",
            "Evaluation LOSS: 0.6910505294799805\n",
            "Evaluation ACC:  51.54%\n",
            "\n",
            "epoch: 14\n"
          ]
        },
        {
          "name": "stderr",
          "output_type": "stream",
          "text": [
            "100%|██████████| 4283/4283 [01:24<00:00, 50.59it/s]\n"
          ]
        },
        {
          "name": "stdout",
          "output_type": "stream",
          "text": [
            "FINISHED EPOCH: 14\n",
            "train_loss: 0.6971068978309631\n"
          ]
        },
        {
          "name": "stderr",
          "output_type": "stream",
          "text": [
            "\r 47%|████▋     | 14/30 [20:08<23:01, 86.33s/it]"
          ]
        },
        {
          "name": "stdout",
          "output_type": "stream",
          "text": [
            "\n",
            "Evaluation LOSS: 0.703405499458313\n",
            "Evaluation ACC:  48.12%\n",
            "\n",
            "epoch: 15\n"
          ]
        },
        {
          "name": "stderr",
          "output_type": "stream",
          "text": [
            "100%|██████████| 4283/4283 [01:24<00:00, 50.88it/s]\n"
          ]
        },
        {
          "name": "stdout",
          "output_type": "stream",
          "text": [
            "FINISHED EPOCH: 15\n",
            "train_loss: 0.6935513615608215\n"
          ]
        },
        {
          "name": "stderr",
          "output_type": "stream",
          "text": [
            "\r 50%|█████     | 15/30 [21:32<21:28, 85.87s/it]"
          ]
        },
        {
          "name": "stdout",
          "output_type": "stream",
          "text": [
            "\n",
            "Evaluation LOSS: 0.7154384851455688\n",
            "Evaluation ACC:  40.52%\n",
            "\n",
            "epoch: 16\n"
          ]
        },
        {
          "name": "stderr",
          "output_type": "stream",
          "text": [
            "100%|██████████| 4283/4283 [01:24<00:00, 50.81it/s]\n"
          ]
        },
        {
          "name": "stdout",
          "output_type": "stream",
          "text": [
            "FINISHED EPOCH: 16\n",
            "train_loss: 0.683535099029541\n"
          ]
        },
        {
          "name": "stderr",
          "output_type": "stream",
          "text": [
            "\r 53%|█████▎    | 16/30 [22:57<19:58, 85.58s/it]"
          ]
        },
        {
          "name": "stdout",
          "output_type": "stream",
          "text": [
            "\n",
            "Evaluation LOSS: 0.705697774887085\n",
            "Evaluation ACC:  43.19%\n",
            "\n",
            "epoch: 17\n"
          ]
        },
        {
          "name": "stderr",
          "output_type": "stream",
          "text": [
            "100%|██████████| 4283/4283 [01:24<00:00, 50.80it/s]\n"
          ]
        },
        {
          "name": "stdout",
          "output_type": "stream",
          "text": [
            "FINISHED EPOCH: 17\n",
            "train_loss: 0.6949916481971741\n"
          ]
        },
        {
          "name": "stderr",
          "output_type": "stream",
          "text": [
            "\r 57%|█████▋    | 17/30 [24:22<18:30, 85.39s/it]"
          ]
        },
        {
          "name": "stdout",
          "output_type": "stream",
          "text": [
            "\n",
            "Evaluation LOSS: 0.6877659559249878\n",
            "Evaluation ACC:  53.16%\n",
            "\n",
            "epoch: 18\n"
          ]
        },
        {
          "name": "stderr",
          "output_type": "stream",
          "text": [
            "100%|██████████| 4283/4283 [01:24<00:00, 50.78it/s]\n"
          ]
        },
        {
          "name": "stdout",
          "output_type": "stream",
          "text": [
            "FINISHED EPOCH: 18\n",
            "train_loss: 0.6751664876937866\n"
          ]
        },
        {
          "name": "stderr",
          "output_type": "stream",
          "text": [
            "\r 60%|██████    | 18/30 [25:47<17:03, 85.25s/it]"
          ]
        },
        {
          "name": "stdout",
          "output_type": "stream",
          "text": [
            "\n",
            "Evaluation LOSS: 0.6864219903945923\n",
            "Evaluation ACC:  52.10%\n",
            "\n",
            "epoch: 19\n"
          ]
        },
        {
          "name": "stderr",
          "output_type": "stream",
          "text": [
            "100%|██████████| 4283/4283 [01:24<00:00, 50.73it/s]\n"
          ]
        },
        {
          "name": "stdout",
          "output_type": "stream",
          "text": [
            "FINISHED EPOCH: 19\n",
            "train_loss: 0.657261073589325\n"
          ]
        },
        {
          "name": "stderr",
          "output_type": "stream",
          "text": [
            "\r 63%|██████▎   | 19/30 [27:12<15:37, 85.19s/it]"
          ]
        },
        {
          "name": "stdout",
          "output_type": "stream",
          "text": [
            "\n",
            "Evaluation LOSS: 0.6840450763702393\n",
            "Evaluation ACC:  54.97%\n",
            "\n",
            "epoch: 20\n"
          ]
        },
        {
          "name": "stderr",
          "output_type": "stream",
          "text": [
            "100%|██████████| 4283/4283 [01:25<00:00, 50.27it/s]\n"
          ]
        },
        {
          "name": "stdout",
          "output_type": "stream",
          "text": [
            "FINISHED EPOCH: 20\n",
            "train_loss: 0.7000671625137329\n"
          ]
        },
        {
          "name": "stderr",
          "output_type": "stream",
          "text": [
            "\r 67%|██████▋   | 20/30 [28:38<14:13, 85.38s/it]"
          ]
        },
        {
          "name": "stdout",
          "output_type": "stream",
          "text": [
            "\n",
            "Evaluation LOSS: 0.6904033422470093\n",
            "Evaluation ACC:  51.53%\n",
            "\n",
            "epoch: 21\n"
          ]
        },
        {
          "name": "stderr",
          "output_type": "stream",
          "text": [
            "100%|██████████| 4283/4283 [01:25<00:00, 50.13it/s]\n"
          ]
        },
        {
          "name": "stdout",
          "output_type": "stream",
          "text": [
            "FINISHED EPOCH: 21\n",
            "train_loss: 0.715528666973114\n"
          ]
        },
        {
          "name": "stderr",
          "output_type": "stream",
          "text": [
            "\r 70%|███████   | 21/30 [30:04<12:50, 85.58s/it]"
          ]
        },
        {
          "name": "stdout",
          "output_type": "stream",
          "text": [
            "\n",
            "Evaluation LOSS: 0.6866210699081421\n",
            "Evaluation ACC:  54.92%\n",
            "\n",
            "epoch: 22\n"
          ]
        },
        {
          "name": "stderr",
          "output_type": "stream",
          "text": [
            "100%|██████████| 4283/4283 [01:25<00:00, 49.84it/s]\n"
          ]
        },
        {
          "name": "stdout",
          "output_type": "stream",
          "text": [
            "FINISHED EPOCH: 22\n",
            "train_loss: 0.6730544567108154\n"
          ]
        },
        {
          "name": "stderr",
          "output_type": "stream",
          "text": [
            "\r 73%|███████▎  | 22/30 [31:31<11:26, 85.87s/it]"
          ]
        },
        {
          "name": "stdout",
          "output_type": "stream",
          "text": [
            "\n",
            "Evaluation LOSS: 0.6963463425636292\n",
            "Evaluation ACC:  48.88%\n",
            "\n",
            "epoch: 23\n"
          ]
        },
        {
          "name": "stderr",
          "output_type": "stream",
          "text": [
            "100%|██████████| 4283/4283 [01:25<00:00, 49.82it/s]\n"
          ]
        },
        {
          "name": "stdout",
          "output_type": "stream",
          "text": [
            "FINISHED EPOCH: 23\n",
            "train_loss: 0.6996618509292603\n"
          ]
        },
        {
          "name": "stderr",
          "output_type": "stream",
          "text": [
            "\r 77%|███████▋  | 23/30 [32:57<10:02, 86.08s/it]"
          ]
        },
        {
          "name": "stdout",
          "output_type": "stream",
          "text": [
            "\n",
            "Evaluation LOSS: 0.6832794547080994\n",
            "Evaluation ACC:  56.44%\n",
            "\n",
            "epoch: 24\n"
          ]
        },
        {
          "name": "stderr",
          "output_type": "stream",
          "text": [
            "100%|██████████| 4283/4283 [01:25<00:00, 49.99it/s]\n"
          ]
        },
        {
          "name": "stdout",
          "output_type": "stream",
          "text": [
            "FINISHED EPOCH: 24\n",
            "train_loss: 0.6849581003189087\n"
          ]
        },
        {
          "name": "stderr",
          "output_type": "stream",
          "text": [
            "\r 80%|████████  | 24/30 [34:24<08:36, 86.15s/it]"
          ]
        },
        {
          "name": "stdout",
          "output_type": "stream",
          "text": [
            "\n",
            "Evaluation LOSS: 0.6928897500038147\n",
            "Evaluation ACC:  50.39%\n",
            "\n",
            "epoch: 25\n"
          ]
        },
        {
          "name": "stderr",
          "output_type": "stream",
          "text": [
            "100%|██████████| 4283/4283 [01:26<00:00, 49.56it/s]\n"
          ]
        },
        {
          "name": "stdout",
          "output_type": "stream",
          "text": [
            "FINISHED EPOCH: 25\n",
            "train_loss: 0.6989033818244934\n"
          ]
        },
        {
          "name": "stderr",
          "output_type": "stream",
          "text": [
            "\r 83%|████████▎ | 25/30 [35:51<07:12, 86.41s/it]"
          ]
        },
        {
          "name": "stdout",
          "output_type": "stream",
          "text": [
            "\n",
            "Evaluation LOSS: 0.688189685344696\n",
            "Evaluation ACC:  54.21%\n",
            "\n",
            "epoch: 26\n"
          ]
        },
        {
          "name": "stderr",
          "output_type": "stream",
          "text": [
            "100%|██████████| 4283/4283 [01:27<00:00, 49.21it/s]\n"
          ]
        },
        {
          "name": "stdout",
          "output_type": "stream",
          "text": [
            "FINISHED EPOCH: 26\n",
            "train_loss: 0.7151131629943848\n"
          ]
        },
        {
          "name": "stderr",
          "output_type": "stream",
          "text": [
            "\r 87%|████████▋ | 26/30 [37:18<05:47, 86.79s/it]"
          ]
        },
        {
          "name": "stdout",
          "output_type": "stream",
          "text": [
            "\n",
            "Evaluation LOSS: 0.7041940093040466\n",
            "Evaluation ACC:  44.56%\n",
            "\n",
            "epoch: 27\n"
          ]
        },
        {
          "name": "stderr",
          "output_type": "stream",
          "text": [
            "100%|██████████| 4283/4283 [01:27<00:00, 49.15it/s]\n"
          ]
        },
        {
          "name": "stdout",
          "output_type": "stream",
          "text": [
            "FINISHED EPOCH: 27\n",
            "train_loss: 0.6804015636444092\n"
          ]
        },
        {
          "name": "stderr",
          "output_type": "stream",
          "text": [
            "\r 90%|█████████ | 27/30 [38:46<04:21, 87.07s/it]"
          ]
        },
        {
          "name": "stdout",
          "output_type": "stream",
          "text": [
            "\n",
            "Evaluation LOSS: 0.702721893787384\n",
            "Evaluation ACC:  45.50%\n",
            "\n",
            "epoch: 28\n"
          ]
        },
        {
          "name": "stderr",
          "output_type": "stream",
          "text": [
            "100%|██████████| 4283/4283 [01:26<00:00, 49.42it/s]\n"
          ]
        },
        {
          "name": "stdout",
          "output_type": "stream",
          "text": [
            "FINISHED EPOCH: 28\n",
            "train_loss: 0.7053883671760559\n"
          ]
        },
        {
          "name": "stderr",
          "output_type": "stream",
          "text": [
            "\r 93%|█████████▎| 28/30 [40:13<02:54, 87.13s/it]"
          ]
        },
        {
          "name": "stdout",
          "output_type": "stream",
          "text": [
            "\n",
            "Evaluation LOSS: 0.6995129585266113\n",
            "Evaluation ACC:  45.90%\n",
            "\n",
            "epoch: 29\n"
          ]
        },
        {
          "name": "stderr",
          "output_type": "stream",
          "text": [
            "100%|██████████| 4283/4283 [01:26<00:00, 49.63it/s]\n"
          ]
        },
        {
          "name": "stdout",
          "output_type": "stream",
          "text": [
            "FINISHED EPOCH: 29\n",
            "train_loss: 0.6742345094680786\n"
          ]
        },
        {
          "name": "stderr",
          "output_type": "stream",
          "text": [
            "\r 97%|█████████▋| 29/30 [41:40<01:27, 87.07s/it]"
          ]
        },
        {
          "name": "stdout",
          "output_type": "stream",
          "text": [
            "\n",
            "Evaluation LOSS: 0.6990151405334473\n",
            "Evaluation ACC:  45.88%\n",
            "\n",
            "epoch: 30\n"
          ]
        },
        {
          "name": "stderr",
          "output_type": "stream",
          "text": [
            "100%|██████████| 4283/4283 [01:28<00:00, 48.62it/s]\n"
          ]
        },
        {
          "name": "stdout",
          "output_type": "stream",
          "text": [
            "FINISHED EPOCH: 30\n",
            "train_loss: 0.6872574687004089\n"
          ]
        },
        {
          "name": "stderr",
          "output_type": "stream",
          "text": [
            "100%|██████████| 30/30 [43:09<00:00, 86.31s/it]"
          ]
        },
        {
          "name": "stdout",
          "output_type": "stream",
          "text": [
            "\n",
            "Evaluation LOSS: 0.6974246501922607\n",
            "Evaluation ACC:  47.91%\n"
          ]
        },
        {
          "name": "stderr",
          "output_type": "stream",
          "text": [
            "\n"
          ]
        },
        {
          "name": "stdout",
          "output_type": "stream",
          "text": [
            "\n",
            "TEST LOSS: 0.6885067820549011\n",
            "TEST ACC:  53.02%\n"
          ]
        }
      ],
      "source": [
        "\n",
        "#'glove200d', 'glovetwit200d', 'Emotag'\n",
        "model_file = 'model_lstmsenti_gltwit001.torch'\n",
        "pre_trained_embedding_file = 'glovetwit200d'\n",
        "# Full_Data = Load_parquet(\"parquet/2013/01\")\n",
        "Train_set, Eval_set, Test_set, vocab_dict, weight_mat, list_of_lens_in_batch, Eval_len, Test_len = Preprocess(Full_Data, test_ratio=0.2, evaluation_ratio=0.1, seed=595, train_batch=32, pre_trained_embedding_file=pre_trained_embedding_file)\n",
        "BATCH_SIZE = 32\n",
        "HIDDEN_DIM = 128\n",
        "TAGSET_SIZE = 2 #46\n",
        "torch.manual_seed(0)\n",
        "model = train(Train_set, Eval_set, HIDDEN_DIM, TAGSET_SIZE, weight_mat, list_of_lens_in_batch, Eval_len, learning_rate=0.001, n_epochs=30)\n",
        "torch.save(model.state_dict(), model_file)\n",
        "\n",
        "test(Test_set, HIDDEN_DIM, TAGSET_SIZE, weight_mat, Test_len, model_file)\n"
      ]
    },
    {
      "cell_type": "markdown",
      "metadata": {
        "id": "piHZxDIvMoLW"
      },
      "source": [
        "emotag"
      ]
    },
    {
      "cell_type": "code",
      "execution_count": null,
      "metadata": {
        "colab": {
          "background_save": true,
          "base_uri": "https://localhost:8080/"
        },
        "id": "gSI25az6MqOk",
        "outputId": "ff72f9ed-ec06-4164-8a61-9d98db9b950b"
      },
      "outputs": [
        {
          "name": "stderr",
          "output_type": "stream",
          "text": [
            "100%|██████████| 401030/401030 [01:57<00:00, 3425.42it/s]\n"
          ]
        },
        {
          "name": "stdout",
          "output_type": "stream",
          "text": [
            "Embedding dimension : 620\n"
          ]
        },
        {
          "name": "stderr",
          "output_type": "stream",
          "text": [
            "29819it [00:00, 30946.49it/s]\n",
            "<ipython-input-5-2ffc02e1b240>:122: DeprecationWarning: `np.int` is a deprecated alias for the builtin `int`. To silence this warning, use `int` by itself. Doing this will not modify any behavior and is safe. When replacing `np.int`, you may wish to use e.g. `np.int64` or `np.int32` to specify the precision. If you wish to review your current use, check the release note link for additional information.\n",
            "Deprecated in NumPy 1.20; for more details and guidance: https://numpy.org/devdocs/release/1.20.0-notes.html#deprecations\n",
            "  padded_label_batch = np.zeros(train_batch, dtype=np.int)\n"
          ]
        },
        {
          "name": "stdout",
          "output_type": "stream",
          "text": [
            "##############################\n",
            "Train Model\n",
            "##############################\n"
          ]
        },
        {
          "name": "stderr",
          "output_type": "stream",
          "text": [
            "\r  0%|          | 0/30 [00:00<?, ?it/s]"
          ]
        },
        {
          "name": "stdout",
          "output_type": "stream",
          "text": [
            "\n",
            "epoch: 1\n"
          ]
        },
        {
          "name": "stderr",
          "output_type": "stream",
          "text": [
            "100%|██████████| 4283/4283 [01:48<00:00, 39.56it/s]\n"
          ]
        },
        {
          "name": "stdout",
          "output_type": "stream",
          "text": [
            "FINISHED EPOCH: 1\n",
            "train_loss: 0.6830171346664429\n"
          ]
        },
        {
          "name": "stderr",
          "output_type": "stream",
          "text": [
            "\r  3%|▎         | 1/30 [01:49<52:51, 109.38s/it]"
          ]
        },
        {
          "name": "stdout",
          "output_type": "stream",
          "text": [
            "\n",
            "Evaluation LOSS: 0.668490469455719\n",
            "Evaluation ACC:  59.00%\n",
            "\n",
            "epoch: 2\n"
          ]
        },
        {
          "name": "stderr",
          "output_type": "stream",
          "text": [
            "100%|██████████| 4283/4283 [01:48<00:00, 39.34it/s]\n"
          ]
        },
        {
          "name": "stdout",
          "output_type": "stream",
          "text": [
            "FINISHED EPOCH: 2\n",
            "train_loss: 0.658682644367218\n"
          ]
        },
        {
          "name": "stderr",
          "output_type": "stream",
          "text": [
            "\r  7%|▋         | 2/30 [03:39<51:09, 109.63s/it]"
          ]
        },
        {
          "name": "stdout",
          "output_type": "stream",
          "text": [
            "\n",
            "Evaluation LOSS: 0.6729505658149719\n",
            "Evaluation ACC:  54.25%\n",
            "\n",
            "epoch: 3\n"
          ]
        },
        {
          "name": "stderr",
          "output_type": "stream",
          "text": [
            "100%|██████████| 4283/4283 [01:50<00:00, 38.91it/s]\n"
          ]
        },
        {
          "name": "stdout",
          "output_type": "stream",
          "text": [
            "FINISHED EPOCH: 3\n",
            "train_loss: 0.6872830390930176\n"
          ]
        },
        {
          "name": "stderr",
          "output_type": "stream",
          "text": [
            "\r 10%|█         | 3/30 [05:30<49:37, 110.27s/it]"
          ]
        },
        {
          "name": "stdout",
          "output_type": "stream",
          "text": [
            "\n",
            "Evaluation LOSS: 0.6935447454452515\n",
            "Evaluation ACC:  49.61%\n",
            "\n",
            "epoch: 4\n"
          ]
        },
        {
          "name": "stderr",
          "output_type": "stream",
          "text": [
            "100%|██████████| 4283/4283 [01:49<00:00, 39.04it/s]\n"
          ]
        },
        {
          "name": "stdout",
          "output_type": "stream",
          "text": [
            "FINISHED EPOCH: 4\n",
            "train_loss: 0.6896899938583374\n"
          ]
        },
        {
          "name": "stderr",
          "output_type": "stream",
          "text": [
            "\r 13%|█▎        | 4/30 [07:20<47:50, 110.41s/it]"
          ]
        },
        {
          "name": "stdout",
          "output_type": "stream",
          "text": [
            "\n",
            "Evaluation LOSS: 0.6670558452606201\n",
            "Evaluation ACC:  59.51%\n",
            "\n",
            "epoch: 5\n"
          ]
        },
        {
          "name": "stderr",
          "output_type": "stream",
          "text": [
            "100%|██████████| 4283/4283 [01:48<00:00, 39.35it/s]\n"
          ]
        },
        {
          "name": "stdout",
          "output_type": "stream",
          "text": [
            "FINISHED EPOCH: 5\n",
            "train_loss: 0.6735215187072754\n"
          ]
        },
        {
          "name": "stderr",
          "output_type": "stream",
          "text": [
            "\r 17%|█▋        | 5/30 [09:10<45:54, 110.17s/it]"
          ]
        },
        {
          "name": "stdout",
          "output_type": "stream",
          "text": [
            "\n",
            "Evaluation LOSS: 0.6831199526786804\n",
            "Evaluation ACC:  55.35%\n",
            "\n",
            "epoch: 6\n"
          ]
        },
        {
          "name": "stderr",
          "output_type": "stream",
          "text": [
            "100%|██████████| 4283/4283 [01:50<00:00, 38.88it/s]\n"
          ]
        },
        {
          "name": "stdout",
          "output_type": "stream",
          "text": [
            "FINISHED EPOCH: 6\n",
            "train_loss: 0.7014065384864807\n"
          ]
        },
        {
          "name": "stderr",
          "output_type": "stream",
          "text": [
            "\r 20%|██        | 6/30 [11:01<44:11, 110.49s/it]"
          ]
        },
        {
          "name": "stdout",
          "output_type": "stream",
          "text": [
            "\n",
            "Evaluation LOSS: 0.6957483291625977\n",
            "Evaluation ACC:  49.26%\n",
            "\n",
            "epoch: 7\n"
          ]
        },
        {
          "name": "stderr",
          "output_type": "stream",
          "text": [
            "100%|██████████| 4283/4283 [01:49<00:00, 38.97it/s]\n"
          ]
        },
        {
          "name": "stdout",
          "output_type": "stream",
          "text": [
            "FINISHED EPOCH: 7\n",
            "train_loss: 0.6812889575958252\n"
          ]
        },
        {
          "name": "stderr",
          "output_type": "stream",
          "text": [
            "\r 23%|██▎       | 7/30 [12:52<42:23, 110.60s/it]"
          ]
        },
        {
          "name": "stdout",
          "output_type": "stream",
          "text": [
            "\n",
            "Evaluation LOSS: 0.6817676424980164\n",
            "Evaluation ACC:  55.80%\n",
            "\n",
            "epoch: 8\n"
          ]
        },
        {
          "name": "stderr",
          "output_type": "stream",
          "text": [
            "100%|██████████| 4283/4283 [01:50<00:00, 38.93it/s]\n"
          ]
        },
        {
          "name": "stdout",
          "output_type": "stream",
          "text": [
            "FINISHED EPOCH: 8\n",
            "train_loss: 0.68138587474823\n"
          ]
        },
        {
          "name": "stderr",
          "output_type": "stream",
          "text": [
            "\r 27%|██▋       | 8/30 [14:43<40:35, 110.71s/it]"
          ]
        },
        {
          "name": "stdout",
          "output_type": "stream",
          "text": [
            "\n",
            "Evaluation LOSS: 0.7069178819656372\n",
            "Evaluation ACC:  44.81%\n",
            "\n",
            "epoch: 9\n"
          ]
        },
        {
          "name": "stderr",
          "output_type": "stream",
          "text": [
            "100%|██████████| 4283/4283 [01:49<00:00, 39.02it/s]\n"
          ]
        },
        {
          "name": "stdout",
          "output_type": "stream",
          "text": [
            "FINISHED EPOCH: 9\n",
            "train_loss: 0.6959747672080994\n"
          ]
        },
        {
          "name": "stderr",
          "output_type": "stream",
          "text": [
            "\r 30%|███       | 9/30 [16:34<38:44, 110.71s/it]"
          ]
        },
        {
          "name": "stdout",
          "output_type": "stream",
          "text": [
            "\n",
            "Evaluation LOSS: 0.7082992792129517\n",
            "Evaluation ACC:  42.47%\n",
            "\n",
            "epoch: 10\n"
          ]
        },
        {
          "name": "stderr",
          "output_type": "stream",
          "text": [
            "100%|██████████| 4283/4283 [01:49<00:00, 39.15it/s]\n"
          ]
        },
        {
          "name": "stdout",
          "output_type": "stream",
          "text": [
            "FINISHED EPOCH: 10\n",
            "train_loss: 0.6928912997245789\n"
          ]
        },
        {
          "name": "stderr",
          "output_type": "stream",
          "text": [
            "\r 33%|███▎      | 10/30 [18:24<36:51, 110.60s/it]"
          ]
        },
        {
          "name": "stdout",
          "output_type": "stream",
          "text": [
            "\n",
            "Evaluation LOSS: 0.6809250712394714\n",
            "Evaluation ACC:  55.37%\n",
            "\n",
            "epoch: 11\n"
          ]
        },
        {
          "name": "stderr",
          "output_type": "stream",
          "text": [
            "100%|██████████| 4283/4283 [01:49<00:00, 39.20it/s]\n"
          ]
        },
        {
          "name": "stdout",
          "output_type": "stream",
          "text": [
            "FINISHED EPOCH: 11\n",
            "train_loss: 0.6780874133110046\n"
          ]
        },
        {
          "name": "stderr",
          "output_type": "stream",
          "text": [
            "\r 37%|███▋      | 11/30 [20:14<34:59, 110.47s/it]"
          ]
        },
        {
          "name": "stdout",
          "output_type": "stream",
          "text": [
            "\n",
            "Evaluation LOSS: 0.7108550667762756\n",
            "Evaluation ACC:  42.19%\n",
            "\n",
            "epoch: 12\n"
          ]
        },
        {
          "name": "stderr",
          "output_type": "stream",
          "text": [
            "100%|██████████| 4283/4283 [01:48<00:00, 39.32it/s]\n"
          ]
        },
        {
          "name": "stdout",
          "output_type": "stream",
          "text": [
            "FINISHED EPOCH: 12\n",
            "train_loss: 0.6885827779769897\n"
          ]
        },
        {
          "name": "stderr",
          "output_type": "stream",
          "text": [
            "\r 40%|████      | 12/30 [22:04<33:05, 110.29s/it]"
          ]
        },
        {
          "name": "stdout",
          "output_type": "stream",
          "text": [
            "\n",
            "Evaluation LOSS: 0.7030115723609924\n",
            "Evaluation ACC:  46.86%\n",
            "\n",
            "epoch: 13\n"
          ]
        },
        {
          "name": "stderr",
          "output_type": "stream",
          "text": [
            "100%|██████████| 4283/4283 [01:49<00:00, 39.23it/s]\n"
          ]
        },
        {
          "name": "stdout",
          "output_type": "stream",
          "text": [
            "FINISHED EPOCH: 13\n",
            "train_loss: 0.6905403733253479\n"
          ]
        },
        {
          "name": "stderr",
          "output_type": "stream",
          "text": [
            "\r 43%|████▎     | 13/30 [23:54<31:14, 110.24s/it]"
          ]
        },
        {
          "name": "stdout",
          "output_type": "stream",
          "text": [
            "\n",
            "Evaluation LOSS: 0.6985683441162109\n",
            "Evaluation ACC:  48.69%\n",
            "\n",
            "epoch: 14\n"
          ]
        },
        {
          "name": "stderr",
          "output_type": "stream",
          "text": [
            "100%|██████████| 4283/4283 [01:49<00:00, 39.09it/s]\n"
          ]
        },
        {
          "name": "stdout",
          "output_type": "stream",
          "text": [
            "FINISHED EPOCH: 14\n",
            "train_loss: 0.7073550224304199\n"
          ]
        },
        {
          "name": "stderr",
          "output_type": "stream",
          "text": [
            "\r 47%|████▋     | 14/30 [25:45<29:25, 110.32s/it]"
          ]
        },
        {
          "name": "stdout",
          "output_type": "stream",
          "text": [
            "\n",
            "Evaluation LOSS: 0.6914183497428894\n",
            "Evaluation ACC:  51.75%\n",
            "\n",
            "epoch: 15\n"
          ]
        },
        {
          "name": "stderr",
          "output_type": "stream",
          "text": [
            "100%|██████████| 4283/4283 [01:49<00:00, 39.18it/s]\n"
          ]
        },
        {
          "name": "stdout",
          "output_type": "stream",
          "text": [
            "FINISHED EPOCH: 15\n",
            "train_loss: 0.7170889377593994\n"
          ]
        },
        {
          "name": "stderr",
          "output_type": "stream",
          "text": [
            "\r 50%|█████     | 15/30 [27:35<27:34, 110.30s/it]"
          ]
        },
        {
          "name": "stdout",
          "output_type": "stream",
          "text": [
            "\n",
            "Evaluation LOSS: 0.7011655569076538\n",
            "Evaluation ACC:  45.47%\n",
            "\n",
            "epoch: 16\n"
          ]
        },
        {
          "name": "stderr",
          "output_type": "stream",
          "text": [
            "100%|██████████| 4283/4283 [01:48<00:00, 39.31it/s]\n"
          ]
        },
        {
          "name": "stdout",
          "output_type": "stream",
          "text": [
            "FINISHED EPOCH: 16\n",
            "train_loss: 0.6781591176986694\n"
          ]
        },
        {
          "name": "stderr",
          "output_type": "stream",
          "text": [
            "\r 53%|█████▎    | 16/30 [29:25<25:42, 110.18s/it]"
          ]
        },
        {
          "name": "stdout",
          "output_type": "stream",
          "text": [
            "\n",
            "Evaluation LOSS: 0.6976811289787292\n",
            "Evaluation ACC:  48.28%\n",
            "\n",
            "epoch: 17\n"
          ]
        },
        {
          "name": "stderr",
          "output_type": "stream",
          "text": [
            "100%|██████████| 4283/4283 [01:49<00:00, 39.10it/s]\n"
          ]
        },
        {
          "name": "stdout",
          "output_type": "stream",
          "text": [
            "FINISHED EPOCH: 17\n",
            "train_loss: 0.7049619555473328\n"
          ]
        },
        {
          "name": "stderr",
          "output_type": "stream",
          "text": [
            "\r 57%|█████▋    | 17/30 [31:15<23:53, 110.27s/it]"
          ]
        },
        {
          "name": "stdout",
          "output_type": "stream",
          "text": [
            "\n",
            "Evaluation LOSS: 0.6949708461761475\n",
            "Evaluation ACC:  50.24%\n",
            "\n",
            "epoch: 18\n"
          ]
        },
        {
          "name": "stderr",
          "output_type": "stream",
          "text": [
            "100%|██████████| 4283/4283 [01:49<00:00, 39.17it/s]\n"
          ]
        },
        {
          "name": "stdout",
          "output_type": "stream",
          "text": [
            "FINISHED EPOCH: 18\n",
            "train_loss: 0.7087773680686951\n"
          ]
        },
        {
          "name": "stderr",
          "output_type": "stream",
          "text": [
            "\r 60%|██████    | 18/30 [33:06<22:03, 110.28s/it]"
          ]
        },
        {
          "name": "stdout",
          "output_type": "stream",
          "text": [
            "\n",
            "Evaluation LOSS: 0.7070251107215881\n",
            "Evaluation ACC:  42.38%\n",
            "\n",
            "epoch: 19\n"
          ]
        },
        {
          "name": "stderr",
          "output_type": "stream",
          "text": [
            "100%|██████████| 4283/4283 [01:49<00:00, 39.16it/s]\n"
          ]
        },
        {
          "name": "stdout",
          "output_type": "stream",
          "text": [
            "FINISHED EPOCH: 19\n",
            "train_loss: 0.7101227045059204\n"
          ]
        },
        {
          "name": "stderr",
          "output_type": "stream",
          "text": [
            "\r 63%|██████▎   | 19/30 [34:56<20:13, 110.29s/it]"
          ]
        },
        {
          "name": "stdout",
          "output_type": "stream",
          "text": [
            "\n",
            "Evaluation LOSS: 0.6946803331375122\n",
            "Evaluation ACC:  51.68%\n",
            "\n",
            "epoch: 20\n"
          ]
        },
        {
          "name": "stderr",
          "output_type": "stream",
          "text": [
            "100%|██████████| 4283/4283 [01:49<00:00, 39.29it/s]\n"
          ]
        },
        {
          "name": "stdout",
          "output_type": "stream",
          "text": [
            "FINISHED EPOCH: 20\n",
            "train_loss: 0.6849279999732971\n"
          ]
        },
        {
          "name": "stderr",
          "output_type": "stream",
          "text": [
            "\r 67%|██████▋   | 20/30 [36:46<18:21, 110.18s/it]"
          ]
        },
        {
          "name": "stdout",
          "output_type": "stream",
          "text": [
            "\n",
            "Evaluation LOSS: 0.6802453994750977\n",
            "Evaluation ACC:  56.96%\n",
            "\n",
            "epoch: 21\n"
          ]
        },
        {
          "name": "stderr",
          "output_type": "stream",
          "text": [
            "100%|██████████| 4283/4283 [01:49<00:00, 39.29it/s]\n"
          ]
        },
        {
          "name": "stdout",
          "output_type": "stream",
          "text": [
            "FINISHED EPOCH: 21\n",
            "train_loss: 0.6929461359977722\n"
          ]
        },
        {
          "name": "stderr",
          "output_type": "stream",
          "text": [
            "\r 70%|███████   | 21/30 [38:36<16:31, 110.11s/it]"
          ]
        },
        {
          "name": "stdout",
          "output_type": "stream",
          "text": [
            "\n",
            "Evaluation LOSS: 0.7033482193946838\n",
            "Evaluation ACC:  45.73%\n",
            "\n",
            "epoch: 22\n"
          ]
        },
        {
          "name": "stderr",
          "output_type": "stream",
          "text": [
            "100%|██████████| 4283/4283 [01:49<00:00, 39.25it/s]\n"
          ]
        },
        {
          "name": "stdout",
          "output_type": "stream",
          "text": [
            "FINISHED EPOCH: 22\n",
            "train_loss: 0.7004883885383606\n"
          ]
        },
        {
          "name": "stderr",
          "output_type": "stream",
          "text": [
            "\r 73%|███████▎  | 22/30 [40:26<14:40, 110.09s/it]"
          ]
        },
        {
          "name": "stdout",
          "output_type": "stream",
          "text": [
            "\n",
            "Evaluation LOSS: 0.6848186254501343\n",
            "Evaluation ACC:  54.82%\n",
            "\n",
            "epoch: 23\n"
          ]
        },
        {
          "name": "stderr",
          "output_type": "stream",
          "text": [
            "100%|██████████| 4283/4283 [01:48<00:00, 39.40it/s]\n"
          ]
        },
        {
          "name": "stdout",
          "output_type": "stream",
          "text": [
            "FINISHED EPOCH: 23\n",
            "train_loss: 0.6826152205467224\n"
          ]
        },
        {
          "name": "stderr",
          "output_type": "stream",
          "text": [
            "\r 77%|███████▋  | 23/30 [42:16<12:49, 109.96s/it]"
          ]
        },
        {
          "name": "stdout",
          "output_type": "stream",
          "text": [
            "\n",
            "Evaluation LOSS: 0.6808592677116394\n",
            "Evaluation ACC:  54.80%\n",
            "\n",
            "epoch: 24\n"
          ]
        },
        {
          "name": "stderr",
          "output_type": "stream",
          "text": [
            "100%|██████████| 4283/4283 [01:49<00:00, 39.19it/s]\n"
          ]
        },
        {
          "name": "stdout",
          "output_type": "stream",
          "text": [
            "FINISHED EPOCH: 24\n",
            "train_loss: 0.6810083389282227\n"
          ]
        },
        {
          "name": "stderr",
          "output_type": "stream",
          "text": [
            "\r 80%|████████  | 24/30 [44:06<11:00, 110.03s/it]"
          ]
        },
        {
          "name": "stdout",
          "output_type": "stream",
          "text": [
            "\n",
            "Evaluation LOSS: 0.6900495290756226\n",
            "Evaluation ACC:  52.10%\n",
            "\n",
            "epoch: 25\n"
          ]
        },
        {
          "name": "stderr",
          "output_type": "stream",
          "text": [
            "100%|██████████| 4283/4283 [01:48<00:00, 39.55it/s]\n"
          ]
        },
        {
          "name": "stdout",
          "output_type": "stream",
          "text": [
            "FINISHED EPOCH: 25\n",
            "train_loss: 0.6680029630661011\n"
          ]
        },
        {
          "name": "stderr",
          "output_type": "stream",
          "text": [
            "\r 83%|████████▎ | 25/30 [45:55<09:08, 109.78s/it]"
          ]
        },
        {
          "name": "stdout",
          "output_type": "stream",
          "text": [
            "\n",
            "Evaluation LOSS: 0.6947213411331177\n",
            "Evaluation ACC:  48.19%\n",
            "\n",
            "epoch: 26\n"
          ]
        },
        {
          "name": "stderr",
          "output_type": "stream",
          "text": [
            "100%|██████████| 4283/4283 [01:49<00:00, 39.27it/s]\n"
          ]
        },
        {
          "name": "stdout",
          "output_type": "stream",
          "text": [
            "FINISHED EPOCH: 26\n",
            "train_loss: 0.7030234336853027\n"
          ]
        },
        {
          "name": "stderr",
          "output_type": "stream",
          "text": [
            "\r 87%|████████▋ | 26/30 [47:45<07:19, 109.85s/it]"
          ]
        },
        {
          "name": "stdout",
          "output_type": "stream",
          "text": [
            "\n",
            "Evaluation LOSS: 0.7087939977645874\n",
            "Evaluation ACC:  41.85%\n",
            "\n",
            "epoch: 27\n"
          ]
        },
        {
          "name": "stderr",
          "output_type": "stream",
          "text": [
            "100%|██████████| 4283/4283 [01:48<00:00, 39.32it/s]\n"
          ]
        },
        {
          "name": "stdout",
          "output_type": "stream",
          "text": [
            "FINISHED EPOCH: 27\n",
            "train_loss: 0.7141695618629456\n"
          ]
        },
        {
          "name": "stderr",
          "output_type": "stream",
          "text": [
            "\r 90%|█████████ | 27/30 [49:35<05:29, 109.86s/it]"
          ]
        },
        {
          "name": "stdout",
          "output_type": "stream",
          "text": [
            "\n",
            "Evaluation LOSS: 0.6904640793800354\n",
            "Evaluation ACC:  52.70%\n",
            "\n",
            "epoch: 28\n"
          ]
        },
        {
          "name": "stderr",
          "output_type": "stream",
          "text": [
            "100%|██████████| 4283/4283 [01:47<00:00, 39.71it/s]\n"
          ]
        },
        {
          "name": "stdout",
          "output_type": "stream",
          "text": [
            "FINISHED EPOCH: 28\n",
            "train_loss: 0.6786330938339233\n"
          ]
        },
        {
          "name": "stderr",
          "output_type": "stream",
          "text": [
            "\r 93%|█████████▎| 28/30 [51:24<03:39, 109.54s/it]"
          ]
        },
        {
          "name": "stdout",
          "output_type": "stream",
          "text": [
            "\n",
            "Evaluation LOSS: 0.683785080909729\n",
            "Evaluation ACC:  55.80%\n",
            "\n",
            "epoch: 29\n"
          ]
        },
        {
          "name": "stderr",
          "output_type": "stream",
          "text": [
            "100%|██████████| 4283/4283 [01:47<00:00, 39.92it/s]\n"
          ]
        },
        {
          "name": "stdout",
          "output_type": "stream",
          "text": [
            "FINISHED EPOCH: 29\n",
            "train_loss: 0.6944177746772766\n"
          ]
        },
        {
          "name": "stderr",
          "output_type": "stream",
          "text": [
            "\r 97%|█████████▋| 29/30 [53:12<01:49, 109.14s/it]"
          ]
        },
        {
          "name": "stdout",
          "output_type": "stream",
          "text": [
            "\n",
            "Evaluation LOSS: 0.689799427986145\n",
            "Evaluation ACC:  50.97%\n",
            "\n",
            "epoch: 30\n"
          ]
        },
        {
          "name": "stderr",
          "output_type": "stream",
          "text": [
            "100%|██████████| 4283/4283 [01:47<00:00, 39.83it/s]\n"
          ]
        },
        {
          "name": "stdout",
          "output_type": "stream",
          "text": [
            "FINISHED EPOCH: 30\n",
            "train_loss: 0.694024384021759\n"
          ]
        },
        {
          "name": "stderr",
          "output_type": "stream",
          "text": [
            "100%|██████████| 30/30 [55:00<00:00, 110.03s/it]"
          ]
        },
        {
          "name": "stdout",
          "output_type": "stream",
          "text": [
            "\n",
            "Evaluation LOSS: 0.6867433786392212\n",
            "Evaluation ACC:  54.01%\n"
          ]
        },
        {
          "name": "stderr",
          "output_type": "stream",
          "text": [
            "\n"
          ]
        },
        {
          "name": "stdout",
          "output_type": "stream",
          "text": [
            "\n",
            "TEST LOSS: 0.6787762641906738\n",
            "TEST ACC:  59.13%\n"
          ]
        }
      ],
      "source": [
        "\n",
        "#'glove200d', 'glovetwit200d', 'Emotag'\n",
        "model_file = 'model_lstmsenti_emotag001.torch'\n",
        "pre_trained_embedding_file = 'Emotag'\n",
        "# Full_Data = Load_parquet(\"parquet/2013/01\")\n",
        "Train_set, Eval_set, Test_set, vocab_dict, weight_mat, list_of_lens_in_batch, Eval_len, Test_len = Preprocess(Full_Data, test_ratio=0.2, evaluation_ratio=0.1, seed=595, train_batch=32, pre_trained_embedding_file=pre_trained_embedding_file)\n",
        "BATCH_SIZE = 32\n",
        "HIDDEN_DIM = 128\n",
        "TAGSET_SIZE = 2 #46\n",
        "torch.manual_seed(0)\n",
        "model = train(Train_set, Eval_set, HIDDEN_DIM, TAGSET_SIZE, weight_mat, list_of_lens_in_batch, Eval_len, learning_rate=0.001, n_epochs=30)\n",
        "torch.save(model.state_dict(), model_file)\n",
        "\n",
        "test(Test_set, HIDDEN_DIM, TAGSET_SIZE, weight_mat, Test_len, model_file)\n"
      ]
    },
    {
      "cell_type": "markdown",
      "metadata": {
        "id": "FCLSWEqOiYvD"
      },
      "source": [
        "# Full of 2013.01\n"
      ]
    },
    {
      "cell_type": "code",
      "execution_count": null,
      "metadata": {
        "id": "i5LDTv_NibF0",
        "colab": {
          "base_uri": "https://localhost:8080/"
        },
        "outputId": "893b5a00-0f99-48b1-aab6-880289f5aaaa"
      },
      "outputs": [
        {
          "output_type": "stream",
          "name": "stderr",
          "text": [
            "100%|██████████| 400000/400000 [00:19<00:00, 20070.24it/s]\n"
          ]
        },
        {
          "output_type": "stream",
          "name": "stdout",
          "text": [
            "Embedding dimension : 200\n"
          ]
        },
        {
          "output_type": "stream",
          "name": "stderr",
          "text": [
            "56220it [00:00, 69835.13it/s]\n",
            "<ipython-input-6-0369bd6db14f>:127: DeprecationWarning: `np.int` is a deprecated alias for the builtin `int`. To silence this warning, use `int` by itself. Doing this will not modify any behavior and is safe. When replacing `np.int`, you may wish to use e.g. `np.int64` or `np.int32` to specify the precision. If you wish to review your current use, check the release note link for additional information.\n",
            "Deprecated in NumPy 1.20; for more details and guidance: https://numpy.org/devdocs/release/1.20.0-notes.html#deprecations\n",
            "  padded_label_batch = np.zeros(train_batch, dtype=np.int)\n"
          ]
        }
      ],
      "source": [
        "Full_Data = Load_parquet(\"parquet/2013/01\", 5)\n",
        "pre_trained_embedding_file = 'glove200d'\n",
        "\n",
        "Train_set, Eval_set, Test_set, vocab_dict, weight_mat, list_of_lens_in_batch, Eval_len, Test_len = Preprocess(Full_Data, test_ratio=0.2, evaluation_ratio=0.1, seed=595, train_batch=32, pre_trained_embedding_file=pre_trained_embedding_file)\n",
        "\n",
        "## rehydrated_tweets_parquet/2013/01"
      ]
    },
    {
      "cell_type": "markdown",
      "metadata": {
        "id": "OBIFPj5Himwl"
      },
      "source": [
        "Normal"
      ]
    },
    {
      "cell_type": "code",
      "source": [
        "BATCH_SIZE = 32\n",
        "HIDDEN_DIM = 128\n",
        "TAGSET_SIZE = 2"
      ],
      "metadata": {
        "id": "lMRgJMDNGt1N"
      },
      "execution_count": null,
      "outputs": []
    },
    {
      "cell_type": "code",
      "execution_count": null,
      "metadata": {
        "colab": {
          "base_uri": "https://localhost:8080/"
        },
        "id": "yki9TSxUimJD",
        "outputId": "914b34fc-f79f-4473-85c1-ef28ff6ba24c"
      },
      "outputs": [
        {
          "metadata": {
            "tags": null
          },
          "name": "stderr",
          "output_type": "stream",
          "text": [
            "100%|██████████| 400000/400000 [00:20<00:00, 19161.00it/s]\n"
          ]
        },
        {
          "metadata": {
            "tags": null
          },
          "name": "stdout",
          "output_type": "stream",
          "text": [
            "Embedding dimension : 200\n"
          ]
        },
        {
          "metadata": {
            "tags": null
          },
          "name": "stderr",
          "output_type": "stream",
          "text": [
            "56220it [00:00, 69911.62it/s]\n",
            "<ipython-input-6-0369bd6db14f>:127: DeprecationWarning: `np.int` is a deprecated alias for the builtin `int`. To silence this warning, use `int` by itself. Doing this will not modify any behavior and is safe. When replacing `np.int`, you may wish to use e.g. `np.int64` or `np.int32` to specify the precision. If you wish to review your current use, check the release note link for additional information.\n",
            "Deprecated in NumPy 1.20; for more details and guidance: https://numpy.org/devdocs/release/1.20.0-notes.html#deprecations\n",
            "  padded_label_batch = np.zeros(train_batch, dtype=np.int)\n"
          ]
        },
        {
          "metadata": {
            "tags": null
          },
          "name": "stdout",
          "output_type": "stream",
          "text": [
            "##############################\n",
            "Train Model\n",
            "##############################\n"
          ]
        },
        {
          "metadata": {
            "tags": null
          },
          "name": "stderr",
          "output_type": "stream",
          "text": [
            "\r  0%|          | 0/30 [00:00<?, ?it/s]"
          ]
        },
        {
          "metadata": {
            "tags": null
          },
          "name": "stdout",
          "output_type": "stream",
          "text": [
            "\n",
            "epoch: 1\n"
          ]
        },
        {
          "metadata": {
            "tags": null
          },
          "name": "stderr",
          "output_type": "stream",
          "text": [
            "100%|██████████| 9612/9612 [03:38<00:00, 43.99it/s]\n"
          ]
        },
        {
          "metadata": {
            "tags": null
          },
          "name": "stdout",
          "output_type": "stream",
          "text": [
            "FINISHED EPOCH: 1\n",
            "train_loss: 0.7169270515441895\n"
          ]
        },
        {
          "metadata": {
            "tags": null
          },
          "name": "stderr",
          "output_type": "stream",
          "text": [
            "\r  3%|▎         | 1/30 [03:40<1:46:29, 220.32s/it]"
          ]
        },
        {
          "metadata": {
            "tags": null
          },
          "name": "stdout",
          "output_type": "stream",
          "text": [
            "\n",
            "Evaluation LOSS: 0.7158149480819702\n",
            "Evaluation ACC:  40.48%\n",
            "\n",
            "epoch: 2\n"
          ]
        },
        {
          "metadata": {
            "tags": null
          },
          "name": "stderr",
          "output_type": "stream",
          "text": [
            "100%|██████████| 9612/9612 [03:38<00:00, 44.09it/s]\n"
          ]
        },
        {
          "metadata": {
            "tags": null
          },
          "name": "stdout",
          "output_type": "stream",
          "text": [
            "FINISHED EPOCH: 2\n",
            "train_loss: 0.6773374080657959\n"
          ]
        },
        {
          "metadata": {
            "tags": null
          },
          "name": "stderr",
          "output_type": "stream",
          "text": [
            "\r  7%|▋         | 2/30 [07:19<1:42:35, 219.82s/it]"
          ]
        },
        {
          "metadata": {
            "tags": null
          },
          "name": "stdout",
          "output_type": "stream",
          "text": [
            "\n",
            "Evaluation LOSS: 0.6854375004768372\n",
            "Evaluation ACC:  54.77%\n",
            "\n",
            "epoch: 3\n"
          ]
        },
        {
          "metadata": {
            "tags": null
          },
          "name": "stderr",
          "output_type": "stream",
          "text": [
            "100%|██████████| 9612/9612 [03:33<00:00, 45.00it/s]\n"
          ]
        },
        {
          "metadata": {
            "tags": null
          },
          "name": "stdout",
          "output_type": "stream",
          "text": [
            "FINISHED EPOCH: 3\n",
            "train_loss: 0.6687825322151184\n"
          ]
        },
        {
          "metadata": {
            "tags": null
          },
          "name": "stderr",
          "output_type": "stream",
          "text": [
            "\r 10%|█         | 3/30 [10:54<1:37:56, 217.66s/it]"
          ]
        },
        {
          "metadata": {
            "tags": null
          },
          "name": "stdout",
          "output_type": "stream",
          "text": [
            "\n",
            "Evaluation LOSS: 0.7146336436271667\n",
            "Evaluation ACC:  39.94%\n",
            "\n",
            "epoch: 4\n"
          ]
        },
        {
          "metadata": {
            "tags": null
          },
          "name": "stderr",
          "output_type": "stream",
          "text": [
            "100%|██████████| 9612/9612 [03:33<00:00, 45.02it/s]\n"
          ]
        },
        {
          "metadata": {
            "tags": null
          },
          "name": "stdout",
          "output_type": "stream",
          "text": [
            "FINISHED EPOCH: 4\n",
            "train_loss: 0.6764076948165894\n"
          ]
        },
        {
          "metadata": {
            "tags": null
          },
          "name": "stderr",
          "output_type": "stream",
          "text": [
            "\r 13%|█▎        | 4/30 [14:29<1:33:51, 216.59s/it]"
          ]
        },
        {
          "metadata": {
            "tags": null
          },
          "name": "stdout",
          "output_type": "stream",
          "text": [
            "\n",
            "Evaluation LOSS: 0.675424337387085\n",
            "Evaluation ACC:  60.22%\n",
            "\n",
            "epoch: 5\n"
          ]
        },
        {
          "metadata": {
            "tags": null
          },
          "name": "stderr",
          "output_type": "stream",
          "text": [
            "100%|██████████| 9612/9612 [03:35<00:00, 44.65it/s]\n"
          ]
        },
        {
          "metadata": {
            "tags": null
          },
          "name": "stdout",
          "output_type": "stream",
          "text": [
            "FINISHED EPOCH: 5\n",
            "train_loss: 0.7061055898666382\n"
          ]
        },
        {
          "metadata": {
            "tags": null
          },
          "name": "stderr",
          "output_type": "stream",
          "text": [
            "\r 17%|█▋        | 5/30 [18:06<1:30:15, 216.63s/it]"
          ]
        },
        {
          "metadata": {
            "tags": null
          },
          "name": "stdout",
          "output_type": "stream",
          "text": [
            "\n",
            "Evaluation LOSS: 0.6839092373847961\n",
            "Evaluation ACC:  56.67%\n",
            "\n",
            "epoch: 6\n"
          ]
        },
        {
          "metadata": {
            "tags": null
          },
          "name": "stderr",
          "output_type": "stream",
          "text": [
            "100%|██████████| 9612/9612 [03:36<00:00, 44.35it/s]\n"
          ]
        },
        {
          "metadata": {
            "tags": null
          },
          "name": "stdout",
          "output_type": "stream",
          "text": [
            "FINISHED EPOCH: 6\n",
            "train_loss: 0.6548151969909668\n"
          ]
        },
        {
          "metadata": {
            "tags": null
          },
          "name": "stderr",
          "output_type": "stream",
          "text": [
            "\r 20%|██        | 6/30 [21:44<1:26:51, 217.15s/it]"
          ]
        },
        {
          "metadata": {
            "tags": null
          },
          "name": "stdout",
          "output_type": "stream",
          "text": [
            "\n",
            "Evaluation LOSS: 0.6922246217727661\n",
            "Evaluation ACC:  51.27%\n",
            "\n",
            "epoch: 7\n"
          ]
        },
        {
          "metadata": {
            "tags": null
          },
          "name": "stderr",
          "output_type": "stream",
          "text": [
            "100%|██████████| 9612/9612 [03:37<00:00, 44.14it/s]\n"
          ]
        },
        {
          "metadata": {
            "tags": null
          },
          "name": "stdout",
          "output_type": "stream",
          "text": [
            "FINISHED EPOCH: 7\n",
            "train_loss: 0.6551688313484192\n"
          ]
        },
        {
          "metadata": {
            "tags": null
          },
          "name": "stderr",
          "output_type": "stream",
          "text": [
            "\r 23%|██▎       | 7/30 [25:23<1:23:29, 217.81s/it]"
          ]
        },
        {
          "metadata": {
            "tags": null
          },
          "name": "stdout",
          "output_type": "stream",
          "text": [
            "\n",
            "Evaluation LOSS: 0.7022117972373962\n",
            "Evaluation ACC:  43.57%\n",
            "\n",
            "epoch: 8\n"
          ]
        },
        {
          "metadata": {
            "tags": null
          },
          "name": "stderr",
          "output_type": "stream",
          "text": [
            "100%|██████████| 9612/9612 [03:35<00:00, 44.69it/s]\n"
          ]
        },
        {
          "metadata": {
            "tags": null
          },
          "name": "stdout",
          "output_type": "stream",
          "text": [
            "FINISHED EPOCH: 8\n",
            "train_loss: 0.6728258728981018\n"
          ]
        },
        {
          "metadata": {
            "tags": null
          },
          "name": "stderr",
          "output_type": "stream",
          "text": [
            "\r 27%|██▋       | 8/30 [29:00<1:19:42, 217.39s/it]"
          ]
        },
        {
          "metadata": {
            "tags": null
          },
          "name": "stdout",
          "output_type": "stream",
          "text": [
            "\n",
            "Evaluation LOSS: 0.6862208843231201\n",
            "Evaluation ACC:  54.80%\n",
            "\n",
            "epoch: 9\n"
          ]
        },
        {
          "metadata": {
            "tags": null
          },
          "name": "stderr",
          "output_type": "stream",
          "text": [
            "100%|██████████| 9612/9612 [03:33<00:00, 44.97it/s]\n"
          ]
        },
        {
          "metadata": {
            "tags": null
          },
          "name": "stdout",
          "output_type": "stream",
          "text": [
            "FINISHED EPOCH: 9\n",
            "train_loss: 0.6698975563049316\n"
          ]
        },
        {
          "metadata": {
            "tags": null
          },
          "name": "stderr",
          "output_type": "stream",
          "text": [
            "\r 30%|███       | 9/30 [32:35<1:15:50, 216.70s/it]"
          ]
        },
        {
          "metadata": {
            "tags": null
          },
          "name": "stdout",
          "output_type": "stream",
          "text": [
            "\n",
            "Evaluation LOSS: 0.7163155674934387\n",
            "Evaluation ACC:  39.00%\n",
            "\n",
            "epoch: 10\n"
          ]
        },
        {
          "metadata": {
            "tags": null
          },
          "name": "stderr",
          "output_type": "stream",
          "text": [
            "100%|██████████| 9612/9612 [03:34<00:00, 44.83it/s]\n"
          ]
        },
        {
          "metadata": {
            "tags": null
          },
          "name": "stdout",
          "output_type": "stream",
          "text": [
            "FINISHED EPOCH: 10\n",
            "train_loss: 0.6931668519973755\n"
          ]
        },
        {
          "metadata": {
            "tags": null
          },
          "name": "stderr",
          "output_type": "stream",
          "text": [
            "\r 33%|███▎      | 10/30 [36:11<1:12:08, 216.43s/it]"
          ]
        },
        {
          "metadata": {
            "tags": null
          },
          "name": "stdout",
          "output_type": "stream",
          "text": [
            "\n",
            "Evaluation LOSS: 0.6893337965011597\n",
            "Evaluation ACC:  52.94%\n",
            "\n",
            "epoch: 11\n"
          ]
        },
        {
          "metadata": {
            "tags": null
          },
          "name": "stderr",
          "output_type": "stream",
          "text": [
            "100%|██████████| 9612/9612 [03:33<00:00, 44.92it/s]\n"
          ]
        },
        {
          "metadata": {
            "tags": null
          },
          "name": "stdout",
          "output_type": "stream",
          "text": [
            "FINISHED EPOCH: 11\n",
            "train_loss: 0.6919265985488892\n"
          ]
        },
        {
          "metadata": {
            "tags": null
          },
          "name": "stderr",
          "output_type": "stream",
          "text": [
            "\r 37%|███▋      | 11/30 [39:46<1:08:26, 216.11s/it]"
          ]
        },
        {
          "metadata": {
            "tags": null
          },
          "name": "stdout",
          "output_type": "stream",
          "text": [
            "\n",
            "Evaluation LOSS: 0.6914634108543396\n",
            "Evaluation ACC:  52.00%\n",
            "\n",
            "epoch: 12\n"
          ]
        },
        {
          "metadata": {
            "tags": null
          },
          "name": "stderr",
          "output_type": "stream",
          "text": [
            "100%|██████████| 9612/9612 [03:34<00:00, 44.86it/s]\n"
          ]
        },
        {
          "metadata": {
            "tags": null
          },
          "name": "stdout",
          "output_type": "stream",
          "text": [
            "FINISHED EPOCH: 12\n",
            "train_loss: 0.6972464323043823\n"
          ]
        },
        {
          "metadata": {
            "tags": null
          },
          "name": "stderr",
          "output_type": "stream",
          "text": [
            "\r 40%|████      | 12/30 [43:22<1:04:47, 215.98s/it]"
          ]
        },
        {
          "metadata": {
            "tags": null
          },
          "name": "stdout",
          "output_type": "stream",
          "text": [
            "\n",
            "Evaluation LOSS: 0.6994245648384094\n",
            "Evaluation ACC:  45.34%\n",
            "\n",
            "epoch: 13\n"
          ]
        },
        {
          "metadata": {
            "tags": null
          },
          "name": "stderr",
          "output_type": "stream",
          "text": [
            "100%|██████████| 9612/9612 [03:34<00:00, 44.83it/s]\n"
          ]
        },
        {
          "metadata": {
            "tags": null
          },
          "name": "stdout",
          "output_type": "stream",
          "text": [
            "FINISHED EPOCH: 13\n",
            "train_loss: 0.7056624889373779\n"
          ]
        },
        {
          "metadata": {
            "tags": null
          },
          "name": "stderr",
          "output_type": "stream",
          "text": [
            "\r 43%|████▎     | 13/30 [46:58<1:01:10, 215.94s/it]"
          ]
        },
        {
          "metadata": {
            "tags": null
          },
          "name": "stdout",
          "output_type": "stream",
          "text": [
            "\n",
            "Evaluation LOSS: 0.6867872476577759\n",
            "Evaluation ACC:  54.56%\n",
            "\n",
            "epoch: 14\n"
          ]
        },
        {
          "metadata": {
            "tags": null
          },
          "name": "stderr",
          "output_type": "stream",
          "text": [
            "100%|██████████| 9612/9612 [03:33<00:00, 45.06it/s]\n"
          ]
        },
        {
          "metadata": {
            "tags": null
          },
          "name": "stdout",
          "output_type": "stream",
          "text": [
            "FINISHED EPOCH: 14\n",
            "train_loss: 0.7041618824005127\n"
          ]
        },
        {
          "metadata": {
            "tags": null
          },
          "name": "stderr",
          "output_type": "stream",
          "text": [
            "\r 47%|████▋     | 14/30 [50:33<57:29, 215.59s/it]  "
          ]
        },
        {
          "metadata": {
            "tags": null
          },
          "name": "stdout",
          "output_type": "stream",
          "text": [
            "\n",
            "Evaluation LOSS: 0.6865028738975525\n",
            "Evaluation ACC:  55.50%\n",
            "\n",
            "epoch: 15\n"
          ]
        },
        {
          "output_type": "stream",
          "name": "stderr",
          "text": [
            "100%|██████████| 9612/9612 [03:35<00:00, 44.57it/s]\n"
          ]
        },
        {
          "output_type": "stream",
          "name": "stdout",
          "text": [
            "FINISHED EPOCH: 15\n",
            "train_loss: 0.7209070920944214\n"
          ]
        },
        {
          "output_type": "stream",
          "name": "stderr",
          "text": [
            "\r 50%|█████     | 15/30 [54:10<54:00, 216.04s/it]"
          ]
        },
        {
          "output_type": "stream",
          "name": "stdout",
          "text": [
            "\n",
            "Evaluation LOSS: 0.6819357872009277\n",
            "Evaluation ACC:  58.24%\n",
            "\n",
            "epoch: 16\n"
          ]
        },
        {
          "output_type": "stream",
          "name": "stderr",
          "text": [
            "100%|██████████| 9612/9612 [03:38<00:00, 43.98it/s]\n"
          ]
        },
        {
          "output_type": "stream",
          "name": "stdout",
          "text": [
            "FINISHED EPOCH: 16\n",
            "train_loss: 0.7027504444122314\n"
          ]
        },
        {
          "output_type": "stream",
          "name": "stderr",
          "text": [
            "\r 53%|█████▎    | 16/30 [57:50<50:41, 217.23s/it]"
          ]
        },
        {
          "output_type": "stream",
          "name": "stdout",
          "text": [
            "\n",
            "Evaluation LOSS: 0.6936473846435547\n",
            "Evaluation ACC:  49.11%\n",
            "\n",
            "epoch: 17\n"
          ]
        },
        {
          "output_type": "stream",
          "name": "stderr",
          "text": [
            "100%|██████████| 9612/9612 [03:38<00:00, 44.06it/s]\n"
          ]
        },
        {
          "output_type": "stream",
          "name": "stdout",
          "text": [
            "FINISHED EPOCH: 17\n",
            "train_loss: 0.6969060301780701\n"
          ]
        },
        {
          "output_type": "stream",
          "name": "stderr",
          "text": [
            "\r 57%|█████▋    | 17/30 [1:01:29<47:13, 217.93s/it]"
          ]
        },
        {
          "output_type": "stream",
          "name": "stdout",
          "text": [
            "\n",
            "Evaluation LOSS: 0.6912556886672974\n",
            "Evaluation ACC:  50.54%\n",
            "\n",
            "epoch: 18\n"
          ]
        },
        {
          "output_type": "stream",
          "name": "stderr",
          "text": [
            "100%|██████████| 9612/9612 [03:37<00:00, 44.13it/s]\n"
          ]
        },
        {
          "output_type": "stream",
          "name": "stdout",
          "text": [
            "FINISHED EPOCH: 18\n",
            "train_loss: 0.6983548402786255\n"
          ]
        },
        {
          "output_type": "stream",
          "name": "stderr",
          "text": [
            "\r 60%|██████    | 18/30 [1:05:08<43:39, 218.33s/it]"
          ]
        },
        {
          "output_type": "stream",
          "name": "stdout",
          "text": [
            "\n",
            "Evaluation LOSS: 0.6932310461997986\n",
            "Evaluation ACC:  48.56%\n",
            "\n",
            "epoch: 19\n"
          ]
        },
        {
          "output_type": "stream",
          "name": "stderr",
          "text": [
            "100%|██████████| 9612/9612 [03:38<00:00, 43.96it/s]\n"
          ]
        },
        {
          "output_type": "stream",
          "name": "stdout",
          "text": [
            "FINISHED EPOCH: 19\n",
            "train_loss: 0.6935853958129883\n"
          ]
        },
        {
          "output_type": "stream",
          "name": "stderr",
          "text": [
            "\r 63%|██████▎   | 19/30 [1:08:49<40:07, 218.86s/it]"
          ]
        },
        {
          "output_type": "stream",
          "name": "stdout",
          "text": [
            "\n",
            "Evaluation LOSS: 0.6939189434051514\n",
            "Evaluation ACC:  50.59%\n",
            "\n",
            "epoch: 20\n"
          ]
        },
        {
          "output_type": "stream",
          "name": "stderr",
          "text": [
            "100%|██████████| 9612/9612 [03:38<00:00, 44.01it/s]\n"
          ]
        },
        {
          "output_type": "stream",
          "name": "stdout",
          "text": [
            "FINISHED EPOCH: 20\n",
            "train_loss: 0.6880373358726501\n"
          ]
        },
        {
          "output_type": "stream",
          "name": "stderr",
          "text": [
            "\r 67%|██████▋   | 20/30 [1:12:28<36:31, 219.15s/it]"
          ]
        },
        {
          "output_type": "stream",
          "name": "stdout",
          "text": [
            "\n",
            "Evaluation LOSS: 0.6841049790382385\n",
            "Evaluation ACC:  57.61%\n",
            "\n",
            "epoch: 21\n"
          ]
        },
        {
          "output_type": "stream",
          "name": "stderr",
          "text": [
            "100%|██████████| 9612/9612 [03:37<00:00, 44.14it/s]\n"
          ]
        },
        {
          "output_type": "stream",
          "name": "stdout",
          "text": [
            "FINISHED EPOCH: 21\n",
            "train_loss: 0.6921949982643127\n"
          ]
        },
        {
          "output_type": "stream",
          "name": "stderr",
          "text": [
            "\r 70%|███████   | 21/30 [1:16:08<32:52, 219.17s/it]"
          ]
        },
        {
          "output_type": "stream",
          "name": "stdout",
          "text": [
            "\n",
            "Evaluation LOSS: 0.7045015692710876\n",
            "Evaluation ACC:  40.30%\n",
            "\n",
            "epoch: 22\n"
          ]
        },
        {
          "output_type": "stream",
          "name": "stderr",
          "text": [
            "100%|██████████| 9612/9612 [03:38<00:00, 44.06it/s]\n"
          ]
        },
        {
          "output_type": "stream",
          "name": "stdout",
          "text": [
            "FINISHED EPOCH: 22\n",
            "train_loss: 0.6880974769592285\n"
          ]
        },
        {
          "output_type": "stream",
          "name": "stderr",
          "text": [
            "\r 73%|███████▎  | 22/30 [1:19:47<29:14, 219.30s/it]"
          ]
        },
        {
          "output_type": "stream",
          "name": "stdout",
          "text": [
            "\n",
            "Evaluation LOSS: 0.6901282668113708\n",
            "Evaluation ACC:  54.32%\n",
            "\n",
            "epoch: 23\n"
          ]
        },
        {
          "output_type": "stream",
          "name": "stderr",
          "text": [
            "100%|██████████| 9612/9612 [03:33<00:00, 44.99it/s]\n"
          ]
        },
        {
          "output_type": "stream",
          "name": "stdout",
          "text": [
            "FINISHED EPOCH: 23\n",
            "train_loss: 0.6826042532920837\n"
          ]
        },
        {
          "output_type": "stream",
          "name": "stderr",
          "text": [
            "\r 77%|███████▋  | 23/30 [1:23:22<25:26, 218.04s/it]"
          ]
        },
        {
          "output_type": "stream",
          "name": "stdout",
          "text": [
            "\n",
            "Evaluation LOSS: 0.6997188925743103\n",
            "Evaluation ACC:  43.58%\n",
            "\n",
            "epoch: 24\n"
          ]
        },
        {
          "output_type": "stream",
          "name": "stderr",
          "text": [
            "100%|██████████| 9612/9612 [03:38<00:00, 44.03it/s]\n"
          ]
        },
        {
          "output_type": "stream",
          "name": "stdout",
          "text": [
            "FINISHED EPOCH: 24\n",
            "train_loss: 0.7025793790817261\n"
          ]
        },
        {
          "output_type": "stream",
          "name": "stderr",
          "text": [
            "\r 80%|████████  | 24/30 [1:27:02<21:51, 218.55s/it]"
          ]
        },
        {
          "output_type": "stream",
          "name": "stdout",
          "text": [
            "\n",
            "Evaluation LOSS: 0.6862784624099731\n",
            "Evaluation ACC:  55.70%\n",
            "\n",
            "epoch: 25\n"
          ]
        },
        {
          "output_type": "stream",
          "name": "stderr",
          "text": [
            "100%|██████████| 9612/9612 [03:38<00:00, 44.05it/s]\n"
          ]
        },
        {
          "output_type": "stream",
          "name": "stdout",
          "text": [
            "FINISHED EPOCH: 25\n",
            "train_loss: 0.6938837170600891\n"
          ]
        },
        {
          "output_type": "stream",
          "name": "stderr",
          "text": [
            "\r 83%|████████▎ | 25/30 [1:30:42<18:14, 218.89s/it]"
          ]
        },
        {
          "output_type": "stream",
          "name": "stdout",
          "text": [
            "\n",
            "Evaluation LOSS: 0.6893916130065918\n",
            "Evaluation ACC:  53.93%\n",
            "\n",
            "epoch: 26\n"
          ]
        },
        {
          "output_type": "stream",
          "name": "stderr",
          "text": [
            "100%|██████████| 9612/9612 [03:38<00:00, 44.04it/s]\n"
          ]
        },
        {
          "output_type": "stream",
          "name": "stdout",
          "text": [
            "FINISHED EPOCH: 26\n",
            "train_loss: 0.69297856092453\n"
          ]
        },
        {
          "output_type": "stream",
          "name": "stderr",
          "text": [
            "\r 87%|████████▋ | 26/30 [1:34:21<14:36, 219.13s/it]"
          ]
        },
        {
          "output_type": "stream",
          "name": "stdout",
          "text": [
            "\n",
            "Evaluation LOSS: 0.6871644854545593\n",
            "Evaluation ACC:  55.96%\n",
            "\n",
            "epoch: 27\n"
          ]
        },
        {
          "output_type": "stream",
          "name": "stderr",
          "text": [
            "100%|██████████| 9612/9612 [03:36<00:00, 44.31it/s]\n"
          ]
        },
        {
          "output_type": "stream",
          "name": "stdout",
          "text": [
            "FINISHED EPOCH: 27\n",
            "train_loss: 0.7030067443847656\n"
          ]
        },
        {
          "output_type": "stream",
          "name": "stderr",
          "text": [
            "\r 90%|█████████ | 27/30 [1:38:00<10:56, 218.90s/it]"
          ]
        },
        {
          "output_type": "stream",
          "name": "stdout",
          "text": [
            "\n",
            "Evaluation LOSS: 0.6921820640563965\n",
            "Evaluation ACC:  50.28%\n",
            "\n",
            "epoch: 28\n"
          ]
        },
        {
          "output_type": "stream",
          "name": "stderr",
          "text": [
            "100%|██████████| 9612/9612 [03:38<00:00, 43.96it/s]\n"
          ]
        },
        {
          "output_type": "stream",
          "name": "stdout",
          "text": [
            "FINISHED EPOCH: 28\n",
            "train_loss: 0.6884524822235107\n"
          ]
        },
        {
          "output_type": "stream",
          "name": "stderr",
          "text": [
            "\r 93%|█████████▎| 28/30 [1:41:40<07:18, 219.26s/it]"
          ]
        },
        {
          "output_type": "stream",
          "name": "stdout",
          "text": [
            "\n",
            "Evaluation LOSS: 0.6907893419265747\n",
            "Evaluation ACC:  52.58%\n",
            "\n",
            "epoch: 29\n"
          ]
        },
        {
          "output_type": "stream",
          "name": "stderr",
          "text": [
            "100%|██████████| 9612/9612 [03:38<00:00, 43.92it/s]\n"
          ]
        },
        {
          "output_type": "stream",
          "name": "stdout",
          "text": [
            "FINISHED EPOCH: 29\n",
            "train_loss: 0.6821735501289368\n"
          ]
        },
        {
          "output_type": "stream",
          "name": "stderr",
          "text": [
            "\r 97%|█████████▋| 29/30 [1:45:20<03:39, 219.56s/it]"
          ]
        },
        {
          "output_type": "stream",
          "name": "stdout",
          "text": [
            "\n",
            "Evaluation LOSS: 0.6915496587753296\n",
            "Evaluation ACC:  52.87%\n",
            "\n",
            "epoch: 30\n"
          ]
        },
        {
          "output_type": "stream",
          "name": "stderr",
          "text": [
            "100%|██████████| 9612/9612 [03:38<00:00, 43.98it/s]\n"
          ]
        },
        {
          "output_type": "stream",
          "name": "stdout",
          "text": [
            "FINISHED EPOCH: 30\n",
            "train_loss: 0.6938184499740601\n"
          ]
        },
        {
          "output_type": "stream",
          "name": "stderr",
          "text": [
            "100%|██████████| 30/30 [1:49:00<00:00, 218.02s/it]"
          ]
        },
        {
          "output_type": "stream",
          "name": "stdout",
          "text": [
            "\n",
            "Evaluation LOSS: 0.6915194392204285\n",
            "Evaluation ACC:  52.09%\n"
          ]
        },
        {
          "output_type": "stream",
          "name": "stderr",
          "text": [
            "\n"
          ]
        },
        {
          "output_type": "stream",
          "name": "stdout",
          "text": [
            "\n",
            "TEST LOSS: 0.6808618903160095\n",
            "Recall: 66.4476357267951\n",
            "Precision: 81.20922586942004\n",
            "F1-Score: 73.09055603501417\n",
            "TEST ACC:  60.27%\n"
          ]
        }
      ],
      "source": [
        "\n",
        "#'glove200d', 'glovetwit200d', 'Emotag'\n",
        "model_file = 'model_lstmsenti_201301.torch'\n",
        "pre_trained_embedding_file = 'glove200d'\n",
        "# Full_Data = Load_parquet(\"parquet/2013/01\")\n",
        "Train_set, Eval_set, Test_set, vocab_dict, weight_mat, list_of_lens_in_batch, Eval_len, Test_len = Preprocess(Full_Data, test_ratio=0.2, evaluation_ratio=0.1, seed=595, train_batch=32, pre_trained_embedding_file=pre_trained_embedding_file)\n",
        "BATCH_SIZE = 32\n",
        "HIDDEN_DIM = 128\n",
        "TAGSET_SIZE = 2 #46\n",
        "torch.manual_seed(0)\n",
        "model = train(Train_set, Eval_set, HIDDEN_DIM, TAGSET_SIZE, weight_mat, list_of_lens_in_batch, Eval_len, learning_rate=0.001, n_epochs=30)\n",
        "torch.save(model.state_dict(), model_file)\n",
        "\n",
        "test(Test_set, HIDDEN_DIM, TAGSET_SIZE, weight_mat, Test_len, model_file)\n"
      ]
    },
    {
      "cell_type": "code",
      "execution_count": null,
      "metadata": {
        "colab": {
          "base_uri": "https://localhost:8080/"
        },
        "id": "H2UFPj4_DO2N",
        "outputId": "886e24a2-5135-432a-aee6-f00ec50f0cc9"
      },
      "outputs": [
        {
          "name": "stdout",
          "output_type": "stream",
          "text": [
            "\n",
            "TEST LOSS: 0.7025618553161621\n",
            "Recall: 67.07577374599786\n",
            "Precision: 23.675964452663482\n",
            "F1-Score: 34.99841802189457\n",
            "TEST ACC:  41.56%\n"
          ]
        }
      ],
      "source": [
        "model_file = 'model_lstmsenti_201301.torch'\n",
        "\n",
        "test(Test_set, HIDDEN_DIM, TAGSET_SIZE, weight_mat, Test_len, model_file)\n"
      ]
    },
    {
      "cell_type": "code",
      "source": [
        "model_file = 'model_lstmsenti_201301.torch'\n",
        "\n",
        "test(Test_set, HIDDEN_DIM, TAGSET_SIZE, weight_mat, Test_len, model_file)"
      ],
      "metadata": {
        "colab": {
          "base_uri": "https://localhost:8080/"
        },
        "id": "AFcXYUw1GVmj",
        "outputId": "0c80fcc3-64c3-459e-beaf-8a5d43d24332"
      },
      "execution_count": null,
      "outputs": [
        {
          "output_type": "stream",
          "name": "stdout",
          "text": [
            "\n",
            "TEST LOSS: 0.6976840496063232\n",
            "Recall: 66.43136587855078\n",
            "Precision: 40.12431293984692\n",
            "F1-Score: 50.030424339471566\n",
            "TEST ACC:  46.74%\n"
          ]
        }
      ]
    },
    {
      "cell_type": "code",
      "source": [
        "model_file = 'model_lstmsenti_201301.torch'\n",
        "\n",
        "test(Test_set, HIDDEN_DIM, TAGSET_SIZE, weight_mat, Test_len, model_file)"
      ],
      "metadata": {
        "colab": {
          "base_uri": "https://localhost:8080/"
        },
        "id": "W5zmCRnGGxAh",
        "outputId": "c1807dc6-87b7-4ddc-c0dc-8d242dcb697c"
      },
      "execution_count": null,
      "outputs": [
        {
          "output_type": "stream",
          "name": "stdout",
          "text": [
            "\n",
            "TEST LOSS: 0.6890039443969727\n",
            "Recall: 66.32891386425499\n",
            "Precision: 64.67526240989024\n",
            "F1-Score: 65.49165120593692\n",
            "TEST ACC:  54.71%\n"
          ]
        }
      ]
    },
    {
      "cell_type": "markdown",
      "metadata": {
        "id": "kSRu50feisI2"
      },
      "source": [
        "glovetwit"
      ]
    },
    {
      "cell_type": "code",
      "source": [
        "pre_trained_embedding_file = 'glovetwit200d'\n",
        "Train_set, Eval_set, Test_set, vocab_dict, weight_mat, list_of_lens_in_batch, Eval_len, Test_len = Preprocess(Full_Data, test_ratio=0.2, evaluation_ratio=0.1, seed=595, train_batch=32, pre_trained_embedding_file=pre_trained_embedding_file)\n"
      ],
      "metadata": {
        "colab": {
          "base_uri": "https://localhost:8080/"
        },
        "id": "5hxnTzl4Gkq0",
        "outputId": "dd2eba3f-6668-4566-d847-83069cc3f50e"
      },
      "execution_count": null,
      "outputs": [
        {
          "output_type": "stream",
          "name": "stderr",
          "text": [
            "100%|██████████| 1193514/1193514 [01:03<00:00, 18765.43it/s]\n"
          ]
        },
        {
          "output_type": "stream",
          "name": "stdout",
          "text": [
            "Embedding dimension : 200\n"
          ]
        },
        {
          "output_type": "stream",
          "name": "stderr",
          "text": [
            "56220it [00:00, 73942.51it/s]\n",
            "<ipython-input-7-0369bd6db14f>:127: DeprecationWarning: `np.int` is a deprecated alias for the builtin `int`. To silence this warning, use `int` by itself. Doing this will not modify any behavior and is safe. When replacing `np.int`, you may wish to use e.g. `np.int64` or `np.int32` to specify the precision. If you wish to review your current use, check the release note link for additional information.\n",
            "Deprecated in NumPy 1.20; for more details and guidance: https://numpy.org/devdocs/release/1.20.0-notes.html#deprecations\n",
            "  padded_label_batch = np.zeros(train_batch, dtype=np.int)\n"
          ]
        }
      ]
    },
    {
      "cell_type": "code",
      "execution_count": null,
      "metadata": {
        "colab": {
          "background_save": true,
          "base_uri": "https://localhost:8080/"
        },
        "id": "mBwx1a_witrB",
        "outputId": "05fc065d-8dfb-4c02-95c9-c6ccbb7d8b5e"
      },
      "outputs": [
        {
          "name": "stderr",
          "output_type": "stream",
          "text": [
            "100%|██████████| 1193514/1193514 [01:03<00:00, 18859.21it/s]\n"
          ]
        },
        {
          "name": "stdout",
          "output_type": "stream",
          "text": [
            "Embedding dimension : 200\n"
          ]
        },
        {
          "name": "stderr",
          "output_type": "stream",
          "text": [
            "56220it [00:00, 73376.53it/s]\n",
            "<ipython-input-2-0369bd6db14f>:127: DeprecationWarning: `np.int` is a deprecated alias for the builtin `int`. To silence this warning, use `int` by itself. Doing this will not modify any behavior and is safe. When replacing `np.int`, you may wish to use e.g. `np.int64` or `np.int32` to specify the precision. If you wish to review your current use, check the release note link for additional information.\n",
            "Deprecated in NumPy 1.20; for more details and guidance: https://numpy.org/devdocs/release/1.20.0-notes.html#deprecations\n",
            "  padded_label_batch = np.zeros(train_batch, dtype=np.int)\n"
          ]
        },
        {
          "name": "stdout",
          "output_type": "stream",
          "text": [
            "##############################\n",
            "Train Model\n",
            "##############################\n"
          ]
        },
        {
          "name": "stderr",
          "output_type": "stream",
          "text": [
            "\r  0%|          | 0/30 [00:00<?, ?it/s]"
          ]
        },
        {
          "name": "stdout",
          "output_type": "stream",
          "text": [
            "\n",
            "epoch: 1\n"
          ]
        },
        {
          "name": "stderr",
          "output_type": "stream",
          "text": [
            "100%|██████████| 9612/9612 [03:21<00:00, 47.67it/s]\n"
          ]
        },
        {
          "name": "stdout",
          "output_type": "stream",
          "text": [
            "FINISHED EPOCH: 1\n",
            "train_loss: 0.6887179613113403\n"
          ]
        },
        {
          "name": "stderr",
          "output_type": "stream",
          "text": [
            "\r  3%|▎         | 1/30 [03:22<1:38:06, 202.99s/it]"
          ]
        },
        {
          "name": "stdout",
          "output_type": "stream",
          "text": [
            "\n",
            "Evaluation LOSS: 0.7005664706230164\n",
            "Evaluation ACC:  47.60%\n",
            "\n",
            "epoch: 2\n"
          ]
        },
        {
          "name": "stderr",
          "output_type": "stream",
          "text": [
            "100%|██████████| 9612/9612 [03:22<00:00, 47.43it/s]\n"
          ]
        },
        {
          "name": "stdout",
          "output_type": "stream",
          "text": [
            "FINISHED EPOCH: 2\n",
            "train_loss: 0.7305010557174683\n"
          ]
        },
        {
          "name": "stderr",
          "output_type": "stream",
          "text": [
            "\r  7%|▋         | 2/30 [06:46<1:35:00, 203.59s/it]"
          ]
        },
        {
          "name": "stdout",
          "output_type": "stream",
          "text": [
            "\n",
            "Evaluation LOSS: 0.6912295818328857\n",
            "Evaluation ACC:  49.02%\n",
            "\n",
            "epoch: 3\n"
          ]
        },
        {
          "name": "stderr",
          "output_type": "stream",
          "text": [
            "100%|██████████| 9612/9612 [03:20<00:00, 48.06it/s]\n"
          ]
        },
        {
          "name": "stdout",
          "output_type": "stream",
          "text": [
            "FINISHED EPOCH: 3\n",
            "train_loss: 0.7039387226104736\n"
          ]
        },
        {
          "name": "stderr",
          "output_type": "stream",
          "text": [
            "\r 10%|█         | 3/30 [10:08<1:31:09, 202.58s/it]"
          ]
        },
        {
          "name": "stdout",
          "output_type": "stream",
          "text": [
            "\n",
            "Evaluation LOSS: 0.7186970114707947\n",
            "Evaluation ACC:  39.87%\n",
            "\n",
            "epoch: 4\n"
          ]
        },
        {
          "name": "stderr",
          "output_type": "stream",
          "text": [
            "100%|██████████| 9612/9612 [03:16<00:00, 48.90it/s]\n"
          ]
        },
        {
          "name": "stdout",
          "output_type": "stream",
          "text": [
            "FINISHED EPOCH: 4\n",
            "train_loss: 0.6784809827804565\n"
          ]
        },
        {
          "name": "stderr",
          "output_type": "stream",
          "text": [
            "\r 13%|█▎        | 4/30 [13:26<1:26:59, 200.73s/it]"
          ]
        },
        {
          "name": "stdout",
          "output_type": "stream",
          "text": [
            "\n",
            "Evaluation LOSS: 0.657585084438324\n",
            "Evaluation ACC:  64.03%\n",
            "\n",
            "epoch: 5\n"
          ]
        },
        {
          "name": "stderr",
          "output_type": "stream",
          "text": [
            "100%|██████████| 9612/9612 [03:18<00:00, 48.49it/s]\n"
          ]
        },
        {
          "name": "stdout",
          "output_type": "stream",
          "text": [
            "FINISHED EPOCH: 5\n",
            "train_loss: 0.6912559866905212\n"
          ]
        },
        {
          "name": "stderr",
          "output_type": "stream",
          "text": [
            "\r 17%|█▋        | 5/30 [16:45<1:23:28, 200.32s/it]"
          ]
        },
        {
          "name": "stdout",
          "output_type": "stream",
          "text": [
            "\n",
            "Evaluation LOSS: 0.6734024286270142\n",
            "Evaluation ACC:  60.96%\n",
            "\n",
            "epoch: 6\n"
          ]
        },
        {
          "name": "stderr",
          "output_type": "stream",
          "text": [
            "100%|██████████| 9612/9612 [03:15<00:00, 49.12it/s]\n"
          ]
        },
        {
          "name": "stdout",
          "output_type": "stream",
          "text": [
            "FINISHED EPOCH: 6\n",
            "train_loss: 0.6910377144813538\n"
          ]
        },
        {
          "name": "stderr",
          "output_type": "stream",
          "text": [
            "\r 20%|██        | 6/30 [20:02<1:19:41, 199.21s/it]"
          ]
        },
        {
          "name": "stdout",
          "output_type": "stream",
          "text": [
            "\n",
            "Evaluation LOSS: 0.7005042433738708\n",
            "Evaluation ACC:  48.28%\n",
            "\n",
            "epoch: 7\n"
          ]
        },
        {
          "name": "stderr",
          "output_type": "stream",
          "text": [
            "100%|██████████| 9612/9612 [03:16<00:00, 48.81it/s]\n"
          ]
        },
        {
          "name": "stdout",
          "output_type": "stream",
          "text": [
            "FINISHED EPOCH: 7\n",
            "train_loss: 0.6575700044631958\n"
          ]
        },
        {
          "name": "stderr",
          "output_type": "stream",
          "text": [
            "\r 23%|██▎       | 7/30 [23:21<1:16:14, 198.91s/it]"
          ]
        },
        {
          "name": "stdout",
          "output_type": "stream",
          "text": [
            "\n",
            "Evaluation LOSS: 0.7114885449409485\n",
            "Evaluation ACC:  39.85%\n",
            "\n",
            "epoch: 8\n"
          ]
        },
        {
          "name": "stderr",
          "output_type": "stream",
          "text": [
            "100%|██████████| 9612/9612 [03:16<00:00, 48.87it/s]\n"
          ]
        },
        {
          "name": "stdout",
          "output_type": "stream",
          "text": [
            "FINISHED EPOCH: 8\n",
            "train_loss: 0.6750763654708862\n"
          ]
        },
        {
          "name": "stderr",
          "output_type": "stream",
          "text": [
            "\r 27%|██▋       | 8/30 [26:39<1:12:49, 198.64s/it]"
          ]
        },
        {
          "name": "stdout",
          "output_type": "stream",
          "text": [
            "\n",
            "Evaluation LOSS: 0.6976303458213806\n",
            "Evaluation ACC:  47.68%\n",
            "\n",
            "epoch: 9\n"
          ]
        },
        {
          "name": "stderr",
          "output_type": "stream",
          "text": [
            "100%|██████████| 9612/9612 [03:16<00:00, 48.89it/s]\n"
          ]
        },
        {
          "name": "stdout",
          "output_type": "stream",
          "text": [
            "FINISHED EPOCH: 9\n",
            "train_loss: 0.6710696220397949\n"
          ]
        },
        {
          "name": "stderr",
          "output_type": "stream",
          "text": [
            "\r 30%|███       | 9/30 [29:57<1:09:26, 198.43s/it]"
          ]
        },
        {
          "name": "stdout",
          "output_type": "stream",
          "text": [
            "\n",
            "Evaluation LOSS: 0.7230347394943237\n",
            "Evaluation ACC:  38.30%\n",
            "\n",
            "epoch: 10\n"
          ]
        },
        {
          "name": "stderr",
          "output_type": "stream",
          "text": [
            "100%|██████████| 9612/9612 [03:16<00:00, 48.90it/s]\n"
          ]
        },
        {
          "name": "stdout",
          "output_type": "stream",
          "text": [
            "FINISHED EPOCH: 10\n",
            "train_loss: 0.7100256681442261\n"
          ]
        },
        {
          "name": "stderr",
          "output_type": "stream",
          "text": [
            "\r 33%|███▎      | 10/30 [33:15<1:06:05, 198.28s/it]"
          ]
        },
        {
          "name": "stdout",
          "output_type": "stream",
          "text": [
            "\n",
            "Evaluation LOSS: 0.6904451251029968\n",
            "Evaluation ACC:  52.65%\n",
            "\n",
            "epoch: 11\n"
          ]
        },
        {
          "name": "stderr",
          "output_type": "stream",
          "text": [
            "100%|██████████| 9612/9612 [03:16<00:00, 48.97it/s]\n"
          ]
        },
        {
          "name": "stdout",
          "output_type": "stream",
          "text": [
            "FINISHED EPOCH: 11\n",
            "train_loss: 0.6829238533973694\n"
          ]
        },
        {
          "name": "stderr",
          "output_type": "stream",
          "text": [
            "\r 37%|███▋      | 11/30 [36:32<1:02:43, 198.09s/it]"
          ]
        },
        {
          "name": "stdout",
          "output_type": "stream",
          "text": [
            "\n",
            "Evaluation LOSS: 0.6934970617294312\n",
            "Evaluation ACC:  49.06%\n",
            "\n",
            "epoch: 12\n"
          ]
        },
        {
          "name": "stderr",
          "output_type": "stream",
          "text": [
            "100%|██████████| 9612/9612 [03:16<00:00, 48.91it/s]\n"
          ]
        },
        {
          "name": "stdout",
          "output_type": "stream",
          "text": [
            "FINISHED EPOCH: 12\n",
            "train_loss: 0.6977652311325073\n"
          ]
        },
        {
          "name": "stderr",
          "output_type": "stream",
          "text": [
            "\r 40%|████      | 12/30 [39:50<59:24, 198.03s/it]  "
          ]
        },
        {
          "name": "stdout",
          "output_type": "stream",
          "text": [
            "\n",
            "Evaluation LOSS: 0.705075740814209\n",
            "Evaluation ACC:  41.97%\n",
            "\n",
            "epoch: 13\n"
          ]
        },
        {
          "name": "stderr",
          "output_type": "stream",
          "text": [
            "100%|██████████| 9612/9612 [03:16<00:00, 48.90it/s]\n"
          ]
        },
        {
          "name": "stdout",
          "output_type": "stream",
          "text": [
            "FINISHED EPOCH: 13\n",
            "train_loss: 0.6906374096870422\n"
          ]
        },
        {
          "name": "stderr",
          "output_type": "stream",
          "text": [
            "\r 43%|████▎     | 13/30 [43:08<56:05, 198.00s/it]"
          ]
        },
        {
          "name": "stdout",
          "output_type": "stream",
          "text": [
            "\n",
            "Evaluation LOSS: 0.6854417324066162\n",
            "Evaluation ACC:  55.89%\n",
            "\n",
            "epoch: 14\n"
          ]
        },
        {
          "name": "stderr",
          "output_type": "stream",
          "text": [
            "100%|██████████| 9612/9612 [03:17<00:00, 48.79it/s]\n"
          ]
        },
        {
          "name": "stdout",
          "output_type": "stream",
          "text": [
            "FINISHED EPOCH: 14\n",
            "train_loss: 0.6903573870658875\n"
          ]
        },
        {
          "name": "stderr",
          "output_type": "stream",
          "text": [
            "\r 47%|████▋     | 14/30 [46:27<52:49, 198.12s/it]"
          ]
        },
        {
          "name": "stdout",
          "output_type": "stream",
          "text": [
            "\n",
            "Evaluation LOSS: 0.7056682109832764\n",
            "Evaluation ACC:  41.23%\n",
            "\n",
            "epoch: 15\n"
          ]
        },
        {
          "name": "stderr",
          "output_type": "stream",
          "text": [
            "100%|██████████| 9612/9612 [03:15<00:00, 49.11it/s]\n"
          ]
        },
        {
          "name": "stdout",
          "output_type": "stream",
          "text": [
            "FINISHED EPOCH: 15\n",
            "train_loss: 0.7071902751922607\n"
          ]
        },
        {
          "name": "stderr",
          "output_type": "stream",
          "text": [
            "\r 50%|█████     | 15/30 [49:44<49:27, 197.81s/it]"
          ]
        },
        {
          "name": "stdout",
          "output_type": "stream",
          "text": [
            "\n",
            "Evaluation LOSS: 0.670880913734436\n",
            "Evaluation ACC:  62.77%\n",
            "\n",
            "epoch: 16\n"
          ]
        },
        {
          "name": "stderr",
          "output_type": "stream",
          "text": [
            "100%|██████████| 9612/9612 [03:16<00:00, 48.88it/s]\n"
          ]
        },
        {
          "name": "stdout",
          "output_type": "stream",
          "text": [
            "FINISHED EPOCH: 16\n",
            "train_loss: 0.7092841267585754\n"
          ]
        },
        {
          "name": "stderr",
          "output_type": "stream",
          "text": [
            "\r 53%|█████▎    | 16/30 [53:02<46:10, 197.86s/it]"
          ]
        },
        {
          "name": "stdout",
          "output_type": "stream",
          "text": [
            "\n",
            "Evaluation LOSS: 0.6843888163566589\n",
            "Evaluation ACC:  57.32%\n",
            "\n",
            "epoch: 17\n"
          ]
        },
        {
          "name": "stderr",
          "output_type": "stream",
          "text": [
            "100%|██████████| 9612/9612 [03:15<00:00, 49.05it/s]\n"
          ]
        },
        {
          "name": "stdout",
          "output_type": "stream",
          "text": [
            "FINISHED EPOCH: 17\n",
            "train_loss: 0.6949302554130554\n"
          ]
        },
        {
          "name": "stderr",
          "output_type": "stream",
          "text": [
            "\r 57%|█████▋    | 17/30 [56:19<42:50, 197.70s/it]"
          ]
        },
        {
          "name": "stdout",
          "output_type": "stream",
          "text": [
            "\n",
            "Evaluation LOSS: 0.6905401945114136\n",
            "Evaluation ACC:  52.33%\n",
            "\n",
            "epoch: 18\n"
          ]
        },
        {
          "name": "stderr",
          "output_type": "stream",
          "text": [
            "100%|██████████| 9612/9612 [03:17<00:00, 48.70it/s]\n"
          ]
        },
        {
          "name": "stdout",
          "output_type": "stream",
          "text": [
            "FINISHED EPOCH: 18\n",
            "train_loss: 0.7153995037078857\n"
          ]
        },
        {
          "name": "stderr",
          "output_type": "stream",
          "text": [
            "\r 60%|██████    | 18/30 [59:38<39:36, 198.02s/it]"
          ]
        },
        {
          "name": "stdout",
          "output_type": "stream",
          "text": [
            "\n",
            "Evaluation LOSS: 0.6934492588043213\n",
            "Evaluation ACC:  49.92%\n",
            "\n",
            "epoch: 19\n"
          ]
        },
        {
          "name": "stderr",
          "output_type": "stream",
          "text": [
            "100%|██████████| 9612/9612 [03:16<00:00, 48.99it/s]\n"
          ]
        },
        {
          "name": "stdout",
          "output_type": "stream",
          "text": [
            "FINISHED EPOCH: 19\n",
            "train_loss: 0.6921498775482178\n"
          ]
        },
        {
          "name": "stderr",
          "output_type": "stream",
          "text": [
            "\r 63%|██████▎   | 19/30 [1:02:55<36:16, 197.88s/it]"
          ]
        },
        {
          "name": "stdout",
          "output_type": "stream",
          "text": [
            "\n",
            "Evaluation LOSS: 0.6993030905723572\n",
            "Evaluation ACC:  45.99%\n",
            "\n",
            "epoch: 20\n"
          ]
        },
        {
          "name": "stderr",
          "output_type": "stream",
          "text": [
            "100%|██████████| 9612/9612 [03:16<00:00, 49.03it/s]\n"
          ]
        },
        {
          "name": "stdout",
          "output_type": "stream",
          "text": [
            "FINISHED EPOCH: 20\n",
            "train_loss: 0.6857886910438538\n"
          ]
        },
        {
          "name": "stderr",
          "output_type": "stream",
          "text": [
            "\r 67%|██████▋   | 20/30 [1:06:13<32:57, 197.75s/it]"
          ]
        },
        {
          "name": "stdout",
          "output_type": "stream",
          "text": [
            "\n",
            "Evaluation LOSS: 0.6825188398361206\n",
            "Evaluation ACC:  59.12%\n",
            "\n",
            "epoch: 21\n"
          ]
        },
        {
          "name": "stderr",
          "output_type": "stream",
          "text": [
            "100%|██████████| 9612/9612 [03:17<00:00, 48.77it/s]\n"
          ]
        },
        {
          "name": "stdout",
          "output_type": "stream",
          "text": [
            "FINISHED EPOCH: 21\n",
            "train_loss: 0.6989661455154419\n"
          ]
        },
        {
          "name": "stderr",
          "output_type": "stream",
          "text": [
            "\r 70%|███████   | 21/30 [1:09:31<29:41, 197.97s/it]"
          ]
        },
        {
          "name": "stdout",
          "output_type": "stream",
          "text": [
            "\n",
            "Evaluation LOSS: 0.6991291642189026\n",
            "Evaluation ACC:  44.80%\n",
            "\n",
            "epoch: 22\n"
          ]
        },
        {
          "name": "stderr",
          "output_type": "stream",
          "text": [
            "100%|██████████| 9612/9612 [03:17<00:00, 48.73it/s]\n"
          ]
        },
        {
          "name": "stdout",
          "output_type": "stream",
          "text": [
            "FINISHED EPOCH: 22\n",
            "train_loss: 0.7034708261489868\n"
          ]
        },
        {
          "name": "stderr",
          "output_type": "stream",
          "text": [
            "\r 73%|███████▎  | 22/30 [1:12:50<26:25, 198.17s/it]"
          ]
        },
        {
          "name": "stdout",
          "output_type": "stream",
          "text": [
            "\n",
            "Evaluation LOSS: 0.6904672384262085\n",
            "Evaluation ACC:  52.40%\n",
            "\n",
            "epoch: 23\n"
          ]
        },
        {
          "name": "stderr",
          "output_type": "stream",
          "text": [
            "100%|██████████| 9612/9612 [03:16<00:00, 48.98it/s]\n"
          ]
        },
        {
          "name": "stdout",
          "output_type": "stream",
          "text": [
            "FINISHED EPOCH: 23\n",
            "train_loss: 0.7077186107635498\n"
          ]
        },
        {
          "name": "stderr",
          "output_type": "stream",
          "text": [
            "\r 77%|███████▋  | 23/30 [1:16:07<23:06, 198.00s/it]"
          ]
        },
        {
          "name": "stdout",
          "output_type": "stream",
          "text": [
            "\n",
            "Evaluation LOSS: 0.6929939389228821\n",
            "Evaluation ACC:  50.22%\n",
            "\n",
            "epoch: 24\n"
          ]
        },
        {
          "name": "stderr",
          "output_type": "stream",
          "text": [
            "100%|██████████| 9612/9612 [03:16<00:00, 48.99it/s]\n"
          ]
        },
        {
          "name": "stdout",
          "output_type": "stream",
          "text": [
            "FINISHED EPOCH: 24\n",
            "train_loss: 0.6785395741462708\n"
          ]
        },
        {
          "name": "stderr",
          "output_type": "stream",
          "text": [
            "\r 80%|████████  | 24/30 [1:19:25<19:47, 197.87s/it]"
          ]
        },
        {
          "name": "stdout",
          "output_type": "stream",
          "text": [
            "\n",
            "Evaluation LOSS: 0.6858869194984436\n",
            "Evaluation ACC:  55.85%\n",
            "\n",
            "epoch: 25\n"
          ]
        },
        {
          "name": "stderr",
          "output_type": "stream",
          "text": [
            "100%|██████████| 9612/9612 [03:16<00:00, 48.81it/s]\n"
          ]
        },
        {
          "name": "stdout",
          "output_type": "stream",
          "text": [
            "FINISHED EPOCH: 25\n",
            "train_loss: 0.6934351921081543\n"
          ]
        },
        {
          "name": "stderr",
          "output_type": "stream",
          "text": [
            "\r 83%|████████▎ | 25/30 [1:22:43<16:29, 197.99s/it]"
          ]
        },
        {
          "name": "stdout",
          "output_type": "stream",
          "text": [
            "\n",
            "Evaluation LOSS: 0.6952404379844666\n",
            "Evaluation ACC:  47.32%\n",
            "\n",
            "epoch: 26\n"
          ]
        },
        {
          "name": "stderr",
          "output_type": "stream",
          "text": [
            "100%|██████████| 9612/9612 [03:16<00:00, 48.94it/s]\n"
          ]
        },
        {
          "name": "stdout",
          "output_type": "stream",
          "text": [
            "FINISHED EPOCH: 26\n",
            "train_loss: 0.6836923956871033\n"
          ]
        },
        {
          "name": "stderr",
          "output_type": "stream",
          "text": [
            "\r 87%|████████▋ | 26/30 [1:26:01<13:11, 197.92s/it]"
          ]
        },
        {
          "name": "stdout",
          "output_type": "stream",
          "text": [
            "\n",
            "Evaluation LOSS: 0.6884974837303162\n",
            "Evaluation ACC:  54.58%\n",
            "\n",
            "epoch: 27\n"
          ]
        },
        {
          "name": "stderr",
          "output_type": "stream",
          "text": [
            "100%|██████████| 9612/9612 [03:16<00:00, 48.83it/s]\n"
          ]
        },
        {
          "name": "stdout",
          "output_type": "stream",
          "text": [
            "FINISHED EPOCH: 27\n",
            "train_loss: 0.6987795829772949\n"
          ]
        },
        {
          "name": "stderr",
          "output_type": "stream",
          "text": [
            "\r 90%|█████████ | 27/30 [1:29:19<09:54, 198.01s/it]"
          ]
        },
        {
          "name": "stdout",
          "output_type": "stream",
          "text": [
            "\n",
            "Evaluation LOSS: 0.6940711736679077\n",
            "Evaluation ACC:  48.41%\n",
            "\n",
            "epoch: 28\n"
          ]
        },
        {
          "name": "stderr",
          "output_type": "stream",
          "text": [
            "100%|██████████| 9612/9612 [03:16<00:00, 48.83it/s]\n"
          ]
        },
        {
          "name": "stdout",
          "output_type": "stream",
          "text": [
            "FINISHED EPOCH: 28\n",
            "train_loss: 0.6848962306976318\n"
          ]
        },
        {
          "name": "stderr",
          "output_type": "stream",
          "text": [
            "\r 93%|█████████▎| 28/30 [1:32:37<06:36, 198.07s/it]"
          ]
        },
        {
          "name": "stdout",
          "output_type": "stream",
          "text": [
            "\n",
            "Evaluation LOSS: 0.6909621357917786\n",
            "Evaluation ACC:  52.32%\n",
            "\n",
            "epoch: 29\n"
          ]
        },
        {
          "name": "stderr",
          "output_type": "stream",
          "text": [
            "100%|██████████| 9612/9612 [03:17<00:00, 48.73it/s]\n"
          ]
        },
        {
          "name": "stdout",
          "output_type": "stream",
          "text": [
            "FINISHED EPOCH: 29\n",
            "train_loss: 0.6886246204376221\n"
          ]
        },
        {
          "name": "stderr",
          "output_type": "stream",
          "text": [
            "\r 97%|█████████▋| 29/30 [1:35:56<03:18, 198.24s/it]"
          ]
        },
        {
          "name": "stdout",
          "output_type": "stream",
          "text": [
            "\n",
            "Evaluation LOSS: 0.6885122656822205\n",
            "Evaluation ACC:  54.38%\n",
            "\n",
            "epoch: 30\n"
          ]
        },
        {
          "name": "stderr",
          "output_type": "stream",
          "text": [
            "100%|██████████| 9612/9612 [03:17<00:00, 48.68it/s]\n"
          ]
        },
        {
          "name": "stdout",
          "output_type": "stream",
          "text": [
            "FINISHED EPOCH: 30\n",
            "train_loss: 0.6977286338806152\n"
          ]
        },
        {
          "name": "stderr",
          "output_type": "stream",
          "text": [
            "100%|██████████| 30/30 [1:39:15<00:00, 198.51s/it]"
          ]
        },
        {
          "name": "stdout",
          "output_type": "stream",
          "text": [
            "\n",
            "Evaluation LOSS: 0.6934419870376587\n",
            "Evaluation ACC:  48.34%\n"
          ]
        },
        {
          "name": "stderr",
          "output_type": "stream",
          "text": [
            "\n"
          ]
        },
        {
          "name": "stdout",
          "output_type": "stream",
          "text": [
            "\n",
            "TEST LOSS: 0.6928247809410095\n",
            "Recall: 66.63865917834873\n",
            "Precision: 51.60528073149432\n",
            "F1-Score: 58.1663080085306\n",
            "TEST ACC:  50.67%\n"
          ]
        }
      ],
      "source": [
        "\n",
        "#'glove200d', 'glovetwit200d', 'Emotag'\n",
        "model_file = 'model_lstmsenti_gltwit201301.torch'\n",
        "pre_trained_embedding_file = 'glovetwit200d'\n",
        "# Full_Data = Load_parquet(\"parquet/2013/01\")\n",
        "Train_set, Eval_set, Test_set, vocab_dict, weight_mat, list_of_lens_in_batch, Eval_len, Test_len = Preprocess(Full_Data, test_ratio=0.2, evaluation_ratio=0.1, seed=595, train_batch=32, pre_trained_embedding_file=pre_trained_embedding_file)\n",
        "BATCH_SIZE = 32\n",
        "HIDDEN_DIM = 128\n",
        "TAGSET_SIZE = 2 #46\n",
        "torch.manual_seed(0)\n",
        "model = train(Train_set, Eval_set, HIDDEN_DIM, TAGSET_SIZE, weight_mat, list_of_lens_in_batch, Eval_len, learning_rate=0.001, n_epochs=30)\n",
        "torch.save(model.state_dict(), model_file)\n",
        "\n",
        "test(Test_set, HIDDEN_DIM, TAGSET_SIZE, weight_mat, Test_len, model_file)\n"
      ]
    },
    {
      "cell_type": "code",
      "execution_count": null,
      "metadata": {
        "colab": {
          "base_uri": "https://localhost:8080/"
        },
        "id": "hnPJNdi1DUUn",
        "outputId": "aff60e96-0d8b-47cd-8c60-f7e98203c331"
      },
      "outputs": [
        {
          "name": "stdout",
          "output_type": "stream",
          "text": [
            "\n",
            "TEST LOSS: 0.6888126730918884\n",
            "Recall: 66.44960362400906\n",
            "Precision: 64.30026883101317\n",
            "F1-Score: 65.35727028273563\n",
            "TEST ACC:  54.70%\n"
          ]
        }
      ],
      "source": [
        "model_file = 'model_lstmsenti_gltwit201301.torch'\n",
        "\n",
        "test(Test_set, HIDDEN_DIM, TAGSET_SIZE, weight_mat, Test_len, model_file)"
      ]
    },
    {
      "cell_type": "code",
      "source": [
        "model_file = 'model_lstmsenti_gltwit201301.torch'\n",
        "\n",
        "test(Test_set, HIDDEN_DIM, TAGSET_SIZE, weight_mat, Test_len, model_file)"
      ],
      "metadata": {
        "colab": {
          "base_uri": "https://localhost:8080/"
        },
        "id": "ySpSp7BcG4FK",
        "outputId": "9d378def-a98b-4dda-f66e-d5a34cfe20fe"
      },
      "execution_count": null,
      "outputs": [
        {
          "output_type": "stream",
          "name": "stdout",
          "text": [
            "\n",
            "TEST LOSS: 0.6943316459655762\n",
            "Recall: 66.54936558287073\n",
            "Precision: 45.98208934778514\n",
            "F1-Score: 54.386195862404186\n",
            "TEST ACC:  48.75%\n"
          ]
        }
      ]
    },
    {
      "cell_type": "code",
      "source": [
        "model_file = 'model_lstmsenti_gltwit201301.torch'\n",
        "\n",
        "test(Test_set, HIDDEN_DIM, TAGSET_SIZE, weight_mat, Test_len, model_file)"
      ],
      "metadata": {
        "colab": {
          "base_uri": "https://localhost:8080/"
        },
        "id": "fedUpLh2G4e5",
        "outputId": "7aed572d-9901-4327-bb31-62e73f8f8c47"
      },
      "execution_count": null,
      "outputs": [
        {
          "output_type": "stream",
          "name": "stdout",
          "text": [
            "\n",
            "TEST LOSS: 0.6947508454322815\n",
            "Recall: 66.29742253113234\n",
            "Precision: 47.03857810653927\n",
            "F1-Score: 55.03170167372817\n",
            "TEST ACC:  48.92%\n"
          ]
        }
      ]
    },
    {
      "cell_type": "markdown",
      "metadata": {
        "id": "4xromZsMi3Vq"
      },
      "source": [
        "Emotag"
      ]
    },
    {
      "cell_type": "code",
      "execution_count": null,
      "metadata": {
        "colab": {
          "base_uri": "https://localhost:8080/"
        },
        "id": "NfSDKdtAbCq7",
        "outputId": "50509b28-9763-4769-a978-87ea77cbb658"
      },
      "outputs": [
        {
          "output_type": "stream",
          "name": "stderr",
          "text": [
            "100%|██████████| 401030/401030 [01:53<00:00, 3543.71it/s]\n"
          ]
        },
        {
          "output_type": "stream",
          "name": "stdout",
          "text": [
            "Embedding dimension : 620\n"
          ]
        },
        {
          "output_type": "stream",
          "name": "stderr",
          "text": [
            "56220it [00:01, 30250.23it/s]\n",
            "<ipython-input-7-0369bd6db14f>:127: DeprecationWarning: `np.int` is a deprecated alias for the builtin `int`. To silence this warning, use `int` by itself. Doing this will not modify any behavior and is safe. When replacing `np.int`, you may wish to use e.g. `np.int64` or `np.int32` to specify the precision. If you wish to review your current use, check the release note link for additional information.\n",
            "Deprecated in NumPy 1.20; for more details and guidance: https://numpy.org/devdocs/release/1.20.0-notes.html#deprecations\n",
            "  padded_label_batch = np.zeros(train_batch, dtype=np.int)\n"
          ]
        }
      ],
      "source": [
        "EmoFull_Data = Load_parquet(\"parquet/2013/01\", 5)\n",
        "pre_trained_embedding_file = 'Emotag'\n",
        "EmoTrain_set, EmoEval_set, EmoTest_set, Emovocab_dict, Emoweight_mat, Emolist_of_lens_in_batch, EmoEval_len, EmoTest_len = Preprocess(EmoFull_Data, test_ratio=0.2, evaluation_ratio=0.1, seed=595, train_batch=32, pre_trained_embedding_file=pre_trained_embedding_file)\n",
        "\n"
      ]
    },
    {
      "cell_type": "markdown",
      "source": [],
      "metadata": {
        "id": "grCA1CjTnq2y"
      }
    },
    {
      "cell_type": "code",
      "execution_count": null,
      "metadata": {
        "colab": {
          "base_uri": "https://localhost:8080/"
        },
        "id": "IuqR04rRefo9",
        "outputId": "ec6baa38-1a86-4ee4-e147-1ef05142b1a3"
      },
      "outputs": [
        {
          "metadata": {
            "tags": null
          },
          "name": "stdout",
          "output_type": "stream",
          "text": [
            "##############################\n",
            "Train Model\n",
            "##############################\n"
          ]
        },
        {
          "metadata": {
            "tags": null
          },
          "name": "stderr",
          "output_type": "stream",
          "text": [
            "\r  0%|          | 0/30 [00:00<?, ?it/s]"
          ]
        },
        {
          "metadata": {
            "tags": null
          },
          "name": "stdout",
          "output_type": "stream",
          "text": [
            "\n",
            "epoch: 1\n"
          ]
        },
        {
          "metadata": {
            "tags": null
          },
          "name": "stderr",
          "output_type": "stream",
          "text": [
            "100%|██████████| 9612/9612 [04:03<00:00, 39.42it/s]\n"
          ]
        },
        {
          "metadata": {
            "tags": null
          },
          "name": "stdout",
          "output_type": "stream",
          "text": [
            "FINISHED EPOCH: 1\n",
            "train_loss: 0.6230942606925964\n"
          ]
        },
        {
          "metadata": {
            "tags": null
          },
          "name": "stderr",
          "output_type": "stream",
          "text": [
            "\r  3%|▎         | 1/30 [04:06<1:59:00, 246.21s/it]"
          ]
        },
        {
          "metadata": {
            "tags": null
          },
          "name": "stdout",
          "output_type": "stream",
          "text": [
            "\n",
            "Evaluation LOSS: 0.6574263572692871\n",
            "Evaluation ACC:  59.70%\n",
            "\n",
            "epoch: 2\n"
          ]
        },
        {
          "metadata": {
            "tags": null
          },
          "name": "stderr",
          "output_type": "stream",
          "text": [
            "100%|██████████| 9612/9612 [04:01<00:00, 39.78it/s]\n"
          ]
        },
        {
          "metadata": {
            "tags": null
          },
          "name": "stdout",
          "output_type": "stream",
          "text": [
            "FINISHED EPOCH: 2\n",
            "train_loss: 0.662513256072998\n"
          ]
        },
        {
          "metadata": {
            "tags": null
          },
          "name": "stderr",
          "output_type": "stream",
          "text": [
            "\r  7%|▋         | 2/30 [08:09<1:54:12, 244.72s/it]"
          ]
        },
        {
          "metadata": {
            "tags": null
          },
          "name": "stdout",
          "output_type": "stream",
          "text": [
            "\n",
            "Evaluation LOSS: 0.7052755951881409\n",
            "Evaluation ACC:  46.79%\n",
            "\n",
            "epoch: 3\n"
          ]
        },
        {
          "metadata": {
            "tags": null
          },
          "name": "stderr",
          "output_type": "stream",
          "text": [
            "100%|██████████| 9612/9612 [03:59<00:00, 40.06it/s]\n"
          ]
        },
        {
          "metadata": {
            "tags": null
          },
          "name": "stdout",
          "output_type": "stream",
          "text": [
            "FINISHED EPOCH: 3\n",
            "train_loss: 0.7185012102127075\n"
          ]
        },
        {
          "metadata": {
            "tags": null
          },
          "name": "stderr",
          "output_type": "stream",
          "text": [
            "\r 10%|█         | 3/30 [12:11<1:49:33, 243.47s/it]"
          ]
        },
        {
          "metadata": {
            "tags": null
          },
          "name": "stdout",
          "output_type": "stream",
          "text": [
            "\n",
            "Evaluation LOSS: 0.7162362337112427\n",
            "Evaluation ACC:  40.29%\n",
            "\n",
            "epoch: 4\n"
          ]
        },
        {
          "metadata": {
            "tags": null
          },
          "name": "stderr",
          "output_type": "stream",
          "text": [
            "100%|██████████| 9612/9612 [04:00<00:00, 39.97it/s]\n"
          ]
        },
        {
          "metadata": {
            "tags": null
          },
          "name": "stdout",
          "output_type": "stream",
          "text": [
            "FINISHED EPOCH: 4\n",
            "train_loss: 0.6724476218223572\n"
          ]
        },
        {
          "metadata": {
            "tags": null
          },
          "name": "stderr",
          "output_type": "stream",
          "text": [
            "\r 13%|█▎        | 4/30 [16:14<1:45:20, 243.08s/it]"
          ]
        },
        {
          "metadata": {
            "tags": null
          },
          "name": "stdout",
          "output_type": "stream",
          "text": [
            "\n",
            "Evaluation LOSS: 0.7054260969161987\n",
            "Evaluation ACC:  44.88%\n",
            "\n",
            "epoch: 5\n"
          ]
        },
        {
          "metadata": {
            "tags": null
          },
          "name": "stderr",
          "output_type": "stream",
          "text": [
            "100%|██████████| 9612/9612 [03:59<00:00, 40.12it/s]\n"
          ]
        },
        {
          "metadata": {
            "tags": null
          },
          "name": "stdout",
          "output_type": "stream",
          "text": [
            "FINISHED EPOCH: 5\n",
            "train_loss: 0.6666225790977478\n"
          ]
        },
        {
          "metadata": {
            "tags": null
          },
          "name": "stderr",
          "output_type": "stream",
          "text": [
            "\r 17%|█▋        | 5/30 [20:15<1:41:03, 242.55s/it]"
          ]
        },
        {
          "metadata": {
            "tags": null
          },
          "name": "stdout",
          "output_type": "stream",
          "text": [
            "\n",
            "Evaluation LOSS: 0.7004393339157104\n",
            "Evaluation ACC:  46.47%\n",
            "\n",
            "epoch: 6\n"
          ]
        },
        {
          "metadata": {
            "tags": null
          },
          "name": "stderr",
          "output_type": "stream",
          "text": [
            "100%|██████████| 9612/9612 [03:58<00:00, 40.35it/s]\n"
          ]
        },
        {
          "metadata": {
            "tags": null
          },
          "name": "stdout",
          "output_type": "stream",
          "text": [
            "FINISHED EPOCH: 6\n",
            "train_loss: 0.6794480085372925\n"
          ]
        },
        {
          "metadata": {
            "tags": null
          },
          "name": "stderr",
          "output_type": "stream",
          "text": [
            "\r 20%|██        | 6/30 [24:16<1:36:42, 241.78s/it]"
          ]
        },
        {
          "metadata": {
            "tags": null
          },
          "name": "stdout",
          "output_type": "stream",
          "text": [
            "\n",
            "Evaluation LOSS: 0.6772142648696899\n",
            "Evaluation ACC:  55.45%\n",
            "\n",
            "epoch: 7\n"
          ]
        },
        {
          "metadata": {
            "tags": null
          },
          "name": "stderr",
          "output_type": "stream",
          "text": [
            "100%|██████████| 9612/9612 [03:58<00:00, 40.23it/s]\n"
          ]
        },
        {
          "metadata": {
            "tags": null
          },
          "name": "stdout",
          "output_type": "stream",
          "text": [
            "FINISHED EPOCH: 7\n",
            "train_loss: 0.7044023275375366\n"
          ]
        },
        {
          "metadata": {
            "tags": null
          },
          "name": "stderr",
          "output_type": "stream",
          "text": [
            "\r 23%|██▎       | 7/30 [28:17<1:32:34, 241.51s/it]"
          ]
        },
        {
          "metadata": {
            "tags": null
          },
          "name": "stdout",
          "output_type": "stream",
          "text": [
            "\n",
            "Evaluation LOSS: 0.6794922947883606\n",
            "Evaluation ACC:  56.63%\n",
            "\n",
            "epoch: 8\n"
          ]
        },
        {
          "metadata": {
            "tags": null
          },
          "name": "stderr",
          "output_type": "stream",
          "text": [
            "100%|██████████| 9612/9612 [03:59<00:00, 40.08it/s]\n"
          ]
        },
        {
          "metadata": {
            "tags": null
          },
          "name": "stdout",
          "output_type": "stream",
          "text": [
            "FINISHED EPOCH: 8\n",
            "train_loss: 0.6996656060218811\n"
          ]
        },
        {
          "metadata": {
            "tags": null
          },
          "name": "stderr",
          "output_type": "stream",
          "text": [
            "\r 27%|██▋       | 8/30 [32:19<1:28:35, 241.61s/it]"
          ]
        },
        {
          "metadata": {
            "tags": null
          },
          "name": "stdout",
          "output_type": "stream",
          "text": [
            "\n",
            "Evaluation LOSS: 0.704963743686676\n",
            "Evaluation ACC:  44.70%\n",
            "\n",
            "epoch: 9\n"
          ]
        },
        {
          "metadata": {
            "tags": null
          },
          "name": "stderr",
          "output_type": "stream",
          "text": [
            "100%|██████████| 9612/9612 [03:57<00:00, 40.47it/s]\n"
          ]
        },
        {
          "metadata": {
            "tags": null
          },
          "name": "stdout",
          "output_type": "stream",
          "text": [
            "FINISHED EPOCH: 9\n",
            "train_loss: 0.706699788570404\n"
          ]
        },
        {
          "metadata": {
            "tags": null
          },
          "name": "stderr",
          "output_type": "stream",
          "text": [
            "\r 30%|███       | 9/30 [36:18<1:24:20, 240.98s/it]"
          ]
        },
        {
          "metadata": {
            "tags": null
          },
          "name": "stdout",
          "output_type": "stream",
          "text": [
            "\n",
            "Evaluation LOSS: 0.7005768418312073\n",
            "Evaluation ACC:  45.72%\n",
            "\n",
            "epoch: 10\n"
          ]
        },
        {
          "metadata": {
            "tags": null
          },
          "name": "stderr",
          "output_type": "stream",
          "text": [
            "100%|██████████| 9612/9612 [03:56<00:00, 40.58it/s]\n"
          ]
        },
        {
          "metadata": {
            "tags": null
          },
          "name": "stdout",
          "output_type": "stream",
          "text": [
            "FINISHED EPOCH: 10\n",
            "train_loss: 0.6898390054702759\n"
          ]
        },
        {
          "metadata": {
            "tags": null
          },
          "name": "stderr",
          "output_type": "stream",
          "text": [
            "\r 33%|███▎      | 10/30 [40:17<1:20:06, 240.33s/it]"
          ]
        },
        {
          "metadata": {
            "tags": null
          },
          "name": "stdout",
          "output_type": "stream",
          "text": [
            "\n",
            "Evaluation LOSS: 0.7089621424674988\n",
            "Evaluation ACC:  41.83%\n",
            "\n",
            "epoch: 11\n"
          ]
        },
        {
          "metadata": {
            "tags": null
          },
          "name": "stderr",
          "output_type": "stream",
          "text": [
            "100%|██████████| 9612/9612 [03:56<00:00, 40.61it/s]\n"
          ]
        },
        {
          "metadata": {
            "tags": null
          },
          "name": "stdout",
          "output_type": "stream",
          "text": [
            "FINISHED EPOCH: 11\n",
            "train_loss: 0.6906418204307556\n"
          ]
        },
        {
          "metadata": {
            "tags": null
          },
          "name": "stderr",
          "output_type": "stream",
          "text": [
            "\r 37%|███▋      | 11/30 [44:16<1:15:56, 239.84s/it]"
          ]
        },
        {
          "metadata": {
            "tags": null
          },
          "name": "stdout",
          "output_type": "stream",
          "text": [
            "\n",
            "Evaluation LOSS: 0.6903536319732666\n",
            "Evaluation ACC:  52.67%\n",
            "\n",
            "epoch: 12\n"
          ]
        },
        {
          "metadata": {
            "tags": null
          },
          "name": "stderr",
          "output_type": "stream",
          "text": [
            "100%|██████████| 9612/9612 [03:56<00:00, 40.60it/s]\n"
          ]
        },
        {
          "metadata": {
            "tags": null
          },
          "name": "stdout",
          "output_type": "stream",
          "text": [
            "FINISHED EPOCH: 12\n",
            "train_loss: 0.6834313273429871\n"
          ]
        },
        {
          "metadata": {
            "tags": null
          },
          "name": "stderr",
          "output_type": "stream",
          "text": [
            "\r 40%|████      | 12/30 [48:14<1:11:51, 239.52s/it]"
          ]
        },
        {
          "metadata": {
            "tags": null
          },
          "name": "stdout",
          "output_type": "stream",
          "text": [
            "\n",
            "Evaluation LOSS: 0.6971449255943298\n",
            "Evaluation ACC:  48.53%\n",
            "\n",
            "epoch: 13\n"
          ]
        },
        {
          "metadata": {
            "tags": null
          },
          "name": "stderr",
          "output_type": "stream",
          "text": [
            "100%|██████████| 9612/9612 [03:56<00:00, 40.59it/s]\n"
          ]
        },
        {
          "metadata": {
            "tags": null
          },
          "name": "stdout",
          "output_type": "stream",
          "text": [
            "FINISHED EPOCH: 13\n",
            "train_loss: 0.6935452222824097\n"
          ]
        },
        {
          "metadata": {
            "tags": null
          },
          "name": "stderr",
          "output_type": "stream",
          "text": [
            "\r 43%|████▎     | 13/30 [52:13<1:07:48, 239.32s/it]"
          ]
        },
        {
          "metadata": {
            "tags": null
          },
          "name": "stdout",
          "output_type": "stream",
          "text": [
            "\n",
            "Evaluation LOSS: 0.69330894947052\n",
            "Evaluation ACC:  51.13%\n",
            "\n",
            "epoch: 14\n"
          ]
        },
        {
          "metadata": {
            "tags": null
          },
          "name": "stderr",
          "output_type": "stream",
          "text": [
            "100%|██████████| 9612/9612 [03:55<00:00, 40.76it/s]\n"
          ]
        },
        {
          "metadata": {
            "tags": null
          },
          "name": "stdout",
          "output_type": "stream",
          "text": [
            "FINISHED EPOCH: 14\n",
            "train_loss: 0.6899420619010925\n"
          ]
        },
        {
          "metadata": {
            "tags": null
          },
          "name": "stderr",
          "output_type": "stream",
          "text": [
            "\r 47%|████▋     | 14/30 [56:11<1:03:41, 238.87s/it]"
          ]
        },
        {
          "metadata": {
            "tags": null
          },
          "name": "stdout",
          "output_type": "stream",
          "text": [
            "\n",
            "Evaluation LOSS: 0.6971599459648132\n",
            "Evaluation ACC:  47.28%\n",
            "\n",
            "epoch: 15\n"
          ]
        },
        {
          "output_type": "stream",
          "name": "stderr",
          "text": [
            "100%|██████████| 9612/9612 [03:59<00:00, 40.07it/s]\n"
          ]
        },
        {
          "output_type": "stream",
          "name": "stdout",
          "text": [
            "FINISHED EPOCH: 15\n",
            "train_loss: 0.7180451154708862\n"
          ]
        },
        {
          "output_type": "stream",
          "name": "stderr",
          "text": [
            "\r 50%|█████     | 15/30 [1:00:13<59:56, 239.79s/it]"
          ]
        },
        {
          "output_type": "stream",
          "name": "stdout",
          "text": [
            "\n",
            "Evaluation LOSS: 0.6984782814979553\n",
            "Evaluation ACC:  47.81%\n",
            "\n",
            "epoch: 16\n"
          ]
        },
        {
          "output_type": "stream",
          "name": "stderr",
          "text": [
            "100%|██████████| 9612/9612 [04:00<00:00, 40.03it/s]\n"
          ]
        },
        {
          "output_type": "stream",
          "name": "stdout",
          "text": [
            "FINISHED EPOCH: 16\n",
            "train_loss: 0.691655158996582\n"
          ]
        },
        {
          "output_type": "stream",
          "name": "stderr",
          "text": [
            "\r 53%|█████▎    | 16/30 [1:04:15<56:07, 240.51s/it]"
          ]
        },
        {
          "output_type": "stream",
          "name": "stdout",
          "text": [
            "\n",
            "Evaluation LOSS: 0.690701425075531\n",
            "Evaluation ACC:  52.48%\n",
            "\n",
            "epoch: 17\n"
          ]
        },
        {
          "output_type": "stream",
          "name": "stderr",
          "text": [
            "100%|██████████| 9612/9612 [03:58<00:00, 40.36it/s]\n"
          ]
        },
        {
          "output_type": "stream",
          "name": "stdout",
          "text": [
            "FINISHED EPOCH: 17\n",
            "train_loss: 0.6995843648910522\n"
          ]
        },
        {
          "output_type": "stream",
          "name": "stderr",
          "text": [
            "\r 57%|█████▋    | 17/30 [1:08:15<52:05, 240.41s/it]"
          ]
        },
        {
          "output_type": "stream",
          "name": "stdout",
          "text": [
            "\n",
            "Evaluation LOSS: 0.6892682909965515\n",
            "Evaluation ACC:  52.43%\n",
            "\n",
            "epoch: 18\n"
          ]
        },
        {
          "output_type": "stream",
          "name": "stderr",
          "text": [
            "100%|██████████| 9612/9612 [03:57<00:00, 40.41it/s]\n"
          ]
        },
        {
          "output_type": "stream",
          "name": "stdout",
          "text": [
            "FINISHED EPOCH: 18\n",
            "train_loss: 0.6842564344406128\n"
          ]
        },
        {
          "output_type": "stream",
          "name": "stderr",
          "text": [
            "\r 60%|██████    | 18/30 [1:12:15<48:03, 240.26s/it]"
          ]
        },
        {
          "output_type": "stream",
          "name": "stdout",
          "text": [
            "\n",
            "Evaluation LOSS: 0.6855165362358093\n",
            "Evaluation ACC:  55.96%\n",
            "\n",
            "epoch: 19\n"
          ]
        },
        {
          "output_type": "stream",
          "name": "stderr",
          "text": [
            "100%|██████████| 9612/9612 [03:58<00:00, 40.30it/s]\n"
          ]
        },
        {
          "output_type": "stream",
          "name": "stdout",
          "text": [
            "FINISHED EPOCH: 19\n",
            "train_loss: 0.6891087889671326\n"
          ]
        },
        {
          "output_type": "stream",
          "name": "stderr",
          "text": [
            "\r 63%|██████▎   | 19/30 [1:16:16<44:03, 240.33s/it]"
          ]
        },
        {
          "output_type": "stream",
          "name": "stdout",
          "text": [
            "\n",
            "Evaluation LOSS: 0.6916375160217285\n",
            "Evaluation ACC:  51.96%\n",
            "\n",
            "epoch: 20\n"
          ]
        },
        {
          "output_type": "stream",
          "name": "stderr",
          "text": [
            "100%|██████████| 9612/9612 [03:57<00:00, 40.39it/s]\n"
          ]
        },
        {
          "output_type": "stream",
          "name": "stdout",
          "text": [
            "FINISHED EPOCH: 20\n",
            "train_loss: 0.6929442286491394\n"
          ]
        },
        {
          "output_type": "stream",
          "name": "stderr",
          "text": [
            "\r 67%|██████▋   | 20/30 [1:20:16<40:02, 240.24s/it]"
          ]
        },
        {
          "output_type": "stream",
          "name": "stdout",
          "text": [
            "\n",
            "Evaluation LOSS: 0.68802410364151\n",
            "Evaluation ACC:  54.16%\n",
            "\n",
            "epoch: 21\n"
          ]
        },
        {
          "output_type": "stream",
          "name": "stderr",
          "text": [
            "100%|██████████| 9612/9612 [03:58<00:00, 40.22it/s]\n"
          ]
        },
        {
          "output_type": "stream",
          "name": "stdout",
          "text": [
            "FINISHED EPOCH: 21\n",
            "train_loss: 0.700049102306366\n"
          ]
        },
        {
          "output_type": "stream",
          "name": "stderr",
          "text": [
            "\r 70%|███████   | 21/30 [1:24:17<36:04, 240.47s/it]"
          ]
        },
        {
          "output_type": "stream",
          "name": "stdout",
          "text": [
            "\n",
            "Evaluation LOSS: 0.6800132393836975\n",
            "Evaluation ACC:  58.22%\n",
            "\n",
            "epoch: 22\n"
          ]
        },
        {
          "output_type": "stream",
          "name": "stderr",
          "text": [
            "100%|██████████| 9612/9612 [03:59<00:00, 40.12it/s]\n"
          ]
        },
        {
          "output_type": "stream",
          "name": "stdout",
          "text": [
            "FINISHED EPOCH: 22\n",
            "train_loss: 0.6902252435684204\n"
          ]
        },
        {
          "output_type": "stream",
          "name": "stderr",
          "text": [
            "\r 73%|███████▎  | 22/30 [1:28:19<32:06, 240.82s/it]"
          ]
        },
        {
          "output_type": "stream",
          "name": "stdout",
          "text": [
            "\n",
            "Evaluation LOSS: 0.6933363676071167\n",
            "Evaluation ACC:  49.46%\n",
            "\n",
            "epoch: 23\n"
          ]
        },
        {
          "output_type": "stream",
          "name": "stderr",
          "text": [
            "100%|██████████| 9612/9612 [03:58<00:00, 40.23it/s]\n"
          ]
        },
        {
          "output_type": "stream",
          "name": "stdout",
          "text": [
            "FINISHED EPOCH: 23\n",
            "train_loss: 0.7129623889923096\n"
          ]
        },
        {
          "output_type": "stream",
          "name": "stderr",
          "text": [
            "\r 77%|███████▋  | 23/30 [1:32:19<28:05, 240.86s/it]"
          ]
        },
        {
          "output_type": "stream",
          "name": "stdout",
          "text": [
            "\n",
            "Evaluation LOSS: 0.6806524991989136\n",
            "Evaluation ACC:  56.60%\n",
            "\n",
            "epoch: 24\n"
          ]
        },
        {
          "output_type": "stream",
          "name": "stderr",
          "text": [
            "100%|██████████| 9612/9612 [03:58<00:00, 40.26it/s]\n"
          ]
        },
        {
          "output_type": "stream",
          "name": "stdout",
          "text": [
            "FINISHED EPOCH: 24\n",
            "train_loss: 0.6885460019111633\n"
          ]
        },
        {
          "output_type": "stream",
          "name": "stderr",
          "text": [
            "\r 80%|████████  | 24/30 [1:36:20<24:04, 240.83s/it]"
          ]
        },
        {
          "output_type": "stream",
          "name": "stdout",
          "text": [
            "\n",
            "Evaluation LOSS: 0.6968859434127808\n",
            "Evaluation ACC:  47.23%\n",
            "\n",
            "epoch: 25\n"
          ]
        },
        {
          "output_type": "stream",
          "name": "stderr",
          "text": [
            "100%|██████████| 9612/9612 [03:58<00:00, 40.27it/s]\n"
          ]
        },
        {
          "output_type": "stream",
          "name": "stdout",
          "text": [
            "FINISHED EPOCH: 25\n",
            "train_loss: 0.6928330659866333\n"
          ]
        },
        {
          "output_type": "stream",
          "name": "stderr",
          "text": [
            "\r 83%|████████▎ | 25/30 [1:40:21<20:04, 240.81s/it]"
          ]
        },
        {
          "output_type": "stream",
          "name": "stdout",
          "text": [
            "\n",
            "Evaluation LOSS: 0.6815320253372192\n",
            "Evaluation ACC:  56.30%\n",
            "\n",
            "epoch: 26\n"
          ]
        },
        {
          "output_type": "stream",
          "name": "stderr",
          "text": [
            "100%|██████████| 9612/9612 [03:59<00:00, 40.20it/s]\n"
          ]
        },
        {
          "output_type": "stream",
          "name": "stdout",
          "text": [
            "FINISHED EPOCH: 26\n",
            "train_loss: 0.7011504173278809\n"
          ]
        },
        {
          "output_type": "stream",
          "name": "stderr",
          "text": [
            "\r 87%|████████▋ | 26/30 [1:44:22<16:03, 240.92s/it]"
          ]
        },
        {
          "output_type": "stream",
          "name": "stdout",
          "text": [
            "\n",
            "Evaluation LOSS: 0.6952306032180786\n",
            "Evaluation ACC:  48.48%\n",
            "\n",
            "epoch: 27\n"
          ]
        },
        {
          "output_type": "stream",
          "name": "stderr",
          "text": [
            "100%|██████████| 9612/9612 [04:05<00:00, 39.15it/s]\n"
          ]
        },
        {
          "output_type": "stream",
          "name": "stdout",
          "text": [
            "FINISHED EPOCH: 27\n",
            "train_loss: 0.7026612758636475\n"
          ]
        },
        {
          "output_type": "stream",
          "name": "stderr",
          "text": [
            "\r 90%|█████████ | 27/30 [1:48:30<12:08, 242.91s/it]"
          ]
        },
        {
          "output_type": "stream",
          "name": "stdout",
          "text": [
            "\n",
            "Evaluation LOSS: 0.6937984824180603\n",
            "Evaluation ACC:  50.51%\n",
            "\n",
            "epoch: 28\n"
          ]
        },
        {
          "output_type": "stream",
          "name": "stderr",
          "text": [
            "100%|██████████| 9612/9612 [04:04<00:00, 39.30it/s]\n"
          ]
        },
        {
          "output_type": "stream",
          "name": "stdout",
          "text": [
            "FINISHED EPOCH: 28\n",
            "train_loss: 0.6816509962081909\n"
          ]
        },
        {
          "output_type": "stream",
          "name": "stderr",
          "text": [
            "\r 93%|█████████▎| 28/30 [1:52:36<08:08, 244.02s/it]"
          ]
        },
        {
          "output_type": "stream",
          "name": "stdout",
          "text": [
            "\n",
            "Evaluation LOSS: 0.6904428005218506\n",
            "Evaluation ACC:  52.15%\n",
            "\n",
            "epoch: 29\n"
          ]
        },
        {
          "output_type": "stream",
          "name": "stderr",
          "text": [
            "100%|██████████| 9612/9612 [04:06<00:00, 39.03it/s]\n"
          ]
        },
        {
          "output_type": "stream",
          "name": "stdout",
          "text": [
            "FINISHED EPOCH: 29\n",
            "train_loss: 0.696851909160614\n"
          ]
        },
        {
          "output_type": "stream",
          "name": "stderr",
          "text": [
            "\r 97%|█████████▋| 29/30 [1:56:45<04:05, 245.32s/it]"
          ]
        },
        {
          "output_type": "stream",
          "name": "stdout",
          "text": [
            "\n",
            "Evaluation LOSS: 0.6893831491470337\n",
            "Evaluation ACC:  51.67%\n",
            "\n",
            "epoch: 30\n"
          ]
        },
        {
          "output_type": "stream",
          "name": "stderr",
          "text": [
            "100%|██████████| 9612/9612 [04:04<00:00, 39.37it/s]\n"
          ]
        },
        {
          "output_type": "stream",
          "name": "stdout",
          "text": [
            "FINISHED EPOCH: 30\n",
            "train_loss: 0.7012273669242859\n"
          ]
        },
        {
          "output_type": "stream",
          "name": "stderr",
          "text": [
            "100%|██████████| 30/30 [2:00:51<00:00, 241.72s/it]"
          ]
        },
        {
          "output_type": "stream",
          "name": "stdout",
          "text": [
            "\n",
            "Evaluation LOSS: 0.6956913471221924\n",
            "Evaluation ACC:  48.00%\n"
          ]
        },
        {
          "output_type": "stream",
          "name": "stderr",
          "text": [
            "\n"
          ]
        },
        {
          "output_type": "stream",
          "name": "stdout",
          "text": [
            "\n",
            "TEST LOSS: 0.6973772048950195\n",
            "Recall: 66.14534080162944\n",
            "Precision: 46.709816612729234\n",
            "F1-Score: 54.7540193894141\n",
            "TEST ACC:  48.70%\n"
          ]
        }
      ],
      "source": [
        "\n",
        "#'glove200d', 'glovetwit200d', 'Emotag'\n",
        "model_file = 'model_lstmsenti_emotag201301.torch'\n",
        "pre_trained_embedding_file = 'Emotag'\n",
        "# Full_Data = Load_parquet(\"parquet/2013/01\")\n",
        "# EmoTrain_set, EmoEval_set, EmoTest_set, Emovocab_dict, Emoweight_mat, Emolist_of_lens_in_batch, EmoEval_len, EmoTest_len = Preprocess(EmoFull_Data, test_ratio=0.2, evaluation_ratio=0.1, seed=595, train_batch=32, pre_trained_embedding_file=pre_trained_embedding_file)\n",
        "BATCH_SIZE = 32\n",
        "HIDDEN_DIM = 128\n",
        "TAGSET_SIZE = 2 #46\n",
        "torch.manual_seed(0)\n",
        "model = train(EmoTrain_set, EmoEval_set, HIDDEN_DIM, TAGSET_SIZE, Emoweight_mat, Emolist_of_lens_in_batch, EmoEval_len, learning_rate=0.001, n_epochs=30)\n",
        "torch.save(model.state_dict(), model_file)\n",
        "\n",
        "test(EmoTest_set, HIDDEN_DIM, TAGSET_SIZE, Emoweight_mat, EmoTest_len, model_file)\n"
      ]
    },
    {
      "cell_type": "markdown",
      "source": [],
      "metadata": {
        "id": "17p39pkaoHLr"
      }
    },
    {
      "cell_type": "code",
      "execution_count": null,
      "metadata": {
        "colab": {
          "base_uri": "https://localhost:8080/"
        },
        "id": "aKlQYk5SDYuz",
        "outputId": "b71d5966-2889-4102-dd22-4380163c893c"
      },
      "outputs": [
        {
          "output_type": "stream",
          "name": "stdout",
          "text": [
            "\n",
            "TEST LOSS: 0.6877514719963074\n",
            "Recall: 66.68185297226373\n",
            "Precision: 62.65474906251606\n",
            "F1-Score: 64.60560582652836\n",
            "TEST ACC:  54.38%\n"
          ]
        }
      ],
      "source": [
        "model_file = 'model_lstmsenti_emotag201301.torch'\n",
        "test(EmoTest_set, HIDDEN_DIM, TAGSET_SIZE, Emoweight_mat, EmoTest_len, model_file)\n",
        "\n"
      ]
    },
    {
      "cell_type": "code",
      "source": [
        "model_file = 'model_lstmsenti_emotag201301.torch'\n",
        "test(EmoTest_set, HIDDEN_DIM, TAGSET_SIZE, Emoweight_mat, EmoTest_len, model_file)\n"
      ],
      "metadata": {
        "colab": {
          "base_uri": "https://localhost:8080/"
        },
        "id": "Ao936EMzHCWs",
        "outputId": "7d8db4fd-17e7-415e-fe62-af05b5059755"
      },
      "execution_count": null,
      "outputs": [
        {
          "output_type": "stream",
          "name": "stdout",
          "text": [
            "\n",
            "TEST LOSS: 0.6859912872314453\n",
            "Recall: 66.2886981208598\n",
            "Precision: 67.16837040461637\n",
            "F1-Score: 66.72563511571141\n",
            "TEST ACC:  55.49%\n"
          ]
        }
      ]
    },
    {
      "cell_type": "code",
      "source": [
        "model_file = 'model_lstmsenti_emotag201301.torch'\n",
        "test(EmoTest_set, HIDDEN_DIM, TAGSET_SIZE, Emoweight_mat, EmoTest_len, model_file)\n"
      ],
      "metadata": {
        "colab": {
          "base_uri": "https://localhost:8080/"
        },
        "id": "BrNSQ7R1HCyR",
        "outputId": "062df8d7-3abf-4bcf-b336-66e618ea9551"
      },
      "execution_count": null,
      "outputs": [
        {
          "output_type": "stream",
          "name": "stdout",
          "text": [
            "\n",
            "TEST LOSS: 0.683560311794281\n",
            "Recall: 66.38485846169118\n",
            "Precision: 68.70601530795706\n",
            "F1-Score: 67.52549560768739\n",
            "TEST ACC:  56.09%\n"
          ]
        }
      ]
    },
    {
      "cell_type": "markdown",
      "source": [],
      "metadata": {
        "id": "9MQd5M7roQG7"
      }
    },
    {
      "cell_type": "code",
      "source": [],
      "metadata": {
        "id": "J_8ssQd3oP6v"
      },
      "execution_count": null,
      "outputs": []
    },
    {
      "cell_type": "code",
      "source": [
        "\n",
        "import numpy as np\n",
        "import matplotlib.pyplot as plt\n",
        "epochs = range(1,31)\n",
        "glove_trainloss_log = [0.7169270515441895,\n",
        "0.6773374080657959,\n",
        "0.6687825322151184,\n",
        "0.6764076948165894,\n",
        "0.7061055898666382,\n",
        "0.6548151969909668,\n",
        "0.6551688313484192,\n",
        "0.6728258728981018,\n",
        "0.6698975563049316,\n",
        "0.6931668519973755,\n",
        "0.6919265985488892,\n",
        "0.6972464323043823,\n",
        "0.7056624889373779,\n",
        "0.7041618824005127,\n",
        "0.7209070920944214,\n",
        "0.7027504444122314,\n",
        "0.6969060301780701,\n",
        "0.6983548402786255,\n",
        "0.6935853958129883,\n",
        "0.6880373358726501,\n",
        "0.6921949982643127,\n",
        "0.6880974769592285,\n",
        "0.6826042532920837,\n",
        "0.7025793790817261,\n",
        "0.6938837170600891,\n",
        "0.69297856092453,\n",
        "0.7030067443847656,\n",
        "0.6884524822235107,\n",
        "0.6821735501289368,\n",
        "0.6938184499740601\n",
        "]\n",
        "Twitter_trainloss=[0.6887179613113403,\n",
        "0.7305010557174683,\n",
        "0.7039387226104736,\n",
        "0.6784809827804565,\n",
        "0.6912559866905212,\n",
        "0.6910377144813538,\n",
        "0.6575700044631958,\n",
        "0.6750763654708862,\n",
        "0.6710696220397949,\n",
        "0.7100256681442261,\n",
        "0.6829238533973694,\n",
        "0.6977652311325073,\n",
        "0.6906374096870422,\n",
        "0.6903573870658875,\n",
        "0.7071902751922607,\n",
        "0.7092841267585754,\n",
        "0.6949302554130554,\n",
        "0.7153995037078857,\n",
        "0.6921498775482178,\n",
        "0.6857886910438538,\n",
        "0.6989661455154419,\n",
        "0.7034708261489868,\n",
        "0.7077186107635498,\n",
        "0.6785395741462708,\n",
        "0.6934351921081543,\n",
        "0.6836923956871033,\n",
        "0.6987795829772949,\n",
        "0.6848962306976318,\n",
        "0.6886246204376221,\n",
        "0.6977286338806152\n",
        "]\n",
        "Emotag_train_loss =[0.6230942606925964,\n",
        "0.662513256072998,\n",
        "0.7185012102127075,\n",
        "0.6724476218223572,\n",
        "0.6666225790977478,\n",
        "0.6794480085372925,\n",
        "0.7044023275375366,\n",
        "0.6996656060218811,\n",
        "0.706699788570404,\n",
        "0.6898390054702759,\n",
        "0.6906418204307556,\n",
        "0.6834313273429871,\n",
        "0.6935452222824097,\n",
        "0.6899420619010925,\n",
        "0.7180451154708862,\n",
        "0.691655158996582,\n",
        "0.6995843648910522,\n",
        "0.6842564344406128,\n",
        "0.6891087889671326,\n",
        "0.6929442286491394,\n",
        "0.700049102306366,\n",
        "0.6902252435684204,\n",
        "0.7129623889923096,\n",
        "0.6885460019111633,\n",
        "0.6928330659866333,\n",
        "0.7011504173278809,\n",
        "0.7026612758636475,\n",
        "0.6816509962081909,\n",
        "0.696851909160614,\n",
        "0.7012273669242859\n",
        "]\n",
        "\n",
        "evalloss_log = [0.7158149480819702,\n",
        "0.6854375004768372,\n",
        "0.7146336436271667,\n",
        "0.675424337387085,\n",
        "0.6839092373847961,\n",
        "0.6922246217727661,\n",
        "0.7022117972373962,\n",
        "0.6862208843231201,\n",
        "0.7163155674934387,\n",
        "0.6893337965011597,\n",
        "0.6914634108543396,\n",
        "0.6994245648384094,\n",
        "0.6867872476577759,\n",
        "0.6865028738975525,\n",
        "0.6819357872009277,\n",
        "0.6936473846435547,\n",
        "0.6912556886672974,\n",
        "0.6932310461997986,\n",
        "0.6939189434051514,\n",
        "0.6841049790382385,\n",
        "0.7045015692710876,\n",
        "0.6901282668113708,\n",
        "0.6997188925743103,\n",
        "0.6862784624099731,\n",
        "0.6893916130065918,\n",
        "0.6871644854545593,\n",
        "0.6921820640563965,\n",
        "0.6907893419265747,\n",
        "0.6915496587753296,\n",
        "0.6915194392204285\n",
        "]\n",
        "Twitter_evalloss_log = [0.7005664706230164,\n",
        "0.6912295818328857,\n",
        "0.7186970114707947,\n",
        "0.657585084438324,\n",
        "0.6734024286270142,\n",
        "0.7005042433738708,\n",
        "0.7114885449409485,\n",
        "0.6976303458213806,\n",
        "0.7230347394943237,\n",
        "0.6904451251029968,\n",
        "0.6934970617294312,\n",
        "0.705075740814209,\n",
        "0.6854417324066162,\n",
        "0.7056682109832764,\n",
        "0.670880913734436,\n",
        "0.6843888163566589,\n",
        "0.6905401945114136,\n",
        "0.6934492588043213,\n",
        "0.6993030905723572,\n",
        "0.6825188398361206,\n",
        "0.6991291642189026,\n",
        "0.6904672384262085,\n",
        "0.6929939389228821,\n",
        "0.6858869194984436,\n",
        "0.6952404379844666,\n",
        "0.6884974837303162,\n",
        "0.6940711736679077,\n",
        "0.6909621357917786,\n",
        "0.6885122656822205,\n",
        "0.6934419870376587\n",
        "]\n",
        "Emotag_eval_loss=[0.6574263572692871,\n",
        "0.7052755951881409,\n",
        "0.7162362337112427,\n",
        "0.7054260969161987,\n",
        "0.7004393339157104,\n",
        "0.6772142648696899,\n",
        "0.6794922947883606,\n",
        "0.704963743686676,\n",
        "0.7005768418312073,\n",
        "0.7089621424674988,\n",
        "0.6903536319732666,\n",
        "0.6971449255943298,\n",
        "0.69330894947052,\n",
        "0.6971599459648132,\n",
        "0.6984782814979553,\n",
        "0.690701425075531,\n",
        "0.6892682909965515,\n",
        "0.6855165362358093,\n",
        "0.6916375160217285,\n",
        "0.68802410364151,\n",
        "0.6800132393836975,\n",
        "0.6933363676071167,\n",
        "0.6806524991989136,\n",
        "0.6968859434127808,\n",
        "0.6815320253372192,\n",
        "0.6952306032180786,\n",
        "0.6937984824180603,\n",
        "0.6904428005218506,\n",
        "0.6893831491470337,\n",
        "0.6956913471221924\n",
        "]\n",
        "\n",
        "\n",
        "evalacc_log = [40.48,\n",
        "54.77,\n",
        "39.94,\n",
        "60.22,\n",
        "56.67,\n",
        "51.27,\n",
        "43.57,\n",
        "54.80,\n",
        "39.0,\n",
        "52.94,\n",
        "52.00,\n",
        "45.34,\n",
        "54.56,\n",
        "55.50,\n",
        "58.24,\n",
        "49.11,\n",
        "50.54,\n",
        "48.56,\n",
        "50.59,\n",
        "57.61,\n",
        "40.30,\n",
        "54.32,\n",
        "43.58,\n",
        "55.70,\n",
        "53.93,\n",
        "55.96,\n",
        "50.28,\n",
        "52.58,\n",
        "52.87,\n",
        "52.09\n",
        "]\n",
        "Twitter_evalacc_log = [47.60,\n",
        "49.02,\n",
        "39.87,\n",
        "64.03,\n",
        "60.96,\n",
        "48.28,\n",
        "39.85,\n",
        "47.68,\n",
        "38.30,\n",
        "52.65,\n",
        "49.06,\n",
        "41.97,\n",
        "55.89,\n",
        "41.23,\n",
        "62.77,\n",
        "57.32,\n",
        "52.33,\n",
        "49.92,\n",
        "45.99,\n",
        "59.12,\n",
        "44.80,\n",
        "52.40,\n",
        "50.22,\n",
        "55.85,\n",
        "47.32,\n",
        "54.58,\n",
        "48.41,\n",
        "52.32,\n",
        "54.38,\n",
        "48.34\n",
        "]\n",
        "Emotag_evalacc_log=[59.70,\n",
        "46.79,\n",
        "40.29,\n",
        "44.88,\n",
        "46.47,\n",
        "55.45,\n",
        "56.63,\n",
        "44.70,\n",
        "45.72,\n",
        "41.83,\n",
        "52.67,\n",
        "48.53,\n",
        "51.13,\n",
        "47.28,\n",
        "47.81,\n",
        "52.48,\n",
        "52.43,\n",
        "55.96,\n",
        "51.96,\n",
        "54.16,\n",
        "58.22,\n",
        "49.46,\n",
        "56.60,\n",
        "47.23,\n",
        "56.30,\n",
        "48.48,\n",
        "50.51,\n",
        "52.15,\n",
        "51.67,\n",
        "48.00\n",
        "]\n",
        "# plt.title('Train Loss')\n",
        "# # plt.plot(epochs, glove_trainloss_log)\n",
        "# plt.plot(epochs, Emotag_train_loss)\n",
        "# plt.legend(['EmoTag embedding'])\n",
        "# # plt.legend(['base GloVe embedding', 'GloVe Twitter embedding'])\n",
        "# plt.xlabel('epochs')\n",
        "# plt.ylabel('loss')\n",
        "# plt.show()\n",
        "# plt.close()"
      ],
      "metadata": {
        "id": "yYujltr3oQfu"
      },
      "execution_count": null,
      "outputs": []
    },
    {
      "cell_type": "code",
      "source": [],
      "metadata": {
        "id": "EEit02PvoQfv"
      },
      "execution_count": null,
      "outputs": []
    },
    {
      "cell_type": "code",
      "source": [
        "plt.title('Loss of LSTM with base glove embedding')\n",
        "plt.plot(epochs, glove_trainloss_log)\n",
        "plt.plot(epochs, evalloss_log)\n",
        "plt.legend(['Train', 'Eval'])\n",
        "plt.xlabel('epochs')\n",
        "plt.ylabel('loss')\n",
        "plt.show()\n",
        "plt.close()\n"
      ],
      "metadata": {
        "colab": {
          "base_uri": "https://localhost:8080/",
          "height": 295
        },
        "outputId": "87fe7a70-03c9-4711-80bc-20e9daf13685",
        "id": "QjnvvNu7oQfv"
      },
      "execution_count": null,
      "outputs": [
        {
          "output_type": "display_data",
          "data": {
            "text/plain": [
              "<Figure size 432x288 with 1 Axes>"
            ],
            "image/png": "[encoded data removed]"
          },
          "metadata": {
            "needs_background": "light"
          }
        }
      ]
    },
    {
      "cell_type": "code",
      "source": [
        "plt.title('Loss of LSTM with GloVe Twitter embedding')\n",
        "plt.plot(epochs, Twitter_trainloss)\n",
        "plt.plot(epochs, Twitter_evalloss_log)\n",
        "plt.legend(['Train', 'Eval'])\n",
        "plt.xlabel('epochs')\n",
        "plt.ylabel('loss')\n",
        "plt.show()\n",
        "plt.close()\n"
      ],
      "metadata": {
        "colab": {
          "base_uri": "https://localhost:8080/",
          "height": 295
        },
        "outputId": "7714fe1c-539e-4a63-fbf6-6de469e94d4e",
        "id": "tlUm58JRoQfv"
      },
      "execution_count": null,
      "outputs": [
        {
          "output_type": "display_data",
          "data": {
            "text/plain": [
              "<Figure size 432x288 with 1 Axes>"
            ],
            "image/png": "[encoded data removed]"
          },
          "metadata": {
            "needs_background": "light"
          }
        }
      ]
    },
    {
      "cell_type": "code",
      "source": [
        "plt.title('Loss of LSTM with EmoTag embedding')\n",
        "plt.plot(epochs, Emotag_train_loss)\n",
        "plt.plot(epochs, Emotag_eval_loss)\n",
        "plt.legend(['Train', 'Eval'])\n",
        "plt.xlabel('epochs')\n",
        "plt.ylabel('loss')\n",
        "plt.show()\n",
        "plt.close()\n"
      ],
      "metadata": {
        "colab": {
          "base_uri": "https://localhost:8080/",
          "height": 295
        },
        "outputId": "4cc82781-a344-42df-8266-37279420b5dc",
        "id": "r6feImsUoQfv"
      },
      "execution_count": null,
      "outputs": [
        {
          "output_type": "display_data",
          "data": {
            "text/plain": [
              "<Figure size 432x288 with 1 Axes>"
            ],
            "image/png": "[encoded data removed]"
          },
          "metadata": {
            "needs_background": "light"
          }
        }
      ]
    }
  ],
  "metadata": {
    "accelerator": "GPU",
    "colab": {
      "collapsed_sections": [
        "fB_0KUA3V6X3",
        "eM3OpG7vCyU1",
        "VbeEcqVnpu7P",
        "E5m2cbjeKos4"
      ],
      "provenance": []
    },
    "gpuClass": "premium",
    "kernelspec": {
      "display_name": "Python 3",
      "name": "python3"
    },
    "language_info": {
      "name": "python"
    }
  },
  "nbformat": 4,
  "nbformat_minor": 0
}